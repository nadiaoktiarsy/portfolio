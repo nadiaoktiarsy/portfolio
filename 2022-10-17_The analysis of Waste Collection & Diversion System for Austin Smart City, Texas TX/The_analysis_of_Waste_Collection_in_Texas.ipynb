{
  "cells": [
    {
      "cell_type": "markdown",
      "metadata": {
        "id": "fk6hMBU9jCys"
      },
      "source": [
        "#**Graded Challenge 2**\n",
        "## **The analysis of Waste Collection & Diversion System for Austin Smart City, Texas TX**\n",
        "\n",
        "Nadia Oktiarsy, FSDS Batch-016 RMT (Buddy: Hana)\n",
        "\n",
        "---\n",
        "```\n",
        "Table of Contents:\n",
        "1. Objective\n",
        "2. Problem Statement\n",
        "3. Data Preparation\n",
        "   3.1. Importing Libraries\n",
        "   3.2. Dataset from BigQuery\n",
        "   3.3. Data Type\n",
        "   3.4. Central Tendency (original)\n",
        "4. Data Cleaning\n",
        "   4.1. Handing Missing Value\n",
        "   4.2. Skewness\n",
        "   4.3. Outliers\n",
        "        - Outlier detection and removal using 3 standard deviation\n",
        "5. Data Analysis\n",
        "   5.1. Central Tendency (analysis)\n",
        "   5.2. Analaysis for TDS Landfill\n",
        "   5.3. Additional Site Proposal and Analysis\n",
        "        - Distribution and Random Sample histograms\n",
        "        - Hypothesis test: P-value and T-Test\n",
        "        - Confidence Interval (CI 95%)\n",
        "   5.4. Load Weight Prediction on July 10, 2021\n",
        "6. Conclusion\n",
        "   References\n",
        "```"
      ]
    },
    {
      "cell_type": "markdown",
      "metadata": {
        "id": "ojJDZ1eJjCyt"
      },
      "source": [
        "---\n",
        "## **1. Objective**\n",
        "\n",
        "As a member of Data Scientist group, Austin Smart City is currently having a project about waste and garbage system in the city. The data provided is based on [Waste Collection & Diversion Report (daily)](https://data.austintexas.gov/Utilities-and-City-Services/Waste-Collection-Diversion-Report-daily-/mbnu-4wq9), which is also provided on Google Cloud, BigQuery.\n",
        "\n",
        "The analysis is to use data for `descriptive statistics`, which is a means of describing features of a data set by generating summaries about data samples. `Inferential statistics` which is the process of using data analysis to infer properties of an underlying distribution of probability. From those statistical analysis, as a data scientist, the governments demand to get insights of the system in Austin, Texas TX, that is about the current condition of waste collection and diversion system and the recommendation of waste collection's for adding new sites."
      ]
    },
    {
      "cell_type": "markdown",
      "source": [
        "## **2. Problem Statement**\n",
        "\n",
        "As the objectives mentioned above, the proposal should be following questions to be answered:\n",
        "\n",
        "**1. What is the current condition of Austin's waste collection and diversion system?**\\\n",
        "This question will show about the existing site and current condition of the waste collection system, analyzed by `descriptive statistics`.\n",
        "\n",
        "**2. Should Austin, Texas TX governments add new sites for the garbage collection for the whole city? If yes, what kind of new sites that are recommended? If no, explain the reason.**\\\n",
        "The analysis will be using `inferential statistics` and determined by `p-value` to know the probability to add new sites with the current and predicted condition. Moreover, `confidence interval (CI)` to study the recommended load capacity for the wastes and garbages, if the predicted condition to add new sites is possible."
      ],
      "metadata": {
        "id": "giFuIjBdKCNz"
      }
    },
    {
      "cell_type": "markdown",
      "source": [
        "---\n",
        "## **3. Data Preparation**\n",
        "\n",
        "**3.1. Importing libraries**"
      ],
      "metadata": {
        "id": "x6eDc3cXJobZ"
      }
    },
    {
      "cell_type": "code",
      "source": [
        "# Importing libraries\n",
        "import numpy as np\n",
        "import pandas as pd\n",
        "from scipy.stats import norm\n",
        "from scipy import stats\n",
        "import seaborn as sns\n",
        "import sympy as sym\n",
        "import sympy.printing as printing\n",
        "\n",
        "import matplotlib\n",
        "from matplotlib import pyplot as plt\n",
        "%matplotlib inline\n",
        "matplotlib.rcParams['figure.figsize'] = (20,10)"
      ],
      "metadata": {
        "id": "MAHZHjxoHMrC"
      },
      "execution_count": 1,
      "outputs": []
    },
    {
      "cell_type": "markdown",
      "source": [
        "**3.2. Dataset from BigQuery**\n",
        "\n",
        "The dataset is availabe at `bigquery-public-data`, and taken from `austin_waste`, `waste_and_diversion`. After that, the query's result is saved and uploaded on github to get the raw data and loaded to notebook. The dataset provided should particularly shown: `report_date`, `load_time`, `load_type`, `load_weight`, `dropoff_site`. Below is the description of the query:\n",
        "\n",
        "\n",
        "```\n",
        "# Query for Waste and Diversion System #\n",
        "-- Basic Data Cleaning\n",
        "SELECT\n",
        "  DISTINCT\n",
        "  report_date,\n",
        "  load_time,\n",
        "  load_type,\n",
        "  load_weight,\n",
        "  dropoff_site,\n",
        "FROM `bigquery-public-data.austin_waste.waste_and_diversion`\n",
        "WHERE\n",
        "  report_date BETWEEN '2021-01-01' AND '2022-07-09'\n",
        "ORDER BY report_date ASC;\n",
        "```"
      ],
      "metadata": {
        "id": "qynU7KL1wzKB"
      }
    },
    {
      "cell_type": "code",
      "execution_count": 2,
      "metadata": {
        "id": "kBjDrZ9kjCyx"
      },
      "outputs": [],
      "source": [
        "url = 'https://github.com/nadiaoktiarsy/hacktiv8_p0/blob/main/p0_week2/h8dsft_P0GC2_nadia_oktiarsy/h8dsft_P0GC2_nadia_oktiarsy.csv?raw=true'\n",
        "df = pd.read_csv(url)"
      ]
    },
    {
      "cell_type": "code",
      "execution_count": 3,
      "metadata": {
        "id": "AsV3R5HZjCyz",
        "colab": {
          "base_uri": "https://localhost:8080/"
        },
        "outputId": "8763e8b0-9869-4dae-dad7-ec47acdc4105"
      },
      "outputs": [
        {
          "output_type": "execute_result",
          "data": {
            "text/plain": [
              "25712"
            ]
          },
          "metadata": {},
          "execution_count": 3
        }
      ],
      "source": [
        "len(df)"
      ]
    },
    {
      "cell_type": "code",
      "execution_count": 4,
      "metadata": {
        "id": "FNkC4VDejCy0",
        "colab": {
          "base_uri": "https://localhost:8080/"
        },
        "outputId": "3938ff3f-4e27-4022-852f-639456c8cfe9"
      },
      "outputs": [
        {
          "output_type": "execute_result",
          "data": {
            "text/plain": [
              "(25712, 5)"
            ]
          },
          "metadata": {},
          "execution_count": 4
        }
      ],
      "source": [
        "df.shape"
      ]
    },
    {
      "cell_type": "code",
      "source": [
        "df.head()"
      ],
      "metadata": {
        "colab": {
          "base_uri": "https://localhost:8080/",
          "height": 0
        },
        "id": "lBxwZ3hEImm2",
        "outputId": "d6e1397e-cdfc-4f47-c34e-e53656cf176a"
      },
      "execution_count": 5,
      "outputs": [
        {
          "output_type": "execute_result",
          "data": {
            "text/plain": [
              "  report_date                load_time                  load_type  \\\n",
              "0  2021-01-01  2021-01-01 12:00:00 UTC                   SWEEPING   \n",
              "1  2021-01-02  2021-01-02 09:24:00 UTC                      TIRES   \n",
              "2  2021-01-02  2021-01-02 11:47:00 UTC                      TIRES   \n",
              "3  2021-01-02  2021-01-02 12:00:00 UTC  RECYCLING - SINGLE STREAM   \n",
              "4  2021-01-02  2021-01-02 09:02:00 UTC  RECYCLING - SINGLE STREAM   \n",
              "\n",
              "   load_weight dropoff_site  \n",
              "0          NaN  ONION CREEK  \n",
              "1       1640.0          MRF  \n",
              "2        940.0          MRF  \n",
              "3        320.0    TDS - MRF  \n",
              "4        520.0    TDS - MRF  "
            ],
            "text/html": [
              "\n",
              "  <div id=\"df-6c7d5e87-636d-400e-8ffc-be1c78ef9293\">\n",
              "    <div class=\"colab-df-container\">\n",
              "      <div>\n",
              "<style scoped>\n",
              "    .dataframe tbody tr th:only-of-type {\n",
              "        vertical-align: middle;\n",
              "    }\n",
              "\n",
              "    .dataframe tbody tr th {\n",
              "        vertical-align: top;\n",
              "    }\n",
              "\n",
              "    .dataframe thead th {\n",
              "        text-align: right;\n",
              "    }\n",
              "</style>\n",
              "<table border=\"1\" class=\"dataframe\">\n",
              "  <thead>\n",
              "    <tr style=\"text-align: right;\">\n",
              "      <th></th>\n",
              "      <th>report_date</th>\n",
              "      <th>load_time</th>\n",
              "      <th>load_type</th>\n",
              "      <th>load_weight</th>\n",
              "      <th>dropoff_site</th>\n",
              "    </tr>\n",
              "  </thead>\n",
              "  <tbody>\n",
              "    <tr>\n",
              "      <th>0</th>\n",
              "      <td>2021-01-01</td>\n",
              "      <td>2021-01-01 12:00:00 UTC</td>\n",
              "      <td>SWEEPING</td>\n",
              "      <td>NaN</td>\n",
              "      <td>ONION CREEK</td>\n",
              "    </tr>\n",
              "    <tr>\n",
              "      <th>1</th>\n",
              "      <td>2021-01-02</td>\n",
              "      <td>2021-01-02 09:24:00 UTC</td>\n",
              "      <td>TIRES</td>\n",
              "      <td>1640.0</td>\n",
              "      <td>MRF</td>\n",
              "    </tr>\n",
              "    <tr>\n",
              "      <th>2</th>\n",
              "      <td>2021-01-02</td>\n",
              "      <td>2021-01-02 11:47:00 UTC</td>\n",
              "      <td>TIRES</td>\n",
              "      <td>940.0</td>\n",
              "      <td>MRF</td>\n",
              "    </tr>\n",
              "    <tr>\n",
              "      <th>3</th>\n",
              "      <td>2021-01-02</td>\n",
              "      <td>2021-01-02 12:00:00 UTC</td>\n",
              "      <td>RECYCLING - SINGLE STREAM</td>\n",
              "      <td>320.0</td>\n",
              "      <td>TDS - MRF</td>\n",
              "    </tr>\n",
              "    <tr>\n",
              "      <th>4</th>\n",
              "      <td>2021-01-02</td>\n",
              "      <td>2021-01-02 09:02:00 UTC</td>\n",
              "      <td>RECYCLING - SINGLE STREAM</td>\n",
              "      <td>520.0</td>\n",
              "      <td>TDS - MRF</td>\n",
              "    </tr>\n",
              "  </tbody>\n",
              "</table>\n",
              "</div>\n",
              "      <button class=\"colab-df-convert\" onclick=\"convertToInteractive('df-6c7d5e87-636d-400e-8ffc-be1c78ef9293')\"\n",
              "              title=\"Convert this dataframe to an interactive table.\"\n",
              "              style=\"display:none;\">\n",
              "        \n",
              "  <svg xmlns=\"http://www.w3.org/2000/svg\" height=\"24px\"viewBox=\"0 0 24 24\"\n",
              "       width=\"24px\">\n",
              "    <path d=\"M0 0h24v24H0V0z\" fill=\"none\"/>\n",
              "    <path d=\"M18.56 5.44l.94 2.06.94-2.06 2.06-.94-2.06-.94-.94-2.06-.94 2.06-2.06.94zm-11 1L8.5 8.5l.94-2.06 2.06-.94-2.06-.94L8.5 2.5l-.94 2.06-2.06.94zm10 10l.94 2.06.94-2.06 2.06-.94-2.06-.94-.94-2.06-.94 2.06-2.06.94z\"/><path d=\"M17.41 7.96l-1.37-1.37c-.4-.4-.92-.59-1.43-.59-.52 0-1.04.2-1.43.59L10.3 9.45l-7.72 7.72c-.78.78-.78 2.05 0 2.83L4 21.41c.39.39.9.59 1.41.59.51 0 1.02-.2 1.41-.59l7.78-7.78 2.81-2.81c.8-.78.8-2.07 0-2.86zM5.41 20L4 18.59l7.72-7.72 1.47 1.35L5.41 20z\"/>\n",
              "  </svg>\n",
              "      </button>\n",
              "      \n",
              "  <style>\n",
              "    .colab-df-container {\n",
              "      display:flex;\n",
              "      flex-wrap:wrap;\n",
              "      gap: 12px;\n",
              "    }\n",
              "\n",
              "    .colab-df-convert {\n",
              "      background-color: #E8F0FE;\n",
              "      border: none;\n",
              "      border-radius: 50%;\n",
              "      cursor: pointer;\n",
              "      display: none;\n",
              "      fill: #1967D2;\n",
              "      height: 32px;\n",
              "      padding: 0 0 0 0;\n",
              "      width: 32px;\n",
              "    }\n",
              "\n",
              "    .colab-df-convert:hover {\n",
              "      background-color: #E2EBFA;\n",
              "      box-shadow: 0px 1px 2px rgba(60, 64, 67, 0.3), 0px 1px 3px 1px rgba(60, 64, 67, 0.15);\n",
              "      fill: #174EA6;\n",
              "    }\n",
              "\n",
              "    [theme=dark] .colab-df-convert {\n",
              "      background-color: #3B4455;\n",
              "      fill: #D2E3FC;\n",
              "    }\n",
              "\n",
              "    [theme=dark] .colab-df-convert:hover {\n",
              "      background-color: #434B5C;\n",
              "      box-shadow: 0px 1px 3px 1px rgba(0, 0, 0, 0.15);\n",
              "      filter: drop-shadow(0px 1px 2px rgba(0, 0, 0, 0.3));\n",
              "      fill: #FFFFFF;\n",
              "    }\n",
              "  </style>\n",
              "\n",
              "      <script>\n",
              "        const buttonEl =\n",
              "          document.querySelector('#df-6c7d5e87-636d-400e-8ffc-be1c78ef9293 button.colab-df-convert');\n",
              "        buttonEl.style.display =\n",
              "          google.colab.kernel.accessAllowed ? 'block' : 'none';\n",
              "\n",
              "        async function convertToInteractive(key) {\n",
              "          const element = document.querySelector('#df-6c7d5e87-636d-400e-8ffc-be1c78ef9293');\n",
              "          const dataTable =\n",
              "            await google.colab.kernel.invokeFunction('convertToInteractive',\n",
              "                                                     [key], {});\n",
              "          if (!dataTable) return;\n",
              "\n",
              "          const docLinkHtml = 'Like what you see? Visit the ' +\n",
              "            '<a target=\"_blank\" href=https://colab.research.google.com/notebooks/data_table.ipynb>data table notebook</a>'\n",
              "            + ' to learn more about interactive tables.';\n",
              "          element.innerHTML = '';\n",
              "          dataTable['output_type'] = 'display_data';\n",
              "          await google.colab.output.renderOutput(dataTable, element);\n",
              "          const docLink = document.createElement('div');\n",
              "          docLink.innerHTML = docLinkHtml;\n",
              "          element.appendChild(docLink);\n",
              "        }\n",
              "      </script>\n",
              "    </div>\n",
              "  </div>\n",
              "  "
            ]
          },
          "metadata": {},
          "execution_count": 5
        }
      ]
    },
    {
      "cell_type": "code",
      "source": [
        "df.tail()"
      ],
      "metadata": {
        "colab": {
          "base_uri": "https://localhost:8080/",
          "height": 0
        },
        "id": "4gUJy4KGIo8u",
        "outputId": "8b81055a-cb20-4bd1-c50e-90b6903ee452"
      },
      "execution_count": 6,
      "outputs": [
        {
          "output_type": "execute_result",
          "data": {
            "text/plain": [
              "      report_date                load_time load_type  load_weight  \\\n",
              "25707  2021-07-09  2021-07-09 09:48:00 UTC     BRUSH       8240.0   \n",
              "25708  2021-07-09  2021-07-09 12:02:00 UTC     BRUSH       4160.0   \n",
              "25709  2021-07-09  2021-07-09 11:55:00 UTC     BRUSH       4340.0   \n",
              "25710  2021-07-09  2021-07-09 12:00:00 UTC    LITTER       1900.0   \n",
              "25711  2021-07-09  2021-07-09 12:00:00 UTC    LITTER       3040.0   \n",
              "\n",
              "       dropoff_site  \n",
              "25707  HORNSBY BEND  \n",
              "25708  HORNSBY BEND  \n",
              "25709  HORNSBY BEND  \n",
              "25710  TDS LANDFILL  \n",
              "25711  TDS LANDFILL  "
            ],
            "text/html": [
              "\n",
              "  <div id=\"df-3d4caeb6-2d09-416f-b4ce-fbcd0e385772\">\n",
              "    <div class=\"colab-df-container\">\n",
              "      <div>\n",
              "<style scoped>\n",
              "    .dataframe tbody tr th:only-of-type {\n",
              "        vertical-align: middle;\n",
              "    }\n",
              "\n",
              "    .dataframe tbody tr th {\n",
              "        vertical-align: top;\n",
              "    }\n",
              "\n",
              "    .dataframe thead th {\n",
              "        text-align: right;\n",
              "    }\n",
              "</style>\n",
              "<table border=\"1\" class=\"dataframe\">\n",
              "  <thead>\n",
              "    <tr style=\"text-align: right;\">\n",
              "      <th></th>\n",
              "      <th>report_date</th>\n",
              "      <th>load_time</th>\n",
              "      <th>load_type</th>\n",
              "      <th>load_weight</th>\n",
              "      <th>dropoff_site</th>\n",
              "    </tr>\n",
              "  </thead>\n",
              "  <tbody>\n",
              "    <tr>\n",
              "      <th>25707</th>\n",
              "      <td>2021-07-09</td>\n",
              "      <td>2021-07-09 09:48:00 UTC</td>\n",
              "      <td>BRUSH</td>\n",
              "      <td>8240.0</td>\n",
              "      <td>HORNSBY BEND</td>\n",
              "    </tr>\n",
              "    <tr>\n",
              "      <th>25708</th>\n",
              "      <td>2021-07-09</td>\n",
              "      <td>2021-07-09 12:02:00 UTC</td>\n",
              "      <td>BRUSH</td>\n",
              "      <td>4160.0</td>\n",
              "      <td>HORNSBY BEND</td>\n",
              "    </tr>\n",
              "    <tr>\n",
              "      <th>25709</th>\n",
              "      <td>2021-07-09</td>\n",
              "      <td>2021-07-09 11:55:00 UTC</td>\n",
              "      <td>BRUSH</td>\n",
              "      <td>4340.0</td>\n",
              "      <td>HORNSBY BEND</td>\n",
              "    </tr>\n",
              "    <tr>\n",
              "      <th>25710</th>\n",
              "      <td>2021-07-09</td>\n",
              "      <td>2021-07-09 12:00:00 UTC</td>\n",
              "      <td>LITTER</td>\n",
              "      <td>1900.0</td>\n",
              "      <td>TDS LANDFILL</td>\n",
              "    </tr>\n",
              "    <tr>\n",
              "      <th>25711</th>\n",
              "      <td>2021-07-09</td>\n",
              "      <td>2021-07-09 12:00:00 UTC</td>\n",
              "      <td>LITTER</td>\n",
              "      <td>3040.0</td>\n",
              "      <td>TDS LANDFILL</td>\n",
              "    </tr>\n",
              "  </tbody>\n",
              "</table>\n",
              "</div>\n",
              "      <button class=\"colab-df-convert\" onclick=\"convertToInteractive('df-3d4caeb6-2d09-416f-b4ce-fbcd0e385772')\"\n",
              "              title=\"Convert this dataframe to an interactive table.\"\n",
              "              style=\"display:none;\">\n",
              "        \n",
              "  <svg xmlns=\"http://www.w3.org/2000/svg\" height=\"24px\"viewBox=\"0 0 24 24\"\n",
              "       width=\"24px\">\n",
              "    <path d=\"M0 0h24v24H0V0z\" fill=\"none\"/>\n",
              "    <path d=\"M18.56 5.44l.94 2.06.94-2.06 2.06-.94-2.06-.94-.94-2.06-.94 2.06-2.06.94zm-11 1L8.5 8.5l.94-2.06 2.06-.94-2.06-.94L8.5 2.5l-.94 2.06-2.06.94zm10 10l.94 2.06.94-2.06 2.06-.94-2.06-.94-.94-2.06-.94 2.06-2.06.94z\"/><path d=\"M17.41 7.96l-1.37-1.37c-.4-.4-.92-.59-1.43-.59-.52 0-1.04.2-1.43.59L10.3 9.45l-7.72 7.72c-.78.78-.78 2.05 0 2.83L4 21.41c.39.39.9.59 1.41.59.51 0 1.02-.2 1.41-.59l7.78-7.78 2.81-2.81c.8-.78.8-2.07 0-2.86zM5.41 20L4 18.59l7.72-7.72 1.47 1.35L5.41 20z\"/>\n",
              "  </svg>\n",
              "      </button>\n",
              "      \n",
              "  <style>\n",
              "    .colab-df-container {\n",
              "      display:flex;\n",
              "      flex-wrap:wrap;\n",
              "      gap: 12px;\n",
              "    }\n",
              "\n",
              "    .colab-df-convert {\n",
              "      background-color: #E8F0FE;\n",
              "      border: none;\n",
              "      border-radius: 50%;\n",
              "      cursor: pointer;\n",
              "      display: none;\n",
              "      fill: #1967D2;\n",
              "      height: 32px;\n",
              "      padding: 0 0 0 0;\n",
              "      width: 32px;\n",
              "    }\n",
              "\n",
              "    .colab-df-convert:hover {\n",
              "      background-color: #E2EBFA;\n",
              "      box-shadow: 0px 1px 2px rgba(60, 64, 67, 0.3), 0px 1px 3px 1px rgba(60, 64, 67, 0.15);\n",
              "      fill: #174EA6;\n",
              "    }\n",
              "\n",
              "    [theme=dark] .colab-df-convert {\n",
              "      background-color: #3B4455;\n",
              "      fill: #D2E3FC;\n",
              "    }\n",
              "\n",
              "    [theme=dark] .colab-df-convert:hover {\n",
              "      background-color: #434B5C;\n",
              "      box-shadow: 0px 1px 3px 1px rgba(0, 0, 0, 0.15);\n",
              "      filter: drop-shadow(0px 1px 2px rgba(0, 0, 0, 0.3));\n",
              "      fill: #FFFFFF;\n",
              "    }\n",
              "  </style>\n",
              "\n",
              "      <script>\n",
              "        const buttonEl =\n",
              "          document.querySelector('#df-3d4caeb6-2d09-416f-b4ce-fbcd0e385772 button.colab-df-convert');\n",
              "        buttonEl.style.display =\n",
              "          google.colab.kernel.accessAllowed ? 'block' : 'none';\n",
              "\n",
              "        async function convertToInteractive(key) {\n",
              "          const element = document.querySelector('#df-3d4caeb6-2d09-416f-b4ce-fbcd0e385772');\n",
              "          const dataTable =\n",
              "            await google.colab.kernel.invokeFunction('convertToInteractive',\n",
              "                                                     [key], {});\n",
              "          if (!dataTable) return;\n",
              "\n",
              "          const docLinkHtml = 'Like what you see? Visit the ' +\n",
              "            '<a target=\"_blank\" href=https://colab.research.google.com/notebooks/data_table.ipynb>data table notebook</a>'\n",
              "            + ' to learn more about interactive tables.';\n",
              "          element.innerHTML = '';\n",
              "          dataTable['output_type'] = 'display_data';\n",
              "          await google.colab.output.renderOutput(dataTable, element);\n",
              "          const docLink = document.createElement('div');\n",
              "          docLink.innerHTML = docLinkHtml;\n",
              "          element.appendChild(docLink);\n",
              "        }\n",
              "      </script>\n",
              "    </div>\n",
              "  </div>\n",
              "  "
            ]
          },
          "metadata": {},
          "execution_count": 6
        }
      ]
    },
    {
      "cell_type": "markdown",
      "source": [
        "**3.3. Data Type**\\\n",
        "Data study is to understand what kind of data available by grouping them. For example, we can see the site based on load type, which will be shown as below using `.groupby()`:"
      ],
      "metadata": {
        "id": "3wI6dkb_Wjvm"
      }
    },
    {
      "cell_type": "code",
      "source": [
        "df.info()"
      ],
      "metadata": {
        "colab": {
          "base_uri": "https://localhost:8080/"
        },
        "id": "ewoVUrbZ0TNC",
        "outputId": "46889171-503e-45ac-e61c-3559e36acc79"
      },
      "execution_count": 7,
      "outputs": [
        {
          "output_type": "stream",
          "name": "stdout",
          "text": [
            "<class 'pandas.core.frame.DataFrame'>\n",
            "RangeIndex: 25712 entries, 0 to 25711\n",
            "Data columns (total 5 columns):\n",
            " #   Column        Non-Null Count  Dtype  \n",
            "---  ------        --------------  -----  \n",
            " 0   report_date   25712 non-null  object \n",
            " 1   load_time     25712 non-null  object \n",
            " 2   load_type     25712 non-null  object \n",
            " 3   load_weight   25083 non-null  float64\n",
            " 4   dropoff_site  25712 non-null  object \n",
            "dtypes: float64(1), object(4)\n",
            "memory usage: 1004.5+ KB\n"
          ]
        }
      ]
    },
    {
      "cell_type": "code",
      "source": [
        "# Finding drop-off site grouped by load type\n",
        "df.groupby(['load_type'])['dropoff_site'].agg(pd.Series.mode)"
      ],
      "metadata": {
        "colab": {
          "base_uri": "https://localhost:8080/"
        },
        "id": "V9UAFLjZ_KJf",
        "outputId": "b831613c-1f46-438d-fa4c-87ee6d3157fb"
      },
      "execution_count": 8,
      "outputs": [
        {
          "output_type": "execute_result",
          "data": {
            "text/plain": [
              "load_type\n",
              "BRUSH                                 HORNSBY BEND\n",
              "BULK                                  TDS LANDFILL\n",
              "CONTAMINATED ORGANICS                 TDS LANDFILL\n",
              "CONTAMINATED RECYCLING                TDS LANDFILL\n",
              "DEAD ANIMAL                           TDS LANDFILL\n",
              "GARBAGE COLLECTIONS                   TDS LANDFILL\n",
              "LITTER                                TDS LANDFILL\n",
              "MIXED LITTER                          TDS LANDFILL\n",
              "ORGANICS                          ORGANICS BY GOSH\n",
              "RECYCLED METAL               AUSTIN IRON AND METAL\n",
              "RECYCLING - SINGLE STREAM       BALCONES RECYCLING\n",
              "SWEEPING                               ONION CREEK\n",
              "TIRES                                          MRF\n",
              "YARD TRIMMING                         HORNSBY BEND\n",
              "Name: dropoff_site, dtype: object"
            ]
          },
          "metadata": {},
          "execution_count": 8
        }
      ]
    },
    {
      "cell_type": "code",
      "source": [
        "# Finding load type grouped by drop-off site\n",
        "df.groupby(['dropoff_site'])['load_type'].agg(pd.Series.mode)"
      ],
      "metadata": {
        "colab": {
          "base_uri": "https://localhost:8080/"
        },
        "id": "nLek40Uz84L2",
        "outputId": "a7be1958-7f1c-4b85-a0d4-b785faaf0914"
      },
      "execution_count": 9,
      "outputs": [
        {
          "output_type": "execute_result",
          "data": {
            "text/plain": [
              "dropoff_site\n",
              "AUSTIN IRON AND METAL               RECYCLED METAL\n",
              "AUSTIN WOOD RECYCLING    RECYCLING - SINGLE STREAM\n",
              "BALCONES RECYCLING       RECYCLING - SINGLE STREAM\n",
              "BALCONES WOODS           RECYCLING - SINGLE STREAM\n",
              "GREAT NORTHERN                            SWEEPING\n",
              "HORNSBY BEND                                 BRUSH\n",
              "MRF                                          TIRES\n",
              "ON ROUTE HIGH DUMP                        SWEEPING\n",
              "ONION CREEK                               SWEEPING\n",
              "ORGANICS BY GOSH                          ORGANICS\n",
              "PARK BEND                                 ORGANICS\n",
              "PARK CENTER                               SWEEPING\n",
              "ST. EDWARDS                               SWEEPING\n",
              "STEINER LANDFILL               GARBAGE COLLECTIONS\n",
              "TDS - MRF                RECYCLING - SINGLE STREAM\n",
              "TDS LANDFILL                   GARBAGE COLLECTIONS\n",
              "WESTFIELD                      GARBAGE COLLECTIONS\n",
              "WILCAB                                    SWEEPING\n",
              "Name: load_type, dtype: object"
            ]
          },
          "metadata": {},
          "execution_count": 9
        }
      ]
    },
    {
      "cell_type": "code",
      "source": [
        "# Counting number of values in dropoff_site column\n",
        "df[\"dropoff_site\"].value_counts()"
      ],
      "metadata": {
        "colab": {
          "base_uri": "https://localhost:8080/"
        },
        "id": "yykXjUI81Gf3",
        "outputId": "3b5843e8-431d-4982-897a-f26258707201"
      },
      "execution_count": 10,
      "outputs": [
        {
          "output_type": "execute_result",
          "data": {
            "text/plain": [
              "TDS LANDFILL             10687\n",
              "ORGANICS BY GOSH          5746\n",
              "BALCONES RECYCLING        3832\n",
              "TDS - MRF                 2947\n",
              "HORNSBY BEND              1651\n",
              "ONION CREEK                396\n",
              "MRF                        168\n",
              "ON ROUTE HIGH DUMP          81\n",
              "PARK CENTER                 74\n",
              "GREAT NORTHERN              69\n",
              "AUSTIN IRON AND METAL       50\n",
              "PARK BEND                    4\n",
              "AUSTIN WOOD RECYCLING        2\n",
              "WILCAB                       1\n",
              "BALCONES WOODS               1\n",
              "STEINER LANDFILL             1\n",
              "WESTFIELD                    1\n",
              "ST. EDWARDS                  1\n",
              "Name: dropoff_site, dtype: int64"
            ]
          },
          "metadata": {},
          "execution_count": 10
        }
      ]
    },
    {
      "cell_type": "code",
      "source": [
        "# Counting number of values in load_type column\n",
        "df[\"load_type\"].value_counts()"
      ],
      "metadata": {
        "colab": {
          "base_uri": "https://localhost:8080/"
        },
        "id": "_f3qDkf-1Tm_",
        "outputId": "f8a618c1-4ec4-437d-d813-fbfadae79b9a"
      },
      "execution_count": 11,
      "outputs": [
        {
          "output_type": "execute_result",
          "data": {
            "text/plain": [
              "GARBAGE COLLECTIONS          8236\n",
              "RECYCLING - SINGLE STREAM    6754\n",
              "ORGANICS                     5754\n",
              "BULK                         1594\n",
              "BRUSH                        1513\n",
              "SWEEPING                      971\n",
              "MIXED LITTER                  328\n",
              "TIRES                         175\n",
              "DEAD ANIMAL                   150\n",
              "YARD TRIMMING                 137\n",
              "RECYCLED METAL                 57\n",
              "LITTER                         41\n",
              "CONTAMINATED RECYCLING          1\n",
              "CONTAMINATED ORGANICS           1\n",
              "Name: load_type, dtype: int64"
            ]
          },
          "metadata": {},
          "execution_count": 11
        }
      ]
    },
    {
      "cell_type": "markdown",
      "source": [
        "**3.4. Central Tendency (mean, median, dan mode)**\n",
        "\n",
        "Central tendency will describe the mean, median, and mode of the original dataset. However, we still can not see the correct insight because the original dataset has not been cleaned."
      ],
      "metadata": {
        "id": "JlYyn34YqaqF"
      }
    },
    {
      "cell_type": "code",
      "source": [
        "# Finding mean of the original dataset\n",
        "df['load_weight'].mean()"
      ],
      "metadata": {
        "colab": {
          "base_uri": "https://localhost:8080/"
        },
        "id": "Jtg3hk9JviW4",
        "outputId": "426ba86d-6bba-4a1e-e3d7-b80a0b45515a"
      },
      "execution_count": 12,
      "outputs": [
        {
          "output_type": "execute_result",
          "data": {
            "text/plain": [
              "12229.467190503528"
            ]
          },
          "metadata": {},
          "execution_count": 12
        }
      ]
    },
    {
      "cell_type": "code",
      "source": [
        "# Finding median of the original dataset\n",
        "df['load_weight'].median()"
      ],
      "metadata": {
        "colab": {
          "base_uri": "https://localhost:8080/"
        },
        "id": "SOwCLjDgqh1r",
        "outputId": "b91c06fa-73c6-4713-d979-2545cf0f952a"
      },
      "execution_count": 13,
      "outputs": [
        {
          "output_type": "execute_result",
          "data": {
            "text/plain": [
              "11300.0"
            ]
          },
          "metadata": {},
          "execution_count": 13
        }
      ]
    },
    {
      "cell_type": "code",
      "source": [
        "# Finding mode of the original dataset\n",
        "df['load_weight'].mode()"
      ],
      "metadata": {
        "colab": {
          "base_uri": "https://localhost:8080/"
        },
        "id": "tE0UNDcqvn-E",
        "outputId": "1c574b77-27a5-4a1b-b0a7-3965cc07916a"
      },
      "execution_count": 14,
      "outputs": [
        {
          "output_type": "execute_result",
          "data": {
            "text/plain": [
              "0    5500.0\n",
              "dtype: float64"
            ]
          },
          "metadata": {},
          "execution_count": 14
        }
      ]
    },
    {
      "cell_type": "markdown",
      "source": [
        "---\n",
        "## **4. Data Cleaning**\n",
        "\n",
        "This part will explain data cleaning process especially about handling missing value, finding skewed data, and handling outliers (extreme values)."
      ],
      "metadata": {
        "id": "2xOQgVb8zFNe"
      }
    },
    {
      "cell_type": "markdown",
      "source": [
        "**4.1. Handing Missing Value**\n",
        "\n",
        "Null values (NaN) are apparently only existing in `load_weight` column. So, to check further and prove how many null values, we can use `.isnull().sum()`. The result should be in total `629`, and we can see that `load_weight` has also total null values `629`.\n",
        "\n",
        "There are at least more than one method to handle missing value.\n",
        "\n",
        "`The first method` is by removing all rows with NaN values. Considering there are `629` null values from `25,712` rows, that means null values are only about `2.5%` which is probabily low to affect the analysis result. Assume we can remove those null values, because the impact of the data later would not be as huge. **However, we need to evaluate the discrepancy before and after NaN value being removed**. If the discrepancy is too significant and affecting the results, then we should consider to move on to the second method.\n",
        "\n",
        "`The second method` is by subtituting all rows with NaN values with `median` or `mean` of load weight. This aims to keep some missing values with mean based on original data. However, this should be noted that the subtitution missing value should be based on **skewness**."
      ],
      "metadata": {
        "id": "1QPuIBLcUI7L"
      }
    },
    {
      "cell_type": "code",
      "source": [
        "#Find the total number of missing values from the entire dataset\n",
        "df.isnull().sum()"
      ],
      "metadata": {
        "colab": {
          "base_uri": "https://localhost:8080/"
        },
        "id": "D1U2ogY_e9Ez",
        "outputId": "45742710-c630-42d2-ea9c-7cce6b652eb5"
      },
      "execution_count": 15,
      "outputs": [
        {
          "output_type": "execute_result",
          "data": {
            "text/plain": [
              "report_date       0\n",
              "load_time         0\n",
              "load_type         0\n",
              "load_weight     629\n",
              "dropoff_site      0\n",
              "dtype: int64"
            ]
          },
          "metadata": {},
          "execution_count": 15
        }
      ]
    },
    {
      "cell_type": "code",
      "source": [
        "# drop all rows with any NaN and NaT values, define new dataframe with new name\n",
        "df_dropna = df.dropna()\n",
        "df_dropna"
      ],
      "metadata": {
        "colab": {
          "base_uri": "https://localhost:8080/",
          "height": 0
        },
        "id": "Yp4IAAw_nQXf",
        "outputId": "2607a40b-43fe-4746-80a9-78d79dd792b4"
      },
      "execution_count": 16,
      "outputs": [
        {
          "output_type": "execute_result",
          "data": {
            "text/plain": [
              "      report_date                load_time                  load_type  \\\n",
              "1      2021-01-02  2021-01-02 09:24:00 UTC                      TIRES   \n",
              "2      2021-01-02  2021-01-02 11:47:00 UTC                      TIRES   \n",
              "3      2021-01-02  2021-01-02 12:00:00 UTC  RECYCLING - SINGLE STREAM   \n",
              "4      2021-01-02  2021-01-02 09:02:00 UTC  RECYCLING - SINGLE STREAM   \n",
              "6      2021-01-02  2021-01-02 05:44:00 UTC              YARD TRIMMING   \n",
              "...           ...                      ...                        ...   \n",
              "25707  2021-07-09  2021-07-09 09:48:00 UTC                      BRUSH   \n",
              "25708  2021-07-09  2021-07-09 12:02:00 UTC                      BRUSH   \n",
              "25709  2021-07-09  2021-07-09 11:55:00 UTC                      BRUSH   \n",
              "25710  2021-07-09  2021-07-09 12:00:00 UTC                     LITTER   \n",
              "25711  2021-07-09  2021-07-09 12:00:00 UTC                     LITTER   \n",
              "\n",
              "       load_weight  dropoff_site  \n",
              "1           1640.0           MRF  \n",
              "2            940.0           MRF  \n",
              "3            320.0     TDS - MRF  \n",
              "4            520.0     TDS - MRF  \n",
              "6          17660.0  HORNSBY BEND  \n",
              "...            ...           ...  \n",
              "25707       8240.0  HORNSBY BEND  \n",
              "25708       4160.0  HORNSBY BEND  \n",
              "25709       4340.0  HORNSBY BEND  \n",
              "25710       1900.0  TDS LANDFILL  \n",
              "25711       3040.0  TDS LANDFILL  \n",
              "\n",
              "[25083 rows x 5 columns]"
            ],
            "text/html": [
              "\n",
              "  <div id=\"df-70a0fec2-5405-49b4-bf54-d5a00156dd1b\">\n",
              "    <div class=\"colab-df-container\">\n",
              "      <div>\n",
              "<style scoped>\n",
              "    .dataframe tbody tr th:only-of-type {\n",
              "        vertical-align: middle;\n",
              "    }\n",
              "\n",
              "    .dataframe tbody tr th {\n",
              "        vertical-align: top;\n",
              "    }\n",
              "\n",
              "    .dataframe thead th {\n",
              "        text-align: right;\n",
              "    }\n",
              "</style>\n",
              "<table border=\"1\" class=\"dataframe\">\n",
              "  <thead>\n",
              "    <tr style=\"text-align: right;\">\n",
              "      <th></th>\n",
              "      <th>report_date</th>\n",
              "      <th>load_time</th>\n",
              "      <th>load_type</th>\n",
              "      <th>load_weight</th>\n",
              "      <th>dropoff_site</th>\n",
              "    </tr>\n",
              "  </thead>\n",
              "  <tbody>\n",
              "    <tr>\n",
              "      <th>1</th>\n",
              "      <td>2021-01-02</td>\n",
              "      <td>2021-01-02 09:24:00 UTC</td>\n",
              "      <td>TIRES</td>\n",
              "      <td>1640.0</td>\n",
              "      <td>MRF</td>\n",
              "    </tr>\n",
              "    <tr>\n",
              "      <th>2</th>\n",
              "      <td>2021-01-02</td>\n",
              "      <td>2021-01-02 11:47:00 UTC</td>\n",
              "      <td>TIRES</td>\n",
              "      <td>940.0</td>\n",
              "      <td>MRF</td>\n",
              "    </tr>\n",
              "    <tr>\n",
              "      <th>3</th>\n",
              "      <td>2021-01-02</td>\n",
              "      <td>2021-01-02 12:00:00 UTC</td>\n",
              "      <td>RECYCLING - SINGLE STREAM</td>\n",
              "      <td>320.0</td>\n",
              "      <td>TDS - MRF</td>\n",
              "    </tr>\n",
              "    <tr>\n",
              "      <th>4</th>\n",
              "      <td>2021-01-02</td>\n",
              "      <td>2021-01-02 09:02:00 UTC</td>\n",
              "      <td>RECYCLING - SINGLE STREAM</td>\n",
              "      <td>520.0</td>\n",
              "      <td>TDS - MRF</td>\n",
              "    </tr>\n",
              "    <tr>\n",
              "      <th>6</th>\n",
              "      <td>2021-01-02</td>\n",
              "      <td>2021-01-02 05:44:00 UTC</td>\n",
              "      <td>YARD TRIMMING</td>\n",
              "      <td>17660.0</td>\n",
              "      <td>HORNSBY BEND</td>\n",
              "    </tr>\n",
              "    <tr>\n",
              "      <th>...</th>\n",
              "      <td>...</td>\n",
              "      <td>...</td>\n",
              "      <td>...</td>\n",
              "      <td>...</td>\n",
              "      <td>...</td>\n",
              "    </tr>\n",
              "    <tr>\n",
              "      <th>25707</th>\n",
              "      <td>2021-07-09</td>\n",
              "      <td>2021-07-09 09:48:00 UTC</td>\n",
              "      <td>BRUSH</td>\n",
              "      <td>8240.0</td>\n",
              "      <td>HORNSBY BEND</td>\n",
              "    </tr>\n",
              "    <tr>\n",
              "      <th>25708</th>\n",
              "      <td>2021-07-09</td>\n",
              "      <td>2021-07-09 12:02:00 UTC</td>\n",
              "      <td>BRUSH</td>\n",
              "      <td>4160.0</td>\n",
              "      <td>HORNSBY BEND</td>\n",
              "    </tr>\n",
              "    <tr>\n",
              "      <th>25709</th>\n",
              "      <td>2021-07-09</td>\n",
              "      <td>2021-07-09 11:55:00 UTC</td>\n",
              "      <td>BRUSH</td>\n",
              "      <td>4340.0</td>\n",
              "      <td>HORNSBY BEND</td>\n",
              "    </tr>\n",
              "    <tr>\n",
              "      <th>25710</th>\n",
              "      <td>2021-07-09</td>\n",
              "      <td>2021-07-09 12:00:00 UTC</td>\n",
              "      <td>LITTER</td>\n",
              "      <td>1900.0</td>\n",
              "      <td>TDS LANDFILL</td>\n",
              "    </tr>\n",
              "    <tr>\n",
              "      <th>25711</th>\n",
              "      <td>2021-07-09</td>\n",
              "      <td>2021-07-09 12:00:00 UTC</td>\n",
              "      <td>LITTER</td>\n",
              "      <td>3040.0</td>\n",
              "      <td>TDS LANDFILL</td>\n",
              "    </tr>\n",
              "  </tbody>\n",
              "</table>\n",
              "<p>25083 rows × 5 columns</p>\n",
              "</div>\n",
              "      <button class=\"colab-df-convert\" onclick=\"convertToInteractive('df-70a0fec2-5405-49b4-bf54-d5a00156dd1b')\"\n",
              "              title=\"Convert this dataframe to an interactive table.\"\n",
              "              style=\"display:none;\">\n",
              "        \n",
              "  <svg xmlns=\"http://www.w3.org/2000/svg\" height=\"24px\"viewBox=\"0 0 24 24\"\n",
              "       width=\"24px\">\n",
              "    <path d=\"M0 0h24v24H0V0z\" fill=\"none\"/>\n",
              "    <path d=\"M18.56 5.44l.94 2.06.94-2.06 2.06-.94-2.06-.94-.94-2.06-.94 2.06-2.06.94zm-11 1L8.5 8.5l.94-2.06 2.06-.94-2.06-.94L8.5 2.5l-.94 2.06-2.06.94zm10 10l.94 2.06.94-2.06 2.06-.94-2.06-.94-.94-2.06-.94 2.06-2.06.94z\"/><path d=\"M17.41 7.96l-1.37-1.37c-.4-.4-.92-.59-1.43-.59-.52 0-1.04.2-1.43.59L10.3 9.45l-7.72 7.72c-.78.78-.78 2.05 0 2.83L4 21.41c.39.39.9.59 1.41.59.51 0 1.02-.2 1.41-.59l7.78-7.78 2.81-2.81c.8-.78.8-2.07 0-2.86zM5.41 20L4 18.59l7.72-7.72 1.47 1.35L5.41 20z\"/>\n",
              "  </svg>\n",
              "      </button>\n",
              "      \n",
              "  <style>\n",
              "    .colab-df-container {\n",
              "      display:flex;\n",
              "      flex-wrap:wrap;\n",
              "      gap: 12px;\n",
              "    }\n",
              "\n",
              "    .colab-df-convert {\n",
              "      background-color: #E8F0FE;\n",
              "      border: none;\n",
              "      border-radius: 50%;\n",
              "      cursor: pointer;\n",
              "      display: none;\n",
              "      fill: #1967D2;\n",
              "      height: 32px;\n",
              "      padding: 0 0 0 0;\n",
              "      width: 32px;\n",
              "    }\n",
              "\n",
              "    .colab-df-convert:hover {\n",
              "      background-color: #E2EBFA;\n",
              "      box-shadow: 0px 1px 2px rgba(60, 64, 67, 0.3), 0px 1px 3px 1px rgba(60, 64, 67, 0.15);\n",
              "      fill: #174EA6;\n",
              "    }\n",
              "\n",
              "    [theme=dark] .colab-df-convert {\n",
              "      background-color: #3B4455;\n",
              "      fill: #D2E3FC;\n",
              "    }\n",
              "\n",
              "    [theme=dark] .colab-df-convert:hover {\n",
              "      background-color: #434B5C;\n",
              "      box-shadow: 0px 1px 3px 1px rgba(0, 0, 0, 0.15);\n",
              "      filter: drop-shadow(0px 1px 2px rgba(0, 0, 0, 0.3));\n",
              "      fill: #FFFFFF;\n",
              "    }\n",
              "  </style>\n",
              "\n",
              "      <script>\n",
              "        const buttonEl =\n",
              "          document.querySelector('#df-70a0fec2-5405-49b4-bf54-d5a00156dd1b button.colab-df-convert');\n",
              "        buttonEl.style.display =\n",
              "          google.colab.kernel.accessAllowed ? 'block' : 'none';\n",
              "\n",
              "        async function convertToInteractive(key) {\n",
              "          const element = document.querySelector('#df-70a0fec2-5405-49b4-bf54-d5a00156dd1b');\n",
              "          const dataTable =\n",
              "            await google.colab.kernel.invokeFunction('convertToInteractive',\n",
              "                                                     [key], {});\n",
              "          if (!dataTable) return;\n",
              "\n",
              "          const docLinkHtml = 'Like what you see? Visit the ' +\n",
              "            '<a target=\"_blank\" href=https://colab.research.google.com/notebooks/data_table.ipynb>data table notebook</a>'\n",
              "            + ' to learn more about interactive tables.';\n",
              "          element.innerHTML = '';\n",
              "          dataTable['output_type'] = 'display_data';\n",
              "          await google.colab.output.renderOutput(dataTable, element);\n",
              "          const docLink = document.createElement('div');\n",
              "          docLink.innerHTML = docLinkHtml;\n",
              "          element.appendChild(docLink);\n",
              "        }\n",
              "      </script>\n",
              "    </div>\n",
              "  </div>\n",
              "  "
            ]
          },
          "metadata": {},
          "execution_count": 16
        }
      ]
    },
    {
      "cell_type": "code",
      "source": [
        "# checking df_austin to make sure null is 0\n",
        "df_dropna.isnull().sum()"
      ],
      "metadata": {
        "colab": {
          "base_uri": "https://localhost:8080/"
        },
        "id": "dtbdyJVEqs4k",
        "outputId": "5aa6e511-024a-440f-a8c6-06b0fb735231"
      },
      "execution_count": 17,
      "outputs": [
        {
          "output_type": "execute_result",
          "data": {
            "text/plain": [
              "report_date     0\n",
              "load_time       0\n",
              "load_type       0\n",
              "load_weight     0\n",
              "dropoff_site    0\n",
              "dtype: int64"
            ]
          },
          "metadata": {},
          "execution_count": 17
        }
      ]
    },
    {
      "cell_type": "code",
      "source": [
        "# Counting number of values in dropoff_site column\n",
        "df_dropna[\"dropoff_site\"].value_counts()"
      ],
      "metadata": {
        "colab": {
          "base_uri": "https://localhost:8080/"
        },
        "id": "Wptl0QtOAMoq",
        "outputId": "a5790077-2669-4317-c553-1110a5d0ea03"
      },
      "execution_count": 18,
      "outputs": [
        {
          "output_type": "execute_result",
          "data": {
            "text/plain": [
              "TDS LANDFILL             10684\n",
              "ORGANICS BY GOSH          5732\n",
              "BALCONES RECYCLING        3832\n",
              "TDS - MRF                 2947\n",
              "HORNSBY BEND              1648\n",
              "MRF                        168\n",
              "AUSTIN IRON AND METAL       50\n",
              "ON ROUTE HIGH DUMP           7\n",
              "GREAT NORTHERN               6\n",
              "PARK BEND                    4\n",
              "AUSTIN WOOD RECYCLING        2\n",
              "BALCONES WOODS               1\n",
              "STEINER LANDFILL             1\n",
              "WESTFIELD                    1\n",
              "Name: dropoff_site, dtype: int64"
            ]
          },
          "metadata": {},
          "execution_count": 18
        }
      ]
    },
    {
      "cell_type": "code",
      "source": [
        "# Counting number of values in load_type column\n",
        "df_dropna[\"load_type\"].value_counts()"
      ],
      "metadata": {
        "colab": {
          "base_uri": "https://localhost:8080/"
        },
        "id": "BnasUZjm7mMB",
        "outputId": "737197f2-5617-46d8-c04b-15ac24f24f72"
      },
      "execution_count": 19,
      "outputs": [
        {
          "output_type": "execute_result",
          "data": {
            "text/plain": [
              "GARBAGE COLLECTIONS          8235\n",
              "RECYCLING - SINGLE STREAM    6754\n",
              "ORGANICS                     5740\n",
              "BULK                         1594\n",
              "BRUSH                        1510\n",
              "SWEEPING                      360\n",
              "MIXED LITTER                  328\n",
              "TIRES                         175\n",
              "DEAD ANIMAL                   150\n",
              "YARD TRIMMING                 137\n",
              "RECYCLED METAL                 57\n",
              "LITTER                         41\n",
              "CONTAMINATED RECYCLING          1\n",
              "CONTAMINATED ORGANICS           1\n",
              "Name: load_type, dtype: int64"
            ]
          },
          "metadata": {},
          "execution_count": 19
        }
      ]
    },
    {
      "cell_type": "markdown",
      "source": [
        "**The second method:** The result after removing null values is different from the original dataset. There are four kinds of drop-off site being removed and no longer listed on the new and cleaned dataset, such as:\n",
        "```\n",
        "\"ONION CREEK\", from  396 to 0\n",
        "\"ST.EDWARDS\", from 1 to 0\n",
        "\"WILCAB\", from 1 to 0\n",
        "\"PARK CENTER\", from 74 to 0\n",
        "```\n",
        "\n",
        "This has raised a question: should we keep omitting these removed sites or subtitute them with other values rather than Null?\n",
        "\n",
        "As hypotheses are about waste location, **it is important not to remove those four waste collection sites**. Assume that `Onion Creek`, `St. Edwards`, `Wilcab`, and `Park Center` have the same value like median, the subtitution of null value to the original dataset with `median` of `load_weight`. Thus, the number of sample will be the same with the original dataset: `25,712`.\n",
        "\n",
        "The result of the subtitution will be:"
      ],
      "metadata": {
        "id": "Tx65YEGlLZIj"
      }
    },
    {
      "cell_type": "code",
      "source": [
        "# Replacing NaN for one column using pandas:\n",
        "df['load_weight'] = df['load_weight'].fillna(df['load_weight'].median())\n",
        "df"
      ],
      "metadata": {
        "colab": {
          "base_uri": "https://localhost:8080/",
          "height": 0
        },
        "id": "0z2BBBhURXKj",
        "outputId": "cdce8d19-05c5-45c3-9e10-9949ebd68d10"
      },
      "execution_count": 20,
      "outputs": [
        {
          "output_type": "execute_result",
          "data": {
            "text/plain": [
              "      report_date                load_time                  load_type  \\\n",
              "0      2021-01-01  2021-01-01 12:00:00 UTC                   SWEEPING   \n",
              "1      2021-01-02  2021-01-02 09:24:00 UTC                      TIRES   \n",
              "2      2021-01-02  2021-01-02 11:47:00 UTC                      TIRES   \n",
              "3      2021-01-02  2021-01-02 12:00:00 UTC  RECYCLING - SINGLE STREAM   \n",
              "4      2021-01-02  2021-01-02 09:02:00 UTC  RECYCLING - SINGLE STREAM   \n",
              "...           ...                      ...                        ...   \n",
              "25707  2021-07-09  2021-07-09 09:48:00 UTC                      BRUSH   \n",
              "25708  2021-07-09  2021-07-09 12:02:00 UTC                      BRUSH   \n",
              "25709  2021-07-09  2021-07-09 11:55:00 UTC                      BRUSH   \n",
              "25710  2021-07-09  2021-07-09 12:00:00 UTC                     LITTER   \n",
              "25711  2021-07-09  2021-07-09 12:00:00 UTC                     LITTER   \n",
              "\n",
              "       load_weight  dropoff_site  \n",
              "0          11300.0   ONION CREEK  \n",
              "1           1640.0           MRF  \n",
              "2            940.0           MRF  \n",
              "3            320.0     TDS - MRF  \n",
              "4            520.0     TDS - MRF  \n",
              "...            ...           ...  \n",
              "25707       8240.0  HORNSBY BEND  \n",
              "25708       4160.0  HORNSBY BEND  \n",
              "25709       4340.0  HORNSBY BEND  \n",
              "25710       1900.0  TDS LANDFILL  \n",
              "25711       3040.0  TDS LANDFILL  \n",
              "\n",
              "[25712 rows x 5 columns]"
            ],
            "text/html": [
              "\n",
              "  <div id=\"df-6dee08d8-385d-40c4-8877-3c0848749654\">\n",
              "    <div class=\"colab-df-container\">\n",
              "      <div>\n",
              "<style scoped>\n",
              "    .dataframe tbody tr th:only-of-type {\n",
              "        vertical-align: middle;\n",
              "    }\n",
              "\n",
              "    .dataframe tbody tr th {\n",
              "        vertical-align: top;\n",
              "    }\n",
              "\n",
              "    .dataframe thead th {\n",
              "        text-align: right;\n",
              "    }\n",
              "</style>\n",
              "<table border=\"1\" class=\"dataframe\">\n",
              "  <thead>\n",
              "    <tr style=\"text-align: right;\">\n",
              "      <th></th>\n",
              "      <th>report_date</th>\n",
              "      <th>load_time</th>\n",
              "      <th>load_type</th>\n",
              "      <th>load_weight</th>\n",
              "      <th>dropoff_site</th>\n",
              "    </tr>\n",
              "  </thead>\n",
              "  <tbody>\n",
              "    <tr>\n",
              "      <th>0</th>\n",
              "      <td>2021-01-01</td>\n",
              "      <td>2021-01-01 12:00:00 UTC</td>\n",
              "      <td>SWEEPING</td>\n",
              "      <td>11300.0</td>\n",
              "      <td>ONION CREEK</td>\n",
              "    </tr>\n",
              "    <tr>\n",
              "      <th>1</th>\n",
              "      <td>2021-01-02</td>\n",
              "      <td>2021-01-02 09:24:00 UTC</td>\n",
              "      <td>TIRES</td>\n",
              "      <td>1640.0</td>\n",
              "      <td>MRF</td>\n",
              "    </tr>\n",
              "    <tr>\n",
              "      <th>2</th>\n",
              "      <td>2021-01-02</td>\n",
              "      <td>2021-01-02 11:47:00 UTC</td>\n",
              "      <td>TIRES</td>\n",
              "      <td>940.0</td>\n",
              "      <td>MRF</td>\n",
              "    </tr>\n",
              "    <tr>\n",
              "      <th>3</th>\n",
              "      <td>2021-01-02</td>\n",
              "      <td>2021-01-02 12:00:00 UTC</td>\n",
              "      <td>RECYCLING - SINGLE STREAM</td>\n",
              "      <td>320.0</td>\n",
              "      <td>TDS - MRF</td>\n",
              "    </tr>\n",
              "    <tr>\n",
              "      <th>4</th>\n",
              "      <td>2021-01-02</td>\n",
              "      <td>2021-01-02 09:02:00 UTC</td>\n",
              "      <td>RECYCLING - SINGLE STREAM</td>\n",
              "      <td>520.0</td>\n",
              "      <td>TDS - MRF</td>\n",
              "    </tr>\n",
              "    <tr>\n",
              "      <th>...</th>\n",
              "      <td>...</td>\n",
              "      <td>...</td>\n",
              "      <td>...</td>\n",
              "      <td>...</td>\n",
              "      <td>...</td>\n",
              "    </tr>\n",
              "    <tr>\n",
              "      <th>25707</th>\n",
              "      <td>2021-07-09</td>\n",
              "      <td>2021-07-09 09:48:00 UTC</td>\n",
              "      <td>BRUSH</td>\n",
              "      <td>8240.0</td>\n",
              "      <td>HORNSBY BEND</td>\n",
              "    </tr>\n",
              "    <tr>\n",
              "      <th>25708</th>\n",
              "      <td>2021-07-09</td>\n",
              "      <td>2021-07-09 12:02:00 UTC</td>\n",
              "      <td>BRUSH</td>\n",
              "      <td>4160.0</td>\n",
              "      <td>HORNSBY BEND</td>\n",
              "    </tr>\n",
              "    <tr>\n",
              "      <th>25709</th>\n",
              "      <td>2021-07-09</td>\n",
              "      <td>2021-07-09 11:55:00 UTC</td>\n",
              "      <td>BRUSH</td>\n",
              "      <td>4340.0</td>\n",
              "      <td>HORNSBY BEND</td>\n",
              "    </tr>\n",
              "    <tr>\n",
              "      <th>25710</th>\n",
              "      <td>2021-07-09</td>\n",
              "      <td>2021-07-09 12:00:00 UTC</td>\n",
              "      <td>LITTER</td>\n",
              "      <td>1900.0</td>\n",
              "      <td>TDS LANDFILL</td>\n",
              "    </tr>\n",
              "    <tr>\n",
              "      <th>25711</th>\n",
              "      <td>2021-07-09</td>\n",
              "      <td>2021-07-09 12:00:00 UTC</td>\n",
              "      <td>LITTER</td>\n",
              "      <td>3040.0</td>\n",
              "      <td>TDS LANDFILL</td>\n",
              "    </tr>\n",
              "  </tbody>\n",
              "</table>\n",
              "<p>25712 rows × 5 columns</p>\n",
              "</div>\n",
              "      <button class=\"colab-df-convert\" onclick=\"convertToInteractive('df-6dee08d8-385d-40c4-8877-3c0848749654')\"\n",
              "              title=\"Convert this dataframe to an interactive table.\"\n",
              "              style=\"display:none;\">\n",
              "        \n",
              "  <svg xmlns=\"http://www.w3.org/2000/svg\" height=\"24px\"viewBox=\"0 0 24 24\"\n",
              "       width=\"24px\">\n",
              "    <path d=\"M0 0h24v24H0V0z\" fill=\"none\"/>\n",
              "    <path d=\"M18.56 5.44l.94 2.06.94-2.06 2.06-.94-2.06-.94-.94-2.06-.94 2.06-2.06.94zm-11 1L8.5 8.5l.94-2.06 2.06-.94-2.06-.94L8.5 2.5l-.94 2.06-2.06.94zm10 10l.94 2.06.94-2.06 2.06-.94-2.06-.94-.94-2.06-.94 2.06-2.06.94z\"/><path d=\"M17.41 7.96l-1.37-1.37c-.4-.4-.92-.59-1.43-.59-.52 0-1.04.2-1.43.59L10.3 9.45l-7.72 7.72c-.78.78-.78 2.05 0 2.83L4 21.41c.39.39.9.59 1.41.59.51 0 1.02-.2 1.41-.59l7.78-7.78 2.81-2.81c.8-.78.8-2.07 0-2.86zM5.41 20L4 18.59l7.72-7.72 1.47 1.35L5.41 20z\"/>\n",
              "  </svg>\n",
              "      </button>\n",
              "      \n",
              "  <style>\n",
              "    .colab-df-container {\n",
              "      display:flex;\n",
              "      flex-wrap:wrap;\n",
              "      gap: 12px;\n",
              "    }\n",
              "\n",
              "    .colab-df-convert {\n",
              "      background-color: #E8F0FE;\n",
              "      border: none;\n",
              "      border-radius: 50%;\n",
              "      cursor: pointer;\n",
              "      display: none;\n",
              "      fill: #1967D2;\n",
              "      height: 32px;\n",
              "      padding: 0 0 0 0;\n",
              "      width: 32px;\n",
              "    }\n",
              "\n",
              "    .colab-df-convert:hover {\n",
              "      background-color: #E2EBFA;\n",
              "      box-shadow: 0px 1px 2px rgba(60, 64, 67, 0.3), 0px 1px 3px 1px rgba(60, 64, 67, 0.15);\n",
              "      fill: #174EA6;\n",
              "    }\n",
              "\n",
              "    [theme=dark] .colab-df-convert {\n",
              "      background-color: #3B4455;\n",
              "      fill: #D2E3FC;\n",
              "    }\n",
              "\n",
              "    [theme=dark] .colab-df-convert:hover {\n",
              "      background-color: #434B5C;\n",
              "      box-shadow: 0px 1px 3px 1px rgba(0, 0, 0, 0.15);\n",
              "      filter: drop-shadow(0px 1px 2px rgba(0, 0, 0, 0.3));\n",
              "      fill: #FFFFFF;\n",
              "    }\n",
              "  </style>\n",
              "\n",
              "      <script>\n",
              "        const buttonEl =\n",
              "          document.querySelector('#df-6dee08d8-385d-40c4-8877-3c0848749654 button.colab-df-convert');\n",
              "        buttonEl.style.display =\n",
              "          google.colab.kernel.accessAllowed ? 'block' : 'none';\n",
              "\n",
              "        async function convertToInteractive(key) {\n",
              "          const element = document.querySelector('#df-6dee08d8-385d-40c4-8877-3c0848749654');\n",
              "          const dataTable =\n",
              "            await google.colab.kernel.invokeFunction('convertToInteractive',\n",
              "                                                     [key], {});\n",
              "          if (!dataTable) return;\n",
              "\n",
              "          const docLinkHtml = 'Like what you see? Visit the ' +\n",
              "            '<a target=\"_blank\" href=https://colab.research.google.com/notebooks/data_table.ipynb>data table notebook</a>'\n",
              "            + ' to learn more about interactive tables.';\n",
              "          element.innerHTML = '';\n",
              "          dataTable['output_type'] = 'display_data';\n",
              "          await google.colab.output.renderOutput(dataTable, element);\n",
              "          const docLink = document.createElement('div');\n",
              "          docLink.innerHTML = docLinkHtml;\n",
              "          element.appendChild(docLink);\n",
              "        }\n",
              "      </script>\n",
              "    </div>\n",
              "  </div>\n",
              "  "
            ]
          },
          "metadata": {},
          "execution_count": 20
        }
      ]
    },
    {
      "cell_type": "markdown",
      "source": [
        "**4.2. Skewness**\n",
        "\n",
        "Skewnesss refers to a distortion or asymmetry that deviates from the symmetrical bell curve, or normal distribution, in a set of data. The skeweness based on data can be categorized as `right skewed`, which means the dataset skew more than 50% (or >0.5). This is important to take note that the data cleaning for empty or null values should be subtituted by **median** instead of mean, especially after seeing the result of skewness is **right skewed**."
      ],
      "metadata": {
        "id": "2sBopenn551Q"
      }
    },
    {
      "cell_type": "code",
      "source": [
        "# Creating a function to print the skewness\n",
        "def print_skewness(data):\n",
        "    print(f'\\'{data.name}\\' skewness: {data.skew()}')\n",
        "    # print(f'\\'{data.name}\\'kurtosis: {data.kurt()}')\n",
        "    if data.skew() > 0.5:\n",
        "        print ('Right skewed')\n",
        "    elif data.skew() < -0.5:\n",
        "        print( 'Left Skewed')\n",
        "    else:\n",
        "        print(\"Normal Distribution\")\n"
      ],
      "metadata": {
        "id": "0biFakwcs3Su"
      },
      "execution_count": 21,
      "outputs": []
    },
    {
      "cell_type": "code",
      "source": [
        "# Creating a function to visualize the data\n",
        "def visualize_data(data):\n",
        "    print_skewness(data)\n",
        "    plt.hist(data, bins=150, rwidth=1, density=True)\n",
        "    plt.xlabel(f'{data.name}')\n",
        "    plt.ylabel('Probability Density')\n",
        "    rng = np.arange(data.min(), data.max(), 0.1)\n",
        "    plt.plot(rng, norm.pdf(rng,data.mean(),data.std()))\n",
        "\n",
        "    # label the plot\n",
        "    plt.legend(['Normal PDF(Probability Density Function) ', 'Histogram: Load Weight'])\n",
        "    plt.axvline(data.mean(), color='magenta', linestyle='dashed', linewidth=2)\n",
        "    plt.axvline(data.median(), color='green', linestyle='dashed', linewidth=2)\n",
        "    plt.axvline(data.mode()[0], color='red', linestyle='dashed', linewidth=2)\n",
        "    plt.show()"
      ],
      "metadata": {
        "id": "HhznPPsXti9A"
      },
      "execution_count": 22,
      "outputs": []
    },
    {
      "cell_type": "code",
      "source": [
        "# Visualizing skewed data\n",
        "visualize_data(df.load_weight)"
      ],
      "metadata": {
        "colab": {
          "base_uri": "https://localhost:8080/",
          "height": 0
        },
        "id": "Y47bm55YtzuK",
        "outputId": "ba21df56-0d4b-44be-b715-6fe324a49da8"
      },
      "execution_count": 23,
      "outputs": [
        {
          "output_type": "stream",
          "name": "stdout",
          "text": [
            "'load_weight' skewness: 3.3872609016486726\n",
            "Right skewed\n"
          ]
        },
        {
          "output_type": "display_data",
          "data": {
            "text/plain": [
              "<Figure size 1440x720 with 1 Axes>"
            ],
            "image/png": "[encoded data removed]"
          },
          "metadata": {
            "needs_background": "light"
          }
        }
      ]
    },
    {
      "cell_type": "markdown",
      "source": [
        "**4.3. Outliers**\n",
        "\n",
        "Outliers are extreme numbers that can make the dataset less accurate. Because of this extremeness, it should be excluded or removed. Below is a boxplot that shows how extreme the original dataset that still has outliers. Maximum number in the dataset is literally `245440` which is too far from the mean `12206.73` and standard deviation `7049`.\n",
        "\n",
        "Fences are used to illustrate extreme values (outliers) in box plots. The fences are indicated by `upper limit`and `lower limit`. The definitions for the outer and inner fences only represent the maximum value where the whiskers could go, if the data set actually contained those values."
      ],
      "metadata": {
        "id": "Xz8F2cQAXUBT"
      }
    },
    {
      "cell_type": "code",
      "source": [
        "df.describe()"
      ],
      "metadata": {
        "colab": {
          "base_uri": "https://localhost:8080/",
          "height": 0
        },
        "id": "NSyEdU0YDXh1",
        "outputId": "b937c6a5-4aff-46fb-d560-41d4172f4af2"
      },
      "execution_count": 24,
      "outputs": [
        {
          "output_type": "execute_result",
          "data": {
            "text/plain": [
              "         load_weight\n",
              "count   25712.000000\n",
              "mean    12206.729369\n",
              "std      7049.014324\n",
              "min         0.000000\n",
              "25%      7200.000000\n",
              "50%     11300.000000\n",
              "75%     16185.000000\n",
              "max    245540.000000"
            ],
            "text/html": [
              "\n",
              "  <div id=\"df-703be314-fe63-4006-92ee-c59591e99716\">\n",
              "    <div class=\"colab-df-container\">\n",
              "      <div>\n",
              "<style scoped>\n",
              "    .dataframe tbody tr th:only-of-type {\n",
              "        vertical-align: middle;\n",
              "    }\n",
              "\n",
              "    .dataframe tbody tr th {\n",
              "        vertical-align: top;\n",
              "    }\n",
              "\n",
              "    .dataframe thead th {\n",
              "        text-align: right;\n",
              "    }\n",
              "</style>\n",
              "<table border=\"1\" class=\"dataframe\">\n",
              "  <thead>\n",
              "    <tr style=\"text-align: right;\">\n",
              "      <th></th>\n",
              "      <th>load_weight</th>\n",
              "    </tr>\n",
              "  </thead>\n",
              "  <tbody>\n",
              "    <tr>\n",
              "      <th>count</th>\n",
              "      <td>25712.000000</td>\n",
              "    </tr>\n",
              "    <tr>\n",
              "      <th>mean</th>\n",
              "      <td>12206.729369</td>\n",
              "    </tr>\n",
              "    <tr>\n",
              "      <th>std</th>\n",
              "      <td>7049.014324</td>\n",
              "    </tr>\n",
              "    <tr>\n",
              "      <th>min</th>\n",
              "      <td>0.000000</td>\n",
              "    </tr>\n",
              "    <tr>\n",
              "      <th>25%</th>\n",
              "      <td>7200.000000</td>\n",
              "    </tr>\n",
              "    <tr>\n",
              "      <th>50%</th>\n",
              "      <td>11300.000000</td>\n",
              "    </tr>\n",
              "    <tr>\n",
              "      <th>75%</th>\n",
              "      <td>16185.000000</td>\n",
              "    </tr>\n",
              "    <tr>\n",
              "      <th>max</th>\n",
              "      <td>245540.000000</td>\n",
              "    </tr>\n",
              "  </tbody>\n",
              "</table>\n",
              "</div>\n",
              "      <button class=\"colab-df-convert\" onclick=\"convertToInteractive('df-703be314-fe63-4006-92ee-c59591e99716')\"\n",
              "              title=\"Convert this dataframe to an interactive table.\"\n",
              "              style=\"display:none;\">\n",
              "        \n",
              "  <svg xmlns=\"http://www.w3.org/2000/svg\" height=\"24px\"viewBox=\"0 0 24 24\"\n",
              "       width=\"24px\">\n",
              "    <path d=\"M0 0h24v24H0V0z\" fill=\"none\"/>\n",
              "    <path d=\"M18.56 5.44l.94 2.06.94-2.06 2.06-.94-2.06-.94-.94-2.06-.94 2.06-2.06.94zm-11 1L8.5 8.5l.94-2.06 2.06-.94-2.06-.94L8.5 2.5l-.94 2.06-2.06.94zm10 10l.94 2.06.94-2.06 2.06-.94-2.06-.94-.94-2.06-.94 2.06-2.06.94z\"/><path d=\"M17.41 7.96l-1.37-1.37c-.4-.4-.92-.59-1.43-.59-.52 0-1.04.2-1.43.59L10.3 9.45l-7.72 7.72c-.78.78-.78 2.05 0 2.83L4 21.41c.39.39.9.59 1.41.59.51 0 1.02-.2 1.41-.59l7.78-7.78 2.81-2.81c.8-.78.8-2.07 0-2.86zM5.41 20L4 18.59l7.72-7.72 1.47 1.35L5.41 20z\"/>\n",
              "  </svg>\n",
              "      </button>\n",
              "      \n",
              "  <style>\n",
              "    .colab-df-container {\n",
              "      display:flex;\n",
              "      flex-wrap:wrap;\n",
              "      gap: 12px;\n",
              "    }\n",
              "\n",
              "    .colab-df-convert {\n",
              "      background-color: #E8F0FE;\n",
              "      border: none;\n",
              "      border-radius: 50%;\n",
              "      cursor: pointer;\n",
              "      display: none;\n",
              "      fill: #1967D2;\n",
              "      height: 32px;\n",
              "      padding: 0 0 0 0;\n",
              "      width: 32px;\n",
              "    }\n",
              "\n",
              "    .colab-df-convert:hover {\n",
              "      background-color: #E2EBFA;\n",
              "      box-shadow: 0px 1px 2px rgba(60, 64, 67, 0.3), 0px 1px 3px 1px rgba(60, 64, 67, 0.15);\n",
              "      fill: #174EA6;\n",
              "    }\n",
              "\n",
              "    [theme=dark] .colab-df-convert {\n",
              "      background-color: #3B4455;\n",
              "      fill: #D2E3FC;\n",
              "    }\n",
              "\n",
              "    [theme=dark] .colab-df-convert:hover {\n",
              "      background-color: #434B5C;\n",
              "      box-shadow: 0px 1px 3px 1px rgba(0, 0, 0, 0.15);\n",
              "      filter: drop-shadow(0px 1px 2px rgba(0, 0, 0, 0.3));\n",
              "      fill: #FFFFFF;\n",
              "    }\n",
              "  </style>\n",
              "\n",
              "      <script>\n",
              "        const buttonEl =\n",
              "          document.querySelector('#df-703be314-fe63-4006-92ee-c59591e99716 button.colab-df-convert');\n",
              "        buttonEl.style.display =\n",
              "          google.colab.kernel.accessAllowed ? 'block' : 'none';\n",
              "\n",
              "        async function convertToInteractive(key) {\n",
              "          const element = document.querySelector('#df-703be314-fe63-4006-92ee-c59591e99716');\n",
              "          const dataTable =\n",
              "            await google.colab.kernel.invokeFunction('convertToInteractive',\n",
              "                                                     [key], {});\n",
              "          if (!dataTable) return;\n",
              "\n",
              "          const docLinkHtml = 'Like what you see? Visit the ' +\n",
              "            '<a target=\"_blank\" href=https://colab.research.google.com/notebooks/data_table.ipynb>data table notebook</a>'\n",
              "            + ' to learn more about interactive tables.';\n",
              "          element.innerHTML = '';\n",
              "          dataTable['output_type'] = 'display_data';\n",
              "          await google.colab.output.renderOutput(dataTable, element);\n",
              "          const docLink = document.createElement('div');\n",
              "          docLink.innerHTML = docLinkHtml;\n",
              "          element.appendChild(docLink);\n",
              "        }\n",
              "      </script>\n",
              "    </div>\n",
              "  </div>\n",
              "  "
            ]
          },
          "metadata": {},
          "execution_count": 24
        }
      ]
    },
    {
      "cell_type": "code",
      "source": [
        "# Checking outliers, with the maximum extreme value 245440\n",
        "sns.boxplot(x = df['load_weight'])\n",
        "plt.show()"
      ],
      "metadata": {
        "colab": {
          "base_uri": "https://localhost:8080/",
          "height": 0
        },
        "id": "ADDVsNsgniZj",
        "outputId": "9dc10dde-85d7-4f5b-f4b4-844fbc161045"
      },
      "execution_count": 25,
      "outputs": [
        {
          "output_type": "display_data",
          "data": {
            "text/plain": [
              "<Figure size 1440x720 with 1 Axes>"
            ],
            "image/png": "[encoded data removed]"
          },
          "metadata": {
            "needs_background": "light"
          }
        }
      ]
    },
    {
      "cell_type": "markdown",
      "source": [
        "**Handling Outliers:**\\\n",
        "There are three methods for handling outliers:\n",
        "1. Outlier detection and removal using 3 standard deviation\n",
        "2. Outlier detection and removal using Z Score\n",
        "3. Outlier detection and removal using IQR\n",
        "\n",
        "However, in this case, the outlier will be detected and removed by using the first method, which is using 3 standard deviation."
      ],
      "metadata": {
        "id": "hTZY1yLBXNtH"
      }
    },
    {
      "cell_type": "markdown",
      "source": [
        "**Outlier detection and removal using 3 standard deviation**"
      ],
      "metadata": {
        "id": "Y5Dlv5u_jW2E"
      }
    },
    {
      "cell_type": "code",
      "source": [
        "# Outliers detection and removal using 3 standards deviation\n",
        "df['load_weight']"
      ],
      "metadata": {
        "colab": {
          "base_uri": "https://localhost:8080/"
        },
        "id": "xrQMlevHbGIu",
        "outputId": "0b11d3ec-bccf-444f-8a09-2e20468f734d"
      },
      "execution_count": 26,
      "outputs": [
        {
          "output_type": "execute_result",
          "data": {
            "text/plain": [
              "0        11300.0\n",
              "1         1640.0\n",
              "2          940.0\n",
              "3          320.0\n",
              "4          520.0\n",
              "          ...   \n",
              "25707     8240.0\n",
              "25708     4160.0\n",
              "25709     4340.0\n",
              "25710     1900.0\n",
              "25711     3040.0\n",
              "Name: load_weight, Length: 25712, dtype: float64"
            ]
          },
          "metadata": {},
          "execution_count": 26
        }
      ]
    },
    {
      "cell_type": "code",
      "source": [
        "df['load_weight'].var()"
      ],
      "metadata": {
        "colab": {
          "base_uri": "https://localhost:8080/"
        },
        "id": "Z40I4hY-beFW",
        "outputId": "205a1e5f-4e2d-4a8e-c84b-14eb5d6d69cf"
      },
      "execution_count": 27,
      "outputs": [
        {
          "output_type": "execute_result",
          "data": {
            "text/plain": [
              "49688602.94321622"
            ]
          },
          "metadata": {},
          "execution_count": 27
        }
      ]
    },
    {
      "cell_type": "code",
      "source": [
        "df['load_weight'].std()"
      ],
      "metadata": {
        "colab": {
          "base_uri": "https://localhost:8080/"
        },
        "id": "C4z80zhqbUxY",
        "outputId": "fd3fa9d2-7ae8-460f-9e1a-cb9b898e0555"
      },
      "execution_count": 28,
      "outputs": [
        {
          "output_type": "execute_result",
          "data": {
            "text/plain": [
              "7049.01432423117"
            ]
          },
          "metadata": {},
          "execution_count": 28
        }
      ]
    },
    {
      "cell_type": "code",
      "source": [
        "# Calculating Upper Limit Fence\n",
        "upper_limit = df.load_weight.mean() + 3*df.load_weight.std()\n",
        "upper_limit"
      ],
      "metadata": {
        "colab": {
          "base_uri": "https://localhost:8080/"
        },
        "id": "75Yh94WOiixB",
        "outputId": "61604d56-14bc-4c03-8159-2a7255e6ad87"
      },
      "execution_count": 29,
      "outputs": [
        {
          "output_type": "execute_result",
          "data": {
            "text/plain": [
              "33353.772341836324"
            ]
          },
          "metadata": {},
          "execution_count": 29
        }
      ]
    },
    {
      "cell_type": "code",
      "source": [
        "# Calculating Lower Limit Fence\n",
        "lower_limit = df.load_weight.mean() - 3*df.load_weight.std()\n",
        "lower_limit"
      ],
      "metadata": {
        "colab": {
          "base_uri": "https://localhost:8080/"
        },
        "id": "UdPOksO-ipLW",
        "outputId": "a220b087-c607-4452-bd9b-9262d52da870"
      },
      "execution_count": 30,
      "outputs": [
        {
          "output_type": "execute_result",
          "data": {
            "text/plain": [
              "-8940.3136035507"
            ]
          },
          "metadata": {},
          "execution_count": 30
        }
      ]
    },
    {
      "cell_type": "markdown",
      "source": [
        "The table below shows `26 outliers` with some numbers which are not consistent with other values at `load_weight` column. For example, **if these extreme values have numbers more than the upper limit which is `33353.77`, then we can say these extreme values are too far out of the fence upper limit**. These extreme values should be excluded from the dataset because they could have reduced the accuracy of the result in the data analysis."
      ],
      "metadata": {
        "id": "FiUZF3UluWS9"
      }
    },
    {
      "cell_type": "code",
      "source": [
        "# outliers which are outside the 3 std\n",
        "df[(df.load_weight>upper_limit) | (df.load_weight<lower_limit)]"
      ],
      "metadata": {
        "colab": {
          "base_uri": "https://localhost:8080/",
          "height": 0
        },
        "id": "YoO0DT_9i0zW",
        "outputId": "b3367c5a-6163-4081-e03f-edae27bb707d"
      },
      "execution_count": 31,
      "outputs": [
        {
          "output_type": "execute_result",
          "data": {
            "text/plain": [
              "      report_date                load_time            load_type  load_weight  \\\n",
              "824    2021-01-07  2021-01-07 02:45:00 UTC  GARBAGE COLLECTIONS      44980.0   \n",
              "5096   2021-02-09  2021-02-09 01:08:00 UTC  GARBAGE COLLECTIONS     102680.0   \n",
              "5827   2021-02-22  2021-02-22 05:36:00 UTC  GARBAGE COLLECTIONS      33480.0   \n",
              "5836   2021-02-22  2021-02-22 07:39:00 UTC  GARBAGE COLLECTIONS      35900.0   \n",
              "6075   2021-02-23  2021-02-23 01:56:00 UTC  GARBAGE COLLECTIONS      35040.0   \n",
              "6099   2021-02-23  2021-02-23 05:09:00 UTC  GARBAGE COLLECTIONS      33480.0   \n",
              "6259   2021-02-24  2021-02-24 01:45:00 UTC  GARBAGE COLLECTIONS      33820.0   \n",
              "6260   2021-02-24  2021-02-24 03:38:00 UTC  GARBAGE COLLECTIONS      34340.0   \n",
              "6276   2021-02-24  2021-02-24 02:30:00 UTC  GARBAGE COLLECTIONS      34080.0   \n",
              "6520   2021-02-25  2021-02-25 12:58:00 UTC  GARBAGE COLLECTIONS      33560.0   \n",
              "6542   2021-02-25  2021-02-25 01:43:00 UTC  GARBAGE COLLECTIONS      34560.0   \n",
              "6551   2021-02-25  2021-02-25 03:45:00 UTC  GARBAGE COLLECTIONS      35360.0   \n",
              "8553   2021-03-09  2021-03-09 01:30:00 UTC  GARBAGE COLLECTIONS     145160.0   \n",
              "11838  2021-03-29  2021-03-29 05:08:00 UTC  GARBAGE COLLECTIONS      58600.0   \n",
              "17409  2021-05-06  2021-05-06 02:06:00 UTC  GARBAGE COLLECTIONS      33820.0   \n",
              "19354  2021-05-20  2021-05-20 04:15:00 UTC  GARBAGE COLLECTIONS      34160.0   \n",
              "20039  2021-05-26  2021-05-26 11:40:00 UTC  GARBAGE COLLECTIONS      80697.0   \n",
              "20221  2021-05-27  2021-05-27 11:33:00 UTC  GARBAGE COLLECTIONS     245540.0   \n",
              "20271  2021-05-27  2021-05-27 04:19:00 UTC  GARBAGE COLLECTIONS      33800.0   \n",
              "20948  2021-06-02  2021-06-02 05:19:00 UTC  GARBAGE COLLECTIONS      34000.0   \n",
              "21120  2021-06-03  2021-06-03 01:30:00 UTC  GARBAGE COLLECTIONS      35000.0   \n",
              "21537  2021-06-07  2021-06-07 04:00:00 UTC  GARBAGE COLLECTIONS      35680.0   \n",
              "21723  2021-06-08  2021-06-08 03:15:00 UTC  GARBAGE COLLECTIONS      33720.0   \n",
              "21734  2021-06-08  2021-06-08 05:39:00 UTC  GARBAGE COLLECTIONS      33440.0   \n",
              "22511  2021-06-14  2021-06-14 06:30:00 UTC  GARBAGE COLLECTIONS      33840.0   \n",
              "23397  2021-06-21  2021-06-21 01:05:00 UTC  GARBAGE COLLECTIONS     227780.0   \n",
              "\n",
              "       dropoff_site  \n",
              "824    TDS LANDFILL  \n",
              "5096   TDS LANDFILL  \n",
              "5827   TDS LANDFILL  \n",
              "5836   TDS LANDFILL  \n",
              "6075   TDS LANDFILL  \n",
              "6099   TDS LANDFILL  \n",
              "6259   TDS LANDFILL  \n",
              "6260   TDS LANDFILL  \n",
              "6276   TDS LANDFILL  \n",
              "6520   TDS LANDFILL  \n",
              "6542   TDS LANDFILL  \n",
              "6551   TDS LANDFILL  \n",
              "8553   TDS LANDFILL  \n",
              "11838  TDS LANDFILL  \n",
              "17409  TDS LANDFILL  \n",
              "19354  TDS LANDFILL  \n",
              "20039  TDS LANDFILL  \n",
              "20221  TDS LANDFILL  \n",
              "20271  TDS LANDFILL  \n",
              "20948  TDS LANDFILL  \n",
              "21120  TDS LANDFILL  \n",
              "21537  TDS LANDFILL  \n",
              "21723  TDS LANDFILL  \n",
              "21734  TDS LANDFILL  \n",
              "22511  TDS LANDFILL  \n",
              "23397  TDS LANDFILL  "
            ],
            "text/html": [
              "\n",
              "  <div id=\"df-1783cd4e-0902-4ec4-88a0-9c8c8d359638\">\n",
              "    <div class=\"colab-df-container\">\n",
              "      <div>\n",
              "<style scoped>\n",
              "    .dataframe tbody tr th:only-of-type {\n",
              "        vertical-align: middle;\n",
              "    }\n",
              "\n",
              "    .dataframe tbody tr th {\n",
              "        vertical-align: top;\n",
              "    }\n",
              "\n",
              "    .dataframe thead th {\n",
              "        text-align: right;\n",
              "    }\n",
              "</style>\n",
              "<table border=\"1\" class=\"dataframe\">\n",
              "  <thead>\n",
              "    <tr style=\"text-align: right;\">\n",
              "      <th></th>\n",
              "      <th>report_date</th>\n",
              "      <th>load_time</th>\n",
              "      <th>load_type</th>\n",
              "      <th>load_weight</th>\n",
              "      <th>dropoff_site</th>\n",
              "    </tr>\n",
              "  </thead>\n",
              "  <tbody>\n",
              "    <tr>\n",
              "      <th>824</th>\n",
              "      <td>2021-01-07</td>\n",
              "      <td>2021-01-07 02:45:00 UTC</td>\n",
              "      <td>GARBAGE COLLECTIONS</td>\n",
              "      <td>44980.0</td>\n",
              "      <td>TDS LANDFILL</td>\n",
              "    </tr>\n",
              "    <tr>\n",
              "      <th>5096</th>\n",
              "      <td>2021-02-09</td>\n",
              "      <td>2021-02-09 01:08:00 UTC</td>\n",
              "      <td>GARBAGE COLLECTIONS</td>\n",
              "      <td>102680.0</td>\n",
              "      <td>TDS LANDFILL</td>\n",
              "    </tr>\n",
              "    <tr>\n",
              "      <th>5827</th>\n",
              "      <td>2021-02-22</td>\n",
              "      <td>2021-02-22 05:36:00 UTC</td>\n",
              "      <td>GARBAGE COLLECTIONS</td>\n",
              "      <td>33480.0</td>\n",
              "      <td>TDS LANDFILL</td>\n",
              "    </tr>\n",
              "    <tr>\n",
              "      <th>5836</th>\n",
              "      <td>2021-02-22</td>\n",
              "      <td>2021-02-22 07:39:00 UTC</td>\n",
              "      <td>GARBAGE COLLECTIONS</td>\n",
              "      <td>35900.0</td>\n",
              "      <td>TDS LANDFILL</td>\n",
              "    </tr>\n",
              "    <tr>\n",
              "      <th>6075</th>\n",
              "      <td>2021-02-23</td>\n",
              "      <td>2021-02-23 01:56:00 UTC</td>\n",
              "      <td>GARBAGE COLLECTIONS</td>\n",
              "      <td>35040.0</td>\n",
              "      <td>TDS LANDFILL</td>\n",
              "    </tr>\n",
              "    <tr>\n",
              "      <th>6099</th>\n",
              "      <td>2021-02-23</td>\n",
              "      <td>2021-02-23 05:09:00 UTC</td>\n",
              "      <td>GARBAGE COLLECTIONS</td>\n",
              "      <td>33480.0</td>\n",
              "      <td>TDS LANDFILL</td>\n",
              "    </tr>\n",
              "    <tr>\n",
              "      <th>6259</th>\n",
              "      <td>2021-02-24</td>\n",
              "      <td>2021-02-24 01:45:00 UTC</td>\n",
              "      <td>GARBAGE COLLECTIONS</td>\n",
              "      <td>33820.0</td>\n",
              "      <td>TDS LANDFILL</td>\n",
              "    </tr>\n",
              "    <tr>\n",
              "      <th>6260</th>\n",
              "      <td>2021-02-24</td>\n",
              "      <td>2021-02-24 03:38:00 UTC</td>\n",
              "      <td>GARBAGE COLLECTIONS</td>\n",
              "      <td>34340.0</td>\n",
              "      <td>TDS LANDFILL</td>\n",
              "    </tr>\n",
              "    <tr>\n",
              "      <th>6276</th>\n",
              "      <td>2021-02-24</td>\n",
              "      <td>2021-02-24 02:30:00 UTC</td>\n",
              "      <td>GARBAGE COLLECTIONS</td>\n",
              "      <td>34080.0</td>\n",
              "      <td>TDS LANDFILL</td>\n",
              "    </tr>\n",
              "    <tr>\n",
              "      <th>6520</th>\n",
              "      <td>2021-02-25</td>\n",
              "      <td>2021-02-25 12:58:00 UTC</td>\n",
              "      <td>GARBAGE COLLECTIONS</td>\n",
              "      <td>33560.0</td>\n",
              "      <td>TDS LANDFILL</td>\n",
              "    </tr>\n",
              "    <tr>\n",
              "      <th>6542</th>\n",
              "      <td>2021-02-25</td>\n",
              "      <td>2021-02-25 01:43:00 UTC</td>\n",
              "      <td>GARBAGE COLLECTIONS</td>\n",
              "      <td>34560.0</td>\n",
              "      <td>TDS LANDFILL</td>\n",
              "    </tr>\n",
              "    <tr>\n",
              "      <th>6551</th>\n",
              "      <td>2021-02-25</td>\n",
              "      <td>2021-02-25 03:45:00 UTC</td>\n",
              "      <td>GARBAGE COLLECTIONS</td>\n",
              "      <td>35360.0</td>\n",
              "      <td>TDS LANDFILL</td>\n",
              "    </tr>\n",
              "    <tr>\n",
              "      <th>8553</th>\n",
              "      <td>2021-03-09</td>\n",
              "      <td>2021-03-09 01:30:00 UTC</td>\n",
              "      <td>GARBAGE COLLECTIONS</td>\n",
              "      <td>145160.0</td>\n",
              "      <td>TDS LANDFILL</td>\n",
              "    </tr>\n",
              "    <tr>\n",
              "      <th>11838</th>\n",
              "      <td>2021-03-29</td>\n",
              "      <td>2021-03-29 05:08:00 UTC</td>\n",
              "      <td>GARBAGE COLLECTIONS</td>\n",
              "      <td>58600.0</td>\n",
              "      <td>TDS LANDFILL</td>\n",
              "    </tr>\n",
              "    <tr>\n",
              "      <th>17409</th>\n",
              "      <td>2021-05-06</td>\n",
              "      <td>2021-05-06 02:06:00 UTC</td>\n",
              "      <td>GARBAGE COLLECTIONS</td>\n",
              "      <td>33820.0</td>\n",
              "      <td>TDS LANDFILL</td>\n",
              "    </tr>\n",
              "    <tr>\n",
              "      <th>19354</th>\n",
              "      <td>2021-05-20</td>\n",
              "      <td>2021-05-20 04:15:00 UTC</td>\n",
              "      <td>GARBAGE COLLECTIONS</td>\n",
              "      <td>34160.0</td>\n",
              "      <td>TDS LANDFILL</td>\n",
              "    </tr>\n",
              "    <tr>\n",
              "      <th>20039</th>\n",
              "      <td>2021-05-26</td>\n",
              "      <td>2021-05-26 11:40:00 UTC</td>\n",
              "      <td>GARBAGE COLLECTIONS</td>\n",
              "      <td>80697.0</td>\n",
              "      <td>TDS LANDFILL</td>\n",
              "    </tr>\n",
              "    <tr>\n",
              "      <th>20221</th>\n",
              "      <td>2021-05-27</td>\n",
              "      <td>2021-05-27 11:33:00 UTC</td>\n",
              "      <td>GARBAGE COLLECTIONS</td>\n",
              "      <td>245540.0</td>\n",
              "      <td>TDS LANDFILL</td>\n",
              "    </tr>\n",
              "    <tr>\n",
              "      <th>20271</th>\n",
              "      <td>2021-05-27</td>\n",
              "      <td>2021-05-27 04:19:00 UTC</td>\n",
              "      <td>GARBAGE COLLECTIONS</td>\n",
              "      <td>33800.0</td>\n",
              "      <td>TDS LANDFILL</td>\n",
              "    </tr>\n",
              "    <tr>\n",
              "      <th>20948</th>\n",
              "      <td>2021-06-02</td>\n",
              "      <td>2021-06-02 05:19:00 UTC</td>\n",
              "      <td>GARBAGE COLLECTIONS</td>\n",
              "      <td>34000.0</td>\n",
              "      <td>TDS LANDFILL</td>\n",
              "    </tr>\n",
              "    <tr>\n",
              "      <th>21120</th>\n",
              "      <td>2021-06-03</td>\n",
              "      <td>2021-06-03 01:30:00 UTC</td>\n",
              "      <td>GARBAGE COLLECTIONS</td>\n",
              "      <td>35000.0</td>\n",
              "      <td>TDS LANDFILL</td>\n",
              "    </tr>\n",
              "    <tr>\n",
              "      <th>21537</th>\n",
              "      <td>2021-06-07</td>\n",
              "      <td>2021-06-07 04:00:00 UTC</td>\n",
              "      <td>GARBAGE COLLECTIONS</td>\n",
              "      <td>35680.0</td>\n",
              "      <td>TDS LANDFILL</td>\n",
              "    </tr>\n",
              "    <tr>\n",
              "      <th>21723</th>\n",
              "      <td>2021-06-08</td>\n",
              "      <td>2021-06-08 03:15:00 UTC</td>\n",
              "      <td>GARBAGE COLLECTIONS</td>\n",
              "      <td>33720.0</td>\n",
              "      <td>TDS LANDFILL</td>\n",
              "    </tr>\n",
              "    <tr>\n",
              "      <th>21734</th>\n",
              "      <td>2021-06-08</td>\n",
              "      <td>2021-06-08 05:39:00 UTC</td>\n",
              "      <td>GARBAGE COLLECTIONS</td>\n",
              "      <td>33440.0</td>\n",
              "      <td>TDS LANDFILL</td>\n",
              "    </tr>\n",
              "    <tr>\n",
              "      <th>22511</th>\n",
              "      <td>2021-06-14</td>\n",
              "      <td>2021-06-14 06:30:00 UTC</td>\n",
              "      <td>GARBAGE COLLECTIONS</td>\n",
              "      <td>33840.0</td>\n",
              "      <td>TDS LANDFILL</td>\n",
              "    </tr>\n",
              "    <tr>\n",
              "      <th>23397</th>\n",
              "      <td>2021-06-21</td>\n",
              "      <td>2021-06-21 01:05:00 UTC</td>\n",
              "      <td>GARBAGE COLLECTIONS</td>\n",
              "      <td>227780.0</td>\n",
              "      <td>TDS LANDFILL</td>\n",
              "    </tr>\n",
              "  </tbody>\n",
              "</table>\n",
              "</div>\n",
              "      <button class=\"colab-df-convert\" onclick=\"convertToInteractive('df-1783cd4e-0902-4ec4-88a0-9c8c8d359638')\"\n",
              "              title=\"Convert this dataframe to an interactive table.\"\n",
              "              style=\"display:none;\">\n",
              "        \n",
              "  <svg xmlns=\"http://www.w3.org/2000/svg\" height=\"24px\"viewBox=\"0 0 24 24\"\n",
              "       width=\"24px\">\n",
              "    <path d=\"M0 0h24v24H0V0z\" fill=\"none\"/>\n",
              "    <path d=\"M18.56 5.44l.94 2.06.94-2.06 2.06-.94-2.06-.94-.94-2.06-.94 2.06-2.06.94zm-11 1L8.5 8.5l.94-2.06 2.06-.94-2.06-.94L8.5 2.5l-.94 2.06-2.06.94zm10 10l.94 2.06.94-2.06 2.06-.94-2.06-.94-.94-2.06-.94 2.06-2.06.94z\"/><path d=\"M17.41 7.96l-1.37-1.37c-.4-.4-.92-.59-1.43-.59-.52 0-1.04.2-1.43.59L10.3 9.45l-7.72 7.72c-.78.78-.78 2.05 0 2.83L4 21.41c.39.39.9.59 1.41.59.51 0 1.02-.2 1.41-.59l7.78-7.78 2.81-2.81c.8-.78.8-2.07 0-2.86zM5.41 20L4 18.59l7.72-7.72 1.47 1.35L5.41 20z\"/>\n",
              "  </svg>\n",
              "      </button>\n",
              "      \n",
              "  <style>\n",
              "    .colab-df-container {\n",
              "      display:flex;\n",
              "      flex-wrap:wrap;\n",
              "      gap: 12px;\n",
              "    }\n",
              "\n",
              "    .colab-df-convert {\n",
              "      background-color: #E8F0FE;\n",
              "      border: none;\n",
              "      border-radius: 50%;\n",
              "      cursor: pointer;\n",
              "      display: none;\n",
              "      fill: #1967D2;\n",
              "      height: 32px;\n",
              "      padding: 0 0 0 0;\n",
              "      width: 32px;\n",
              "    }\n",
              "\n",
              "    .colab-df-convert:hover {\n",
              "      background-color: #E2EBFA;\n",
              "      box-shadow: 0px 1px 2px rgba(60, 64, 67, 0.3), 0px 1px 3px 1px rgba(60, 64, 67, 0.15);\n",
              "      fill: #174EA6;\n",
              "    }\n",
              "\n",
              "    [theme=dark] .colab-df-convert {\n",
              "      background-color: #3B4455;\n",
              "      fill: #D2E3FC;\n",
              "    }\n",
              "\n",
              "    [theme=dark] .colab-df-convert:hover {\n",
              "      background-color: #434B5C;\n",
              "      box-shadow: 0px 1px 3px 1px rgba(0, 0, 0, 0.15);\n",
              "      filter: drop-shadow(0px 1px 2px rgba(0, 0, 0, 0.3));\n",
              "      fill: #FFFFFF;\n",
              "    }\n",
              "  </style>\n",
              "\n",
              "      <script>\n",
              "        const buttonEl =\n",
              "          document.querySelector('#df-1783cd4e-0902-4ec4-88a0-9c8c8d359638 button.colab-df-convert');\n",
              "        buttonEl.style.display =\n",
              "          google.colab.kernel.accessAllowed ? 'block' : 'none';\n",
              "\n",
              "        async function convertToInteractive(key) {\n",
              "          const element = document.querySelector('#df-1783cd4e-0902-4ec4-88a0-9c8c8d359638');\n",
              "          const dataTable =\n",
              "            await google.colab.kernel.invokeFunction('convertToInteractive',\n",
              "                                                     [key], {});\n",
              "          if (!dataTable) return;\n",
              "\n",
              "          const docLinkHtml = 'Like what you see? Visit the ' +\n",
              "            '<a target=\"_blank\" href=https://colab.research.google.com/notebooks/data_table.ipynb>data table notebook</a>'\n",
              "            + ' to learn more about interactive tables.';\n",
              "          element.innerHTML = '';\n",
              "          dataTable['output_type'] = 'display_data';\n",
              "          await google.colab.output.renderOutput(dataTable, element);\n",
              "          const docLink = document.createElement('div');\n",
              "          docLink.innerHTML = docLinkHtml;\n",
              "          element.appendChild(docLink);\n",
              "        }\n",
              "      </script>\n",
              "    </div>\n",
              "  </div>\n",
              "  "
            ]
          },
          "metadata": {},
          "execution_count": 31
        }
      ]
    },
    {
      "cell_type": "code",
      "source": [
        "# removing outlier and checking its head()\n",
        "df_no_outlier_std_dev = df[(df.load_weight<upper_limit) & (df.load_weight>lower_limit)]\n",
        "df_no_outlier_std_dev"
      ],
      "metadata": {
        "colab": {
          "base_uri": "https://localhost:8080/",
          "height": 0
        },
        "id": "xc4Cv_6Ni-r-",
        "outputId": "87c11d5e-1dae-4099-9863-2c15cf6106f4"
      },
      "execution_count": 32,
      "outputs": [
        {
          "output_type": "execute_result",
          "data": {
            "text/plain": [
              "      report_date                load_time                  load_type  \\\n",
              "0      2021-01-01  2021-01-01 12:00:00 UTC                   SWEEPING   \n",
              "1      2021-01-02  2021-01-02 09:24:00 UTC                      TIRES   \n",
              "2      2021-01-02  2021-01-02 11:47:00 UTC                      TIRES   \n",
              "3      2021-01-02  2021-01-02 12:00:00 UTC  RECYCLING - SINGLE STREAM   \n",
              "4      2021-01-02  2021-01-02 09:02:00 UTC  RECYCLING - SINGLE STREAM   \n",
              "...           ...                      ...                        ...   \n",
              "25707  2021-07-09  2021-07-09 09:48:00 UTC                      BRUSH   \n",
              "25708  2021-07-09  2021-07-09 12:02:00 UTC                      BRUSH   \n",
              "25709  2021-07-09  2021-07-09 11:55:00 UTC                      BRUSH   \n",
              "25710  2021-07-09  2021-07-09 12:00:00 UTC                     LITTER   \n",
              "25711  2021-07-09  2021-07-09 12:00:00 UTC                     LITTER   \n",
              "\n",
              "       load_weight  dropoff_site  \n",
              "0          11300.0   ONION CREEK  \n",
              "1           1640.0           MRF  \n",
              "2            940.0           MRF  \n",
              "3            320.0     TDS - MRF  \n",
              "4            520.0     TDS - MRF  \n",
              "...            ...           ...  \n",
              "25707       8240.0  HORNSBY BEND  \n",
              "25708       4160.0  HORNSBY BEND  \n",
              "25709       4340.0  HORNSBY BEND  \n",
              "25710       1900.0  TDS LANDFILL  \n",
              "25711       3040.0  TDS LANDFILL  \n",
              "\n",
              "[25686 rows x 5 columns]"
            ],
            "text/html": [
              "\n",
              "  <div id=\"df-a080242a-fe65-410e-8b98-f2652d72f92d\">\n",
              "    <div class=\"colab-df-container\">\n",
              "      <div>\n",
              "<style scoped>\n",
              "    .dataframe tbody tr th:only-of-type {\n",
              "        vertical-align: middle;\n",
              "    }\n",
              "\n",
              "    .dataframe tbody tr th {\n",
              "        vertical-align: top;\n",
              "    }\n",
              "\n",
              "    .dataframe thead th {\n",
              "        text-align: right;\n",
              "    }\n",
              "</style>\n",
              "<table border=\"1\" class=\"dataframe\">\n",
              "  <thead>\n",
              "    <tr style=\"text-align: right;\">\n",
              "      <th></th>\n",
              "      <th>report_date</th>\n",
              "      <th>load_time</th>\n",
              "      <th>load_type</th>\n",
              "      <th>load_weight</th>\n",
              "      <th>dropoff_site</th>\n",
              "    </tr>\n",
              "  </thead>\n",
              "  <tbody>\n",
              "    <tr>\n",
              "      <th>0</th>\n",
              "      <td>2021-01-01</td>\n",
              "      <td>2021-01-01 12:00:00 UTC</td>\n",
              "      <td>SWEEPING</td>\n",
              "      <td>11300.0</td>\n",
              "      <td>ONION CREEK</td>\n",
              "    </tr>\n",
              "    <tr>\n",
              "      <th>1</th>\n",
              "      <td>2021-01-02</td>\n",
              "      <td>2021-01-02 09:24:00 UTC</td>\n",
              "      <td>TIRES</td>\n",
              "      <td>1640.0</td>\n",
              "      <td>MRF</td>\n",
              "    </tr>\n",
              "    <tr>\n",
              "      <th>2</th>\n",
              "      <td>2021-01-02</td>\n",
              "      <td>2021-01-02 11:47:00 UTC</td>\n",
              "      <td>TIRES</td>\n",
              "      <td>940.0</td>\n",
              "      <td>MRF</td>\n",
              "    </tr>\n",
              "    <tr>\n",
              "      <th>3</th>\n",
              "      <td>2021-01-02</td>\n",
              "      <td>2021-01-02 12:00:00 UTC</td>\n",
              "      <td>RECYCLING - SINGLE STREAM</td>\n",
              "      <td>320.0</td>\n",
              "      <td>TDS - MRF</td>\n",
              "    </tr>\n",
              "    <tr>\n",
              "      <th>4</th>\n",
              "      <td>2021-01-02</td>\n",
              "      <td>2021-01-02 09:02:00 UTC</td>\n",
              "      <td>RECYCLING - SINGLE STREAM</td>\n",
              "      <td>520.0</td>\n",
              "      <td>TDS - MRF</td>\n",
              "    </tr>\n",
              "    <tr>\n",
              "      <th>...</th>\n",
              "      <td>...</td>\n",
              "      <td>...</td>\n",
              "      <td>...</td>\n",
              "      <td>...</td>\n",
              "      <td>...</td>\n",
              "    </tr>\n",
              "    <tr>\n",
              "      <th>25707</th>\n",
              "      <td>2021-07-09</td>\n",
              "      <td>2021-07-09 09:48:00 UTC</td>\n",
              "      <td>BRUSH</td>\n",
              "      <td>8240.0</td>\n",
              "      <td>HORNSBY BEND</td>\n",
              "    </tr>\n",
              "    <tr>\n",
              "      <th>25708</th>\n",
              "      <td>2021-07-09</td>\n",
              "      <td>2021-07-09 12:02:00 UTC</td>\n",
              "      <td>BRUSH</td>\n",
              "      <td>4160.0</td>\n",
              "      <td>HORNSBY BEND</td>\n",
              "    </tr>\n",
              "    <tr>\n",
              "      <th>25709</th>\n",
              "      <td>2021-07-09</td>\n",
              "      <td>2021-07-09 11:55:00 UTC</td>\n",
              "      <td>BRUSH</td>\n",
              "      <td>4340.0</td>\n",
              "      <td>HORNSBY BEND</td>\n",
              "    </tr>\n",
              "    <tr>\n",
              "      <th>25710</th>\n",
              "      <td>2021-07-09</td>\n",
              "      <td>2021-07-09 12:00:00 UTC</td>\n",
              "      <td>LITTER</td>\n",
              "      <td>1900.0</td>\n",
              "      <td>TDS LANDFILL</td>\n",
              "    </tr>\n",
              "    <tr>\n",
              "      <th>25711</th>\n",
              "      <td>2021-07-09</td>\n",
              "      <td>2021-07-09 12:00:00 UTC</td>\n",
              "      <td>LITTER</td>\n",
              "      <td>3040.0</td>\n",
              "      <td>TDS LANDFILL</td>\n",
              "    </tr>\n",
              "  </tbody>\n",
              "</table>\n",
              "<p>25686 rows × 5 columns</p>\n",
              "</div>\n",
              "      <button class=\"colab-df-convert\" onclick=\"convertToInteractive('df-a080242a-fe65-410e-8b98-f2652d72f92d')\"\n",
              "              title=\"Convert this dataframe to an interactive table.\"\n",
              "              style=\"display:none;\">\n",
              "        \n",
              "  <svg xmlns=\"http://www.w3.org/2000/svg\" height=\"24px\"viewBox=\"0 0 24 24\"\n",
              "       width=\"24px\">\n",
              "    <path d=\"M0 0h24v24H0V0z\" fill=\"none\"/>\n",
              "    <path d=\"M18.56 5.44l.94 2.06.94-2.06 2.06-.94-2.06-.94-.94-2.06-.94 2.06-2.06.94zm-11 1L8.5 8.5l.94-2.06 2.06-.94-2.06-.94L8.5 2.5l-.94 2.06-2.06.94zm10 10l.94 2.06.94-2.06 2.06-.94-2.06-.94-.94-2.06-.94 2.06-2.06.94z\"/><path d=\"M17.41 7.96l-1.37-1.37c-.4-.4-.92-.59-1.43-.59-.52 0-1.04.2-1.43.59L10.3 9.45l-7.72 7.72c-.78.78-.78 2.05 0 2.83L4 21.41c.39.39.9.59 1.41.59.51 0 1.02-.2 1.41-.59l7.78-7.78 2.81-2.81c.8-.78.8-2.07 0-2.86zM5.41 20L4 18.59l7.72-7.72 1.47 1.35L5.41 20z\"/>\n",
              "  </svg>\n",
              "      </button>\n",
              "      \n",
              "  <style>\n",
              "    .colab-df-container {\n",
              "      display:flex;\n",
              "      flex-wrap:wrap;\n",
              "      gap: 12px;\n",
              "    }\n",
              "\n",
              "    .colab-df-convert {\n",
              "      background-color: #E8F0FE;\n",
              "      border: none;\n",
              "      border-radius: 50%;\n",
              "      cursor: pointer;\n",
              "      display: none;\n",
              "      fill: #1967D2;\n",
              "      height: 32px;\n",
              "      padding: 0 0 0 0;\n",
              "      width: 32px;\n",
              "    }\n",
              "\n",
              "    .colab-df-convert:hover {\n",
              "      background-color: #E2EBFA;\n",
              "      box-shadow: 0px 1px 2px rgba(60, 64, 67, 0.3), 0px 1px 3px 1px rgba(60, 64, 67, 0.15);\n",
              "      fill: #174EA6;\n",
              "    }\n",
              "\n",
              "    [theme=dark] .colab-df-convert {\n",
              "      background-color: #3B4455;\n",
              "      fill: #D2E3FC;\n",
              "    }\n",
              "\n",
              "    [theme=dark] .colab-df-convert:hover {\n",
              "      background-color: #434B5C;\n",
              "      box-shadow: 0px 1px 3px 1px rgba(0, 0, 0, 0.15);\n",
              "      filter: drop-shadow(0px 1px 2px rgba(0, 0, 0, 0.3));\n",
              "      fill: #FFFFFF;\n",
              "    }\n",
              "  </style>\n",
              "\n",
              "      <script>\n",
              "        const buttonEl =\n",
              "          document.querySelector('#df-a080242a-fe65-410e-8b98-f2652d72f92d button.colab-df-convert');\n",
              "        buttonEl.style.display =\n",
              "          google.colab.kernel.accessAllowed ? 'block' : 'none';\n",
              "\n",
              "        async function convertToInteractive(key) {\n",
              "          const element = document.querySelector('#df-a080242a-fe65-410e-8b98-f2652d72f92d');\n",
              "          const dataTable =\n",
              "            await google.colab.kernel.invokeFunction('convertToInteractive',\n",
              "                                                     [key], {});\n",
              "          if (!dataTable) return;\n",
              "\n",
              "          const docLinkHtml = 'Like what you see? Visit the ' +\n",
              "            '<a target=\"_blank\" href=https://colab.research.google.com/notebooks/data_table.ipynb>data table notebook</a>'\n",
              "            + ' to learn more about interactive tables.';\n",
              "          element.innerHTML = '';\n",
              "          dataTable['output_type'] = 'display_data';\n",
              "          await google.colab.output.renderOutput(dataTable, element);\n",
              "          const docLink = document.createElement('div');\n",
              "          docLink.innerHTML = docLinkHtml;\n",
              "          element.appendChild(docLink);\n",
              "        }\n",
              "      </script>\n",
              "    </div>\n",
              "  </div>\n",
              "  "
            ]
          },
          "metadata": {},
          "execution_count": 32
        }
      ]
    },
    {
      "cell_type": "markdown",
      "source": [
        "**To make sure this outliers removal is working**, we should check on the number of rows and columns of dataframe without outliers and with outliers. The difference total should be `26` which is the same as the list of table of outliers."
      ],
      "metadata": {
        "id": "r9tJK8AgxbtP"
      }
    },
    {
      "cell_type": "code",
      "source": [
        "# Chekcing df after removing outliers\n",
        "df_no_outlier_std_dev.shape"
      ],
      "metadata": {
        "colab": {
          "base_uri": "https://localhost:8080/"
        },
        "id": "DTk2ZuqljNnt",
        "outputId": "7159c6f7-3159-4dfc-9734-eb924ff84bda"
      },
      "execution_count": 33,
      "outputs": [
        {
          "output_type": "execute_result",
          "data": {
            "text/plain": [
              "(25686, 5)"
            ]
          },
          "metadata": {},
          "execution_count": 33
        }
      ]
    },
    {
      "cell_type": "code",
      "source": [
        "# Comparing df after removing outliers with the original dataframe\n",
        "df.shape"
      ],
      "metadata": {
        "colab": {
          "base_uri": "https://localhost:8080/"
        },
        "id": "X7bSXgpNjNlV",
        "outputId": "fce19cf4-37e6-4319-93a6-1f2e6a5bf45c"
      },
      "execution_count": 34,
      "outputs": [
        {
          "output_type": "execute_result",
          "data": {
            "text/plain": [
              "(25712, 5)"
            ]
          },
          "metadata": {},
          "execution_count": 34
        }
      ]
    },
    {
      "cell_type": "code",
      "source": [
        "# The rows difference between original dataset and dataset after outliers removal is 26:\n",
        "25712-25686"
      ],
      "metadata": {
        "colab": {
          "base_uri": "https://localhost:8080/"
        },
        "id": "3khR6NPssNPm",
        "outputId": "fe2c8e5a-ae02-452f-a29c-d065c4b4561e"
      },
      "execution_count": 35,
      "outputs": [
        {
          "output_type": "execute_result",
          "data": {
            "text/plain": [
              "26"
            ]
          },
          "metadata": {},
          "execution_count": 35
        }
      ]
    },
    {
      "cell_type": "code",
      "source": [
        "# Checking outliers at boxplot below\n",
        "sns.boxplot(x = df_no_outlier_std_dev['load_weight'])\n",
        "plt.show()"
      ],
      "metadata": {
        "colab": {
          "base_uri": "https://localhost:8080/",
          "height": 0
        },
        "id": "amXq-uMJl8X3",
        "outputId": "13b7cb0e-d21d-4a14-cc11-a8314aa87d5f"
      },
      "execution_count": 36,
      "outputs": [
        {
          "output_type": "display_data",
          "data": {
            "text/plain": [
              "<Figure size 1440x720 with 1 Axes>"
            ],
            "image/png": "[encoded data removed]"
          },
          "metadata": {
            "needs_background": "light"
          }
        }
      ]
    },
    {
      "cell_type": "code",
      "source": [
        "# Renaming long dataframe name with the short one, and checking the central tendency\n",
        "df_austin = df_no_outlier_std_dev\n",
        "df_austin.describe()"
      ],
      "metadata": {
        "colab": {
          "base_uri": "https://localhost:8080/",
          "height": 0
        },
        "id": "kExuCZuOJQrA",
        "outputId": "80435d45-f95b-4471-a5b5-ec1f059586a8"
      },
      "execution_count": 37,
      "outputs": [
        {
          "output_type": "execute_result",
          "data": {
            "text/plain": [
              "        load_weight\n",
              "count  25686.000000\n",
              "mean   12158.487446\n",
              "std     6643.193203\n",
              "min        0.000000\n",
              "25%     7200.000000\n",
              "50%    11300.000000\n",
              "75%    16160.000000\n",
              "max    33340.000000"
            ],
            "text/html": [
              "\n",
              "  <div id=\"df-22ce79ad-de64-4444-9762-08e433f05db5\">\n",
              "    <div class=\"colab-df-container\">\n",
              "      <div>\n",
              "<style scoped>\n",
              "    .dataframe tbody tr th:only-of-type {\n",
              "        vertical-align: middle;\n",
              "    }\n",
              "\n",
              "    .dataframe tbody tr th {\n",
              "        vertical-align: top;\n",
              "    }\n",
              "\n",
              "    .dataframe thead th {\n",
              "        text-align: right;\n",
              "    }\n",
              "</style>\n",
              "<table border=\"1\" class=\"dataframe\">\n",
              "  <thead>\n",
              "    <tr style=\"text-align: right;\">\n",
              "      <th></th>\n",
              "      <th>load_weight</th>\n",
              "    </tr>\n",
              "  </thead>\n",
              "  <tbody>\n",
              "    <tr>\n",
              "      <th>count</th>\n",
              "      <td>25686.000000</td>\n",
              "    </tr>\n",
              "    <tr>\n",
              "      <th>mean</th>\n",
              "      <td>12158.487446</td>\n",
              "    </tr>\n",
              "    <tr>\n",
              "      <th>std</th>\n",
              "      <td>6643.193203</td>\n",
              "    </tr>\n",
              "    <tr>\n",
              "      <th>min</th>\n",
              "      <td>0.000000</td>\n",
              "    </tr>\n",
              "    <tr>\n",
              "      <th>25%</th>\n",
              "      <td>7200.000000</td>\n",
              "    </tr>\n",
              "    <tr>\n",
              "      <th>50%</th>\n",
              "      <td>11300.000000</td>\n",
              "    </tr>\n",
              "    <tr>\n",
              "      <th>75%</th>\n",
              "      <td>16160.000000</td>\n",
              "    </tr>\n",
              "    <tr>\n",
              "      <th>max</th>\n",
              "      <td>33340.000000</td>\n",
              "    </tr>\n",
              "  </tbody>\n",
              "</table>\n",
              "</div>\n",
              "      <button class=\"colab-df-convert\" onclick=\"convertToInteractive('df-22ce79ad-de64-4444-9762-08e433f05db5')\"\n",
              "              title=\"Convert this dataframe to an interactive table.\"\n",
              "              style=\"display:none;\">\n",
              "        \n",
              "  <svg xmlns=\"http://www.w3.org/2000/svg\" height=\"24px\"viewBox=\"0 0 24 24\"\n",
              "       width=\"24px\">\n",
              "    <path d=\"M0 0h24v24H0V0z\" fill=\"none\"/>\n",
              "    <path d=\"M18.56 5.44l.94 2.06.94-2.06 2.06-.94-2.06-.94-.94-2.06-.94 2.06-2.06.94zm-11 1L8.5 8.5l.94-2.06 2.06-.94-2.06-.94L8.5 2.5l-.94 2.06-2.06.94zm10 10l.94 2.06.94-2.06 2.06-.94-2.06-.94-.94-2.06-.94 2.06-2.06.94z\"/><path d=\"M17.41 7.96l-1.37-1.37c-.4-.4-.92-.59-1.43-.59-.52 0-1.04.2-1.43.59L10.3 9.45l-7.72 7.72c-.78.78-.78 2.05 0 2.83L4 21.41c.39.39.9.59 1.41.59.51 0 1.02-.2 1.41-.59l7.78-7.78 2.81-2.81c.8-.78.8-2.07 0-2.86zM5.41 20L4 18.59l7.72-7.72 1.47 1.35L5.41 20z\"/>\n",
              "  </svg>\n",
              "      </button>\n",
              "      \n",
              "  <style>\n",
              "    .colab-df-container {\n",
              "      display:flex;\n",
              "      flex-wrap:wrap;\n",
              "      gap: 12px;\n",
              "    }\n",
              "\n",
              "    .colab-df-convert {\n",
              "      background-color: #E8F0FE;\n",
              "      border: none;\n",
              "      border-radius: 50%;\n",
              "      cursor: pointer;\n",
              "      display: none;\n",
              "      fill: #1967D2;\n",
              "      height: 32px;\n",
              "      padding: 0 0 0 0;\n",
              "      width: 32px;\n",
              "    }\n",
              "\n",
              "    .colab-df-convert:hover {\n",
              "      background-color: #E2EBFA;\n",
              "      box-shadow: 0px 1px 2px rgba(60, 64, 67, 0.3), 0px 1px 3px 1px rgba(60, 64, 67, 0.15);\n",
              "      fill: #174EA6;\n",
              "    }\n",
              "\n",
              "    [theme=dark] .colab-df-convert {\n",
              "      background-color: #3B4455;\n",
              "      fill: #D2E3FC;\n",
              "    }\n",
              "\n",
              "    [theme=dark] .colab-df-convert:hover {\n",
              "      background-color: #434B5C;\n",
              "      box-shadow: 0px 1px 3px 1px rgba(0, 0, 0, 0.15);\n",
              "      filter: drop-shadow(0px 1px 2px rgba(0, 0, 0, 0.3));\n",
              "      fill: #FFFFFF;\n",
              "    }\n",
              "  </style>\n",
              "\n",
              "      <script>\n",
              "        const buttonEl =\n",
              "          document.querySelector('#df-22ce79ad-de64-4444-9762-08e433f05db5 button.colab-df-convert');\n",
              "        buttonEl.style.display =\n",
              "          google.colab.kernel.accessAllowed ? 'block' : 'none';\n",
              "\n",
              "        async function convertToInteractive(key) {\n",
              "          const element = document.querySelector('#df-22ce79ad-de64-4444-9762-08e433f05db5');\n",
              "          const dataTable =\n",
              "            await google.colab.kernel.invokeFunction('convertToInteractive',\n",
              "                                                     [key], {});\n",
              "          if (!dataTable) return;\n",
              "\n",
              "          const docLinkHtml = 'Like what you see? Visit the ' +\n",
              "            '<a target=\"_blank\" href=https://colab.research.google.com/notebooks/data_table.ipynb>data table notebook</a>'\n",
              "            + ' to learn more about interactive tables.';\n",
              "          element.innerHTML = '';\n",
              "          dataTable['output_type'] = 'display_data';\n",
              "          await google.colab.output.renderOutput(dataTable, element);\n",
              "          const docLink = document.createElement('div');\n",
              "          docLink.innerHTML = docLinkHtml;\n",
              "          element.appendChild(docLink);\n",
              "        }\n",
              "      </script>\n",
              "    </div>\n",
              "  </div>\n",
              "  "
            ]
          },
          "metadata": {},
          "execution_count": 37
        }
      ]
    },
    {
      "cell_type": "markdown",
      "source": [
        "These outliers are removed and we get this boxplot and see the difference that there is no value with a huge number such as `245540` from `TDS LANDFILL`. We can even see the new maximum result of the dataset is `33340`. However, we must remember that the average of load_weight after the outliers removal is changed, so is standard deviation.\n",
        "\n",
        "- Average before outliers removal: `12206.72`\n",
        "- Average after outliers removal: `12158.49`\n",
        "- Standard deviation before outliers removal: `7049.01`\n",
        "- Standard deviation after outliers removal: `6642.19`\n",
        "\n",
        "**From here, the dataset should be fine to be proceed to the data analysis.**"
      ],
      "metadata": {
        "id": "313DqsnbFRTa"
      }
    },
    {
      "cell_type": "markdown",
      "metadata": {
        "id": "O5B_a7MZjCy1"
      },
      "source": [
        "---\n",
        "## **5. Data Analysis**\n",
        "\n",
        "For the context of analysis, the data will be categorized daily and monthly to see the central tendency of waste system, and to analyze if the current system should be on going or changed.\n",
        "- January 2021\n",
        "- February 2021\n",
        "- March 2021\n",
        "- April 2021\n",
        "- May 2021\n",
        "- June 2021 - July 9th, 2021"
      ]
    },
    {
      "cell_type": "markdown",
      "source": [
        "**5.1. Central Tendency for analysis**"
      ],
      "metadata": {
        "id": "Ny_wWvSJPe7V"
      }
    },
    {
      "cell_type": "code",
      "source": [
        "# Finding mean after outliers and missing value from dataset are cleaned\n",
        "mean_austin = df_austin['load_weight'].mean()\n",
        "mean_austin"
      ],
      "metadata": {
        "colab": {
          "base_uri": "https://localhost:8080/"
        },
        "id": "jaB9bzDQ9Wwf",
        "outputId": "2885984e-3a46-4c43-bd83-7b9003da2537"
      },
      "execution_count": 38,
      "outputs": [
        {
          "output_type": "execute_result",
          "data": {
            "text/plain": [
              "12158.487446056217"
            ]
          },
          "metadata": {},
          "execution_count": 38
        }
      ]
    },
    {
      "cell_type": "markdown",
      "source": [
        "*a) Average load weight in January 2021*"
      ],
      "metadata": {
        "id": "-xdLAdSCzoiT"
      }
    },
    {
      "cell_type": "code",
      "source": [
        "# Mean in January 2022\n",
        "df_jan = df_austin[(df_austin['report_date'] >= '2021-01-01') & (df_austin['report_date'] <= '2021-01-31')]\n",
        "mean_jan = df_jan['load_weight'].mean()\n",
        "mean_jan"
      ],
      "metadata": {
        "id": "mFKr9N-xznNu",
        "colab": {
          "base_uri": "https://localhost:8080/"
        },
        "outputId": "bcca3669-5502-4fc4-e9b8-9b2b066a6ffd"
      },
      "execution_count": 39,
      "outputs": [
        {
          "output_type": "execute_result",
          "data": {
            "text/plain": [
              "12116.917701863355"
            ]
          },
          "metadata": {},
          "execution_count": 39
        }
      ]
    },
    {
      "cell_type": "code",
      "source": [
        "df_mean_jan = df_jan.groupby('dropoff_site', as_index=False).load_weight.mean()\n",
        "df_mean_jan.sort_index()\n",
        "df_mean_jan = df_mean_jan.set_index(\"dropoff_site\")"
      ],
      "metadata": {
        "id": "FqDu16Hs0z_i"
      },
      "execution_count": 40,
      "outputs": []
    },
    {
      "cell_type": "markdown",
      "source": [
        "*b) Average load weight in February 2021*"
      ],
      "metadata": {
        "id": "7O9OegrC7b48"
      }
    },
    {
      "cell_type": "code",
      "source": [
        "# Mean in February 2022\n",
        "df_feb = df_austin[(df_austin['report_date'] >= '2021-02-01') & (df_austin['report_date'] <= '2021-02-28')]\n",
        "mean_feb = df_feb['load_weight'].mean()\n",
        "mean_feb"
      ],
      "metadata": {
        "id": "7RWSejvX7XZ9",
        "colab": {
          "base_uri": "https://localhost:8080/"
        },
        "outputId": "c06945a4-8eea-4c99-e70e-b60bcc70e1fe"
      },
      "execution_count": 41,
      "outputs": [
        {
          "output_type": "execute_result",
          "data": {
            "text/plain": [
              "12222.65180878553"
            ]
          },
          "metadata": {},
          "execution_count": 41
        }
      ]
    },
    {
      "cell_type": "code",
      "source": [
        "df_mean_feb = df_feb.groupby('dropoff_site', as_index=False).load_weight.mean()\n",
        "df_mean_feb.sort_index()\n",
        "df_mean_feb = df_mean_feb.set_index(\"dropoff_site\")"
      ],
      "metadata": {
        "id": "tk6vUVGdcXIs"
      },
      "execution_count": 42,
      "outputs": []
    },
    {
      "cell_type": "markdown",
      "source": [
        "*c) Average load weight in March 2021*"
      ],
      "metadata": {
        "id": "8gpkpopO7uBv"
      }
    },
    {
      "cell_type": "code",
      "source": [
        "# Mean in March 2022\n",
        "df_mar = df_austin[(df_austin['report_date'] >= '2021-03-01') & (df_austin['report_date'] <= '2021-03-31')]\n",
        "mean_mar = df_mar['load_weight'].mean()\n",
        "mean_mar"
      ],
      "metadata": {
        "id": "D-ZECOQO7yKD",
        "colab": {
          "base_uri": "https://localhost:8080/"
        },
        "outputId": "dd25b1a4-ba9b-43f1-f5a4-6bd8b42564e0"
      },
      "execution_count": 43,
      "outputs": [
        {
          "output_type": "execute_result",
          "data": {
            "text/plain": [
              "12032.578645499361"
            ]
          },
          "metadata": {},
          "execution_count": 43
        }
      ]
    },
    {
      "cell_type": "code",
      "source": [
        "df_mean_mar = df_mar.groupby('dropoff_site', as_index=False).load_weight.mean()\n",
        "df_mean_mar.sort_index()\n",
        "df_mean_mar = df_mean_mar.set_index(\"dropoff_site\")"
      ],
      "metadata": {
        "id": "CxIfKnVD76n9"
      },
      "execution_count": 44,
      "outputs": []
    },
    {
      "cell_type": "markdown",
      "source": [
        "*d) Average load weight in April 2021*"
      ],
      "metadata": {
        "id": "9qFyIxyF8PUw"
      }
    },
    {
      "cell_type": "code",
      "source": [
        "# Mean in April 2022\n",
        "df_apr = df_austin[(df_austin['report_date'] >= '2021-04-01') & (df_austin['report_date'] <= '2021-04-30')]\n",
        "mean_apr = df_apr['load_weight'].mean()\n",
        "mean_apr"
      ],
      "metadata": {
        "id": "GUaFDEWl8b3t",
        "colab": {
          "base_uri": "https://localhost:8080/"
        },
        "outputId": "70251959-7ca5-470d-8c3c-6c6234bf93b5"
      },
      "execution_count": 45,
      "outputs": [
        {
          "output_type": "execute_result",
          "data": {
            "text/plain": [
              "11944.942213970759"
            ]
          },
          "metadata": {},
          "execution_count": 45
        }
      ]
    },
    {
      "cell_type": "code",
      "source": [
        "df_mean_apr = df_apr.groupby('dropoff_site', as_index=False).load_weight.mean()\n",
        "df_mean_apr.sort_index()\n",
        "df_mean_apr = df_mean_apr.set_index(\"dropoff_site\")"
      ],
      "metadata": {
        "id": "oqejvefb8iGa"
      },
      "execution_count": 46,
      "outputs": []
    },
    {
      "cell_type": "markdown",
      "source": [
        "*e) Average load weight in May 2021*"
      ],
      "metadata": {
        "id": "EXRAUg-q80ni"
      }
    },
    {
      "cell_type": "code",
      "source": [
        "# Mean in May 2022\n",
        "df_may = df_austin[(df_austin['report_date'] >= '2021-05-01') & (df_austin['report_date'] <= '2021-05-31')]\n",
        "mean_may = df_may['load_weight'].mean()\n",
        "mean_may"
      ],
      "metadata": {
        "id": "SMo0Wq_b851A",
        "colab": {
          "base_uri": "https://localhost:8080/"
        },
        "outputId": "ebb948ad-850f-4530-a4e8-c39b6c78fcd0"
      },
      "execution_count": 47,
      "outputs": [
        {
          "output_type": "execute_result",
          "data": {
            "text/plain": [
              "12401.762957317073"
            ]
          },
          "metadata": {},
          "execution_count": 47
        }
      ]
    },
    {
      "cell_type": "code",
      "source": [
        "df_mean_may = df_may.groupby('dropoff_site', as_index=False).load_weight.mean()\n",
        "df_mean_may.sort_index()\n",
        "df_mean_may = df_mean_may.set_index(\"dropoff_site\")"
      ],
      "metadata": {
        "id": "fmsnRVZ0875x"
      },
      "execution_count": 48,
      "outputs": []
    },
    {
      "cell_type": "markdown",
      "source": [
        "*f) Average load weight in June-July 2021*"
      ],
      "metadata": {
        "id": "AuPusatod15h"
      }
    },
    {
      "cell_type": "code",
      "source": [
        "# Mean in June 2021\n",
        "df_june = df_austin[(df_austin['report_date'] >= '2021-06-01') & (df_austin['report_date'] <= '2021-06-30')]\n",
        "mean_june = df_june['load_weight'].mean()\n",
        "mean_june"
      ],
      "metadata": {
        "id": "AIBwXRfh9ipu",
        "colab": {
          "base_uri": "https://localhost:8080/"
        },
        "outputId": "b38238b6-cffb-4167-cb7d-927760d61b4e"
      },
      "execution_count": 49,
      "outputs": [
        {
          "output_type": "execute_result",
          "data": {
            "text/plain": [
              "12407.359028824834"
            ]
          },
          "metadata": {},
          "execution_count": 49
        }
      ]
    },
    {
      "cell_type": "code",
      "source": [
        "df_mean_june = df_june.groupby('dropoff_site', as_index=False).load_weight.mean()\n",
        "df_mean_june.sort_index()\n",
        "df_mean_june = df_mean_june.set_index(\"dropoff_site\")"
      ],
      "metadata": {
        "id": "lm0ZsRpL9tAE"
      },
      "execution_count": 50,
      "outputs": []
    },
    {
      "cell_type": "code",
      "source": [
        "# Mean in July 9th 2021\n",
        "df_july = df_austin[(df_austin['report_date'] >= '2021-06-01') & (df_austin['report_date'] <= '2021-07-09')]\n",
        "mean_july = df_july['load_weight'].mean()\n",
        "mean_july"
      ],
      "metadata": {
        "colab": {
          "base_uri": "https://localhost:8080/"
        },
        "id": "EHpnm6FxRNg9",
        "outputId": "f2d0dca9-c73c-4956-a04d-e83d6cacdded"
      },
      "execution_count": 51,
      "outputs": [
        {
          "output_type": "execute_result",
          "data": {
            "text/plain": [
              "12281.231074740208"
            ]
          },
          "metadata": {},
          "execution_count": 51
        }
      ]
    },
    {
      "cell_type": "code",
      "source": [
        "df_mean_july = df_july.groupby('dropoff_site', as_index=False).load_weight.mean()\n",
        "df_mean_july.sort_index()\n",
        "df_mean_july = df_mean_july.set_index(\"dropoff_site\")"
      ],
      "metadata": {
        "id": "oamxYoyCRmWo"
      },
      "execution_count": 52,
      "outputs": []
    },
    {
      "cell_type": "markdown",
      "source": [
        "*g) Comparing average load weight from January to July 2021*"
      ],
      "metadata": {
        "id": "a50yVb0thQtQ"
      }
    },
    {
      "cell_type": "code",
      "source": [
        "# Making comparison of means by defining dataframe `df_mean`\n",
        "df_mean = pd.concat([df_mean_jan, df_mean_feb, df_mean_mar, df_mean_apr, df_mean_may, df_mean_june, df_mean_july], keys=[\"january\", \"february\", \"march\", \"april\", \"may\", \"june\", \"July (only 1st-9th)\"], axis=1)\n",
        "df_mean = df_mean.sort_index()\n",
        "df_mean"
      ],
      "metadata": {
        "colab": {
          "base_uri": "https://localhost:8080/",
          "height": 677
        },
        "id": "cVSXX-PBSuZN",
        "outputId": "a39379fd-ef37-4582-e45a-b51d4752ac9f"
      },
      "execution_count": 53,
      "outputs": [
        {
          "output_type": "execute_result",
          "data": {
            "text/plain": [
              "                            january      february         march         april  \\\n",
              "                        load_weight   load_weight   load_weight   load_weight   \n",
              "dropoff_site                                                                    \n",
              "AUSTIN IRON AND METAL    487.500000    378.000000    496.250000    426.250000   \n",
              "AUSTIN WOOD RECYCLING           NaN   2340.000000           NaN           NaN   \n",
              "BALCONES RECYCLING      9800.585652   9127.795100   9388.767507   9332.808824   \n",
              "BALCONES WOODS                  NaN           NaN           NaN   8460.000000   \n",
              "GREAT NORTHERN                  NaN  19215.000000  11300.000000  11300.000000   \n",
              "HORNSBY BEND            8856.625514   5215.141956   5965.775076   6638.253275   \n",
              "MRF                     1782.142857   2319.130435   1326.666667   1798.952381   \n",
              "ON ROUTE HIGH DUMP     11300.000000  11300.000000  12773.333333  11260.000000   \n",
              "ONION CREEK            11300.000000  11300.000000  11300.000000  11300.000000   \n",
              "ORGANICS BY GOSH       10698.663366  12134.692308  12335.894393  10691.153784   \n",
              "PARK BEND                       NaN  20400.000000  12090.000000           NaN   \n",
              "PARK CENTER            11300.000000  11300.000000  11300.000000  11300.000000   \n",
              "ST. EDWARDS                     NaN           NaN           NaN           NaN   \n",
              "STEINER LANDFILL                NaN           NaN           NaN    780.000000   \n",
              "TDS - MRF               9985.337553   9413.372093   9754.404946   9844.330357   \n",
              "TDS LANDFILL           14795.521013  15842.518302  14829.108853  15472.515152   \n",
              "WESTFIELD                       NaN           NaN           NaN           NaN   \n",
              "WILCAB                 11300.000000           NaN           NaN           NaN   \n",
              "\n",
              "                                may          june July (only 1st-9th)  \n",
              "                        load_weight   load_weight         load_weight  \n",
              "dropoff_site                                                           \n",
              "AUSTIN IRON AND METAL    519.166667    410.000000          393.076923  \n",
              "AUSTIN WOOD RECYCLING           NaN   5760.000000         5760.000000  \n",
              "BALCONES RECYCLING      9569.118644   9572.028986         9471.759777  \n",
              "BALCONES WOODS                  NaN           NaN                 NaN  \n",
              "GREAT NORTHERN         11477.575758  14500.000000        14500.000000  \n",
              "HORNSBY BEND            6110.421053   7534.641509         7352.303207  \n",
              "MRF                     1833.051282   1627.142857         1623.958333  \n",
              "ON ROUTE HIGH DUMP     11300.000000  11293.333333        11293.793103  \n",
              "ONION CREEK            11300.000000  11300.000000        11300.000000  \n",
              "ORGANICS BY GOSH       12050.865385  13408.400000        12793.244552  \n",
              "PARK BEND                       NaN   8960.000000         8960.000000  \n",
              "PARK CENTER            11300.000000  11300.000000        11300.000000  \n",
              "ST. EDWARDS                     NaN  11300.000000        11300.000000  \n",
              "STEINER LANDFILL                NaN           NaN                 NaN  \n",
              "TDS - MRF              10183.401222   9938.288100         9947.366483  \n",
              "TDS LANDFILL           15187.030717  14692.652452        14584.397048  \n",
              "WESTFIELD              16020.000000           NaN                 NaN  \n",
              "WILCAB                          NaN           NaN                 NaN  "
            ],
            "text/html": [
              "\n",
              "  <div id=\"df-a45b5831-6ebc-4b2f-84b7-757d2075d080\">\n",
              "    <div class=\"colab-df-container\">\n",
              "      <div>\n",
              "<style scoped>\n",
              "    .dataframe tbody tr th:only-of-type {\n",
              "        vertical-align: middle;\n",
              "    }\n",
              "\n",
              "    .dataframe tbody tr th {\n",
              "        vertical-align: top;\n",
              "    }\n",
              "\n",
              "    .dataframe thead tr th {\n",
              "        text-align: left;\n",
              "    }\n",
              "\n",
              "    .dataframe thead tr:last-of-type th {\n",
              "        text-align: right;\n",
              "    }\n",
              "</style>\n",
              "<table border=\"1\" class=\"dataframe\">\n",
              "  <thead>\n",
              "    <tr>\n",
              "      <th></th>\n",
              "      <th>january</th>\n",
              "      <th>february</th>\n",
              "      <th>march</th>\n",
              "      <th>april</th>\n",
              "      <th>may</th>\n",
              "      <th>june</th>\n",
              "      <th>July (only 1st-9th)</th>\n",
              "    </tr>\n",
              "    <tr>\n",
              "      <th></th>\n",
              "      <th>load_weight</th>\n",
              "      <th>load_weight</th>\n",
              "      <th>load_weight</th>\n",
              "      <th>load_weight</th>\n",
              "      <th>load_weight</th>\n",
              "      <th>load_weight</th>\n",
              "      <th>load_weight</th>\n",
              "    </tr>\n",
              "    <tr>\n",
              "      <th>dropoff_site</th>\n",
              "      <th></th>\n",
              "      <th></th>\n",
              "      <th></th>\n",
              "      <th></th>\n",
              "      <th></th>\n",
              "      <th></th>\n",
              "      <th></th>\n",
              "    </tr>\n",
              "  </thead>\n",
              "  <tbody>\n",
              "    <tr>\n",
              "      <th>AUSTIN IRON AND METAL</th>\n",
              "      <td>487.500000</td>\n",
              "      <td>378.000000</td>\n",
              "      <td>496.250000</td>\n",
              "      <td>426.250000</td>\n",
              "      <td>519.166667</td>\n",
              "      <td>410.000000</td>\n",
              "      <td>393.076923</td>\n",
              "    </tr>\n",
              "    <tr>\n",
              "      <th>AUSTIN WOOD RECYCLING</th>\n",
              "      <td>NaN</td>\n",
              "      <td>2340.000000</td>\n",
              "      <td>NaN</td>\n",
              "      <td>NaN</td>\n",
              "      <td>NaN</td>\n",
              "      <td>5760.000000</td>\n",
              "      <td>5760.000000</td>\n",
              "    </tr>\n",
              "    <tr>\n",
              "      <th>BALCONES RECYCLING</th>\n",
              "      <td>9800.585652</td>\n",
              "      <td>9127.795100</td>\n",
              "      <td>9388.767507</td>\n",
              "      <td>9332.808824</td>\n",
              "      <td>9569.118644</td>\n",
              "      <td>9572.028986</td>\n",
              "      <td>9471.759777</td>\n",
              "    </tr>\n",
              "    <tr>\n",
              "      <th>BALCONES WOODS</th>\n",
              "      <td>NaN</td>\n",
              "      <td>NaN</td>\n",
              "      <td>NaN</td>\n",
              "      <td>8460.000000</td>\n",
              "      <td>NaN</td>\n",
              "      <td>NaN</td>\n",
              "      <td>NaN</td>\n",
              "    </tr>\n",
              "    <tr>\n",
              "      <th>GREAT NORTHERN</th>\n",
              "      <td>NaN</td>\n",
              "      <td>19215.000000</td>\n",
              "      <td>11300.000000</td>\n",
              "      <td>11300.000000</td>\n",
              "      <td>11477.575758</td>\n",
              "      <td>14500.000000</td>\n",
              "      <td>14500.000000</td>\n",
              "    </tr>\n",
              "    <tr>\n",
              "      <th>HORNSBY BEND</th>\n",
              "      <td>8856.625514</td>\n",
              "      <td>5215.141956</td>\n",
              "      <td>5965.775076</td>\n",
              "      <td>6638.253275</td>\n",
              "      <td>6110.421053</td>\n",
              "      <td>7534.641509</td>\n",
              "      <td>7352.303207</td>\n",
              "    </tr>\n",
              "    <tr>\n",
              "      <th>MRF</th>\n",
              "      <td>1782.142857</td>\n",
              "      <td>2319.130435</td>\n",
              "      <td>1326.666667</td>\n",
              "      <td>1798.952381</td>\n",
              "      <td>1833.051282</td>\n",
              "      <td>1627.142857</td>\n",
              "      <td>1623.958333</td>\n",
              "    </tr>\n",
              "    <tr>\n",
              "      <th>ON ROUTE HIGH DUMP</th>\n",
              "      <td>11300.000000</td>\n",
              "      <td>11300.000000</td>\n",
              "      <td>12773.333333</td>\n",
              "      <td>11260.000000</td>\n",
              "      <td>11300.000000</td>\n",
              "      <td>11293.333333</td>\n",
              "      <td>11293.793103</td>\n",
              "    </tr>\n",
              "    <tr>\n",
              "      <th>ONION CREEK</th>\n",
              "      <td>11300.000000</td>\n",
              "      <td>11300.000000</td>\n",
              "      <td>11300.000000</td>\n",
              "      <td>11300.000000</td>\n",
              "      <td>11300.000000</td>\n",
              "      <td>11300.000000</td>\n",
              "      <td>11300.000000</td>\n",
              "    </tr>\n",
              "    <tr>\n",
              "      <th>ORGANICS BY GOSH</th>\n",
              "      <td>10698.663366</td>\n",
              "      <td>12134.692308</td>\n",
              "      <td>12335.894393</td>\n",
              "      <td>10691.153784</td>\n",
              "      <td>12050.865385</td>\n",
              "      <td>13408.400000</td>\n",
              "      <td>12793.244552</td>\n",
              "    </tr>\n",
              "    <tr>\n",
              "      <th>PARK BEND</th>\n",
              "      <td>NaN</td>\n",
              "      <td>20400.000000</td>\n",
              "      <td>12090.000000</td>\n",
              "      <td>NaN</td>\n",
              "      <td>NaN</td>\n",
              "      <td>8960.000000</td>\n",
              "      <td>8960.000000</td>\n",
              "    </tr>\n",
              "    <tr>\n",
              "      <th>PARK CENTER</th>\n",
              "      <td>11300.000000</td>\n",
              "      <td>11300.000000</td>\n",
              "      <td>11300.000000</td>\n",
              "      <td>11300.000000</td>\n",
              "      <td>11300.000000</td>\n",
              "      <td>11300.000000</td>\n",
              "      <td>11300.000000</td>\n",
              "    </tr>\n",
              "    <tr>\n",
              "      <th>ST. EDWARDS</th>\n",
              "      <td>NaN</td>\n",
              "      <td>NaN</td>\n",
              "      <td>NaN</td>\n",
              "      <td>NaN</td>\n",
              "      <td>NaN</td>\n",
              "      <td>11300.000000</td>\n",
              "      <td>11300.000000</td>\n",
              "    </tr>\n",
              "    <tr>\n",
              "      <th>STEINER LANDFILL</th>\n",
              "      <td>NaN</td>\n",
              "      <td>NaN</td>\n",
              "      <td>NaN</td>\n",
              "      <td>780.000000</td>\n",
              "      <td>NaN</td>\n",
              "      <td>NaN</td>\n",
              "      <td>NaN</td>\n",
              "    </tr>\n",
              "    <tr>\n",
              "      <th>TDS - MRF</th>\n",
              "      <td>9985.337553</td>\n",
              "      <td>9413.372093</td>\n",
              "      <td>9754.404946</td>\n",
              "      <td>9844.330357</td>\n",
              "      <td>10183.401222</td>\n",
              "      <td>9938.288100</td>\n",
              "      <td>9947.366483</td>\n",
              "    </tr>\n",
              "    <tr>\n",
              "      <th>TDS LANDFILL</th>\n",
              "      <td>14795.521013</td>\n",
              "      <td>15842.518302</td>\n",
              "      <td>14829.108853</td>\n",
              "      <td>15472.515152</td>\n",
              "      <td>15187.030717</td>\n",
              "      <td>14692.652452</td>\n",
              "      <td>14584.397048</td>\n",
              "    </tr>\n",
              "    <tr>\n",
              "      <th>WESTFIELD</th>\n",
              "      <td>NaN</td>\n",
              "      <td>NaN</td>\n",
              "      <td>NaN</td>\n",
              "      <td>NaN</td>\n",
              "      <td>16020.000000</td>\n",
              "      <td>NaN</td>\n",
              "      <td>NaN</td>\n",
              "    </tr>\n",
              "    <tr>\n",
              "      <th>WILCAB</th>\n",
              "      <td>11300.000000</td>\n",
              "      <td>NaN</td>\n",
              "      <td>NaN</td>\n",
              "      <td>NaN</td>\n",
              "      <td>NaN</td>\n",
              "      <td>NaN</td>\n",
              "      <td>NaN</td>\n",
              "    </tr>\n",
              "  </tbody>\n",
              "</table>\n",
              "</div>\n",
              "      <button class=\"colab-df-convert\" onclick=\"convertToInteractive('df-a45b5831-6ebc-4b2f-84b7-757d2075d080')\"\n",
              "              title=\"Convert this dataframe to an interactive table.\"\n",
              "              style=\"display:none;\">\n",
              "        \n",
              "  <svg xmlns=\"http://www.w3.org/2000/svg\" height=\"24px\"viewBox=\"0 0 24 24\"\n",
              "       width=\"24px\">\n",
              "    <path d=\"M0 0h24v24H0V0z\" fill=\"none\"/>\n",
              "    <path d=\"M18.56 5.44l.94 2.06.94-2.06 2.06-.94-2.06-.94-.94-2.06-.94 2.06-2.06.94zm-11 1L8.5 8.5l.94-2.06 2.06-.94-2.06-.94L8.5 2.5l-.94 2.06-2.06.94zm10 10l.94 2.06.94-2.06 2.06-.94-2.06-.94-.94-2.06-.94 2.06-2.06.94z\"/><path d=\"M17.41 7.96l-1.37-1.37c-.4-.4-.92-.59-1.43-.59-.52 0-1.04.2-1.43.59L10.3 9.45l-7.72 7.72c-.78.78-.78 2.05 0 2.83L4 21.41c.39.39.9.59 1.41.59.51 0 1.02-.2 1.41-.59l7.78-7.78 2.81-2.81c.8-.78.8-2.07 0-2.86zM5.41 20L4 18.59l7.72-7.72 1.47 1.35L5.41 20z\"/>\n",
              "  </svg>\n",
              "      </button>\n",
              "      \n",
              "  <style>\n",
              "    .colab-df-container {\n",
              "      display:flex;\n",
              "      flex-wrap:wrap;\n",
              "      gap: 12px;\n",
              "    }\n",
              "\n",
              "    .colab-df-convert {\n",
              "      background-color: #E8F0FE;\n",
              "      border: none;\n",
              "      border-radius: 50%;\n",
              "      cursor: pointer;\n",
              "      display: none;\n",
              "      fill: #1967D2;\n",
              "      height: 32px;\n",
              "      padding: 0 0 0 0;\n",
              "      width: 32px;\n",
              "    }\n",
              "\n",
              "    .colab-df-convert:hover {\n",
              "      background-color: #E2EBFA;\n",
              "      box-shadow: 0px 1px 2px rgba(60, 64, 67, 0.3), 0px 1px 3px 1px rgba(60, 64, 67, 0.15);\n",
              "      fill: #174EA6;\n",
              "    }\n",
              "\n",
              "    [theme=dark] .colab-df-convert {\n",
              "      background-color: #3B4455;\n",
              "      fill: #D2E3FC;\n",
              "    }\n",
              "\n",
              "    [theme=dark] .colab-df-convert:hover {\n",
              "      background-color: #434B5C;\n",
              "      box-shadow: 0px 1px 3px 1px rgba(0, 0, 0, 0.15);\n",
              "      filter: drop-shadow(0px 1px 2px rgba(0, 0, 0, 0.3));\n",
              "      fill: #FFFFFF;\n",
              "    }\n",
              "  </style>\n",
              "\n",
              "      <script>\n",
              "        const buttonEl =\n",
              "          document.querySelector('#df-a45b5831-6ebc-4b2f-84b7-757d2075d080 button.colab-df-convert');\n",
              "        buttonEl.style.display =\n",
              "          google.colab.kernel.accessAllowed ? 'block' : 'none';\n",
              "\n",
              "        async function convertToInteractive(key) {\n",
              "          const element = document.querySelector('#df-a45b5831-6ebc-4b2f-84b7-757d2075d080');\n",
              "          const dataTable =\n",
              "            await google.colab.kernel.invokeFunction('convertToInteractive',\n",
              "                                                     [key], {});\n",
              "          if (!dataTable) return;\n",
              "\n",
              "          const docLinkHtml = 'Like what you see? Visit the ' +\n",
              "            '<a target=\"_blank\" href=https://colab.research.google.com/notebooks/data_table.ipynb>data table notebook</a>'\n",
              "            + ' to learn more about interactive tables.';\n",
              "          element.innerHTML = '';\n",
              "          dataTable['output_type'] = 'display_data';\n",
              "          await google.colab.output.renderOutput(dataTable, element);\n",
              "          const docLink = document.createElement('div');\n",
              "          docLink.innerHTML = docLinkHtml;\n",
              "          element.appendChild(docLink);\n",
              "        }\n",
              "      </script>\n",
              "    </div>\n",
              "  </div>\n",
              "  "
            ]
          },
          "metadata": {},
          "execution_count": 53
        }
      ]
    },
    {
      "cell_type": "markdown",
      "source": [
        "The averages load weight based on waste collections sites have some **empty data**, indicated by `NaN`, which means **there are no waste load being dropped to the certain sites during that month**. For example, in January, there is no waste being dropped to `Austin Wood Recycling`.\n",
        "\n",
        "- `Austin Wood Recycling` happens twice per semester, which is in `February` and `June`.\n",
        "- `Geat Northern` only happens once per semester (in `April`).\n",
        "- `Park Bend` happens every two months with two months break (`February-March`, and `June-July`).\n",
        "- `St. Edwards` only happens once per semester (in `June`).\n",
        "- `Steiner Landifll` is only in `April`.\n",
        "- `Westfield` is only in `May`.\n",
        "- `Wilcab` is only in `January`.\n",
        "\n",
        "**The current shift schedules for waste collection and diversion system are important to be applied in the future**, as we can see the load average are about the same, with the overal average results: `12158.48`, as mentioned at the average calculation of after cleaning the data.\n",
        "\n",
        "Average load weight (pounds) for first semester of 2021:\n",
        "- January 2021: `12158.49`\n",
        "- February 2021: `12222.65`\n",
        "- March 2021: `12032.59`\n",
        "- April 2021: `11944.94`\n",
        "- May 2021: `12401.76`\n",
        "- June 2021: `12407.36`\n",
        "- July 2021 (until 9th): `12281.23`"
      ],
      "metadata": {
        "id": "AilA6isLtCpc"
      }
    },
    {
      "cell_type": "markdown",
      "source": [
        "*h) Median from January to June-July 2021*\n",
        "\n",
        "The median is to approximate average, or mean, however it is not the average itself. As we can see from the calculation below, median of each month is actually below average although it is not too far. For example, this can be proposed as the minimum capacity of `load_weight`."
      ],
      "metadata": {
        "id": "6OA_J7cA1xMc"
      }
    },
    {
      "cell_type": "code",
      "source": [
        "# Median January 2021\n",
        "df_jan['load_weight'].median()"
      ],
      "metadata": {
        "colab": {
          "base_uri": "https://localhost:8080/"
        },
        "id": "DfsU0bH7znRD",
        "outputId": "644aab9a-741d-4646-d9f4-eeb7b88501e1"
      },
      "execution_count": 54,
      "outputs": [
        {
          "output_type": "execute_result",
          "data": {
            "text/plain": [
              "11250.0"
            ]
          },
          "metadata": {},
          "execution_count": 54
        }
      ]
    },
    {
      "cell_type": "code",
      "source": [
        "# Median February 2021\n",
        "df_feb['load_weight'].median()"
      ],
      "metadata": {
        "colab": {
          "base_uri": "https://localhost:8080/"
        },
        "id": "5Z8pyiU0zplJ",
        "outputId": "b1376ed8-0bad-424e-8ab4-93d0db675529"
      },
      "execution_count": 55,
      "outputs": [
        {
          "output_type": "execute_result",
          "data": {
            "text/plain": [
              "11260.0"
            ]
          },
          "metadata": {},
          "execution_count": 55
        }
      ]
    },
    {
      "cell_type": "code",
      "source": [
        "# Median March 2021\n",
        "df_mar['load_weight'].median()"
      ],
      "metadata": {
        "colab": {
          "base_uri": "https://localhost:8080/"
        },
        "id": "sCQX4agDzrjL",
        "outputId": "a33a4ed1-5117-4cef-d966-d1944997ee94"
      },
      "execution_count": 56,
      "outputs": [
        {
          "output_type": "execute_result",
          "data": {
            "text/plain": [
              "11320.0"
            ]
          },
          "metadata": {},
          "execution_count": 56
        }
      ]
    },
    {
      "cell_type": "code",
      "source": [
        "# Media April 2021\n",
        "df_apr['load_weight'].median()"
      ],
      "metadata": {
        "colab": {
          "base_uri": "https://localhost:8080/"
        },
        "id": "BPXcjEwBztRq",
        "outputId": "6ed917da-a5c8-485f-9640-ada4b87e36c6"
      },
      "execution_count": 57,
      "outputs": [
        {
          "output_type": "execute_result",
          "data": {
            "text/plain": [
              "10980.0"
            ]
          },
          "metadata": {},
          "execution_count": 57
        }
      ]
    },
    {
      "cell_type": "code",
      "source": [
        "# Median May 2021\n",
        "df_may['load_weight'].median()"
      ],
      "metadata": {
        "colab": {
          "base_uri": "https://localhost:8080/"
        },
        "id": "iE_WNynFzvaq",
        "outputId": "6a97b666-3848-4915-e0ac-198e96fd1f44"
      },
      "execution_count": 58,
      "outputs": [
        {
          "output_type": "execute_result",
          "data": {
            "text/plain": [
              "11460.0"
            ]
          },
          "metadata": {},
          "execution_count": 58
        }
      ]
    },
    {
      "cell_type": "code",
      "source": [
        "# Median June-July 2021\n",
        "df_june['load_weight'].median()"
      ],
      "metadata": {
        "colab": {
          "base_uri": "https://localhost:8080/"
        },
        "id": "6lKfT8xQzxlP",
        "outputId": "bda90f17-e07a-4ba5-d917-264b4fbd060f"
      },
      "execution_count": 59,
      "outputs": [
        {
          "output_type": "execute_result",
          "data": {
            "text/plain": [
              "11360.0"
            ]
          },
          "metadata": {},
          "execution_count": 59
        }
      ]
    },
    {
      "cell_type": "markdown",
      "source": [
        "**5.2. Analysis for TDS Landfill (Center Tendency, Range, Standard Deviation, Variance)**\n",
        "\n",
        "The next analysis is about the comparison of center tendency between TDS Landfill as the chosen collection site and overall waste collection sites.\n",
        "\n",
        "Standard deviation tells you how spread out the data is. It is a measure of how far each observed value is from the mean. Low standard deviation means data are clustered around the mean, and high standard deviation indicates data are more spread out. Meanwhile, variance is a statistical measurement used to determine how far each number is from the mean and from every other number in the set. It is also the degree of spread in the data set."
      ],
      "metadata": {
        "id": "iilf5gsKOmX1"
      }
    },
    {
      "cell_type": "code",
      "source": [
        "# Average of overall load weight\n",
        "df_austin['load_weight'].mean()"
      ],
      "metadata": {
        "colab": {
          "base_uri": "https://localhost:8080/"
        },
        "id": "GbTmxWMxJvm_",
        "outputId": "3b43db38-1927-4a51-ead8-a3b638b39957"
      },
      "execution_count": 60,
      "outputs": [
        {
          "output_type": "execute_result",
          "data": {
            "text/plain": [
              "12158.487446056217"
            ]
          },
          "metadata": {},
          "execution_count": 60
        }
      ]
    },
    {
      "cell_type": "code",
      "source": [
        "# Standard deviation\n",
        "df_austin['load_weight'].std()"
      ],
      "metadata": {
        "colab": {
          "base_uri": "https://localhost:8080/"
        },
        "id": "bary7gLTOdNH",
        "outputId": "12b51c05-d7ec-4dca-f849-ccd0a7e2cb01"
      },
      "execution_count": 61,
      "outputs": [
        {
          "output_type": "execute_result",
          "data": {
            "text/plain": [
              "6643.193202741139"
            ]
          },
          "metadata": {},
          "execution_count": 61
        }
      ]
    },
    {
      "cell_type": "code",
      "source": [
        "# Variance\n",
        "df_austin['load_weight'].var()"
      ],
      "metadata": {
        "colab": {
          "base_uri": "https://localhost:8080/"
        },
        "id": "BBvZWE-CO2md",
        "outputId": "3a68b924-eff6-47b0-def3-d8761e5eab8e"
      },
      "execution_count": 62,
      "outputs": [
        {
          "output_type": "execute_result",
          "data": {
            "text/plain": [
              "44132015.92894608"
            ]
          },
          "metadata": {},
          "execution_count": 62
        }
      ]
    },
    {
      "cell_type": "code",
      "source": [
        "# Range (max - min)\n",
        "df_austin['load_weight'].max() - df_austin['load_weight'].min()"
      ],
      "metadata": {
        "colab": {
          "base_uri": "https://localhost:8080/"
        },
        "id": "qm125mBxLc33",
        "outputId": "95015aaa-dd5d-4270-abf1-aecb1b9be406"
      },
      "execution_count": 63,
      "outputs": [
        {
          "output_type": "execute_result",
          "data": {
            "text/plain": [
              "33340.0"
            ]
          },
          "metadata": {},
          "execution_count": 63
        }
      ]
    },
    {
      "cell_type": "markdown",
      "source": [
        "*TDS Landfill Center Tendency*\n",
        "\n",
        "TDS Landfill will be the chosen site to discuss about its center tendency based on the high number of data that are input to the dataset, which is `10661` rows."
      ],
      "metadata": {
        "id": "u8On5JJ5m9IF"
      }
    },
    {
      "cell_type": "code",
      "source": [
        "# Create new dataframe based on states in the chosen site: TDS Landfill\n",
        "df_tdsland = df_austin[(df_austin['dropoff_site'] == 'TDS LANDFILL')]\n",
        "df_tdsland"
      ],
      "metadata": {
        "colab": {
          "base_uri": "https://localhost:8080/",
          "height": 424
        },
        "id": "JgSXFujBo87c",
        "outputId": "c8f6d602-9e35-4b20-8e57-80da3afd03dd"
      },
      "execution_count": 64,
      "outputs": [
        {
          "output_type": "execute_result",
          "data": {
            "text/plain": [
              "      report_date                load_time            load_type  load_weight  \\\n",
              "11     2021-01-02  2021-01-02 02:16:00 UTC                 BULK      12480.0   \n",
              "12     2021-01-02  2021-01-02 12:25:00 UTC                 BULK      10200.0   \n",
              "13     2021-01-02  2021-01-02 02:13:00 UTC                 BULK       5440.0   \n",
              "14     2021-01-02  2021-01-02 04:27:00 UTC          DEAD ANIMAL        140.0   \n",
              "15     2021-01-02  2021-01-02 02:44:00 UTC  GARBAGE COLLECTIONS      24580.0   \n",
              "...           ...                      ...                  ...          ...   \n",
              "25657  2021-07-08  2021-07-08 02:04:00 UTC  GARBAGE COLLECTIONS       8380.0   \n",
              "25658  2021-07-08  2021-07-08 02:27:00 UTC                 BULK       2100.0   \n",
              "25659  2021-07-08  2021-07-08 11:07:00 UTC                 BULK       3500.0   \n",
              "25710  2021-07-09  2021-07-09 12:00:00 UTC               LITTER       1900.0   \n",
              "25711  2021-07-09  2021-07-09 12:00:00 UTC               LITTER       3040.0   \n",
              "\n",
              "       dropoff_site  \n",
              "11     TDS LANDFILL  \n",
              "12     TDS LANDFILL  \n",
              "13     TDS LANDFILL  \n",
              "14     TDS LANDFILL  \n",
              "15     TDS LANDFILL  \n",
              "...             ...  \n",
              "25657  TDS LANDFILL  \n",
              "25658  TDS LANDFILL  \n",
              "25659  TDS LANDFILL  \n",
              "25710  TDS LANDFILL  \n",
              "25711  TDS LANDFILL  \n",
              "\n",
              "[10661 rows x 5 columns]"
            ],
            "text/html": [
              "\n",
              "  <div id=\"df-ecdee6d1-4867-4c1f-b0a9-add67838d1bc\">\n",
              "    <div class=\"colab-df-container\">\n",
              "      <div>\n",
              "<style scoped>\n",
              "    .dataframe tbody tr th:only-of-type {\n",
              "        vertical-align: middle;\n",
              "    }\n",
              "\n",
              "    .dataframe tbody tr th {\n",
              "        vertical-align: top;\n",
              "    }\n",
              "\n",
              "    .dataframe thead th {\n",
              "        text-align: right;\n",
              "    }\n",
              "</style>\n",
              "<table border=\"1\" class=\"dataframe\">\n",
              "  <thead>\n",
              "    <tr style=\"text-align: right;\">\n",
              "      <th></th>\n",
              "      <th>report_date</th>\n",
              "      <th>load_time</th>\n",
              "      <th>load_type</th>\n",
              "      <th>load_weight</th>\n",
              "      <th>dropoff_site</th>\n",
              "    </tr>\n",
              "  </thead>\n",
              "  <tbody>\n",
              "    <tr>\n",
              "      <th>11</th>\n",
              "      <td>2021-01-02</td>\n",
              "      <td>2021-01-02 02:16:00 UTC</td>\n",
              "      <td>BULK</td>\n",
              "      <td>12480.0</td>\n",
              "      <td>TDS LANDFILL</td>\n",
              "    </tr>\n",
              "    <tr>\n",
              "      <th>12</th>\n",
              "      <td>2021-01-02</td>\n",
              "      <td>2021-01-02 12:25:00 UTC</td>\n",
              "      <td>BULK</td>\n",
              "      <td>10200.0</td>\n",
              "      <td>TDS LANDFILL</td>\n",
              "    </tr>\n",
              "    <tr>\n",
              "      <th>13</th>\n",
              "      <td>2021-01-02</td>\n",
              "      <td>2021-01-02 02:13:00 UTC</td>\n",
              "      <td>BULK</td>\n",
              "      <td>5440.0</td>\n",
              "      <td>TDS LANDFILL</td>\n",
              "    </tr>\n",
              "    <tr>\n",
              "      <th>14</th>\n",
              "      <td>2021-01-02</td>\n",
              "      <td>2021-01-02 04:27:00 UTC</td>\n",
              "      <td>DEAD ANIMAL</td>\n",
              "      <td>140.0</td>\n",
              "      <td>TDS LANDFILL</td>\n",
              "    </tr>\n",
              "    <tr>\n",
              "      <th>15</th>\n",
              "      <td>2021-01-02</td>\n",
              "      <td>2021-01-02 02:44:00 UTC</td>\n",
              "      <td>GARBAGE COLLECTIONS</td>\n",
              "      <td>24580.0</td>\n",
              "      <td>TDS LANDFILL</td>\n",
              "    </tr>\n",
              "    <tr>\n",
              "      <th>...</th>\n",
              "      <td>...</td>\n",
              "      <td>...</td>\n",
              "      <td>...</td>\n",
              "      <td>...</td>\n",
              "      <td>...</td>\n",
              "    </tr>\n",
              "    <tr>\n",
              "      <th>25657</th>\n",
              "      <td>2021-07-08</td>\n",
              "      <td>2021-07-08 02:04:00 UTC</td>\n",
              "      <td>GARBAGE COLLECTIONS</td>\n",
              "      <td>8380.0</td>\n",
              "      <td>TDS LANDFILL</td>\n",
              "    </tr>\n",
              "    <tr>\n",
              "      <th>25658</th>\n",
              "      <td>2021-07-08</td>\n",
              "      <td>2021-07-08 02:27:00 UTC</td>\n",
              "      <td>BULK</td>\n",
              "      <td>2100.0</td>\n",
              "      <td>TDS LANDFILL</td>\n",
              "    </tr>\n",
              "    <tr>\n",
              "      <th>25659</th>\n",
              "      <td>2021-07-08</td>\n",
              "      <td>2021-07-08 11:07:00 UTC</td>\n",
              "      <td>BULK</td>\n",
              "      <td>3500.0</td>\n",
              "      <td>TDS LANDFILL</td>\n",
              "    </tr>\n",
              "    <tr>\n",
              "      <th>25710</th>\n",
              "      <td>2021-07-09</td>\n",
              "      <td>2021-07-09 12:00:00 UTC</td>\n",
              "      <td>LITTER</td>\n",
              "      <td>1900.0</td>\n",
              "      <td>TDS LANDFILL</td>\n",
              "    </tr>\n",
              "    <tr>\n",
              "      <th>25711</th>\n",
              "      <td>2021-07-09</td>\n",
              "      <td>2021-07-09 12:00:00 UTC</td>\n",
              "      <td>LITTER</td>\n",
              "      <td>3040.0</td>\n",
              "      <td>TDS LANDFILL</td>\n",
              "    </tr>\n",
              "  </tbody>\n",
              "</table>\n",
              "<p>10661 rows × 5 columns</p>\n",
              "</div>\n",
              "      <button class=\"colab-df-convert\" onclick=\"convertToInteractive('df-ecdee6d1-4867-4c1f-b0a9-add67838d1bc')\"\n",
              "              title=\"Convert this dataframe to an interactive table.\"\n",
              "              style=\"display:none;\">\n",
              "        \n",
              "  <svg xmlns=\"http://www.w3.org/2000/svg\" height=\"24px\"viewBox=\"0 0 24 24\"\n",
              "       width=\"24px\">\n",
              "    <path d=\"M0 0h24v24H0V0z\" fill=\"none\"/>\n",
              "    <path d=\"M18.56 5.44l.94 2.06.94-2.06 2.06-.94-2.06-.94-.94-2.06-.94 2.06-2.06.94zm-11 1L8.5 8.5l.94-2.06 2.06-.94-2.06-.94L8.5 2.5l-.94 2.06-2.06.94zm10 10l.94 2.06.94-2.06 2.06-.94-2.06-.94-.94-2.06-.94 2.06-2.06.94z\"/><path d=\"M17.41 7.96l-1.37-1.37c-.4-.4-.92-.59-1.43-.59-.52 0-1.04.2-1.43.59L10.3 9.45l-7.72 7.72c-.78.78-.78 2.05 0 2.83L4 21.41c.39.39.9.59 1.41.59.51 0 1.02-.2 1.41-.59l7.78-7.78 2.81-2.81c.8-.78.8-2.07 0-2.86zM5.41 20L4 18.59l7.72-7.72 1.47 1.35L5.41 20z\"/>\n",
              "  </svg>\n",
              "      </button>\n",
              "      \n",
              "  <style>\n",
              "    .colab-df-container {\n",
              "      display:flex;\n",
              "      flex-wrap:wrap;\n",
              "      gap: 12px;\n",
              "    }\n",
              "\n",
              "    .colab-df-convert {\n",
              "      background-color: #E8F0FE;\n",
              "      border: none;\n",
              "      border-radius: 50%;\n",
              "      cursor: pointer;\n",
              "      display: none;\n",
              "      fill: #1967D2;\n",
              "      height: 32px;\n",
              "      padding: 0 0 0 0;\n",
              "      width: 32px;\n",
              "    }\n",
              "\n",
              "    .colab-df-convert:hover {\n",
              "      background-color: #E2EBFA;\n",
              "      box-shadow: 0px 1px 2px rgba(60, 64, 67, 0.3), 0px 1px 3px 1px rgba(60, 64, 67, 0.15);\n",
              "      fill: #174EA6;\n",
              "    }\n",
              "\n",
              "    [theme=dark] .colab-df-convert {\n",
              "      background-color: #3B4455;\n",
              "      fill: #D2E3FC;\n",
              "    }\n",
              "\n",
              "    [theme=dark] .colab-df-convert:hover {\n",
              "      background-color: #434B5C;\n",
              "      box-shadow: 0px 1px 3px 1px rgba(0, 0, 0, 0.15);\n",
              "      filter: drop-shadow(0px 1px 2px rgba(0, 0, 0, 0.3));\n",
              "      fill: #FFFFFF;\n",
              "    }\n",
              "  </style>\n",
              "\n",
              "      <script>\n",
              "        const buttonEl =\n",
              "          document.querySelector('#df-ecdee6d1-4867-4c1f-b0a9-add67838d1bc button.colab-df-convert');\n",
              "        buttonEl.style.display =\n",
              "          google.colab.kernel.accessAllowed ? 'block' : 'none';\n",
              "\n",
              "        async function convertToInteractive(key) {\n",
              "          const element = document.querySelector('#df-ecdee6d1-4867-4c1f-b0a9-add67838d1bc');\n",
              "          const dataTable =\n",
              "            await google.colab.kernel.invokeFunction('convertToInteractive',\n",
              "                                                     [key], {});\n",
              "          if (!dataTable) return;\n",
              "\n",
              "          const docLinkHtml = 'Like what you see? Visit the ' +\n",
              "            '<a target=\"_blank\" href=https://colab.research.google.com/notebooks/data_table.ipynb>data table notebook</a>'\n",
              "            + ' to learn more about interactive tables.';\n",
              "          element.innerHTML = '';\n",
              "          dataTable['output_type'] = 'display_data';\n",
              "          await google.colab.output.renderOutput(dataTable, element);\n",
              "          const docLink = document.createElement('div');\n",
              "          docLink.innerHTML = docLinkHtml;\n",
              "          element.appendChild(docLink);\n",
              "        }\n",
              "      </script>\n",
              "    </div>\n",
              "  </div>\n",
              "  "
            ]
          },
          "metadata": {},
          "execution_count": 64
        }
      ]
    },
    {
      "cell_type": "code",
      "source": [
        "# Average TDS Landfill\n",
        "df_tdsland['load_weight'].mean()"
      ],
      "metadata": {
        "colab": {
          "base_uri": "https://localhost:8080/"
        },
        "id": "cK61sqGFgvKT",
        "outputId": "db5b2b5d-c7f9-4733-d35e-84ab2bc4e37d"
      },
      "execution_count": 65,
      "outputs": [
        {
          "output_type": "execute_result",
          "data": {
            "text/plain": [
              "15058.419992439734"
            ]
          },
          "metadata": {},
          "execution_count": 65
        }
      ]
    },
    {
      "cell_type": "code",
      "source": [
        "# Standard deviation TDS Landfill\n",
        "df_tdsland['load_weight'].std()"
      ],
      "metadata": {
        "colab": {
          "base_uri": "https://localhost:8080/"
        },
        "id": "qP4_D76KFfa9",
        "outputId": "a93cafe1-5c01-4a67-dadb-5c91feb9649e"
      },
      "execution_count": 66,
      "outputs": [
        {
          "output_type": "execute_result",
          "data": {
            "text/plain": [
              "7818.611685758817"
            ]
          },
          "metadata": {},
          "execution_count": 66
        }
      ]
    },
    {
      "cell_type": "code",
      "source": [
        "# Variance\n",
        "df_tdsland['load_weight'].var()"
      ],
      "metadata": {
        "colab": {
          "base_uri": "https://localhost:8080/"
        },
        "id": "bldT5L3Fpvjm",
        "outputId": "9316ff7d-343a-4d52-854b-71508366d974"
      },
      "execution_count": 67,
      "outputs": [
        {
          "output_type": "execute_result",
          "data": {
            "text/plain": [
              "61130688.69268432"
            ]
          },
          "metadata": {},
          "execution_count": 67
        }
      ]
    },
    {
      "cell_type": "code",
      "source": [
        "# Range (max - min)\n",
        "df_tdsland['load_weight'].max() - df_tdsland['load_weight'].min()"
      ],
      "metadata": {
        "colab": {
          "base_uri": "https://localhost:8080/"
        },
        "id": "2KlcD7BQpyVL",
        "outputId": "5f2d26e9-ca47-4b9d-b22d-c28cbd833c93"
      },
      "execution_count": 68,
      "outputs": [
        {
          "output_type": "execute_result",
          "data": {
            "text/plain": [
              "33340.0"
            ]
          },
          "metadata": {},
          "execution_count": 68
        }
      ]
    },
    {
      "cell_type": "markdown",
      "source": [
        "By comparing the center tendency of TDS Landfill with overall waste collection sites (including TDS Landfill), the result is different that overal waste collection sites. TDS Landfill center tendency tends to have a higher result than overall waste collection sites.\n",
        "\n",
        ">Overall Waste Collection Sites:\n",
        "- Average: `12158.49` pounds\n",
        "- Standard deviation: `6643.19`\n",
        "- Variance: `61130688.69`\n",
        "- Range (max-min): `33340.0` pounds\n",
        "\n",
        ">TDS Landfill: \n",
        "- Average: `15058.42` pounds\n",
        "- Standard deviation: `7818.61`\n",
        "- Variance: `44132015.92`\n",
        "- Range (max-min): `33340.0` pounds\n",
        "\n",
        "The high number of average loaded in TDS Landfill can be the sign that **TDS Landfill is the main waste collection site in Austin**. This can be useful as a reference for government to provide TDS Landfill and approximate the average load for the new TDS Landfill."
      ],
      "metadata": {
        "id": "EYoxsZxPqgIv"
      }
    },
    {
      "cell_type": "markdown",
      "source": [
        "**5.3. Additional Site Proposal (p-value, confidence interval 90%)**\n",
        "\n",
        "Austin Smart City is still on-going, waste collection and diversion system should be evaluated as the potency of people urbanizing to Austin will be increasing in the last six months in 2021. Assume that the load of wastes are also increasing, meanwhile the first six month of 2021 has `the capacity average about 12,000 pounds`. Thus, it is important to analyze if the waste collection site should be added or not. However, is the average capacity has a significant increase in the first semester of 2021?\n",
        "\n",
        "To check if the average of load is increasing or not, the analysis will use the single sample one-sided and set `the significance level on 0.05`. The significance means the test hypothesis is false or should be rejected if the probability value (later will be writen as p-value) is less than 0.05, or we can say it is unlikely to have occurred. If the significance is higher than 0.05, the goverments should add new site for waste collection.\n",
        "\n",
        "As the hypothesis on this case:\n",
        "```\n",
        "H0 (p-value < 0.05): There is no significant change from load weight average -> not recommend to add new site\n",
        "H1 (p-value > 0.05): There is a significant change from load weight average -> failed not to recommend to add new site\n",
        "```\n"
      ],
      "metadata": {
        "id": "1XdsQFCkQtR5"
      }
    },
    {
      "cell_type": "markdown",
      "source": [
        "*a) Distribution and Random Sample histograms*\n",
        "\n",
        "There are two histograms that tell us about the number of load capacity in Austin. The first one is the general distribution of overall load capacity. Meanwhile the second histogram tells us about the random sample we will take to test the hypotesis. For example, we take `300 random samples` to test the hypothesis, and then we try to see the visualization which shows that the distribution and random sample are basically the same."
      ],
      "metadata": {
        "id": "P7HcfciHrBQX"
      }
    },
    {
      "cell_type": "code",
      "source": [
        "# The general distribution of overall load capacity\n",
        "sns.displot(df_austin.load_weight, kde=True, label='Load Capacity Waste Collection in Austin')"
      ],
      "metadata": {
        "colab": {
          "base_uri": "https://localhost:8080/",
          "height": 386
        },
        "id": "FQklHiO9rwTs",
        "outputId": "4e793d30-6cb6-4e54-bac8-a6d41490f5da"
      },
      "execution_count": 69,
      "outputs": [
        {
          "output_type": "execute_result",
          "data": {
            "text/plain": [
              "<seaborn.axisgrid.FacetGrid at 0x7fdb83559ed0>"
            ]
          },
          "metadata": {},
          "execution_count": 69
        },
        {
          "output_type": "display_data",
          "data": {
            "text/plain": [
              "<Figure size 360x360 with 1 Axes>"
            ],
            "image/png": "[encoded data removed]"
          },
          "metadata": {
            "needs_background": "light"
          }
        }
      ]
    },
    {
      "cell_type": "code",
      "source": [
        "# Checking randomness of sample\n",
        "fig,ax = plt.subplots(ncols=4, figsize = (18,4))\n",
        "for i in range(4):\n",
        "  df_austin.load_weight.sample(300).plot(kind='hist',bins=20,ax=ax[i])\n",
        "  ax[i].set_title('Random Sample #{}'.format(i+1))"
      ],
      "metadata": {
        "colab": {
          "base_uri": "https://localhost:8080/",
          "height": 281
        },
        "id": "L_WSc3IwrLJP",
        "outputId": "022a552c-b719-4e98-9ca2-87427aed0951"
      },
      "execution_count": 70,
      "outputs": [
        {
          "output_type": "display_data",
          "data": {
            "text/plain": [
              "<Figure size 1296x288 with 4 Axes>"
            ],
            "image/png": "[encoded data removed]"
          },
          "metadata": {
            "needs_background": "light"
          }
        }
      ]
    },
    {
      "cell_type": "markdown",
      "source": [
        "*b) Hypothesis test: P-Value and T-Statistics*\n",
        "\n",
        "Hypothesis test will be done into two method: \\\n",
        "- `Daily-based` analysis\n",
        "- `Monthly based` analysis\n",
        "\n",
        "Daily-based analysis is by finding daily average and grouped by `report_date`. Meanwhile, Monthly-based analysis is by finding montlhy average and grouped by `month`."
      ],
      "metadata": {
        "id": "BSAOnr2QZ7k8"
      }
    },
    {
      "cell_type": "markdown",
      "source": [
        "<u>Daily-based Analysis</u>\n",
        "\n",
        "> The result of daily-based:\n",
        "- p-value : `0.0002`\n",
        "- t-stat  : `-3.62`\n",
        "\n",
        "Daily-based analysis shows there is no significant change from load weight average because the probability is smaller than 0.05 as the parameter of significance. Meanwhile the result of student t-statistic is negative, which means it supports H0 because it is below to the significance of t-statistic table (will not be explained further considering its long explanation).\n",
        "\n",
        "From daily-based analysis, we can get that **it is not recommended to add new site** based on the data from the first semester of 2021.\n"
      ],
      "metadata": {
        "id": "tSrDxjM6-Uny"
      }
    },
    {
      "cell_type": "code",
      "source": [
        "df_daily = df_austin.groupby(by=[\"report_date\"]).mean()\n",
        "df_daily"
      ],
      "metadata": {
        "colab": {
          "base_uri": "https://localhost:8080/",
          "height": 455
        },
        "id": "oAgUY5HdJ4QE",
        "outputId": "cad07cb8-ba4f-4471-ccc3-bd26bb9459d4"
      },
      "execution_count": 71,
      "outputs": [
        {
          "output_type": "execute_result",
          "data": {
            "text/plain": [
              "              load_weight\n",
              "report_date              \n",
              "2021-01-01   11300.000000\n",
              "2021-01-02   13806.518987\n",
              "2021-01-04   13840.094787\n",
              "2021-01-05   12697.566138\n",
              "2021-01-06   13292.032967\n",
              "...                   ...\n",
              "2021-07-05   13267.762238\n",
              "2021-07-06   11988.727273\n",
              "2021-07-07   11178.482759\n",
              "2021-07-08   12567.083333\n",
              "2021-07-09    6006.666667\n",
              "\n",
              "[166 rows x 1 columns]"
            ],
            "text/html": [
              "\n",
              "  <div id=\"df-4811c11c-07dd-4636-8a22-44e84a1beddb\">\n",
              "    <div class=\"colab-df-container\">\n",
              "      <div>\n",
              "<style scoped>\n",
              "    .dataframe tbody tr th:only-of-type {\n",
              "        vertical-align: middle;\n",
              "    }\n",
              "\n",
              "    .dataframe tbody tr th {\n",
              "        vertical-align: top;\n",
              "    }\n",
              "\n",
              "    .dataframe thead th {\n",
              "        text-align: right;\n",
              "    }\n",
              "</style>\n",
              "<table border=\"1\" class=\"dataframe\">\n",
              "  <thead>\n",
              "    <tr style=\"text-align: right;\">\n",
              "      <th></th>\n",
              "      <th>load_weight</th>\n",
              "    </tr>\n",
              "    <tr>\n",
              "      <th>report_date</th>\n",
              "      <th></th>\n",
              "    </tr>\n",
              "  </thead>\n",
              "  <tbody>\n",
              "    <tr>\n",
              "      <th>2021-01-01</th>\n",
              "      <td>11300.000000</td>\n",
              "    </tr>\n",
              "    <tr>\n",
              "      <th>2021-01-02</th>\n",
              "      <td>13806.518987</td>\n",
              "    </tr>\n",
              "    <tr>\n",
              "      <th>2021-01-04</th>\n",
              "      <td>13840.094787</td>\n",
              "    </tr>\n",
              "    <tr>\n",
              "      <th>2021-01-05</th>\n",
              "      <td>12697.566138</td>\n",
              "    </tr>\n",
              "    <tr>\n",
              "      <th>2021-01-06</th>\n",
              "      <td>13292.032967</td>\n",
              "    </tr>\n",
              "    <tr>\n",
              "      <th>...</th>\n",
              "      <td>...</td>\n",
              "    </tr>\n",
              "    <tr>\n",
              "      <th>2021-07-05</th>\n",
              "      <td>13267.762238</td>\n",
              "    </tr>\n",
              "    <tr>\n",
              "      <th>2021-07-06</th>\n",
              "      <td>11988.727273</td>\n",
              "    </tr>\n",
              "    <tr>\n",
              "      <th>2021-07-07</th>\n",
              "      <td>11178.482759</td>\n",
              "    </tr>\n",
              "    <tr>\n",
              "      <th>2021-07-08</th>\n",
              "      <td>12567.083333</td>\n",
              "    </tr>\n",
              "    <tr>\n",
              "      <th>2021-07-09</th>\n",
              "      <td>6006.666667</td>\n",
              "    </tr>\n",
              "  </tbody>\n",
              "</table>\n",
              "<p>166 rows × 1 columns</p>\n",
              "</div>\n",
              "      <button class=\"colab-df-convert\" onclick=\"convertToInteractive('df-4811c11c-07dd-4636-8a22-44e84a1beddb')\"\n",
              "              title=\"Convert this dataframe to an interactive table.\"\n",
              "              style=\"display:none;\">\n",
              "        \n",
              "  <svg xmlns=\"http://www.w3.org/2000/svg\" height=\"24px\"viewBox=\"0 0 24 24\"\n",
              "       width=\"24px\">\n",
              "    <path d=\"M0 0h24v24H0V0z\" fill=\"none\"/>\n",
              "    <path d=\"M18.56 5.44l.94 2.06.94-2.06 2.06-.94-2.06-.94-.94-2.06-.94 2.06-2.06.94zm-11 1L8.5 8.5l.94-2.06 2.06-.94-2.06-.94L8.5 2.5l-.94 2.06-2.06.94zm10 10l.94 2.06.94-2.06 2.06-.94-2.06-.94-.94-2.06-.94 2.06-2.06.94z\"/><path d=\"M17.41 7.96l-1.37-1.37c-.4-.4-.92-.59-1.43-.59-.52 0-1.04.2-1.43.59L10.3 9.45l-7.72 7.72c-.78.78-.78 2.05 0 2.83L4 21.41c.39.39.9.59 1.41.59.51 0 1.02-.2 1.41-.59l7.78-7.78 2.81-2.81c.8-.78.8-2.07 0-2.86zM5.41 20L4 18.59l7.72-7.72 1.47 1.35L5.41 20z\"/>\n",
              "  </svg>\n",
              "      </button>\n",
              "      \n",
              "  <style>\n",
              "    .colab-df-container {\n",
              "      display:flex;\n",
              "      flex-wrap:wrap;\n",
              "      gap: 12px;\n",
              "    }\n",
              "\n",
              "    .colab-df-convert {\n",
              "      background-color: #E8F0FE;\n",
              "      border: none;\n",
              "      border-radius: 50%;\n",
              "      cursor: pointer;\n",
              "      display: none;\n",
              "      fill: #1967D2;\n",
              "      height: 32px;\n",
              "      padding: 0 0 0 0;\n",
              "      width: 32px;\n",
              "    }\n",
              "\n",
              "    .colab-df-convert:hover {\n",
              "      background-color: #E2EBFA;\n",
              "      box-shadow: 0px 1px 2px rgba(60, 64, 67, 0.3), 0px 1px 3px 1px rgba(60, 64, 67, 0.15);\n",
              "      fill: #174EA6;\n",
              "    }\n",
              "\n",
              "    [theme=dark] .colab-df-convert {\n",
              "      background-color: #3B4455;\n",
              "      fill: #D2E3FC;\n",
              "    }\n",
              "\n",
              "    [theme=dark] .colab-df-convert:hover {\n",
              "      background-color: #434B5C;\n",
              "      box-shadow: 0px 1px 3px 1px rgba(0, 0, 0, 0.15);\n",
              "      filter: drop-shadow(0px 1px 2px rgba(0, 0, 0, 0.3));\n",
              "      fill: #FFFFFF;\n",
              "    }\n",
              "  </style>\n",
              "\n",
              "      <script>\n",
              "        const buttonEl =\n",
              "          document.querySelector('#df-4811c11c-07dd-4636-8a22-44e84a1beddb button.colab-df-convert');\n",
              "        buttonEl.style.display =\n",
              "          google.colab.kernel.accessAllowed ? 'block' : 'none';\n",
              "\n",
              "        async function convertToInteractive(key) {\n",
              "          const element = document.querySelector('#df-4811c11c-07dd-4636-8a22-44e84a1beddb');\n",
              "          const dataTable =\n",
              "            await google.colab.kernel.invokeFunction('convertToInteractive',\n",
              "                                                     [key], {});\n",
              "          if (!dataTable) return;\n",
              "\n",
              "          const docLinkHtml = 'Like what you see? Visit the ' +\n",
              "            '<a target=\"_blank\" href=https://colab.research.google.com/notebooks/data_table.ipynb>data table notebook</a>'\n",
              "            + ' to learn more about interactive tables.';\n",
              "          element.innerHTML = '';\n",
              "          dataTable['output_type'] = 'display_data';\n",
              "          await google.colab.output.renderOutput(dataTable, element);\n",
              "          const docLink = document.createElement('div');\n",
              "          docLink.innerHTML = docLinkHtml;\n",
              "          element.appendChild(docLink);\n",
              "        }\n",
              "      </script>\n",
              "    </div>\n",
              "  </div>\n",
              "  "
            ]
          },
          "metadata": {},
          "execution_count": 71
        }
      ]
    },
    {
      "cell_type": "code",
      "source": [
        "#The p-value divided by 2 since the output is two-sided p-value\n",
        "t_stat,p_val = stats.ttest_1samp(df_daily.load_weight, 12000)\n",
        "print('p-value:',p_val/2) \n",
        "print('t-statistics:',t_stat)"
      ],
      "metadata": {
        "colab": {
          "base_uri": "https://localhost:8080/"
        },
        "id": "9l7vwY72KKR9",
        "outputId": "54572caa-8466-4d7d-e14e-73b476966fd9"
      },
      "execution_count": 72,
      "outputs": [
        {
          "output_type": "stream",
          "name": "stdout",
          "text": [
            "p-value: 0.00019290355772418895\n",
            "t-statistics: -3.624123574851593\n"
          ]
        }
      ]
    },
    {
      "cell_type": "markdown",
      "source": [
        "<u>Monthly-based Analysis</u>\n",
        "\n",
        "> Monthly-based Analysis\n",
        "The result of daily-based:\n",
        "- p-value : `0.03`\n",
        "- t-stat  : `2.40`\n",
        "\n",
        "Monthly-based analysis shows there is no significant change from load weight average because the probability is smaller than 0.05 as the parameter of significance, which is lower than 0.05. Meanwhile the result of student t-statistic is positive, however, since the number of data is only 6 rows (from January to June), we can see the [t-Table](https://www.sjsu.edu/faculty/gerstman/StatPrimer/t-table.pdf), based on the calculation of t-statistics is significant if the result for this case is above `2.447`. However, the result is 2.40, which is lower than 2.447.\n",
        "\n",
        "So, from monthly-based analysis, **it is not recommended to add new site** based on the data from the first semester of 2021."
      ],
      "metadata": {
        "id": "9FfUAtMu-PBY"
      }
    },
    {
      "cell_type": "code",
      "source": [
        "df_month = pd.DataFrame({'month': [\"January\", \"February\", \"March\", \"April\", \"May\", \"June\"],\n",
        "                         'average_capacity': [mean_jan, mean_feb, mean_mar, mean_apr, mean_may, mean_june]})\n",
        "df_month"
      ],
      "metadata": {
        "colab": {
          "base_uri": "https://localhost:8080/",
          "height": 238
        },
        "id": "44Nugy06bN1t",
        "outputId": "54fe5ceb-6225-49d2-ec13-23ca1ca2b905"
      },
      "execution_count": 73,
      "outputs": [
        {
          "output_type": "execute_result",
          "data": {
            "text/plain": [
              "      month  average_capacity\n",
              "0   January      12116.917702\n",
              "1  February      12222.651809\n",
              "2     March      12032.578645\n",
              "3     April      11944.942214\n",
              "4       May      12401.762957\n",
              "5      June      12407.359029"
            ],
            "text/html": [
              "\n",
              "  <div id=\"df-45f6e9a1-7c91-42b7-9f71-0be772a00cda\">\n",
              "    <div class=\"colab-df-container\">\n",
              "      <div>\n",
              "<style scoped>\n",
              "    .dataframe tbody tr th:only-of-type {\n",
              "        vertical-align: middle;\n",
              "    }\n",
              "\n",
              "    .dataframe tbody tr th {\n",
              "        vertical-align: top;\n",
              "    }\n",
              "\n",
              "    .dataframe thead th {\n",
              "        text-align: right;\n",
              "    }\n",
              "</style>\n",
              "<table border=\"1\" class=\"dataframe\">\n",
              "  <thead>\n",
              "    <tr style=\"text-align: right;\">\n",
              "      <th></th>\n",
              "      <th>month</th>\n",
              "      <th>average_capacity</th>\n",
              "    </tr>\n",
              "  </thead>\n",
              "  <tbody>\n",
              "    <tr>\n",
              "      <th>0</th>\n",
              "      <td>January</td>\n",
              "      <td>12116.917702</td>\n",
              "    </tr>\n",
              "    <tr>\n",
              "      <th>1</th>\n",
              "      <td>February</td>\n",
              "      <td>12222.651809</td>\n",
              "    </tr>\n",
              "    <tr>\n",
              "      <th>2</th>\n",
              "      <td>March</td>\n",
              "      <td>12032.578645</td>\n",
              "    </tr>\n",
              "    <tr>\n",
              "      <th>3</th>\n",
              "      <td>April</td>\n",
              "      <td>11944.942214</td>\n",
              "    </tr>\n",
              "    <tr>\n",
              "      <th>4</th>\n",
              "      <td>May</td>\n",
              "      <td>12401.762957</td>\n",
              "    </tr>\n",
              "    <tr>\n",
              "      <th>5</th>\n",
              "      <td>June</td>\n",
              "      <td>12407.359029</td>\n",
              "    </tr>\n",
              "  </tbody>\n",
              "</table>\n",
              "</div>\n",
              "      <button class=\"colab-df-convert\" onclick=\"convertToInteractive('df-45f6e9a1-7c91-42b7-9f71-0be772a00cda')\"\n",
              "              title=\"Convert this dataframe to an interactive table.\"\n",
              "              style=\"display:none;\">\n",
              "        \n",
              "  <svg xmlns=\"http://www.w3.org/2000/svg\" height=\"24px\"viewBox=\"0 0 24 24\"\n",
              "       width=\"24px\">\n",
              "    <path d=\"M0 0h24v24H0V0z\" fill=\"none\"/>\n",
              "    <path d=\"M18.56 5.44l.94 2.06.94-2.06 2.06-.94-2.06-.94-.94-2.06-.94 2.06-2.06.94zm-11 1L8.5 8.5l.94-2.06 2.06-.94-2.06-.94L8.5 2.5l-.94 2.06-2.06.94zm10 10l.94 2.06.94-2.06 2.06-.94-2.06-.94-.94-2.06-.94 2.06-2.06.94z\"/><path d=\"M17.41 7.96l-1.37-1.37c-.4-.4-.92-.59-1.43-.59-.52 0-1.04.2-1.43.59L10.3 9.45l-7.72 7.72c-.78.78-.78 2.05 0 2.83L4 21.41c.39.39.9.59 1.41.59.51 0 1.02-.2 1.41-.59l7.78-7.78 2.81-2.81c.8-.78.8-2.07 0-2.86zM5.41 20L4 18.59l7.72-7.72 1.47 1.35L5.41 20z\"/>\n",
              "  </svg>\n",
              "      </button>\n",
              "      \n",
              "  <style>\n",
              "    .colab-df-container {\n",
              "      display:flex;\n",
              "      flex-wrap:wrap;\n",
              "      gap: 12px;\n",
              "    }\n",
              "\n",
              "    .colab-df-convert {\n",
              "      background-color: #E8F0FE;\n",
              "      border: none;\n",
              "      border-radius: 50%;\n",
              "      cursor: pointer;\n",
              "      display: none;\n",
              "      fill: #1967D2;\n",
              "      height: 32px;\n",
              "      padding: 0 0 0 0;\n",
              "      width: 32px;\n",
              "    }\n",
              "\n",
              "    .colab-df-convert:hover {\n",
              "      background-color: #E2EBFA;\n",
              "      box-shadow: 0px 1px 2px rgba(60, 64, 67, 0.3), 0px 1px 3px 1px rgba(60, 64, 67, 0.15);\n",
              "      fill: #174EA6;\n",
              "    }\n",
              "\n",
              "    [theme=dark] .colab-df-convert {\n",
              "      background-color: #3B4455;\n",
              "      fill: #D2E3FC;\n",
              "    }\n",
              "\n",
              "    [theme=dark] .colab-df-convert:hover {\n",
              "      background-color: #434B5C;\n",
              "      box-shadow: 0px 1px 3px 1px rgba(0, 0, 0, 0.15);\n",
              "      filter: drop-shadow(0px 1px 2px rgba(0, 0, 0, 0.3));\n",
              "      fill: #FFFFFF;\n",
              "    }\n",
              "  </style>\n",
              "\n",
              "      <script>\n",
              "        const buttonEl =\n",
              "          document.querySelector('#df-45f6e9a1-7c91-42b7-9f71-0be772a00cda button.colab-df-convert');\n",
              "        buttonEl.style.display =\n",
              "          google.colab.kernel.accessAllowed ? 'block' : 'none';\n",
              "\n",
              "        async function convertToInteractive(key) {\n",
              "          const element = document.querySelector('#df-45f6e9a1-7c91-42b7-9f71-0be772a00cda');\n",
              "          const dataTable =\n",
              "            await google.colab.kernel.invokeFunction('convertToInteractive',\n",
              "                                                     [key], {});\n",
              "          if (!dataTable) return;\n",
              "\n",
              "          const docLinkHtml = 'Like what you see? Visit the ' +\n",
              "            '<a target=\"_blank\" href=https://colab.research.google.com/notebooks/data_table.ipynb>data table notebook</a>'\n",
              "            + ' to learn more about interactive tables.';\n",
              "          element.innerHTML = '';\n",
              "          dataTable['output_type'] = 'display_data';\n",
              "          await google.colab.output.renderOutput(dataTable, element);\n",
              "          const docLink = document.createElement('div');\n",
              "          docLink.innerHTML = docLinkHtml;\n",
              "          element.appendChild(docLink);\n",
              "        }\n",
              "      </script>\n",
              "    </div>\n",
              "  </div>\n",
              "  "
            ]
          },
          "metadata": {},
          "execution_count": 73
        }
      ]
    },
    {
      "cell_type": "code",
      "source": [
        "#The p-value divided by 2 since the output is two-sided p-value\n",
        "t_stat,p_val = stats.ttest_1samp(df_month.average_capacity, 12000)\n",
        "print('p-value:',p_val/2) \n",
        "print('t-statistics:',t_stat)"
      ],
      "metadata": {
        "colab": {
          "base_uri": "https://localhost:8080/"
        },
        "id": "r_PIs3Y3Z-t4",
        "outputId": "64dccf74-5c08-4b0e-d308-7c176228aa02"
      },
      "execution_count": 74,
      "outputs": [
        {
          "output_type": "stream",
          "name": "stdout",
          "text": [
            "p-value: 0.030760194988417644\n",
            "t-statistics: 2.401319122773357\n"
          ]
        }
      ]
    },
    {
      "cell_type": "markdown",
      "source": [
        "*c) Confidence Interval (CI 90%)*\n",
        "\n",
        "Confidence Interval is a range of values so defined that there is a specified probability that the value of a parameter lies within it. It can be estimate plus and minus the variation in that estimate. In this case, the load capacity will be estimated, for instance, through CI 90% daily-based and taking `10000` random samples to make the calculation easier.\n",
        "\n",
        "As we can see the result of confidence interval, there are two results indicating as the minimum and maximum load weight that are recommended to be the capacity for waste collection sites.\n",
        "- Recommemded minimum capacity: `6724.20` pounds\n",
        "- Recommended maximum capacity: `15734.88` pounds"
      ],
      "metadata": {
        "id": "KSvI-NDIrx8x"
      }
    },
    {
      "cell_type": "code",
      "source": [
        "# Confidence Interval 90% (Daily-based)\n",
        "average_capacity_pop = np.random.normal(df_daily.load_weight.mean(), df_daily.load_weight.std(), 10000)\n",
        "\n",
        "ci = stats.norm.interval(0.90, df_daily.load_weight.mean(), df_daily.load_weight.std())\n",
        "print(ci)"
      ],
      "metadata": {
        "colab": {
          "base_uri": "https://localhost:8080/"
        },
        "id": "_nSg6jpe3dq1",
        "outputId": "e269e11e-9bd4-457d-e615-7db5da58cdf3"
      },
      "execution_count": 75,
      "outputs": [
        {
          "output_type": "stream",
          "name": "stdout",
          "text": [
            "(6724.19871739672, 15734.88341793932)\n"
          ]
        }
      ]
    },
    {
      "cell_type": "code",
      "source": [
        "# Plotting histogram for Confidence Interval 90% (Daily-based)\n",
        "sns.distplot(average_capacity_pop, label='Average Capacity (Distribution)', color='blue')\n",
        "plt.axvline(df_daily.load_weight.mean(), color='red', linewidth=2, label='Average Capacity (Mean)')\n",
        "plt.axvline(ci[1], color='orange', linestyle='dashed', linewidth=2, label='confidence interval of 90%')\n",
        "plt.axvline(average_capacity_pop.mean() + t_stat*df_daily.load_weight.std(), color='black', linestyle='dashed', linewidth=2, label = 'Alternative Hypothesis')\n",
        "plt.legend()"
      ],
      "metadata": {
        "colab": {
          "base_uri": "https://localhost:8080/",
          "height": 667
        },
        "id": "qwy1KbJdEoYG",
        "outputId": "352b04b9-00eb-42c3-955d-227cc3b36973"
      },
      "execution_count": 76,
      "outputs": [
        {
          "output_type": "stream",
          "name": "stderr",
          "text": [
            "/usr/local/lib/python3.7/dist-packages/seaborn/distributions.py:2619: FutureWarning: `distplot` is a deprecated function and will be removed in a future version. Please adapt your code to use either `displot` (a figure-level function with similar flexibility) or `histplot` (an axes-level function for histograms).\n",
            "  warnings.warn(msg, FutureWarning)\n"
          ]
        },
        {
          "output_type": "execute_result",
          "data": {
            "text/plain": [
              "<matplotlib.legend.Legend at 0x7fdb82f20690>"
            ]
          },
          "metadata": {},
          "execution_count": 76
        },
        {
          "output_type": "display_data",
          "data": {
            "text/plain": [
              "<Figure size 1440x720 with 1 Axes>"
            ],
            "image/png": "[encoded data removed]"
          },
          "metadata": {
            "needs_background": "light"
          }
        }
      ]
    },
    {
      "cell_type": "markdown",
      "source": [
        "**5.4. Load Weight Prediction on July 10, 2021**\n",
        "\n",
        "The same problem happens that governments want to know how much load of waste in `kg` in Austin on the next day, which is July 10 2021. Governments want us to predict its value. The analysis is started by grouping the sum of `load_weight` with `report_date` as daily report."
      ],
      "metadata": {
        "id": "62pC0hgaAyzu"
      }
    },
    {
      "cell_type": "code",
      "source": [
        "# Creating variable between report_date and load_weight\n",
        "df_daily_sum = df_austin.groupby(by=[\"report_date\"]).sum()\n",
        "df_daily_sum"
      ],
      "metadata": {
        "id": "UGFlRTuqIjP5",
        "colab": {
          "base_uri": "https://localhost:8080/",
          "height": 455
        },
        "outputId": "ffe98666-60a8-41cb-ce5b-4f80532725f2"
      },
      "execution_count": 77,
      "outputs": [
        {
          "output_type": "execute_result",
          "data": {
            "text/plain": [
              "             load_weight\n",
              "report_date             \n",
              "2021-01-01       11300.0\n",
              "2021-01-02     2181430.0\n",
              "2021-01-04     2920260.0\n",
              "2021-01-05     2399840.0\n",
              "2021-01-06     2419150.0\n",
              "...                  ...\n",
              "2021-07-05     1897290.0\n",
              "2021-07-06     1978140.0\n",
              "2021-07-07     1620880.0\n",
              "2021-07-08     1508050.0\n",
              "2021-07-09      126140.0\n",
              "\n",
              "[166 rows x 1 columns]"
            ],
            "text/html": [
              "\n",
              "  <div id=\"df-9079f4ed-8755-4af2-a010-617fbe03145c\">\n",
              "    <div class=\"colab-df-container\">\n",
              "      <div>\n",
              "<style scoped>\n",
              "    .dataframe tbody tr th:only-of-type {\n",
              "        vertical-align: middle;\n",
              "    }\n",
              "\n",
              "    .dataframe tbody tr th {\n",
              "        vertical-align: top;\n",
              "    }\n",
              "\n",
              "    .dataframe thead th {\n",
              "        text-align: right;\n",
              "    }\n",
              "</style>\n",
              "<table border=\"1\" class=\"dataframe\">\n",
              "  <thead>\n",
              "    <tr style=\"text-align: right;\">\n",
              "      <th></th>\n",
              "      <th>load_weight</th>\n",
              "    </tr>\n",
              "    <tr>\n",
              "      <th>report_date</th>\n",
              "      <th></th>\n",
              "    </tr>\n",
              "  </thead>\n",
              "  <tbody>\n",
              "    <tr>\n",
              "      <th>2021-01-01</th>\n",
              "      <td>11300.0</td>\n",
              "    </tr>\n",
              "    <tr>\n",
              "      <th>2021-01-02</th>\n",
              "      <td>2181430.0</td>\n",
              "    </tr>\n",
              "    <tr>\n",
              "      <th>2021-01-04</th>\n",
              "      <td>2920260.0</td>\n",
              "    </tr>\n",
              "    <tr>\n",
              "      <th>2021-01-05</th>\n",
              "      <td>2399840.0</td>\n",
              "    </tr>\n",
              "    <tr>\n",
              "      <th>2021-01-06</th>\n",
              "      <td>2419150.0</td>\n",
              "    </tr>\n",
              "    <tr>\n",
              "      <th>...</th>\n",
              "      <td>...</td>\n",
              "    </tr>\n",
              "    <tr>\n",
              "      <th>2021-07-05</th>\n",
              "      <td>1897290.0</td>\n",
              "    </tr>\n",
              "    <tr>\n",
              "      <th>2021-07-06</th>\n",
              "      <td>1978140.0</td>\n",
              "    </tr>\n",
              "    <tr>\n",
              "      <th>2021-07-07</th>\n",
              "      <td>1620880.0</td>\n",
              "    </tr>\n",
              "    <tr>\n",
              "      <th>2021-07-08</th>\n",
              "      <td>1508050.0</td>\n",
              "    </tr>\n",
              "    <tr>\n",
              "      <th>2021-07-09</th>\n",
              "      <td>126140.0</td>\n",
              "    </tr>\n",
              "  </tbody>\n",
              "</table>\n",
              "<p>166 rows × 1 columns</p>\n",
              "</div>\n",
              "      <button class=\"colab-df-convert\" onclick=\"convertToInteractive('df-9079f4ed-8755-4af2-a010-617fbe03145c')\"\n",
              "              title=\"Convert this dataframe to an interactive table.\"\n",
              "              style=\"display:none;\">\n",
              "        \n",
              "  <svg xmlns=\"http://www.w3.org/2000/svg\" height=\"24px\"viewBox=\"0 0 24 24\"\n",
              "       width=\"24px\">\n",
              "    <path d=\"M0 0h24v24H0V0z\" fill=\"none\"/>\n",
              "    <path d=\"M18.56 5.44l.94 2.06.94-2.06 2.06-.94-2.06-.94-.94-2.06-.94 2.06-2.06.94zm-11 1L8.5 8.5l.94-2.06 2.06-.94-2.06-.94L8.5 2.5l-.94 2.06-2.06.94zm10 10l.94 2.06.94-2.06 2.06-.94-2.06-.94-.94-2.06-.94 2.06-2.06.94z\"/><path d=\"M17.41 7.96l-1.37-1.37c-.4-.4-.92-.59-1.43-.59-.52 0-1.04.2-1.43.59L10.3 9.45l-7.72 7.72c-.78.78-.78 2.05 0 2.83L4 21.41c.39.39.9.59 1.41.59.51 0 1.02-.2 1.41-.59l7.78-7.78 2.81-2.81c.8-.78.8-2.07 0-2.86zM5.41 20L4 18.59l7.72-7.72 1.47 1.35L5.41 20z\"/>\n",
              "  </svg>\n",
              "      </button>\n",
              "      \n",
              "  <style>\n",
              "    .colab-df-container {\n",
              "      display:flex;\n",
              "      flex-wrap:wrap;\n",
              "      gap: 12px;\n",
              "    }\n",
              "\n",
              "    .colab-df-convert {\n",
              "      background-color: #E8F0FE;\n",
              "      border: none;\n",
              "      border-radius: 50%;\n",
              "      cursor: pointer;\n",
              "      display: none;\n",
              "      fill: #1967D2;\n",
              "      height: 32px;\n",
              "      padding: 0 0 0 0;\n",
              "      width: 32px;\n",
              "    }\n",
              "\n",
              "    .colab-df-convert:hover {\n",
              "      background-color: #E2EBFA;\n",
              "      box-shadow: 0px 1px 2px rgba(60, 64, 67, 0.3), 0px 1px 3px 1px rgba(60, 64, 67, 0.15);\n",
              "      fill: #174EA6;\n",
              "    }\n",
              "\n",
              "    [theme=dark] .colab-df-convert {\n",
              "      background-color: #3B4455;\n",
              "      fill: #D2E3FC;\n",
              "    }\n",
              "\n",
              "    [theme=dark] .colab-df-convert:hover {\n",
              "      background-color: #434B5C;\n",
              "      box-shadow: 0px 1px 3px 1px rgba(0, 0, 0, 0.15);\n",
              "      filter: drop-shadow(0px 1px 2px rgba(0, 0, 0, 0.3));\n",
              "      fill: #FFFFFF;\n",
              "    }\n",
              "  </style>\n",
              "\n",
              "      <script>\n",
              "        const buttonEl =\n",
              "          document.querySelector('#df-9079f4ed-8755-4af2-a010-617fbe03145c button.colab-df-convert');\n",
              "        buttonEl.style.display =\n",
              "          google.colab.kernel.accessAllowed ? 'block' : 'none';\n",
              "\n",
              "        async function convertToInteractive(key) {\n",
              "          const element = document.querySelector('#df-9079f4ed-8755-4af2-a010-617fbe03145c');\n",
              "          const dataTable =\n",
              "            await google.colab.kernel.invokeFunction('convertToInteractive',\n",
              "                                                     [key], {});\n",
              "          if (!dataTable) return;\n",
              "\n",
              "          const docLinkHtml = 'Like what you see? Visit the ' +\n",
              "            '<a target=\"_blank\" href=https://colab.research.google.com/notebooks/data_table.ipynb>data table notebook</a>'\n",
              "            + ' to learn more about interactive tables.';\n",
              "          element.innerHTML = '';\n",
              "          dataTable['output_type'] = 'display_data';\n",
              "          await google.colab.output.renderOutput(dataTable, element);\n",
              "          const docLink = document.createElement('div');\n",
              "          docLink.innerHTML = docLinkHtml;\n",
              "          element.appendChild(docLink);\n",
              "        }\n",
              "      </script>\n",
              "    </div>\n",
              "  </div>\n",
              "  "
            ]
          },
          "metadata": {},
          "execution_count": 77
        }
      ]
    },
    {
      "cell_type": "markdown",
      "source": [
        "*Raw prediction*\n",
        "\n",
        "Raw predicition here is by using the equation provided with the reported date that will be used: `July 8 and July 9 2021`, to predict `July 10 2021`.\n",
        "\n",
        "However, the results on July 10 2021 is **negative**. It is **not logical** because if the result is negative, that means the truck from waste collection would bring the wastes or garbages to the city. But in reality, it is always trucks bringing wastes and garbages to the waste collection sites. The reason why the result is negative is because of `the incomplete or error data input` on July 9 2021, which creates its value lower than July 8 2021.\n",
        "\n",
        "We can see the difference from the average:\n",
        "- July 8: `1,508,050` pounds\n",
        "- July 9: `126,140` pounds"
      ],
      "metadata": {
        "id": "vV5r02Q92VqZ"
      }
    },
    {
      "cell_type": "code",
      "source": [
        "# Load weight on July 8-9 2021\n",
        "load_9_7 = df_daily_sum.loc['2021-07-09','load_weight']\n",
        "load_8_7 = df_daily_sum.loc['2021-07-08','load_weight']\n",
        "print(f'July 9 2021: {load_9_7} pounds')\n",
        "print(f'July 8 2021: {load_8_7} pounds')"
      ],
      "metadata": {
        "colab": {
          "base_uri": "https://localhost:8080/"
        },
        "id": "-Ww0ZwHXR2DC",
        "outputId": "f9d4b9dc-8711-4582-e06a-241a6ae2b13f"
      },
      "execution_count": 78,
      "outputs": [
        {
          "output_type": "stream",
          "name": "stdout",
          "text": [
            "July 9 2021: 126140.0 pounds\n",
            "July 8 2021: 1508050.0 pounds\n"
          ]
        }
      ]
    },
    {
      "cell_type": "code",
      "source": [
        "# Original Prediction\n",
        "load_10_7 = load_9_7 + (load_9_7 - load_8_7)\n",
        "load_10_7\n",
        "print(f'July 10 2021: {load_10_7} pounds')"
      ],
      "metadata": {
        "colab": {
          "base_uri": "https://localhost:8080/"
        },
        "id": "-lXKOvYFGvOz",
        "outputId": "1ad745cd-1fb1-4be8-b1ce-a8f9b7218eff"
      },
      "execution_count": 79,
      "outputs": [
        {
          "output_type": "stream",
          "name": "stdout",
          "text": [
            "July 10 2021: -1255770.0 pounds\n"
          ]
        }
      ]
    },
    {
      "cell_type": "markdown",
      "source": [
        "*Make the predicition for July 9 before predicting July 10 2021*\n",
        "\n",
        "From the raw predicition with negative result, then the analysis is changed by: \\\n",
        "1. Making a `prediction for July 9 2021`, by using `July 7 and 8 2021`.\n",
        "2. Using `the prediction for July 9 2021` to predict `July 10 2021`."
      ],
      "metadata": {
        "id": "I8LNX15HMAHA"
      }
    },
    {
      "cell_type": "code",
      "source": [
        "# Prediction of Load Weight on July 9, 2021\n",
        "load_7_7 = df_daily_sum.loc['2021-07-07','load_weight']\n",
        "\n",
        "load_9_7_alt = load_8_7 + (load_8_7 - load_7_7)\n",
        "load_9_7_alt\n",
        "print(f'July 9 2021 Prediction: {load_9_7_alt} pounds')"
      ],
      "metadata": {
        "colab": {
          "base_uri": "https://localhost:8080/"
        },
        "id": "Offf1r19OGi9",
        "outputId": "158e6bc3-cfc8-47ef-943a-9a0bfcdcfc0d"
      },
      "execution_count": 80,
      "outputs": [
        {
          "output_type": "stream",
          "name": "stdout",
          "text": [
            "July 9 2021 Prediction: 1395220.0 pounds\n"
          ]
        }
      ]
    },
    {
      "cell_type": "code",
      "source": [
        "# Prediction of Load Weight on July 10, 2021 using July 9 prediction\n",
        "load_10_7_alt = load_9_7_alt + (load_9_7_alt - load_8_7)\n",
        "load_10_7_alt\n",
        "print(f'July 10 2021 Prediction: {load_10_7_alt} pounds')"
      ],
      "metadata": {
        "colab": {
          "base_uri": "https://localhost:8080/"
        },
        "id": "aArs_IUFQApg",
        "outputId": "84d87f0b-c205-477c-e0f3-3484a2ae493d"
      },
      "execution_count": 81,
      "outputs": [
        {
          "output_type": "stream",
          "name": "stdout",
          "text": [
            "July 10 2021 Prediction: 1282390.0 pounds\n"
          ]
        }
      ]
    },
    {
      "cell_type": "code",
      "source": [
        "# converting lbs to kg\n",
        "pounds = load_10_7_alt\n",
        "kg = pounds/2.2046\n",
        "print(f'Coverting July 10 2021: {pounds} pounds to kilograms: {kg} kg')"
      ],
      "metadata": {
        "colab": {
          "base_uri": "https://localhost:8080/"
        },
        "id": "MhW48yjKlOpm",
        "outputId": "90c0c104-f4f1-4669-8635-4073f293bc85"
      },
      "execution_count": 82,
      "outputs": [
        {
          "output_type": "stream",
          "name": "stdout",
          "text": [
            "Coverting July 10 2021: 1282390.0 pounds to kilograms: 581688.2881248299 kg\n"
          ]
        }
      ]
    },
    {
      "cell_type": "markdown",
      "source": [
        "July 10 2021 is predicted to have `1282390.0` pounds or `581688.28 kilograms (kg)`."
      ],
      "metadata": {
        "id": "ljY5VwNTkv2K"
      }
    },
    {
      "cell_type": "markdown",
      "source": [
        "---\n",
        "## **6. Conclusion**\n",
        "\n",
        "After a long process of data preparation, cleaning, and analysis, we can summarize:\n",
        "\n",
        "\\\n",
        "**Data Preparation**\n",
        "> There are `25712` data in the *raw data*, which should be cleaned, such as duplicate data, missing values (null), 0 (zero) value, and extreme values.\n",
        "\n",
        "\\\n",
        "**Data Cleaning**\n",
        "> Number of data after cleaning is `25686`, based on subtituting missing value with median, testing the skewness of data, removing extreme values or outliers.\n",
        "- The chosen method for handling missing values is by subtituting them, instead of removing missing value. This is based on testing data skewness with result is `Right Skewed` which means the distribution of data is mostly at the right side of mean (average) or more than 50% distribution of data `load_weight` are more than average.\n",
        "- There are `26` outliers availabe and removed from the data, which the most extreme value is `245540` from `TDS LANDFILL`.\n",
        "- Average load before removing outliers is `12206.72` pounds; average after removing outliers is `12158.49` pounds.\n",
        "\n",
        "\\\n",
        "**Data Analysis**\n",
        "\n",
        "From data analysis, we can finally answer problem statements mentioned on Part 2.\n",
        "\n",
        "**1. What is the current condition of Austin's waste collection and diversion system? (descriptive statistics)** \n",
        "> - **Evaluation the load monthly can be useful for waste collection scheduling and diversion system.** The average load weight from January to June 2021, based on overall waste collection sites, has some empty data, indicated by `NaN`. NaN means there are no waste load being dropped to the certain sites during that month.\n",
        "- The high number of center tendency in TDS Landfill can be the sign that **TDS Landfill is the main waste collection site in Austin**, which can be useful as a reference of the approximate the average load for the new TDS Landfill.\n",
        "\n",
        "**2. Should Austin, Texas TX governments add new sites for the garbage collection for the whole city? If yes, what kind of new sites that are recommended? If no, explain the reason. (inferential statistics)**\n",
        "> - **Unnecessary to add new sites**\\\n",
        "It is suggested that **the governments do not have to add new waste collection sites** because of the prediction how much load that would come to the waste collection seem to be the same as the first semester of 2021. This can be evaluated through the significance of probability statistics (indicated by *p-value*)--even from two contexts (daily-based and monthly-based)--the significance probability is lower than the expected value 0.05. Daily-based probability is only `0.0002` and Montly-based probability is `0.03`.\n",
        "- Load capacity recommendation calculated from **confidence interval 90%**: `6724.20` pounds (min), `15734.88` pounds (max).\n",
        "- Prediction on July 10, 2021:  `1282390.0` pounds or `581688.28 kilograms (kg)`.\n",
        "\n",
        "\\\n",
        "**Suggestions**\n",
        "\\\n",
        "As the analysis is finally concluded, it is suggested to analize from the type of load. The scheduling for waste diversion system should be considered as there are unoptimized usage at some particular collections sites, such as `Onion Creek`, `Park Center`, `St. Edwards` and `Park Center`. Those waste collection sites have potential to be optimized.\n",
        "\n",
        "On the other words, handling waste collection is not only by adding new collection sites, but also by **scheduling waste diversion system**. This will be useful not only to save more time and energy, but also to minimize the expense to buy new site for waste collection site.\n",
        "\n",
        "From here, the next analysis would potentially be about the income and expense for waste collection and diversion system."
      ],
      "metadata": {
        "id": "e7PmWcweRnL0"
      }
    }
  ],
  "metadata": {
    "language_info": {
      "name": "python"
    },
    "orig_nbformat": 4,
    "colab": {
      "provenance": [],
      "collapsed_sections": []
    },
    "kernelspec": {
      "name": "python3",
      "display_name": "Python 3"
    }
  },
  "nbformat": 4,
  "nbformat_minor": 0
}