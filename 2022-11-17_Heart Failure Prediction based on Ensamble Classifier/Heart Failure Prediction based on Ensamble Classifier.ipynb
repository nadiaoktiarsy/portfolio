{
  "nbformat": 4,
  "nbformat_minor": 0,
  "metadata": {
    "colab": {
      "provenance": [],
      "toc_visible": true
    },
    "kernelspec": {
      "name": "python3",
      "display_name": "Python 3"
    },
    "language_info": {
      "name": "python"
    }
  },
  "cells": [
    {
      "cell_type": "markdown",
      "source": [
        "#**Graded Challenge 3 Phase 1**\n",
        "## **Heart Failure Prediction based on Ensamble Classifier: Random Forest Classifier and Adaptive Boost Classifier**\n",
        "\n",
        "Nadia Oktiarsy, FSDS Batch-016 RMT (Buddy: Dian)\n",
        "\n",
        "---\n",
        "```\n",
        "Table of Contents:\n",
        "1. Introduction\n",
        "2. Importing Libraries\n",
        "3. Data Loading\n",
        "4. Exploratory Data Analysis (EDA)\n",
        "5. Data Preprocessing\n",
        "6. Model Definition\n",
        "7. Model Training\n",
        "8. Model Evalutation\n",
        "9. Model Inference\n",
        "10. Conclusion\n",
        "```"
      ],
      "metadata": {
        "id": "dF40TMGyUGFe"
      }
    },
    {
      "cell_type": "markdown",
      "source": [
        "## **1. Introduction**\n",
        "\n",
        "Cardiovascular diseases (CVDs) are the number 1 cause of death globally, taking an estimated 17.9 million lives each year, which accounts for 31% of all deaths worlwide.\n",
        "Heart failure is a common event caused by CVDs and this dataset contains 12 features that can be used to predict mortality by heart failure.\n",
        "\n",
        "Most cardiovascular diseases can be prevented by addressing behavioural risk factors such as tobacco use, unhealthy diet and obesity, physical inactivity and harmful use of alcohol using population-wide strategies.\n",
        "\n",
        "People with cardiovascular disease or who are at high cardiovascular risk (due to the presence of one or more risk factors such as hypertension, diabetes, hyperlipidaemia or already established disease) need early detection and management wherein a machine learning model can be of great help."
      ],
      "metadata": {
        "id": "g2yMqNHDUDWB"
      }
    },
    {
      "cell_type": "markdown",
      "source": [
        "### **Problem Statements**\n",
        "\n",
        "Since there are many features that can influence the mortaility by heart failute, this analysis will **determine whether a patient will have a heart attack or not**, because of the suspected variables.\n",
        "\n",
        "The analysis will use Ensamble Classifier: **Random Forest Classifier (RF)** and **Adaptive Boost Classifier (ABC)**. From those two algorithm, there will be an analysis for comparing the classification model and how it suggests the result of heart failure classification."
      ],
      "metadata": {
        "id": "_atB2X0jzPyp"
      }
    },
    {
      "cell_type": "markdown",
      "source": [
        "## **2. Importing Libraries**"
      ],
      "metadata": {
        "id": "tCa1i-eFURJ-"
      }
    },
    {
      "cell_type": "code",
      "execution_count": 170,
      "metadata": {
        "id": "rRKBYKOdPIAP"
      },
      "outputs": [],
      "source": [
        "# Importing Libraries\n",
        "import numpy as np\n",
        "import pandas as pd\n",
        "from scipy.stats import norm\n",
        "from scipy import stats\n",
        "import sys\n",
        "import sklearn\n",
        "\n",
        "import warnings\n",
        "warnings.filterwarnings('ignore')\n",
        "\n",
        "# Data visualization libraries\n",
        "import seaborn as sns\n",
        "\n",
        "import matplotlib\n",
        "from matplotlib import pyplot as plt\n",
        "%matplotlib inline\n",
        "matplotlib.rcParams['figure.figsize'] = (20,8)\n",
        "\n",
        "from sklearn import tree\n",
        "\n",
        "# Feature Selection\n",
        "from sklearn.feature_selection import chi2, SelectKBest, mutual_info_classif\n",
        "\n",
        "# Split Dataset and Standarize the Datasets\n",
        "from sklearn.model_selection import train_test_split, cross_val_score, GridSearchCV\n",
        "from sklearn.preprocessing import StandardScaler, MinMaxScaler\n",
        "from sklearn.preprocessing import LabelEncoder, OrdinalEncoder, OneHotEncoder\n",
        "from sklearn.datasets import make_classification\n",
        "from sklearn.pipeline import Pipeline\n",
        "\n",
        "# import DecisionTreeClassifier\n",
        "from sklearn.tree import DecisionTreeClassifier\n",
        "\n",
        "# import Ensamble classifier\n",
        "from sklearn.ensemble import RandomForestClassifier, AdaBoostClassifier\n",
        "\n",
        "# Evaluate Classification Models\n",
        "from sklearn.metrics import roc_auc_score, roc_curve\n",
        "from sklearn.metrics import accuracy_score, classification_report, ConfusionMatrixDisplay, confusion_matrix\n",
        "from sklearn.metrics import precision_score, recall_score, f1_score\n",
        "from sklearn.model_selection import cross_val_score\n",
        "\n",
        "# GoogleCloud Setup\n",
        "from google.colab import auth\n",
        "from google.cloud import bigquery\n",
        "from google.colab import data_table\n",
        "\n",
        "# Save and Load Model\n",
        "import joblib\n",
        "import json\n",
        "\n",
        "project = 'hacktiv8-016-nadiaoktiarsy' # Project ID inserted based on the query results selected to explore\n",
        "location = 'US'                        # Location inserted based on the query results selected to explore\n",
        "client = bigquery.Client(project=project, location=location)\n",
        "auth.authenticate_user()"
      ]
    },
    {
      "cell_type": "markdown",
      "source": [
        "## **3. Data Loading**\n",
        "\n",
        "The data available has `299 rows` and `13 columns`."
      ],
      "metadata": {
        "id": "RWBzu5ctfsir"
      }
    },
    {
      "cell_type": "code",
      "source": [
        "# Creating query\n",
        "df = client.query('''\n",
        "SELECT *\n",
        "FROM `ftds-hacktiv8-project.phase1_ftds_016_rmt.heart-failure`\n",
        "''').to_dataframe()\n",
        "\n",
        "df.head()"
      ],
      "metadata": {
        "colab": {
          "base_uri": "https://localhost:8080/",
          "height": 206
        },
        "id": "IPk28LV7SfPI",
        "outputId": "bd1962a1-9028-4b4e-f1bf-84aa159fab3c"
      },
      "execution_count": 96,
      "outputs": [
        {
          "output_type": "execute_result",
          "data": {
            "text/plain": [
              "    age  anaemia  creatinine_phosphokinase  diabetes  ejection_fraction  \\\n",
              "0  42.0        1                       250         1                 15   \n",
              "1  46.0        0                       168         1                 17   \n",
              "2  65.0        1                       160         1                 20   \n",
              "3  53.0        1                        91         0                 20   \n",
              "4  50.0        1                       582         1                 20   \n",
              "\n",
              "   high_blood_pressure  platelets  serum_creatinine  serum_sodium  sex  \\\n",
              "0                    0   213000.0               1.3           136    0   \n",
              "1                    1   271000.0               2.1           124    0   \n",
              "2                    0   327000.0               2.7           116    0   \n",
              "3                    1   418000.0               1.4           139    0   \n",
              "4                    1   279000.0               1.0           134    0   \n",
              "\n",
              "   smoking  time  DEATH_EVENT  \n",
              "0        0    65            1  \n",
              "1        0   100            1  \n",
              "2        0     8            1  \n",
              "3        0    43            1  \n",
              "4        0   186            0  "
            ],
            "text/html": [
              "\n",
              "  <div id=\"df-3cf54716-b452-4d35-8d28-ecc0deafcf6c\">\n",
              "    <div class=\"colab-df-container\">\n",
              "      <div>\n",
              "<style scoped>\n",
              "    .dataframe tbody tr th:only-of-type {\n",
              "        vertical-align: middle;\n",
              "    }\n",
              "\n",
              "    .dataframe tbody tr th {\n",
              "        vertical-align: top;\n",
              "    }\n",
              "\n",
              "    .dataframe thead th {\n",
              "        text-align: right;\n",
              "    }\n",
              "</style>\n",
              "<table border=\"1\" class=\"dataframe\">\n",
              "  <thead>\n",
              "    <tr style=\"text-align: right;\">\n",
              "      <th></th>\n",
              "      <th>age</th>\n",
              "      <th>anaemia</th>\n",
              "      <th>creatinine_phosphokinase</th>\n",
              "      <th>diabetes</th>\n",
              "      <th>ejection_fraction</th>\n",
              "      <th>high_blood_pressure</th>\n",
              "      <th>platelets</th>\n",
              "      <th>serum_creatinine</th>\n",
              "      <th>serum_sodium</th>\n",
              "      <th>sex</th>\n",
              "      <th>smoking</th>\n",
              "      <th>time</th>\n",
              "      <th>DEATH_EVENT</th>\n",
              "    </tr>\n",
              "  </thead>\n",
              "  <tbody>\n",
              "    <tr>\n",
              "      <th>0</th>\n",
              "      <td>42.0</td>\n",
              "      <td>1</td>\n",
              "      <td>250</td>\n",
              "      <td>1</td>\n",
              "      <td>15</td>\n",
              "      <td>0</td>\n",
              "      <td>213000.0</td>\n",
              "      <td>1.3</td>\n",
              "      <td>136</td>\n",
              "      <td>0</td>\n",
              "      <td>0</td>\n",
              "      <td>65</td>\n",
              "      <td>1</td>\n",
              "    </tr>\n",
              "    <tr>\n",
              "      <th>1</th>\n",
              "      <td>46.0</td>\n",
              "      <td>0</td>\n",
              "      <td>168</td>\n",
              "      <td>1</td>\n",
              "      <td>17</td>\n",
              "      <td>1</td>\n",
              "      <td>271000.0</td>\n",
              "      <td>2.1</td>\n",
              "      <td>124</td>\n",
              "      <td>0</td>\n",
              "      <td>0</td>\n",
              "      <td>100</td>\n",
              "      <td>1</td>\n",
              "    </tr>\n",
              "    <tr>\n",
              "      <th>2</th>\n",
              "      <td>65.0</td>\n",
              "      <td>1</td>\n",
              "      <td>160</td>\n",
              "      <td>1</td>\n",
              "      <td>20</td>\n",
              "      <td>0</td>\n",
              "      <td>327000.0</td>\n",
              "      <td>2.7</td>\n",
              "      <td>116</td>\n",
              "      <td>0</td>\n",
              "      <td>0</td>\n",
              "      <td>8</td>\n",
              "      <td>1</td>\n",
              "    </tr>\n",
              "    <tr>\n",
              "      <th>3</th>\n",
              "      <td>53.0</td>\n",
              "      <td>1</td>\n",
              "      <td>91</td>\n",
              "      <td>0</td>\n",
              "      <td>20</td>\n",
              "      <td>1</td>\n",
              "      <td>418000.0</td>\n",
              "      <td>1.4</td>\n",
              "      <td>139</td>\n",
              "      <td>0</td>\n",
              "      <td>0</td>\n",
              "      <td>43</td>\n",
              "      <td>1</td>\n",
              "    </tr>\n",
              "    <tr>\n",
              "      <th>4</th>\n",
              "      <td>50.0</td>\n",
              "      <td>1</td>\n",
              "      <td>582</td>\n",
              "      <td>1</td>\n",
              "      <td>20</td>\n",
              "      <td>1</td>\n",
              "      <td>279000.0</td>\n",
              "      <td>1.0</td>\n",
              "      <td>134</td>\n",
              "      <td>0</td>\n",
              "      <td>0</td>\n",
              "      <td>186</td>\n",
              "      <td>0</td>\n",
              "    </tr>\n",
              "  </tbody>\n",
              "</table>\n",
              "</div>\n",
              "      <button class=\"colab-df-convert\" onclick=\"convertToInteractive('df-3cf54716-b452-4d35-8d28-ecc0deafcf6c')\"\n",
              "              title=\"Convert this dataframe to an interactive table.\"\n",
              "              style=\"display:none;\">\n",
              "        \n",
              "  <svg xmlns=\"http://www.w3.org/2000/svg\" height=\"24px\"viewBox=\"0 0 24 24\"\n",
              "       width=\"24px\">\n",
              "    <path d=\"M0 0h24v24H0V0z\" fill=\"none\"/>\n",
              "    <path d=\"M18.56 5.44l.94 2.06.94-2.06 2.06-.94-2.06-.94-.94-2.06-.94 2.06-2.06.94zm-11 1L8.5 8.5l.94-2.06 2.06-.94-2.06-.94L8.5 2.5l-.94 2.06-2.06.94zm10 10l.94 2.06.94-2.06 2.06-.94-2.06-.94-.94-2.06-.94 2.06-2.06.94z\"/><path d=\"M17.41 7.96l-1.37-1.37c-.4-.4-.92-.59-1.43-.59-.52 0-1.04.2-1.43.59L10.3 9.45l-7.72 7.72c-.78.78-.78 2.05 0 2.83L4 21.41c.39.39.9.59 1.41.59.51 0 1.02-.2 1.41-.59l7.78-7.78 2.81-2.81c.8-.78.8-2.07 0-2.86zM5.41 20L4 18.59l7.72-7.72 1.47 1.35L5.41 20z\"/>\n",
              "  </svg>\n",
              "      </button>\n",
              "      \n",
              "  <style>\n",
              "    .colab-df-container {\n",
              "      display:flex;\n",
              "      flex-wrap:wrap;\n",
              "      gap: 12px;\n",
              "    }\n",
              "\n",
              "    .colab-df-convert {\n",
              "      background-color: #E8F0FE;\n",
              "      border: none;\n",
              "      border-radius: 50%;\n",
              "      cursor: pointer;\n",
              "      display: none;\n",
              "      fill: #1967D2;\n",
              "      height: 32px;\n",
              "      padding: 0 0 0 0;\n",
              "      width: 32px;\n",
              "    }\n",
              "\n",
              "    .colab-df-convert:hover {\n",
              "      background-color: #E2EBFA;\n",
              "      box-shadow: 0px 1px 2px rgba(60, 64, 67, 0.3), 0px 1px 3px 1px rgba(60, 64, 67, 0.15);\n",
              "      fill: #174EA6;\n",
              "    }\n",
              "\n",
              "    [theme=dark] .colab-df-convert {\n",
              "      background-color: #3B4455;\n",
              "      fill: #D2E3FC;\n",
              "    }\n",
              "\n",
              "    [theme=dark] .colab-df-convert:hover {\n",
              "      background-color: #434B5C;\n",
              "      box-shadow: 0px 1px 3px 1px rgba(0, 0, 0, 0.15);\n",
              "      filter: drop-shadow(0px 1px 2px rgba(0, 0, 0, 0.3));\n",
              "      fill: #FFFFFF;\n",
              "    }\n",
              "  </style>\n",
              "\n",
              "      <script>\n",
              "        const buttonEl =\n",
              "          document.querySelector('#df-3cf54716-b452-4d35-8d28-ecc0deafcf6c button.colab-df-convert');\n",
              "        buttonEl.style.display =\n",
              "          google.colab.kernel.accessAllowed ? 'block' : 'none';\n",
              "\n",
              "        async function convertToInteractive(key) {\n",
              "          const element = document.querySelector('#df-3cf54716-b452-4d35-8d28-ecc0deafcf6c');\n",
              "          const dataTable =\n",
              "            await google.colab.kernel.invokeFunction('convertToInteractive',\n",
              "                                                     [key], {});\n",
              "          if (!dataTable) return;\n",
              "\n",
              "          const docLinkHtml = 'Like what you see? Visit the ' +\n",
              "            '<a target=\"_blank\" href=https://colab.research.google.com/notebooks/data_table.ipynb>data table notebook</a>'\n",
              "            + ' to learn more about interactive tables.';\n",
              "          element.innerHTML = '';\n",
              "          dataTable['output_type'] = 'display_data';\n",
              "          await google.colab.output.renderOutput(dataTable, element);\n",
              "          const docLink = document.createElement('div');\n",
              "          docLink.innerHTML = docLinkHtml;\n",
              "          element.appendChild(docLink);\n",
              "        }\n",
              "      </script>\n",
              "    </div>\n",
              "  </div>\n",
              "  "
            ]
          },
          "metadata": {},
          "execution_count": 96
        }
      ]
    },
    {
      "cell_type": "code",
      "source": [
        "df.tail()"
      ],
      "metadata": {
        "colab": {
          "base_uri": "https://localhost:8080/",
          "height": 206
        },
        "id": "H9y0SB6WThL8",
        "outputId": "ff795fbf-56b1-42e5-f6c1-6c6f90fe88b7"
      },
      "execution_count": 97,
      "outputs": [
        {
          "output_type": "execute_result",
          "data": {
            "text/plain": [
              "      age  anaemia  creatinine_phosphokinase  diabetes  ejection_fraction  \\\n",
              "294  63.0        1                       122         1                 60   \n",
              "295  45.0        0                       308         1                 60   \n",
              "296  70.0        0                        97         0                 60   \n",
              "297  53.0        1                       446         0                 60   \n",
              "298  50.0        0                       582         0                 62   \n",
              "\n",
              "     high_blood_pressure  platelets  serum_creatinine  serum_sodium  sex  \\\n",
              "294                    0  267000.00               1.2           145    1   \n",
              "295                    1  377000.00               1.0           136    1   \n",
              "296                    1  220000.00               0.9           138    1   \n",
              "297                    1  263358.03               1.0           139    1   \n",
              "298                    1  147000.00               0.8           140    1   \n",
              "\n",
              "     smoking  time  DEATH_EVENT  \n",
              "294        0   147            0  \n",
              "295        0   186            0  \n",
              "296        0   186            0  \n",
              "297        0   215            0  \n",
              "298        1   192            0  "
            ],
            "text/html": [
              "\n",
              "  <div id=\"df-cedb4346-404b-4d4f-896b-afa20d5b3512\">\n",
              "    <div class=\"colab-df-container\">\n",
              "      <div>\n",
              "<style scoped>\n",
              "    .dataframe tbody tr th:only-of-type {\n",
              "        vertical-align: middle;\n",
              "    }\n",
              "\n",
              "    .dataframe tbody tr th {\n",
              "        vertical-align: top;\n",
              "    }\n",
              "\n",
              "    .dataframe thead th {\n",
              "        text-align: right;\n",
              "    }\n",
              "</style>\n",
              "<table border=\"1\" class=\"dataframe\">\n",
              "  <thead>\n",
              "    <tr style=\"text-align: right;\">\n",
              "      <th></th>\n",
              "      <th>age</th>\n",
              "      <th>anaemia</th>\n",
              "      <th>creatinine_phosphokinase</th>\n",
              "      <th>diabetes</th>\n",
              "      <th>ejection_fraction</th>\n",
              "      <th>high_blood_pressure</th>\n",
              "      <th>platelets</th>\n",
              "      <th>serum_creatinine</th>\n",
              "      <th>serum_sodium</th>\n",
              "      <th>sex</th>\n",
              "      <th>smoking</th>\n",
              "      <th>time</th>\n",
              "      <th>DEATH_EVENT</th>\n",
              "    </tr>\n",
              "  </thead>\n",
              "  <tbody>\n",
              "    <tr>\n",
              "      <th>294</th>\n",
              "      <td>63.0</td>\n",
              "      <td>1</td>\n",
              "      <td>122</td>\n",
              "      <td>1</td>\n",
              "      <td>60</td>\n",
              "      <td>0</td>\n",
              "      <td>267000.00</td>\n",
              "      <td>1.2</td>\n",
              "      <td>145</td>\n",
              "      <td>1</td>\n",
              "      <td>0</td>\n",
              "      <td>147</td>\n",
              "      <td>0</td>\n",
              "    </tr>\n",
              "    <tr>\n",
              "      <th>295</th>\n",
              "      <td>45.0</td>\n",
              "      <td>0</td>\n",
              "      <td>308</td>\n",
              "      <td>1</td>\n",
              "      <td>60</td>\n",
              "      <td>1</td>\n",
              "      <td>377000.00</td>\n",
              "      <td>1.0</td>\n",
              "      <td>136</td>\n",
              "      <td>1</td>\n",
              "      <td>0</td>\n",
              "      <td>186</td>\n",
              "      <td>0</td>\n",
              "    </tr>\n",
              "    <tr>\n",
              "      <th>296</th>\n",
              "      <td>70.0</td>\n",
              "      <td>0</td>\n",
              "      <td>97</td>\n",
              "      <td>0</td>\n",
              "      <td>60</td>\n",
              "      <td>1</td>\n",
              "      <td>220000.00</td>\n",
              "      <td>0.9</td>\n",
              "      <td>138</td>\n",
              "      <td>1</td>\n",
              "      <td>0</td>\n",
              "      <td>186</td>\n",
              "      <td>0</td>\n",
              "    </tr>\n",
              "    <tr>\n",
              "      <th>297</th>\n",
              "      <td>53.0</td>\n",
              "      <td>1</td>\n",
              "      <td>446</td>\n",
              "      <td>0</td>\n",
              "      <td>60</td>\n",
              "      <td>1</td>\n",
              "      <td>263358.03</td>\n",
              "      <td>1.0</td>\n",
              "      <td>139</td>\n",
              "      <td>1</td>\n",
              "      <td>0</td>\n",
              "      <td>215</td>\n",
              "      <td>0</td>\n",
              "    </tr>\n",
              "    <tr>\n",
              "      <th>298</th>\n",
              "      <td>50.0</td>\n",
              "      <td>0</td>\n",
              "      <td>582</td>\n",
              "      <td>0</td>\n",
              "      <td>62</td>\n",
              "      <td>1</td>\n",
              "      <td>147000.00</td>\n",
              "      <td>0.8</td>\n",
              "      <td>140</td>\n",
              "      <td>1</td>\n",
              "      <td>1</td>\n",
              "      <td>192</td>\n",
              "      <td>0</td>\n",
              "    </tr>\n",
              "  </tbody>\n",
              "</table>\n",
              "</div>\n",
              "      <button class=\"colab-df-convert\" onclick=\"convertToInteractive('df-cedb4346-404b-4d4f-896b-afa20d5b3512')\"\n",
              "              title=\"Convert this dataframe to an interactive table.\"\n",
              "              style=\"display:none;\">\n",
              "        \n",
              "  <svg xmlns=\"http://www.w3.org/2000/svg\" height=\"24px\"viewBox=\"0 0 24 24\"\n",
              "       width=\"24px\">\n",
              "    <path d=\"M0 0h24v24H0V0z\" fill=\"none\"/>\n",
              "    <path d=\"M18.56 5.44l.94 2.06.94-2.06 2.06-.94-2.06-.94-.94-2.06-.94 2.06-2.06.94zm-11 1L8.5 8.5l.94-2.06 2.06-.94-2.06-.94L8.5 2.5l-.94 2.06-2.06.94zm10 10l.94 2.06.94-2.06 2.06-.94-2.06-.94-.94-2.06-.94 2.06-2.06.94z\"/><path d=\"M17.41 7.96l-1.37-1.37c-.4-.4-.92-.59-1.43-.59-.52 0-1.04.2-1.43.59L10.3 9.45l-7.72 7.72c-.78.78-.78 2.05 0 2.83L4 21.41c.39.39.9.59 1.41.59.51 0 1.02-.2 1.41-.59l7.78-7.78 2.81-2.81c.8-.78.8-2.07 0-2.86zM5.41 20L4 18.59l7.72-7.72 1.47 1.35L5.41 20z\"/>\n",
              "  </svg>\n",
              "      </button>\n",
              "      \n",
              "  <style>\n",
              "    .colab-df-container {\n",
              "      display:flex;\n",
              "      flex-wrap:wrap;\n",
              "      gap: 12px;\n",
              "    }\n",
              "\n",
              "    .colab-df-convert {\n",
              "      background-color: #E8F0FE;\n",
              "      border: none;\n",
              "      border-radius: 50%;\n",
              "      cursor: pointer;\n",
              "      display: none;\n",
              "      fill: #1967D2;\n",
              "      height: 32px;\n",
              "      padding: 0 0 0 0;\n",
              "      width: 32px;\n",
              "    }\n",
              "\n",
              "    .colab-df-convert:hover {\n",
              "      background-color: #E2EBFA;\n",
              "      box-shadow: 0px 1px 2px rgba(60, 64, 67, 0.3), 0px 1px 3px 1px rgba(60, 64, 67, 0.15);\n",
              "      fill: #174EA6;\n",
              "    }\n",
              "\n",
              "    [theme=dark] .colab-df-convert {\n",
              "      background-color: #3B4455;\n",
              "      fill: #D2E3FC;\n",
              "    }\n",
              "\n",
              "    [theme=dark] .colab-df-convert:hover {\n",
              "      background-color: #434B5C;\n",
              "      box-shadow: 0px 1px 3px 1px rgba(0, 0, 0, 0.15);\n",
              "      filter: drop-shadow(0px 1px 2px rgba(0, 0, 0, 0.3));\n",
              "      fill: #FFFFFF;\n",
              "    }\n",
              "  </style>\n",
              "\n",
              "      <script>\n",
              "        const buttonEl =\n",
              "          document.querySelector('#df-cedb4346-404b-4d4f-896b-afa20d5b3512 button.colab-df-convert');\n",
              "        buttonEl.style.display =\n",
              "          google.colab.kernel.accessAllowed ? 'block' : 'none';\n",
              "\n",
              "        async function convertToInteractive(key) {\n",
              "          const element = document.querySelector('#df-cedb4346-404b-4d4f-896b-afa20d5b3512');\n",
              "          const dataTable =\n",
              "            await google.colab.kernel.invokeFunction('convertToInteractive',\n",
              "                                                     [key], {});\n",
              "          if (!dataTable) return;\n",
              "\n",
              "          const docLinkHtml = 'Like what you see? Visit the ' +\n",
              "            '<a target=\"_blank\" href=https://colab.research.google.com/notebooks/data_table.ipynb>data table notebook</a>'\n",
              "            + ' to learn more about interactive tables.';\n",
              "          element.innerHTML = '';\n",
              "          dataTable['output_type'] = 'display_data';\n",
              "          await google.colab.output.renderOutput(dataTable, element);\n",
              "          const docLink = document.createElement('div');\n",
              "          docLink.innerHTML = docLinkHtml;\n",
              "          element.appendChild(docLink);\n",
              "        }\n",
              "      </script>\n",
              "    </div>\n",
              "  </div>\n",
              "  "
            ]
          },
          "metadata": {},
          "execution_count": 97
        }
      ]
    },
    {
      "cell_type": "code",
      "source": [
        "## Downloading csv file\n",
        "# from google.colab import files\n",
        "# df.to_csv(r'h8dsft_P1G3_nadia_oktiarsy.csv')\n",
        "# files.download(r'h8dsft_P1G3_nadia_oktiarsy.csv')"
      ],
      "metadata": {
        "id": "gNbqAswgTk_q"
      },
      "execution_count": 98,
      "outputs": []
    },
    {
      "cell_type": "markdown",
      "source": [
        "Based on the data information, it can be found that all data are mostly intergers. Then we convert the data from interger to float so it will be easier to scale later."
      ],
      "metadata": {
        "id": "pTifg8ezlSAq"
      }
    },
    {
      "cell_type": "code",
      "source": [
        "df.info()"
      ],
      "metadata": {
        "colab": {
          "base_uri": "https://localhost:8080/"
        },
        "id": "q9zpYePFAvGO",
        "outputId": "ed693169-6733-480b-f492-244466f0141c"
      },
      "execution_count": 99,
      "outputs": [
        {
          "output_type": "stream",
          "name": "stdout",
          "text": [
            "<class 'pandas.core.frame.DataFrame'>\n",
            "RangeIndex: 299 entries, 0 to 298\n",
            "Data columns (total 13 columns):\n",
            " #   Column                    Non-Null Count  Dtype  \n",
            "---  ------                    --------------  -----  \n",
            " 0   age                       299 non-null    float64\n",
            " 1   anaemia                   299 non-null    Int64  \n",
            " 2   creatinine_phosphokinase  299 non-null    Int64  \n",
            " 3   diabetes                  299 non-null    Int64  \n",
            " 4   ejection_fraction         299 non-null    Int64  \n",
            " 5   high_blood_pressure       299 non-null    Int64  \n",
            " 6   platelets                 299 non-null    float64\n",
            " 7   serum_creatinine          299 non-null    float64\n",
            " 8   serum_sodium              299 non-null    Int64  \n",
            " 9   sex                       299 non-null    Int64  \n",
            " 10  smoking                   299 non-null    Int64  \n",
            " 11  time                      299 non-null    Int64  \n",
            " 12  DEATH_EVENT               299 non-null    Int64  \n",
            "dtypes: Int64(10), float64(3)\n",
            "memory usage: 33.4 KB\n"
          ]
        }
      ]
    },
    {
      "cell_type": "code",
      "source": [
        "# Converting all columsn from int to float\n",
        "df = df.rename(columns={'DEATH_EVENT':\"death_event\"})\n",
        "df = df.astype({'age':'float','anaemia':'float','creatinine_phosphokinase':'float','diabetes':'float','ejection_fraction':'float',\n",
        "                'high_blood_pressure':'float','platelets':'float','serum_creatinine':'float','serum_sodium':'float','sex':'float',\n",
        "                'smoking':'float','time':'float','death_event':'float'})\n",
        "df.info()"
      ],
      "metadata": {
        "colab": {
          "base_uri": "https://localhost:8080/"
        },
        "id": "EouusagfUZG4",
        "outputId": "6e2aa621-befe-4546-c598-cf63f85aae9f"
      },
      "execution_count": 100,
      "outputs": [
        {
          "output_type": "stream",
          "name": "stdout",
          "text": [
            "<class 'pandas.core.frame.DataFrame'>\n",
            "RangeIndex: 299 entries, 0 to 298\n",
            "Data columns (total 13 columns):\n",
            " #   Column                    Non-Null Count  Dtype  \n",
            "---  ------                    --------------  -----  \n",
            " 0   age                       299 non-null    float64\n",
            " 1   anaemia                   299 non-null    float64\n",
            " 2   creatinine_phosphokinase  299 non-null    float64\n",
            " 3   diabetes                  299 non-null    float64\n",
            " 4   ejection_fraction         299 non-null    float64\n",
            " 5   high_blood_pressure       299 non-null    float64\n",
            " 6   platelets                 299 non-null    float64\n",
            " 7   serum_creatinine          299 non-null    float64\n",
            " 8   serum_sodium              299 non-null    float64\n",
            " 9   sex                       299 non-null    float64\n",
            " 10  smoking                   299 non-null    float64\n",
            " 11  time                      299 non-null    float64\n",
            " 12  death_event               299 non-null    float64\n",
            "dtypes: float64(13)\n",
            "memory usage: 30.5 KB\n"
          ]
        }
      ]
    },
    {
      "cell_type": "code",
      "source": [
        "# Checking missing values\n",
        "df.isnull().sum().sum()"
      ],
      "metadata": {
        "colab": {
          "base_uri": "https://localhost:8080/"
        },
        "id": "WYhRowxIUec6",
        "outputId": "1eae08a1-414e-4711-f384-0ff42f7695e4"
      },
      "execution_count": 101,
      "outputs": [
        {
          "output_type": "execute_result",
          "data": {
            "text/plain": [
              "0"
            ]
          },
          "metadata": {},
          "execution_count": 101
        }
      ]
    },
    {
      "cell_type": "markdown",
      "source": [
        "**Data description**\n",
        "\n",
        "Header | Definition\n",
        "---|---\n",
        "`age` | Age in years\n",
        "`anemia` | Decrease of red blood cells or hemoglobin (0 = no anaemia, 1 = has anaemia)\n",
        "`creatinine_phosphokinase  ` | Level of the CPK enzyme in the blood (mcg/L)\n",
        "`diabetes` | If the patient has diabetes (0 = no diabetes, 1 = has diabetes)\n",
        "`ejection_fraction` | Percentage of blood leaving the heart at each contraction (percentage)\n",
        "`high_blood_pressure` | If the patient has hypertension (0 = no, 1 = yes)\n",
        "`platelets` | Platelets in the blood (kiloplatelets/mL)\n",
        "`serum_creatinine` | Level of serum creatinine in the blood (mg/dL)\n",
        "`serum_sodium` | Level of serum sodium in the blood (mEq/L)\n",
        "`sex` | Woman or man (Female = 0, Male = 1)\n",
        "`smoking` | If the patient smokes or not (0 = no, 1 = yes)\n",
        "`time` | Follow-up period (days)\n",
        "`DEATH_EVENT` | If the patient deceased during the follow-up period (0 = no, 1= yes)"
      ],
      "metadata": {
        "id": "y4iyJaczUjYf"
      }
    },
    {
      "cell_type": "markdown",
      "source": [
        "## **4. Exploratory Data Analysis (EDA)**\n",
        "\n",
        "Exploratory Data Analysis will be divided into two:\n",
        "1. General Information, to describe the `Death Event` with other variables in general.\n",
        "2. Correlation Analysis, to describe deeper between `Death Event` and other variables through correlation analysis."
      ],
      "metadata": {
        "id": "NtUXxN7xVy3T"
      }
    },
    {
      "cell_type": "markdown",
      "source": [
        "### **4.1. General Information**"
      ],
      "metadata": {
        "id": "dD_Vv8IjkVeB"
      }
    },
    {
      "cell_type": "code",
      "source": [
        "# General statistic information\n",
        "df.describe().T"
      ],
      "metadata": {
        "colab": {
          "base_uri": "https://localhost:8080/",
          "height": 457
        },
        "id": "XOFwvLaAzdct",
        "outputId": "c16a0dbd-fe8f-45d5-ca36-0551367a06a8"
      },
      "execution_count": 186,
      "outputs": [
        {
          "output_type": "execute_result",
          "data": {
            "text/plain": [
              "                          count           mean           std      min  \\\n",
              "age                       299.0      60.833893     11.894809     40.0   \n",
              "anaemia                   299.0       0.431438      0.496107      0.0   \n",
              "creatinine_phosphokinase  299.0     581.839465    970.287881     23.0   \n",
              "diabetes                  299.0       0.418060      0.494067      0.0   \n",
              "ejection_fraction         299.0      38.083612     11.834841     14.0   \n",
              "high_blood_pressure       299.0       0.351171      0.478136      0.0   \n",
              "platelets                 299.0  263358.029264  97804.236869  25100.0   \n",
              "serum_creatinine          299.0       1.393880      1.034510      0.5   \n",
              "serum_sodium              299.0     136.625418      4.412477    113.0   \n",
              "sex                       299.0       0.648829      0.478136      0.0   \n",
              "smoking                   299.0       0.321070      0.467670      0.0   \n",
              "time                      299.0     130.260870     77.614208      4.0   \n",
              "death_event               299.0       0.321070      0.467670      0.0   \n",
              "\n",
              "                               25%       50%       75%       max  \n",
              "age                           51.0      60.0      70.0      95.0  \n",
              "anaemia                        0.0       0.0       1.0       1.0  \n",
              "creatinine_phosphokinase     116.5     250.0     582.0    7861.0  \n",
              "diabetes                       0.0       0.0       1.0       1.0  \n",
              "ejection_fraction             30.0      38.0      45.0      80.0  \n",
              "high_blood_pressure            0.0       0.0       1.0       1.0  \n",
              "platelets                 212500.0  262000.0  303500.0  850000.0  \n",
              "serum_creatinine               0.9       1.1       1.4       9.4  \n",
              "serum_sodium                 134.0     137.0     140.0     148.0  \n",
              "sex                            0.0       1.0       1.0       1.0  \n",
              "smoking                        0.0       0.0       1.0       1.0  \n",
              "time                          73.0     115.0     203.0     285.0  \n",
              "death_event                    0.0       0.0       1.0       1.0  "
            ],
            "text/html": [
              "\n",
              "  <div id=\"df-a61467b9-38cb-4368-a742-ad03018fe5f1\">\n",
              "    <div class=\"colab-df-container\">\n",
              "      <div>\n",
              "<style scoped>\n",
              "    .dataframe tbody tr th:only-of-type {\n",
              "        vertical-align: middle;\n",
              "    }\n",
              "\n",
              "    .dataframe tbody tr th {\n",
              "        vertical-align: top;\n",
              "    }\n",
              "\n",
              "    .dataframe thead th {\n",
              "        text-align: right;\n",
              "    }\n",
              "</style>\n",
              "<table border=\"1\" class=\"dataframe\">\n",
              "  <thead>\n",
              "    <tr style=\"text-align: right;\">\n",
              "      <th></th>\n",
              "      <th>count</th>\n",
              "      <th>mean</th>\n",
              "      <th>std</th>\n",
              "      <th>min</th>\n",
              "      <th>25%</th>\n",
              "      <th>50%</th>\n",
              "      <th>75%</th>\n",
              "      <th>max</th>\n",
              "    </tr>\n",
              "  </thead>\n",
              "  <tbody>\n",
              "    <tr>\n",
              "      <th>age</th>\n",
              "      <td>299.0</td>\n",
              "      <td>60.833893</td>\n",
              "      <td>11.894809</td>\n",
              "      <td>40.0</td>\n",
              "      <td>51.0</td>\n",
              "      <td>60.0</td>\n",
              "      <td>70.0</td>\n",
              "      <td>95.0</td>\n",
              "    </tr>\n",
              "    <tr>\n",
              "      <th>anaemia</th>\n",
              "      <td>299.0</td>\n",
              "      <td>0.431438</td>\n",
              "      <td>0.496107</td>\n",
              "      <td>0.0</td>\n",
              "      <td>0.0</td>\n",
              "      <td>0.0</td>\n",
              "      <td>1.0</td>\n",
              "      <td>1.0</td>\n",
              "    </tr>\n",
              "    <tr>\n",
              "      <th>creatinine_phosphokinase</th>\n",
              "      <td>299.0</td>\n",
              "      <td>581.839465</td>\n",
              "      <td>970.287881</td>\n",
              "      <td>23.0</td>\n",
              "      <td>116.5</td>\n",
              "      <td>250.0</td>\n",
              "      <td>582.0</td>\n",
              "      <td>7861.0</td>\n",
              "    </tr>\n",
              "    <tr>\n",
              "      <th>diabetes</th>\n",
              "      <td>299.0</td>\n",
              "      <td>0.418060</td>\n",
              "      <td>0.494067</td>\n",
              "      <td>0.0</td>\n",
              "      <td>0.0</td>\n",
              "      <td>0.0</td>\n",
              "      <td>1.0</td>\n",
              "      <td>1.0</td>\n",
              "    </tr>\n",
              "    <tr>\n",
              "      <th>ejection_fraction</th>\n",
              "      <td>299.0</td>\n",
              "      <td>38.083612</td>\n",
              "      <td>11.834841</td>\n",
              "      <td>14.0</td>\n",
              "      <td>30.0</td>\n",
              "      <td>38.0</td>\n",
              "      <td>45.0</td>\n",
              "      <td>80.0</td>\n",
              "    </tr>\n",
              "    <tr>\n",
              "      <th>high_blood_pressure</th>\n",
              "      <td>299.0</td>\n",
              "      <td>0.351171</td>\n",
              "      <td>0.478136</td>\n",
              "      <td>0.0</td>\n",
              "      <td>0.0</td>\n",
              "      <td>0.0</td>\n",
              "      <td>1.0</td>\n",
              "      <td>1.0</td>\n",
              "    </tr>\n",
              "    <tr>\n",
              "      <th>platelets</th>\n",
              "      <td>299.0</td>\n",
              "      <td>263358.029264</td>\n",
              "      <td>97804.236869</td>\n",
              "      <td>25100.0</td>\n",
              "      <td>212500.0</td>\n",
              "      <td>262000.0</td>\n",
              "      <td>303500.0</td>\n",
              "      <td>850000.0</td>\n",
              "    </tr>\n",
              "    <tr>\n",
              "      <th>serum_creatinine</th>\n",
              "      <td>299.0</td>\n",
              "      <td>1.393880</td>\n",
              "      <td>1.034510</td>\n",
              "      <td>0.5</td>\n",
              "      <td>0.9</td>\n",
              "      <td>1.1</td>\n",
              "      <td>1.4</td>\n",
              "      <td>9.4</td>\n",
              "    </tr>\n",
              "    <tr>\n",
              "      <th>serum_sodium</th>\n",
              "      <td>299.0</td>\n",
              "      <td>136.625418</td>\n",
              "      <td>4.412477</td>\n",
              "      <td>113.0</td>\n",
              "      <td>134.0</td>\n",
              "      <td>137.0</td>\n",
              "      <td>140.0</td>\n",
              "      <td>148.0</td>\n",
              "    </tr>\n",
              "    <tr>\n",
              "      <th>sex</th>\n",
              "      <td>299.0</td>\n",
              "      <td>0.648829</td>\n",
              "      <td>0.478136</td>\n",
              "      <td>0.0</td>\n",
              "      <td>0.0</td>\n",
              "      <td>1.0</td>\n",
              "      <td>1.0</td>\n",
              "      <td>1.0</td>\n",
              "    </tr>\n",
              "    <tr>\n",
              "      <th>smoking</th>\n",
              "      <td>299.0</td>\n",
              "      <td>0.321070</td>\n",
              "      <td>0.467670</td>\n",
              "      <td>0.0</td>\n",
              "      <td>0.0</td>\n",
              "      <td>0.0</td>\n",
              "      <td>1.0</td>\n",
              "      <td>1.0</td>\n",
              "    </tr>\n",
              "    <tr>\n",
              "      <th>time</th>\n",
              "      <td>299.0</td>\n",
              "      <td>130.260870</td>\n",
              "      <td>77.614208</td>\n",
              "      <td>4.0</td>\n",
              "      <td>73.0</td>\n",
              "      <td>115.0</td>\n",
              "      <td>203.0</td>\n",
              "      <td>285.0</td>\n",
              "    </tr>\n",
              "    <tr>\n",
              "      <th>death_event</th>\n",
              "      <td>299.0</td>\n",
              "      <td>0.321070</td>\n",
              "      <td>0.467670</td>\n",
              "      <td>0.0</td>\n",
              "      <td>0.0</td>\n",
              "      <td>0.0</td>\n",
              "      <td>1.0</td>\n",
              "      <td>1.0</td>\n",
              "    </tr>\n",
              "  </tbody>\n",
              "</table>\n",
              "</div>\n",
              "      <button class=\"colab-df-convert\" onclick=\"convertToInteractive('df-a61467b9-38cb-4368-a742-ad03018fe5f1')\"\n",
              "              title=\"Convert this dataframe to an interactive table.\"\n",
              "              style=\"display:none;\">\n",
              "        \n",
              "  <svg xmlns=\"http://www.w3.org/2000/svg\" height=\"24px\"viewBox=\"0 0 24 24\"\n",
              "       width=\"24px\">\n",
              "    <path d=\"M0 0h24v24H0V0z\" fill=\"none\"/>\n",
              "    <path d=\"M18.56 5.44l.94 2.06.94-2.06 2.06-.94-2.06-.94-.94-2.06-.94 2.06-2.06.94zm-11 1L8.5 8.5l.94-2.06 2.06-.94-2.06-.94L8.5 2.5l-.94 2.06-2.06.94zm10 10l.94 2.06.94-2.06 2.06-.94-2.06-.94-.94-2.06-.94 2.06-2.06.94z\"/><path d=\"M17.41 7.96l-1.37-1.37c-.4-.4-.92-.59-1.43-.59-.52 0-1.04.2-1.43.59L10.3 9.45l-7.72 7.72c-.78.78-.78 2.05 0 2.83L4 21.41c.39.39.9.59 1.41.59.51 0 1.02-.2 1.41-.59l7.78-7.78 2.81-2.81c.8-.78.8-2.07 0-2.86zM5.41 20L4 18.59l7.72-7.72 1.47 1.35L5.41 20z\"/>\n",
              "  </svg>\n",
              "      </button>\n",
              "      \n",
              "  <style>\n",
              "    .colab-df-container {\n",
              "      display:flex;\n",
              "      flex-wrap:wrap;\n",
              "      gap: 12px;\n",
              "    }\n",
              "\n",
              "    .colab-df-convert {\n",
              "      background-color: #E8F0FE;\n",
              "      border: none;\n",
              "      border-radius: 50%;\n",
              "      cursor: pointer;\n",
              "      display: none;\n",
              "      fill: #1967D2;\n",
              "      height: 32px;\n",
              "      padding: 0 0 0 0;\n",
              "      width: 32px;\n",
              "    }\n",
              "\n",
              "    .colab-df-convert:hover {\n",
              "      background-color: #E2EBFA;\n",
              "      box-shadow: 0px 1px 2px rgba(60, 64, 67, 0.3), 0px 1px 3px 1px rgba(60, 64, 67, 0.15);\n",
              "      fill: #174EA6;\n",
              "    }\n",
              "\n",
              "    [theme=dark] .colab-df-convert {\n",
              "      background-color: #3B4455;\n",
              "      fill: #D2E3FC;\n",
              "    }\n",
              "\n",
              "    [theme=dark] .colab-df-convert:hover {\n",
              "      background-color: #434B5C;\n",
              "      box-shadow: 0px 1px 3px 1px rgba(0, 0, 0, 0.15);\n",
              "      filter: drop-shadow(0px 1px 2px rgba(0, 0, 0, 0.3));\n",
              "      fill: #FFFFFF;\n",
              "    }\n",
              "  </style>\n",
              "\n",
              "      <script>\n",
              "        const buttonEl =\n",
              "          document.querySelector('#df-a61467b9-38cb-4368-a742-ad03018fe5f1 button.colab-df-convert');\n",
              "        buttonEl.style.display =\n",
              "          google.colab.kernel.accessAllowed ? 'block' : 'none';\n",
              "\n",
              "        async function convertToInteractive(key) {\n",
              "          const element = document.querySelector('#df-a61467b9-38cb-4368-a742-ad03018fe5f1');\n",
              "          const dataTable =\n",
              "            await google.colab.kernel.invokeFunction('convertToInteractive',\n",
              "                                                     [key], {});\n",
              "          if (!dataTable) return;\n",
              "\n",
              "          const docLinkHtml = 'Like what you see? Visit the ' +\n",
              "            '<a target=\"_blank\" href=https://colab.research.google.com/notebooks/data_table.ipynb>data table notebook</a>'\n",
              "            + ' to learn more about interactive tables.';\n",
              "          element.innerHTML = '';\n",
              "          dataTable['output_type'] = 'display_data';\n",
              "          await google.colab.output.renderOutput(dataTable, element);\n",
              "          const docLink = document.createElement('div');\n",
              "          docLink.innerHTML = docLinkHtml;\n",
              "          element.appendChild(docLink);\n",
              "        }\n",
              "      </script>\n",
              "    </div>\n",
              "  </div>\n",
              "  "
            ]
          },
          "metadata": {},
          "execution_count": 186
        }
      ]
    },
    {
      "cell_type": "markdown",
      "source": [
        "**Number of Death Event**\n",
        "\n",
        "Number of deaths after the following days are different, where `Non-Death` is higher 35% from `Death`. This will be keep in mind if there is any imbalance data or not. But first, the `death_event`--as the target--will be compared with other variables so we can get the conclusion for the skewness and handling imbalance data."
      ],
      "metadata": {
        "id": "Zkqg9ZF7vBIJ"
      }
    },
    {
      "cell_type": "code",
      "source": [
        "# Number of Death Event\n",
        "df.death_event.value_counts()"
      ],
      "metadata": {
        "colab": {
          "base_uri": "https://localhost:8080/"
        },
        "id": "VpgW_yAgvDod",
        "outputId": "1f6cc246-0bd3-4d62-e644-1d2988a96864"
      },
      "execution_count": 113,
      "outputs": [
        {
          "output_type": "execute_result",
          "data": {
            "text/plain": [
              "0.0    203\n",
              "1.0     96\n",
              "Name: death_event, dtype: int64"
            ]
          },
          "metadata": {},
          "execution_count": 113
        }
      ]
    },
    {
      "cell_type": "code",
      "source": [
        "# Creating Plot piechart of Cab Type (Uber vs Lyft)\n",
        "num_death = dict(df.death_event.value_counts())\n",
        "labels = 'No', 'Yes'\n",
        "sizes = [num_death[0], num_death[1]]\n",
        "explode = (0, 0.2)\n",
        "\n",
        "with sns.color_palette(\"deep\"):\n",
        "    plt.pie(sizes, explode=explode, labels=labels,\n",
        "    autopct='%1.1f%%', shadow=True, startangle=200)\n",
        "\n",
        "# Plot title\n",
        "plt.axis('equal')\n",
        "plt.title('Piechart of Number of Death Event')\n",
        "plt.show()"
      ],
      "metadata": {
        "colab": {
          "base_uri": "https://localhost:8080/",
          "height": 455
        },
        "id": "jPcvAKhSv129",
        "outputId": "8e9330e8-46d5-4c6b-eafb-36229de7e889"
      },
      "execution_count": 114,
      "outputs": [
        {
          "output_type": "display_data",
          "data": {
            "text/plain": [
              "<Figure size 1008x540 with 1 Axes>"
            ],
            "image/png": "[encoded data removed]"
          },
          "metadata": {}
        }
      ]
    },
    {
      "cell_type": "markdown",
      "source": [
        "**Gender Distribution**\n",
        "\n",
        "There is no significant difference between female and male for having death_event. It also can be seen that the average age for both female and male are around 60 years old. It is suspected that `sex` does not have any strong influence to `death_event`."
      ],
      "metadata": {
        "id": "mfX_SBcJvYjw"
      }
    },
    {
      "cell_type": "code",
      "source": [
        "matplotlib.rcParams['figure.figsize'] = (20,5)\n",
        "\n",
        "# Plotting Gender Distribution\n",
        "plt.subplot(1, 3, 1)\n",
        "sns.barplot(data=df, x='sex', y='age')\n",
        "plt.title('Barplot of Sex Distribution based on Age')\n",
        "\n",
        "# Plotting Education level Distribution\n",
        "plt.subplot(1, 3, 2)\n",
        "sns.barplot(data=df, x='sex', y='death_event')\n",
        "plt.title('Barplot of Chance of Heart Attack based on Age')"
      ],
      "metadata": {
        "colab": {
          "base_uri": "https://localhost:8080/",
          "height": 367
        },
        "id": "ddSNOlqis5Mk",
        "outputId": "821b0d98-3ac0-42c3-ad6c-745bb6b4df68"
      },
      "execution_count": 115,
      "outputs": [
        {
          "output_type": "execute_result",
          "data": {
            "text/plain": [
              "Text(0.5, 1.0, 'Barplot of Chance of Heart Attack based on Age')"
            ]
          },
          "metadata": {},
          "execution_count": 115
        },
        {
          "output_type": "display_data",
          "data": {
            "text/plain": [
              "<Figure size 1440x360 with 2 Axes>"
            ],
            "image/png": "[encoded data removed]"
          },
          "metadata": {
            "needs_background": "light"
          }
        }
      ]
    },
    {
      "cell_type": "markdown",
      "source": [
        "**Comparison between Death Event with other variables**\n",
        "\n",
        "Based on the histogram below, we can see that the distribution of Not Death is still dominating that Death. However, we should check wherer variable *time* looks different than the others, where Death is high with time between 0-100 days. from here we should check the skewness of *time* as well."
      ],
      "metadata": {
        "id": "14KYA7LQnp0Q"
      }
    },
    {
      "cell_type": "code",
      "source": [
        "# Creating new dataframe for the histogram\n",
        "output = 'death_event'\n",
        "cols = [f for f in df.columns if df.dtypes[f] != \"object\"]\n",
        "f = pd.melt(df, id_vars=output, value_vars=cols)\n",
        "\n",
        "# Creating histogram\n",
        "g = sns.FacetGrid(f, hue=output, col=\"variable\", col_wrap=4, sharex=False, sharey=False )\n",
        "g = g.map(sns.histplot, \"value\", kde=True).add_legend()"
      ],
      "metadata": {
        "colab": {
          "base_uri": "https://localhost:8080/",
          "height": 657
        },
        "id": "0fgMkQ7pl2Rt",
        "outputId": "0aef3c80-8e36-4b35-a98b-b9e27f0fd357"
      },
      "execution_count": 116,
      "outputs": [
        {
          "output_type": "display_data",
          "data": {
            "text/plain": [
              "<Figure size 934.25x648 with 12 Axes>"
            ],
            "image/png": "[encoded data removed]"
          },
          "metadata": {
            "needs_background": "light"
          }
        }
      ]
    },
    {
      "cell_type": "markdown",
      "source": [
        "### **4.2. Correlation Analysis**\n",
        "\n",
        "Since the data all in intergers, the data for correlation analysis will be handled by creating its scaling and encoding."
      ],
      "metadata": {
        "id": "7QLZYar_kZdD"
      }
    },
    {
      "cell_type": "code",
      "source": [
        "# Splitting between numerical columns and categorical columns\n",
        "num_columns = ['age','creatinine_phosphokinase','ejection_fraction','platelets','serum_creatinine','serum_sodium','time']\n",
        "cat_columns = ['anaemia','diabetes','high_blood_pressure','sex','smoking','death_event']\n",
        "\n",
        "print('Numerical columns  : ', num_columns)\n",
        "print('Categorical columns  : ', cat_columns)"
      ],
      "metadata": {
        "colab": {
          "base_uri": "https://localhost:8080/"
        },
        "id": "YBXmdxtm4FtV",
        "outputId": "2109fa2c-5822-4be0-f62d-02e0a6756d91"
      },
      "execution_count": 118,
      "outputs": [
        {
          "output_type": "stream",
          "name": "stdout",
          "text": [
            "Numerical columns  :  ['age', 'creatinine_phosphokinase', 'ejection_fraction', 'platelets', 'serum_creatinine', 'serum_sodium', 'time']\n",
            "Categorical columns  :  ['anaemia', 'diabetes', 'high_blood_pressure', 'sex', 'smoking', 'death_event']\n"
          ]
        }
      ]
    },
    {
      "cell_type": "code",
      "source": [
        "# Making feature scaling for numerical columns with Normalizaation - MinMaxScaler\n",
        "scaler = MinMaxScaler()\n",
        "scaler.fit(df)\n",
        "\n",
        "df_scaled = scaler.transform(df)\n",
        "df_scaled = pd.DataFrame(df_scaled, columns = df.columns, index = df.index)\n",
        "df_scaled"
      ],
      "metadata": {
        "colab": {
          "base_uri": "https://localhost:8080/",
          "height": 424
        },
        "id": "Z9oLEYahB4re",
        "outputId": "d6b3a309-aac4-4554-8f19-59bb3c34130e"
      },
      "execution_count": 119,
      "outputs": [
        {
          "output_type": "execute_result",
          "data": {
            "text/plain": [
              "          age  anaemia  creatinine_phosphokinase  diabetes  ejection_fraction  \\\n",
              "0    0.036364      1.0                  0.028961       1.0           0.015152   \n",
              "1    0.109091      0.0                  0.018500       1.0           0.045455   \n",
              "2    0.454545      1.0                  0.017479       1.0           0.090909   \n",
              "3    0.236364      1.0                  0.008676       0.0           0.090909   \n",
              "4    0.181818      1.0                  0.071319       1.0           0.090909   \n",
              "..        ...      ...                       ...       ...                ...   \n",
              "294  0.418182      1.0                  0.012631       1.0           0.696970   \n",
              "295  0.090909      0.0                  0.036361       1.0           0.696970   \n",
              "296  0.545455      0.0                  0.009441       0.0           0.696970   \n",
              "297  0.236364      1.0                  0.053968       0.0           0.696970   \n",
              "298  0.181818      0.0                  0.071319       0.0           0.727273   \n",
              "\n",
              "     high_blood_pressure  platelets  serum_creatinine  serum_sodium  sex  \\\n",
              "0                    0.0   0.227785          0.089888      0.657143  0.0   \n",
              "1                    1.0   0.298097          0.179775      0.314286  0.0   \n",
              "2                    0.0   0.365984          0.247191      0.085714  0.0   \n",
              "3                    1.0   0.476300          0.101124      0.742857  0.0   \n",
              "4                    1.0   0.307795          0.056180      0.600000  0.0   \n",
              "..                   ...        ...               ...           ...  ...   \n",
              "294                  0.0   0.293248          0.078652      0.914286  1.0   \n",
              "295                  1.0   0.426597          0.056180      0.657143  1.0   \n",
              "296                  1.0   0.236271          0.044944      0.714286  1.0   \n",
              "297                  1.0   0.288833          0.056180      0.742857  1.0   \n",
              "298                  1.0   0.147775          0.033708      0.771429  1.0   \n",
              "\n",
              "     smoking      time  death_event  \n",
              "0        0.0  0.217082          1.0  \n",
              "1        0.0  0.341637          1.0  \n",
              "2        0.0  0.014235          1.0  \n",
              "3        0.0  0.138790          1.0  \n",
              "4        0.0  0.647687          0.0  \n",
              "..       ...       ...          ...  \n",
              "294      0.0  0.508897          0.0  \n",
              "295      0.0  0.647687          0.0  \n",
              "296      0.0  0.647687          0.0  \n",
              "297      0.0  0.750890          0.0  \n",
              "298      1.0  0.669039          0.0  \n",
              "\n",
              "[299 rows x 13 columns]"
            ],
            "text/html": [
              "\n",
              "  <div id=\"df-c614c7c3-5e2c-4b46-a995-4af8caee2d03\">\n",
              "    <div class=\"colab-df-container\">\n",
              "      <div>\n",
              "<style scoped>\n",
              "    .dataframe tbody tr th:only-of-type {\n",
              "        vertical-align: middle;\n",
              "    }\n",
              "\n",
              "    .dataframe tbody tr th {\n",
              "        vertical-align: top;\n",
              "    }\n",
              "\n",
              "    .dataframe thead th {\n",
              "        text-align: right;\n",
              "    }\n",
              "</style>\n",
              "<table border=\"1\" class=\"dataframe\">\n",
              "  <thead>\n",
              "    <tr style=\"text-align: right;\">\n",
              "      <th></th>\n",
              "      <th>age</th>\n",
              "      <th>anaemia</th>\n",
              "      <th>creatinine_phosphokinase</th>\n",
              "      <th>diabetes</th>\n",
              "      <th>ejection_fraction</th>\n",
              "      <th>high_blood_pressure</th>\n",
              "      <th>platelets</th>\n",
              "      <th>serum_creatinine</th>\n",
              "      <th>serum_sodium</th>\n",
              "      <th>sex</th>\n",
              "      <th>smoking</th>\n",
              "      <th>time</th>\n",
              "      <th>death_event</th>\n",
              "    </tr>\n",
              "  </thead>\n",
              "  <tbody>\n",
              "    <tr>\n",
              "      <th>0</th>\n",
              "      <td>0.036364</td>\n",
              "      <td>1.0</td>\n",
              "      <td>0.028961</td>\n",
              "      <td>1.0</td>\n",
              "      <td>0.015152</td>\n",
              "      <td>0.0</td>\n",
              "      <td>0.227785</td>\n",
              "      <td>0.089888</td>\n",
              "      <td>0.657143</td>\n",
              "      <td>0.0</td>\n",
              "      <td>0.0</td>\n",
              "      <td>0.217082</td>\n",
              "      <td>1.0</td>\n",
              "    </tr>\n",
              "    <tr>\n",
              "      <th>1</th>\n",
              "      <td>0.109091</td>\n",
              "      <td>0.0</td>\n",
              "      <td>0.018500</td>\n",
              "      <td>1.0</td>\n",
              "      <td>0.045455</td>\n",
              "      <td>1.0</td>\n",
              "      <td>0.298097</td>\n",
              "      <td>0.179775</td>\n",
              "      <td>0.314286</td>\n",
              "      <td>0.0</td>\n",
              "      <td>0.0</td>\n",
              "      <td>0.341637</td>\n",
              "      <td>1.0</td>\n",
              "    </tr>\n",
              "    <tr>\n",
              "      <th>2</th>\n",
              "      <td>0.454545</td>\n",
              "      <td>1.0</td>\n",
              "      <td>0.017479</td>\n",
              "      <td>1.0</td>\n",
              "      <td>0.090909</td>\n",
              "      <td>0.0</td>\n",
              "      <td>0.365984</td>\n",
              "      <td>0.247191</td>\n",
              "      <td>0.085714</td>\n",
              "      <td>0.0</td>\n",
              "      <td>0.0</td>\n",
              "      <td>0.014235</td>\n",
              "      <td>1.0</td>\n",
              "    </tr>\n",
              "    <tr>\n",
              "      <th>3</th>\n",
              "      <td>0.236364</td>\n",
              "      <td>1.0</td>\n",
              "      <td>0.008676</td>\n",
              "      <td>0.0</td>\n",
              "      <td>0.090909</td>\n",
              "      <td>1.0</td>\n",
              "      <td>0.476300</td>\n",
              "      <td>0.101124</td>\n",
              "      <td>0.742857</td>\n",
              "      <td>0.0</td>\n",
              "      <td>0.0</td>\n",
              "      <td>0.138790</td>\n",
              "      <td>1.0</td>\n",
              "    </tr>\n",
              "    <tr>\n",
              "      <th>4</th>\n",
              "      <td>0.181818</td>\n",
              "      <td>1.0</td>\n",
              "      <td>0.071319</td>\n",
              "      <td>1.0</td>\n",
              "      <td>0.090909</td>\n",
              "      <td>1.0</td>\n",
              "      <td>0.307795</td>\n",
              "      <td>0.056180</td>\n",
              "      <td>0.600000</td>\n",
              "      <td>0.0</td>\n",
              "      <td>0.0</td>\n",
              "      <td>0.647687</td>\n",
              "      <td>0.0</td>\n",
              "    </tr>\n",
              "    <tr>\n",
              "      <th>...</th>\n",
              "      <td>...</td>\n",
              "      <td>...</td>\n",
              "      <td>...</td>\n",
              "      <td>...</td>\n",
              "      <td>...</td>\n",
              "      <td>...</td>\n",
              "      <td>...</td>\n",
              "      <td>...</td>\n",
              "      <td>...</td>\n",
              "      <td>...</td>\n",
              "      <td>...</td>\n",
              "      <td>...</td>\n",
              "      <td>...</td>\n",
              "    </tr>\n",
              "    <tr>\n",
              "      <th>294</th>\n",
              "      <td>0.418182</td>\n",
              "      <td>1.0</td>\n",
              "      <td>0.012631</td>\n",
              "      <td>1.0</td>\n",
              "      <td>0.696970</td>\n",
              "      <td>0.0</td>\n",
              "      <td>0.293248</td>\n",
              "      <td>0.078652</td>\n",
              "      <td>0.914286</td>\n",
              "      <td>1.0</td>\n",
              "      <td>0.0</td>\n",
              "      <td>0.508897</td>\n",
              "      <td>0.0</td>\n",
              "    </tr>\n",
              "    <tr>\n",
              "      <th>295</th>\n",
              "      <td>0.090909</td>\n",
              "      <td>0.0</td>\n",
              "      <td>0.036361</td>\n",
              "      <td>1.0</td>\n",
              "      <td>0.696970</td>\n",
              "      <td>1.0</td>\n",
              "      <td>0.426597</td>\n",
              "      <td>0.056180</td>\n",
              "      <td>0.657143</td>\n",
              "      <td>1.0</td>\n",
              "      <td>0.0</td>\n",
              "      <td>0.647687</td>\n",
              "      <td>0.0</td>\n",
              "    </tr>\n",
              "    <tr>\n",
              "      <th>296</th>\n",
              "      <td>0.545455</td>\n",
              "      <td>0.0</td>\n",
              "      <td>0.009441</td>\n",
              "      <td>0.0</td>\n",
              "      <td>0.696970</td>\n",
              "      <td>1.0</td>\n",
              "      <td>0.236271</td>\n",
              "      <td>0.044944</td>\n",
              "      <td>0.714286</td>\n",
              "      <td>1.0</td>\n",
              "      <td>0.0</td>\n",
              "      <td>0.647687</td>\n",
              "      <td>0.0</td>\n",
              "    </tr>\n",
              "    <tr>\n",
              "      <th>297</th>\n",
              "      <td>0.236364</td>\n",
              "      <td>1.0</td>\n",
              "      <td>0.053968</td>\n",
              "      <td>0.0</td>\n",
              "      <td>0.696970</td>\n",
              "      <td>1.0</td>\n",
              "      <td>0.288833</td>\n",
              "      <td>0.056180</td>\n",
              "      <td>0.742857</td>\n",
              "      <td>1.0</td>\n",
              "      <td>0.0</td>\n",
              "      <td>0.750890</td>\n",
              "      <td>0.0</td>\n",
              "    </tr>\n",
              "    <tr>\n",
              "      <th>298</th>\n",
              "      <td>0.181818</td>\n",
              "      <td>0.0</td>\n",
              "      <td>0.071319</td>\n",
              "      <td>0.0</td>\n",
              "      <td>0.727273</td>\n",
              "      <td>1.0</td>\n",
              "      <td>0.147775</td>\n",
              "      <td>0.033708</td>\n",
              "      <td>0.771429</td>\n",
              "      <td>1.0</td>\n",
              "      <td>1.0</td>\n",
              "      <td>0.669039</td>\n",
              "      <td>0.0</td>\n",
              "    </tr>\n",
              "  </tbody>\n",
              "</table>\n",
              "<p>299 rows × 13 columns</p>\n",
              "</div>\n",
              "      <button class=\"colab-df-convert\" onclick=\"convertToInteractive('df-c614c7c3-5e2c-4b46-a995-4af8caee2d03')\"\n",
              "              title=\"Convert this dataframe to an interactive table.\"\n",
              "              style=\"display:none;\">\n",
              "        \n",
              "  <svg xmlns=\"http://www.w3.org/2000/svg\" height=\"24px\"viewBox=\"0 0 24 24\"\n",
              "       width=\"24px\">\n",
              "    <path d=\"M0 0h24v24H0V0z\" fill=\"none\"/>\n",
              "    <path d=\"M18.56 5.44l.94 2.06.94-2.06 2.06-.94-2.06-.94-.94-2.06-.94 2.06-2.06.94zm-11 1L8.5 8.5l.94-2.06 2.06-.94-2.06-.94L8.5 2.5l-.94 2.06-2.06.94zm10 10l.94 2.06.94-2.06 2.06-.94-2.06-.94-.94-2.06-.94 2.06-2.06.94z\"/><path d=\"M17.41 7.96l-1.37-1.37c-.4-.4-.92-.59-1.43-.59-.52 0-1.04.2-1.43.59L10.3 9.45l-7.72 7.72c-.78.78-.78 2.05 0 2.83L4 21.41c.39.39.9.59 1.41.59.51 0 1.02-.2 1.41-.59l7.78-7.78 2.81-2.81c.8-.78.8-2.07 0-2.86zM5.41 20L4 18.59l7.72-7.72 1.47 1.35L5.41 20z\"/>\n",
              "  </svg>\n",
              "      </button>\n",
              "      \n",
              "  <style>\n",
              "    .colab-df-container {\n",
              "      display:flex;\n",
              "      flex-wrap:wrap;\n",
              "      gap: 12px;\n",
              "    }\n",
              "\n",
              "    .colab-df-convert {\n",
              "      background-color: #E8F0FE;\n",
              "      border: none;\n",
              "      border-radius: 50%;\n",
              "      cursor: pointer;\n",
              "      display: none;\n",
              "      fill: #1967D2;\n",
              "      height: 32px;\n",
              "      padding: 0 0 0 0;\n",
              "      width: 32px;\n",
              "    }\n",
              "\n",
              "    .colab-df-convert:hover {\n",
              "      background-color: #E2EBFA;\n",
              "      box-shadow: 0px 1px 2px rgba(60, 64, 67, 0.3), 0px 1px 3px 1px rgba(60, 64, 67, 0.15);\n",
              "      fill: #174EA6;\n",
              "    }\n",
              "\n",
              "    [theme=dark] .colab-df-convert {\n",
              "      background-color: #3B4455;\n",
              "      fill: #D2E3FC;\n",
              "    }\n",
              "\n",
              "    [theme=dark] .colab-df-convert:hover {\n",
              "      background-color: #434B5C;\n",
              "      box-shadow: 0px 1px 3px 1px rgba(0, 0, 0, 0.15);\n",
              "      filter: drop-shadow(0px 1px 2px rgba(0, 0, 0, 0.3));\n",
              "      fill: #FFFFFF;\n",
              "    }\n",
              "  </style>\n",
              "\n",
              "      <script>\n",
              "        const buttonEl =\n",
              "          document.querySelector('#df-c614c7c3-5e2c-4b46-a995-4af8caee2d03 button.colab-df-convert');\n",
              "        buttonEl.style.display =\n",
              "          google.colab.kernel.accessAllowed ? 'block' : 'none';\n",
              "\n",
              "        async function convertToInteractive(key) {\n",
              "          const element = document.querySelector('#df-c614c7c3-5e2c-4b46-a995-4af8caee2d03');\n",
              "          const dataTable =\n",
              "            await google.colab.kernel.invokeFunction('convertToInteractive',\n",
              "                                                     [key], {});\n",
              "          if (!dataTable) return;\n",
              "\n",
              "          const docLinkHtml = 'Like what you see? Visit the ' +\n",
              "            '<a target=\"_blank\" href=https://colab.research.google.com/notebooks/data_table.ipynb>data table notebook</a>'\n",
              "            + ' to learn more about interactive tables.';\n",
              "          element.innerHTML = '';\n",
              "          dataTable['output_type'] = 'display_data';\n",
              "          await google.colab.output.renderOutput(dataTable, element);\n",
              "          const docLink = document.createElement('div');\n",
              "          docLink.innerHTML = docLinkHtml;\n",
              "          element.appendChild(docLink);\n",
              "        }\n",
              "      </script>\n",
              "    </div>\n",
              "  </div>\n",
              "  "
            ]
          },
          "metadata": {},
          "execution_count": 119
        }
      ]
    },
    {
      "cell_type": "markdown",
      "source": [
        "Based on the correlation, `time` is the strongest correlation with death event, and the relationship is negative correlation. This means that heart attack kills people who got it within short following-up days after the heart attack event.\n",
        "\n",
        "Moreover, `age` and `serum_creatine` have a positive correlation although not as strong as *time*. For age, this means that the older the person, the higher chance they have `death` from the heart attack. Serum creatine means the higher level of serum creatine in blood, the higher chance this person will die from the heart attack.\n",
        "\n",
        "Meanwhile, `sex` and `diabetes` are the lowest correlation overall. `Smoking` and `platelets ` are also low, but not as long as sex and diabetes, so we should evaluate furthermore for these two varibles."
      ],
      "metadata": {
        "id": "aqYzGN6o1ocj"
      }
    },
    {
      "cell_type": "code",
      "source": [
        "# Plotting Correlation Matrix of Categorical columns and Price\n",
        "plt.figure(figsize=(13,10))\n",
        "sns.heatmap(df_scaled.corr(),annot=True)"
      ],
      "metadata": {
        "colab": {
          "base_uri": "https://localhost:8080/",
          "height": 733
        },
        "id": "oHOtNsvG4bSN",
        "outputId": "5dd7c6aa-d379-404a-c221-34a241aa8b63"
      },
      "execution_count": 120,
      "outputs": [
        {
          "output_type": "execute_result",
          "data": {
            "text/plain": [
              "<matplotlib.axes._subplots.AxesSubplot at 0x7f7f9be1ec50>"
            ]
          },
          "metadata": {},
          "execution_count": 120
        },
        {
          "output_type": "display_data",
          "data": {
            "text/plain": [
              "<Figure size 936x720 with 2 Axes>"
            ],
            "image/png": "[encoded data removed]"
          },
          "metadata": {
            "needs_background": "light"
          }
        }
      ]
    },
    {
      "cell_type": "markdown",
      "source": [
        "### **4.3. Chi-square**\n",
        "\n",
        "After evaluating from chi-square, as the threshold is set 5% (or p-value is 0.05), it can be observed that `time`, `serum_creatine`, and `age` hold top three highest significance. Meanwhile the lowest are `sex`, `diabetes`, `smoking`, and `platelets` are under p-value 0.05 threshold, which are not significant to influence the `death_event`.\n",
        "\n",
        "Thus we can see that both correlation and chi-square analysis can prove the same significance."
      ],
      "metadata": {
        "id": "iLHkOg47kcrz"
      }
    },
    {
      "cell_type": "code",
      "source": [
        "X_chi = df_scaled.drop(['death_event'],axis=1)\n",
        "y_chi = pd.DataFrame(df_scaled['death_event'])\n",
        "\n",
        "# k = 4 tells four top features to be selected\n",
        "# Score function Chi2 tells the feature to be selected using Chi Square\n",
        "train = SelectKBest(score_func=chi2, k=4)\n",
        "fit = train.fit(X_chi, y_chi)\n",
        "\n",
        "chi = pd.Series(fit.scores_)\n",
        "chi.index = X_chi.columns\n",
        "chi.sort_values(ascending=False)"
      ],
      "metadata": {
        "colab": {
          "base_uri": "https://localhost:8080/"
        },
        "id": "mdO-tHgL8gfa",
        "outputId": "0c582e4b-1591-4a87-b656-bb28b1113b17"
      },
      "execution_count": 121,
      "outputs": [
        {
          "output_type": "execute_result",
          "data": {
            "text/plain": [
              "time                        14.050286\n",
              "serum_creatinine             3.471610\n",
              "age                          2.368846\n",
              "ejection_fraction            1.894516\n",
              "high_blood_pressure          1.221539\n",
              "anaemia                      0.746593\n",
              "serum_sodium                 0.267368\n",
              "creatinine_phosphokinase     0.252029\n",
              "platelets                    0.035021\n",
              "smoking                      0.032347\n",
              "sex                          0.001956\n",
              "diabetes                     0.000657\n",
              "dtype: float64"
            ]
          },
          "metadata": {},
          "execution_count": 121
        }
      ]
    },
    {
      "cell_type": "markdown",
      "source": [
        "## **5. Data Preprocessing**\n",
        "\n",
        "Exploratory Data Analysis shows that there are four variables that should be dropped because of their low correlation and significance: `diabetes`, `sex`, `smoking`, and `platelets`."
      ],
      "metadata": {
        "id": "CpZpQcZQIRQF"
      }
    },
    {
      "cell_type": "code",
      "source": [
        "# Drop target from features table, and from selection analysis\n",
        "df_final = df.drop(['diabetes', 'sex', 'smoking', 'platelets'],axis=1)"
      ],
      "metadata": {
        "id": "jHxumV48IajP"
      },
      "execution_count": 122,
      "outputs": []
    },
    {
      "cell_type": "markdown",
      "source": [
        "### **5.1. Data Inference**"
      ],
      "metadata": {
        "id": "uLtMhJPfITuX"
      }
    },
    {
      "cell_type": "code",
      "source": [
        "# Creating data inference\n",
        "df_inf = df_final.sample(10, random_state=32).sort_index()\n",
        "df_inf"
      ],
      "metadata": {
        "colab": {
          "base_uri": "https://localhost:8080/",
          "height": 363
        },
        "id": "uJPnupUsIVi-",
        "outputId": "1aa9c82d-2ab2-4019-faca-9f5c53d0695d"
      },
      "execution_count": 123,
      "outputs": [
        {
          "output_type": "execute_result",
          "data": {
            "text/plain": [
              "      age  anaemia  creatinine_phosphokinase  ejection_fraction  \\\n",
              "19   57.0      1.0                     129.0               30.0   \n",
              "103  54.0      1.0                     427.0               70.0   \n",
              "109  65.0      0.0                     146.0               20.0   \n",
              "115  60.0      0.0                      68.0               20.0   \n",
              "123  62.0      0.0                     231.0               25.0   \n",
              "204  63.0      1.0                     103.0               35.0   \n",
              "242  55.0      0.0                     835.0               40.0   \n",
              "264  55.0      1.0                     180.0               45.0   \n",
              "285  85.0      0.0                     129.0               60.0   \n",
              "296  70.0      0.0                      97.0               60.0   \n",
              "\n",
              "     high_blood_pressure  serum_creatinine  serum_sodium   time  death_event  \n",
              "19                   0.0              1.00         140.0   42.0          1.0  \n",
              "103                  1.0              9.00         137.0  196.0          1.0  \n",
              "109                  0.0              1.30         129.0    7.0          1.0  \n",
              "115                  0.0              2.90         127.0   64.0          1.0  \n",
              "123                  1.0              0.90         140.0   10.0          1.0  \n",
              "204                  0.0              0.90         136.0  270.0          0.0  \n",
              "242                  0.0              0.70         140.0  147.0          0.0  \n",
              "264                  0.0              1.18         137.0  211.0          0.0  \n",
              "285                  0.0              1.20         132.0   90.0          1.0  \n",
              "296                  1.0              0.90         138.0  186.0          0.0  "
            ],
            "text/html": [
              "\n",
              "  <div id=\"df-aafb4b4b-32e3-4c63-b978-c9258cf4d424\">\n",
              "    <div class=\"colab-df-container\">\n",
              "      <div>\n",
              "<style scoped>\n",
              "    .dataframe tbody tr th:only-of-type {\n",
              "        vertical-align: middle;\n",
              "    }\n",
              "\n",
              "    .dataframe tbody tr th {\n",
              "        vertical-align: top;\n",
              "    }\n",
              "\n",
              "    .dataframe thead th {\n",
              "        text-align: right;\n",
              "    }\n",
              "</style>\n",
              "<table border=\"1\" class=\"dataframe\">\n",
              "  <thead>\n",
              "    <tr style=\"text-align: right;\">\n",
              "      <th></th>\n",
              "      <th>age</th>\n",
              "      <th>anaemia</th>\n",
              "      <th>creatinine_phosphokinase</th>\n",
              "      <th>ejection_fraction</th>\n",
              "      <th>high_blood_pressure</th>\n",
              "      <th>serum_creatinine</th>\n",
              "      <th>serum_sodium</th>\n",
              "      <th>time</th>\n",
              "      <th>death_event</th>\n",
              "    </tr>\n",
              "  </thead>\n",
              "  <tbody>\n",
              "    <tr>\n",
              "      <th>19</th>\n",
              "      <td>57.0</td>\n",
              "      <td>1.0</td>\n",
              "      <td>129.0</td>\n",
              "      <td>30.0</td>\n",
              "      <td>0.0</td>\n",
              "      <td>1.00</td>\n",
              "      <td>140.0</td>\n",
              "      <td>42.0</td>\n",
              "      <td>1.0</td>\n",
              "    </tr>\n",
              "    <tr>\n",
              "      <th>103</th>\n",
              "      <td>54.0</td>\n",
              "      <td>1.0</td>\n",
              "      <td>427.0</td>\n",
              "      <td>70.0</td>\n",
              "      <td>1.0</td>\n",
              "      <td>9.00</td>\n",
              "      <td>137.0</td>\n",
              "      <td>196.0</td>\n",
              "      <td>1.0</td>\n",
              "    </tr>\n",
              "    <tr>\n",
              "      <th>109</th>\n",
              "      <td>65.0</td>\n",
              "      <td>0.0</td>\n",
              "      <td>146.0</td>\n",
              "      <td>20.0</td>\n",
              "      <td>0.0</td>\n",
              "      <td>1.30</td>\n",
              "      <td>129.0</td>\n",
              "      <td>7.0</td>\n",
              "      <td>1.0</td>\n",
              "    </tr>\n",
              "    <tr>\n",
              "      <th>115</th>\n",
              "      <td>60.0</td>\n",
              "      <td>0.0</td>\n",
              "      <td>68.0</td>\n",
              "      <td>20.0</td>\n",
              "      <td>0.0</td>\n",
              "      <td>2.90</td>\n",
              "      <td>127.0</td>\n",
              "      <td>64.0</td>\n",
              "      <td>1.0</td>\n",
              "    </tr>\n",
              "    <tr>\n",
              "      <th>123</th>\n",
              "      <td>62.0</td>\n",
              "      <td>0.0</td>\n",
              "      <td>231.0</td>\n",
              "      <td>25.0</td>\n",
              "      <td>1.0</td>\n",
              "      <td>0.90</td>\n",
              "      <td>140.0</td>\n",
              "      <td>10.0</td>\n",
              "      <td>1.0</td>\n",
              "    </tr>\n",
              "    <tr>\n",
              "      <th>204</th>\n",
              "      <td>63.0</td>\n",
              "      <td>1.0</td>\n",
              "      <td>103.0</td>\n",
              "      <td>35.0</td>\n",
              "      <td>0.0</td>\n",
              "      <td>0.90</td>\n",
              "      <td>136.0</td>\n",
              "      <td>270.0</td>\n",
              "      <td>0.0</td>\n",
              "    </tr>\n",
              "    <tr>\n",
              "      <th>242</th>\n",
              "      <td>55.0</td>\n",
              "      <td>0.0</td>\n",
              "      <td>835.0</td>\n",
              "      <td>40.0</td>\n",
              "      <td>0.0</td>\n",
              "      <td>0.70</td>\n",
              "      <td>140.0</td>\n",
              "      <td>147.0</td>\n",
              "      <td>0.0</td>\n",
              "    </tr>\n",
              "    <tr>\n",
              "      <th>264</th>\n",
              "      <td>55.0</td>\n",
              "      <td>1.0</td>\n",
              "      <td>180.0</td>\n",
              "      <td>45.0</td>\n",
              "      <td>0.0</td>\n",
              "      <td>1.18</td>\n",
              "      <td>137.0</td>\n",
              "      <td>211.0</td>\n",
              "      <td>0.0</td>\n",
              "    </tr>\n",
              "    <tr>\n",
              "      <th>285</th>\n",
              "      <td>85.0</td>\n",
              "      <td>0.0</td>\n",
              "      <td>129.0</td>\n",
              "      <td>60.0</td>\n",
              "      <td>0.0</td>\n",
              "      <td>1.20</td>\n",
              "      <td>132.0</td>\n",
              "      <td>90.0</td>\n",
              "      <td>1.0</td>\n",
              "    </tr>\n",
              "    <tr>\n",
              "      <th>296</th>\n",
              "      <td>70.0</td>\n",
              "      <td>0.0</td>\n",
              "      <td>97.0</td>\n",
              "      <td>60.0</td>\n",
              "      <td>1.0</td>\n",
              "      <td>0.90</td>\n",
              "      <td>138.0</td>\n",
              "      <td>186.0</td>\n",
              "      <td>0.0</td>\n",
              "    </tr>\n",
              "  </tbody>\n",
              "</table>\n",
              "</div>\n",
              "      <button class=\"colab-df-convert\" onclick=\"convertToInteractive('df-aafb4b4b-32e3-4c63-b978-c9258cf4d424')\"\n",
              "              title=\"Convert this dataframe to an interactive table.\"\n",
              "              style=\"display:none;\">\n",
              "        \n",
              "  <svg xmlns=\"http://www.w3.org/2000/svg\" height=\"24px\"viewBox=\"0 0 24 24\"\n",
              "       width=\"24px\">\n",
              "    <path d=\"M0 0h24v24H0V0z\" fill=\"none\"/>\n",
              "    <path d=\"M18.56 5.44l.94 2.06.94-2.06 2.06-.94-2.06-.94-.94-2.06-.94 2.06-2.06.94zm-11 1L8.5 8.5l.94-2.06 2.06-.94-2.06-.94L8.5 2.5l-.94 2.06-2.06.94zm10 10l.94 2.06.94-2.06 2.06-.94-2.06-.94-.94-2.06-.94 2.06-2.06.94z\"/><path d=\"M17.41 7.96l-1.37-1.37c-.4-.4-.92-.59-1.43-.59-.52 0-1.04.2-1.43.59L10.3 9.45l-7.72 7.72c-.78.78-.78 2.05 0 2.83L4 21.41c.39.39.9.59 1.41.59.51 0 1.02-.2 1.41-.59l7.78-7.78 2.81-2.81c.8-.78.8-2.07 0-2.86zM5.41 20L4 18.59l7.72-7.72 1.47 1.35L5.41 20z\"/>\n",
              "  </svg>\n",
              "      </button>\n",
              "      \n",
              "  <style>\n",
              "    .colab-df-container {\n",
              "      display:flex;\n",
              "      flex-wrap:wrap;\n",
              "      gap: 12px;\n",
              "    }\n",
              "\n",
              "    .colab-df-convert {\n",
              "      background-color: #E8F0FE;\n",
              "      border: none;\n",
              "      border-radius: 50%;\n",
              "      cursor: pointer;\n",
              "      display: none;\n",
              "      fill: #1967D2;\n",
              "      height: 32px;\n",
              "      padding: 0 0 0 0;\n",
              "      width: 32px;\n",
              "    }\n",
              "\n",
              "    .colab-df-convert:hover {\n",
              "      background-color: #E2EBFA;\n",
              "      box-shadow: 0px 1px 2px rgba(60, 64, 67, 0.3), 0px 1px 3px 1px rgba(60, 64, 67, 0.15);\n",
              "      fill: #174EA6;\n",
              "    }\n",
              "\n",
              "    [theme=dark] .colab-df-convert {\n",
              "      background-color: #3B4455;\n",
              "      fill: #D2E3FC;\n",
              "    }\n",
              "\n",
              "    [theme=dark] .colab-df-convert:hover {\n",
              "      background-color: #434B5C;\n",
              "      box-shadow: 0px 1px 3px 1px rgba(0, 0, 0, 0.15);\n",
              "      filter: drop-shadow(0px 1px 2px rgba(0, 0, 0, 0.3));\n",
              "      fill: #FFFFFF;\n",
              "    }\n",
              "  </style>\n",
              "\n",
              "      <script>\n",
              "        const buttonEl =\n",
              "          document.querySelector('#df-aafb4b4b-32e3-4c63-b978-c9258cf4d424 button.colab-df-convert');\n",
              "        buttonEl.style.display =\n",
              "          google.colab.kernel.accessAllowed ? 'block' : 'none';\n",
              "\n",
              "        async function convertToInteractive(key) {\n",
              "          const element = document.querySelector('#df-aafb4b4b-32e3-4c63-b978-c9258cf4d424');\n",
              "          const dataTable =\n",
              "            await google.colab.kernel.invokeFunction('convertToInteractive',\n",
              "                                                     [key], {});\n",
              "          if (!dataTable) return;\n",
              "\n",
              "          const docLinkHtml = 'Like what you see? Visit the ' +\n",
              "            '<a target=\"_blank\" href=https://colab.research.google.com/notebooks/data_table.ipynb>data table notebook</a>'\n",
              "            + ' to learn more about interactive tables.';\n",
              "          element.innerHTML = '';\n",
              "          dataTable['output_type'] = 'display_data';\n",
              "          await google.colab.output.renderOutput(dataTable, element);\n",
              "          const docLink = document.createElement('div');\n",
              "          docLink.innerHTML = docLinkHtml;\n",
              "          element.appendChild(docLink);\n",
              "        }\n",
              "      </script>\n",
              "    </div>\n",
              "  </div>\n",
              "  "
            ]
          },
          "metadata": {},
          "execution_count": 123
        }
      ]
    },
    {
      "cell_type": "code",
      "source": [
        "# Drop data inference as a new dataframe\n",
        "df_train_test = df_final.drop(df_inf.index)\n",
        "df_train_test"
      ],
      "metadata": {
        "colab": {
          "base_uri": "https://localhost:8080/",
          "height": 424
        },
        "id": "e5ayIZSIKMVi",
        "outputId": "d8df3192-71b7-4e9d-e745-eb711cd8c86c"
      },
      "execution_count": 124,
      "outputs": [
        {
          "output_type": "execute_result",
          "data": {
            "text/plain": [
              "      age  anaemia  creatinine_phosphokinase  ejection_fraction  \\\n",
              "0    42.0      1.0                     250.0               15.0   \n",
              "1    46.0      0.0                     168.0               17.0   \n",
              "2    65.0      1.0                     160.0               20.0   \n",
              "3    53.0      1.0                      91.0               20.0   \n",
              "4    50.0      1.0                     582.0               20.0   \n",
              "..    ...      ...                       ...                ...   \n",
              "293  60.0      1.0                      95.0               60.0   \n",
              "294  63.0      1.0                     122.0               60.0   \n",
              "295  45.0      0.0                     308.0               60.0   \n",
              "297  53.0      1.0                     446.0               60.0   \n",
              "298  50.0      0.0                     582.0               62.0   \n",
              "\n",
              "     high_blood_pressure  serum_creatinine  serum_sodium   time  death_event  \n",
              "0                    0.0               1.3         136.0   65.0          1.0  \n",
              "1                    1.0               2.1         124.0  100.0          1.0  \n",
              "2                    0.0               2.7         116.0    8.0          1.0  \n",
              "3                    1.0               1.4         139.0   43.0          1.0  \n",
              "4                    1.0               1.0         134.0  186.0          0.0  \n",
              "..                   ...               ...           ...    ...          ...  \n",
              "293                  0.0               1.0         138.0  146.0          0.0  \n",
              "294                  0.0               1.2         145.0  147.0          0.0  \n",
              "295                  1.0               1.0         136.0  186.0          0.0  \n",
              "297                  1.0               1.0         139.0  215.0          0.0  \n",
              "298                  1.0               0.8         140.0  192.0          0.0  \n",
              "\n",
              "[289 rows x 9 columns]"
            ],
            "text/html": [
              "\n",
              "  <div id=\"df-171cce92-0c82-43e4-b167-a38c59c56986\">\n",
              "    <div class=\"colab-df-container\">\n",
              "      <div>\n",
              "<style scoped>\n",
              "    .dataframe tbody tr th:only-of-type {\n",
              "        vertical-align: middle;\n",
              "    }\n",
              "\n",
              "    .dataframe tbody tr th {\n",
              "        vertical-align: top;\n",
              "    }\n",
              "\n",
              "    .dataframe thead th {\n",
              "        text-align: right;\n",
              "    }\n",
              "</style>\n",
              "<table border=\"1\" class=\"dataframe\">\n",
              "  <thead>\n",
              "    <tr style=\"text-align: right;\">\n",
              "      <th></th>\n",
              "      <th>age</th>\n",
              "      <th>anaemia</th>\n",
              "      <th>creatinine_phosphokinase</th>\n",
              "      <th>ejection_fraction</th>\n",
              "      <th>high_blood_pressure</th>\n",
              "      <th>serum_creatinine</th>\n",
              "      <th>serum_sodium</th>\n",
              "      <th>time</th>\n",
              "      <th>death_event</th>\n",
              "    </tr>\n",
              "  </thead>\n",
              "  <tbody>\n",
              "    <tr>\n",
              "      <th>0</th>\n",
              "      <td>42.0</td>\n",
              "      <td>1.0</td>\n",
              "      <td>250.0</td>\n",
              "      <td>15.0</td>\n",
              "      <td>0.0</td>\n",
              "      <td>1.3</td>\n",
              "      <td>136.0</td>\n",
              "      <td>65.0</td>\n",
              "      <td>1.0</td>\n",
              "    </tr>\n",
              "    <tr>\n",
              "      <th>1</th>\n",
              "      <td>46.0</td>\n",
              "      <td>0.0</td>\n",
              "      <td>168.0</td>\n",
              "      <td>17.0</td>\n",
              "      <td>1.0</td>\n",
              "      <td>2.1</td>\n",
              "      <td>124.0</td>\n",
              "      <td>100.0</td>\n",
              "      <td>1.0</td>\n",
              "    </tr>\n",
              "    <tr>\n",
              "      <th>2</th>\n",
              "      <td>65.0</td>\n",
              "      <td>1.0</td>\n",
              "      <td>160.0</td>\n",
              "      <td>20.0</td>\n",
              "      <td>0.0</td>\n",
              "      <td>2.7</td>\n",
              "      <td>116.0</td>\n",
              "      <td>8.0</td>\n",
              "      <td>1.0</td>\n",
              "    </tr>\n",
              "    <tr>\n",
              "      <th>3</th>\n",
              "      <td>53.0</td>\n",
              "      <td>1.0</td>\n",
              "      <td>91.0</td>\n",
              "      <td>20.0</td>\n",
              "      <td>1.0</td>\n",
              "      <td>1.4</td>\n",
              "      <td>139.0</td>\n",
              "      <td>43.0</td>\n",
              "      <td>1.0</td>\n",
              "    </tr>\n",
              "    <tr>\n",
              "      <th>4</th>\n",
              "      <td>50.0</td>\n",
              "      <td>1.0</td>\n",
              "      <td>582.0</td>\n",
              "      <td>20.0</td>\n",
              "      <td>1.0</td>\n",
              "      <td>1.0</td>\n",
              "      <td>134.0</td>\n",
              "      <td>186.0</td>\n",
              "      <td>0.0</td>\n",
              "    </tr>\n",
              "    <tr>\n",
              "      <th>...</th>\n",
              "      <td>...</td>\n",
              "      <td>...</td>\n",
              "      <td>...</td>\n",
              "      <td>...</td>\n",
              "      <td>...</td>\n",
              "      <td>...</td>\n",
              "      <td>...</td>\n",
              "      <td>...</td>\n",
              "      <td>...</td>\n",
              "    </tr>\n",
              "    <tr>\n",
              "      <th>293</th>\n",
              "      <td>60.0</td>\n",
              "      <td>1.0</td>\n",
              "      <td>95.0</td>\n",
              "      <td>60.0</td>\n",
              "      <td>0.0</td>\n",
              "      <td>1.0</td>\n",
              "      <td>138.0</td>\n",
              "      <td>146.0</td>\n",
              "      <td>0.0</td>\n",
              "    </tr>\n",
              "    <tr>\n",
              "      <th>294</th>\n",
              "      <td>63.0</td>\n",
              "      <td>1.0</td>\n",
              "      <td>122.0</td>\n",
              "      <td>60.0</td>\n",
              "      <td>0.0</td>\n",
              "      <td>1.2</td>\n",
              "      <td>145.0</td>\n",
              "      <td>147.0</td>\n",
              "      <td>0.0</td>\n",
              "    </tr>\n",
              "    <tr>\n",
              "      <th>295</th>\n",
              "      <td>45.0</td>\n",
              "      <td>0.0</td>\n",
              "      <td>308.0</td>\n",
              "      <td>60.0</td>\n",
              "      <td>1.0</td>\n",
              "      <td>1.0</td>\n",
              "      <td>136.0</td>\n",
              "      <td>186.0</td>\n",
              "      <td>0.0</td>\n",
              "    </tr>\n",
              "    <tr>\n",
              "      <th>297</th>\n",
              "      <td>53.0</td>\n",
              "      <td>1.0</td>\n",
              "      <td>446.0</td>\n",
              "      <td>60.0</td>\n",
              "      <td>1.0</td>\n",
              "      <td>1.0</td>\n",
              "      <td>139.0</td>\n",
              "      <td>215.0</td>\n",
              "      <td>0.0</td>\n",
              "    </tr>\n",
              "    <tr>\n",
              "      <th>298</th>\n",
              "      <td>50.0</td>\n",
              "      <td>0.0</td>\n",
              "      <td>582.0</td>\n",
              "      <td>62.0</td>\n",
              "      <td>1.0</td>\n",
              "      <td>0.8</td>\n",
              "      <td>140.0</td>\n",
              "      <td>192.0</td>\n",
              "      <td>0.0</td>\n",
              "    </tr>\n",
              "  </tbody>\n",
              "</table>\n",
              "<p>289 rows × 9 columns</p>\n",
              "</div>\n",
              "      <button class=\"colab-df-convert\" onclick=\"convertToInteractive('df-171cce92-0c82-43e4-b167-a38c59c56986')\"\n",
              "              title=\"Convert this dataframe to an interactive table.\"\n",
              "              style=\"display:none;\">\n",
              "        \n",
              "  <svg xmlns=\"http://www.w3.org/2000/svg\" height=\"24px\"viewBox=\"0 0 24 24\"\n",
              "       width=\"24px\">\n",
              "    <path d=\"M0 0h24v24H0V0z\" fill=\"none\"/>\n",
              "    <path d=\"M18.56 5.44l.94 2.06.94-2.06 2.06-.94-2.06-.94-.94-2.06-.94 2.06-2.06.94zm-11 1L8.5 8.5l.94-2.06 2.06-.94-2.06-.94L8.5 2.5l-.94 2.06-2.06.94zm10 10l.94 2.06.94-2.06 2.06-.94-2.06-.94-.94-2.06-.94 2.06-2.06.94z\"/><path d=\"M17.41 7.96l-1.37-1.37c-.4-.4-.92-.59-1.43-.59-.52 0-1.04.2-1.43.59L10.3 9.45l-7.72 7.72c-.78.78-.78 2.05 0 2.83L4 21.41c.39.39.9.59 1.41.59.51 0 1.02-.2 1.41-.59l7.78-7.78 2.81-2.81c.8-.78.8-2.07 0-2.86zM5.41 20L4 18.59l7.72-7.72 1.47 1.35L5.41 20z\"/>\n",
              "  </svg>\n",
              "      </button>\n",
              "      \n",
              "  <style>\n",
              "    .colab-df-container {\n",
              "      display:flex;\n",
              "      flex-wrap:wrap;\n",
              "      gap: 12px;\n",
              "    }\n",
              "\n",
              "    .colab-df-convert {\n",
              "      background-color: #E8F0FE;\n",
              "      border: none;\n",
              "      border-radius: 50%;\n",
              "      cursor: pointer;\n",
              "      display: none;\n",
              "      fill: #1967D2;\n",
              "      height: 32px;\n",
              "      padding: 0 0 0 0;\n",
              "      width: 32px;\n",
              "    }\n",
              "\n",
              "    .colab-df-convert:hover {\n",
              "      background-color: #E2EBFA;\n",
              "      box-shadow: 0px 1px 2px rgba(60, 64, 67, 0.3), 0px 1px 3px 1px rgba(60, 64, 67, 0.15);\n",
              "      fill: #174EA6;\n",
              "    }\n",
              "\n",
              "    [theme=dark] .colab-df-convert {\n",
              "      background-color: #3B4455;\n",
              "      fill: #D2E3FC;\n",
              "    }\n",
              "\n",
              "    [theme=dark] .colab-df-convert:hover {\n",
              "      background-color: #434B5C;\n",
              "      box-shadow: 0px 1px 3px 1px rgba(0, 0, 0, 0.15);\n",
              "      filter: drop-shadow(0px 1px 2px rgba(0, 0, 0, 0.3));\n",
              "      fill: #FFFFFF;\n",
              "    }\n",
              "  </style>\n",
              "\n",
              "      <script>\n",
              "        const buttonEl =\n",
              "          document.querySelector('#df-171cce92-0c82-43e4-b167-a38c59c56986 button.colab-df-convert');\n",
              "        buttonEl.style.display =\n",
              "          google.colab.kernel.accessAllowed ? 'block' : 'none';\n",
              "\n",
              "        async function convertToInteractive(key) {\n",
              "          const element = document.querySelector('#df-171cce92-0c82-43e4-b167-a38c59c56986');\n",
              "          const dataTable =\n",
              "            await google.colab.kernel.invokeFunction('convertToInteractive',\n",
              "                                                     [key], {});\n",
              "          if (!dataTable) return;\n",
              "\n",
              "          const docLinkHtml = 'Like what you see? Visit the ' +\n",
              "            '<a target=\"_blank\" href=https://colab.research.google.com/notebooks/data_table.ipynb>data table notebook</a>'\n",
              "            + ' to learn more about interactive tables.';\n",
              "          element.innerHTML = '';\n",
              "          dataTable['output_type'] = 'display_data';\n",
              "          await google.colab.output.renderOutput(dataTable, element);\n",
              "          const docLink = document.createElement('div');\n",
              "          docLink.innerHTML = docLinkHtml;\n",
              "          element.appendChild(docLink);\n",
              "        }\n",
              "      </script>\n",
              "    </div>\n",
              "  </div>\n",
              "  "
            ]
          },
          "metadata": {},
          "execution_count": 124
        }
      ]
    },
    {
      "cell_type": "markdown",
      "source": [
        "### **5.2. Train and Test Set**"
      ],
      "metadata": {
        "id": "zqkak1LfKTGD"
      }
    },
    {
      "cell_type": "code",
      "source": [
        "# Defining X and y\n",
        "X = df_train_test.drop(['death_event'],axis=1)\n",
        "y = pd.DataFrame(df_train_test['death_event'])\n",
        "X.head()"
      ],
      "metadata": {
        "colab": {
          "base_uri": "https://localhost:8080/",
          "height": 206
        },
        "id": "rHucVi0_KV2T",
        "outputId": "18e48017-3e9b-4e21-ddfb-4bbd002bfd93"
      },
      "execution_count": 125,
      "outputs": [
        {
          "output_type": "execute_result",
          "data": {
            "text/plain": [
              "    age  anaemia  creatinine_phosphokinase  ejection_fraction  \\\n",
              "0  42.0      1.0                     250.0               15.0   \n",
              "1  46.0      0.0                     168.0               17.0   \n",
              "2  65.0      1.0                     160.0               20.0   \n",
              "3  53.0      1.0                      91.0               20.0   \n",
              "4  50.0      1.0                     582.0               20.0   \n",
              "\n",
              "   high_blood_pressure  serum_creatinine  serum_sodium   time  \n",
              "0                  0.0               1.3         136.0   65.0  \n",
              "1                  1.0               2.1         124.0  100.0  \n",
              "2                  0.0               2.7         116.0    8.0  \n",
              "3                  1.0               1.4         139.0   43.0  \n",
              "4                  1.0               1.0         134.0  186.0  "
            ],
            "text/html": [
              "\n",
              "  <div id=\"df-8fc2380e-2f6e-4a39-b85b-0e8725ee9e13\">\n",
              "    <div class=\"colab-df-container\">\n",
              "      <div>\n",
              "<style scoped>\n",
              "    .dataframe tbody tr th:only-of-type {\n",
              "        vertical-align: middle;\n",
              "    }\n",
              "\n",
              "    .dataframe tbody tr th {\n",
              "        vertical-align: top;\n",
              "    }\n",
              "\n",
              "    .dataframe thead th {\n",
              "        text-align: right;\n",
              "    }\n",
              "</style>\n",
              "<table border=\"1\" class=\"dataframe\">\n",
              "  <thead>\n",
              "    <tr style=\"text-align: right;\">\n",
              "      <th></th>\n",
              "      <th>age</th>\n",
              "      <th>anaemia</th>\n",
              "      <th>creatinine_phosphokinase</th>\n",
              "      <th>ejection_fraction</th>\n",
              "      <th>high_blood_pressure</th>\n",
              "      <th>serum_creatinine</th>\n",
              "      <th>serum_sodium</th>\n",
              "      <th>time</th>\n",
              "    </tr>\n",
              "  </thead>\n",
              "  <tbody>\n",
              "    <tr>\n",
              "      <th>0</th>\n",
              "      <td>42.0</td>\n",
              "      <td>1.0</td>\n",
              "      <td>250.0</td>\n",
              "      <td>15.0</td>\n",
              "      <td>0.0</td>\n",
              "      <td>1.3</td>\n",
              "      <td>136.0</td>\n",
              "      <td>65.0</td>\n",
              "    </tr>\n",
              "    <tr>\n",
              "      <th>1</th>\n",
              "      <td>46.0</td>\n",
              "      <td>0.0</td>\n",
              "      <td>168.0</td>\n",
              "      <td>17.0</td>\n",
              "      <td>1.0</td>\n",
              "      <td>2.1</td>\n",
              "      <td>124.0</td>\n",
              "      <td>100.0</td>\n",
              "    </tr>\n",
              "    <tr>\n",
              "      <th>2</th>\n",
              "      <td>65.0</td>\n",
              "      <td>1.0</td>\n",
              "      <td>160.0</td>\n",
              "      <td>20.0</td>\n",
              "      <td>0.0</td>\n",
              "      <td>2.7</td>\n",
              "      <td>116.0</td>\n",
              "      <td>8.0</td>\n",
              "    </tr>\n",
              "    <tr>\n",
              "      <th>3</th>\n",
              "      <td>53.0</td>\n",
              "      <td>1.0</td>\n",
              "      <td>91.0</td>\n",
              "      <td>20.0</td>\n",
              "      <td>1.0</td>\n",
              "      <td>1.4</td>\n",
              "      <td>139.0</td>\n",
              "      <td>43.0</td>\n",
              "    </tr>\n",
              "    <tr>\n",
              "      <th>4</th>\n",
              "      <td>50.0</td>\n",
              "      <td>1.0</td>\n",
              "      <td>582.0</td>\n",
              "      <td>20.0</td>\n",
              "      <td>1.0</td>\n",
              "      <td>1.0</td>\n",
              "      <td>134.0</td>\n",
              "      <td>186.0</td>\n",
              "    </tr>\n",
              "  </tbody>\n",
              "</table>\n",
              "</div>\n",
              "      <button class=\"colab-df-convert\" onclick=\"convertToInteractive('df-8fc2380e-2f6e-4a39-b85b-0e8725ee9e13')\"\n",
              "              title=\"Convert this dataframe to an interactive table.\"\n",
              "              style=\"display:none;\">\n",
              "        \n",
              "  <svg xmlns=\"http://www.w3.org/2000/svg\" height=\"24px\"viewBox=\"0 0 24 24\"\n",
              "       width=\"24px\">\n",
              "    <path d=\"M0 0h24v24H0V0z\" fill=\"none\"/>\n",
              "    <path d=\"M18.56 5.44l.94 2.06.94-2.06 2.06-.94-2.06-.94-.94-2.06-.94 2.06-2.06.94zm-11 1L8.5 8.5l.94-2.06 2.06-.94-2.06-.94L8.5 2.5l-.94 2.06-2.06.94zm10 10l.94 2.06.94-2.06 2.06-.94-2.06-.94-.94-2.06-.94 2.06-2.06.94z\"/><path d=\"M17.41 7.96l-1.37-1.37c-.4-.4-.92-.59-1.43-.59-.52 0-1.04.2-1.43.59L10.3 9.45l-7.72 7.72c-.78.78-.78 2.05 0 2.83L4 21.41c.39.39.9.59 1.41.59.51 0 1.02-.2 1.41-.59l7.78-7.78 2.81-2.81c.8-.78.8-2.07 0-2.86zM5.41 20L4 18.59l7.72-7.72 1.47 1.35L5.41 20z\"/>\n",
              "  </svg>\n",
              "      </button>\n",
              "      \n",
              "  <style>\n",
              "    .colab-df-container {\n",
              "      display:flex;\n",
              "      flex-wrap:wrap;\n",
              "      gap: 12px;\n",
              "    }\n",
              "\n",
              "    .colab-df-convert {\n",
              "      background-color: #E8F0FE;\n",
              "      border: none;\n",
              "      border-radius: 50%;\n",
              "      cursor: pointer;\n",
              "      display: none;\n",
              "      fill: #1967D2;\n",
              "      height: 32px;\n",
              "      padding: 0 0 0 0;\n",
              "      width: 32px;\n",
              "    }\n",
              "\n",
              "    .colab-df-convert:hover {\n",
              "      background-color: #E2EBFA;\n",
              "      box-shadow: 0px 1px 2px rgba(60, 64, 67, 0.3), 0px 1px 3px 1px rgba(60, 64, 67, 0.15);\n",
              "      fill: #174EA6;\n",
              "    }\n",
              "\n",
              "    [theme=dark] .colab-df-convert {\n",
              "      background-color: #3B4455;\n",
              "      fill: #D2E3FC;\n",
              "    }\n",
              "\n",
              "    [theme=dark] .colab-df-convert:hover {\n",
              "      background-color: #434B5C;\n",
              "      box-shadow: 0px 1px 3px 1px rgba(0, 0, 0, 0.15);\n",
              "      filter: drop-shadow(0px 1px 2px rgba(0, 0, 0, 0.3));\n",
              "      fill: #FFFFFF;\n",
              "    }\n",
              "  </style>\n",
              "\n",
              "      <script>\n",
              "        const buttonEl =\n",
              "          document.querySelector('#df-8fc2380e-2f6e-4a39-b85b-0e8725ee9e13 button.colab-df-convert');\n",
              "        buttonEl.style.display =\n",
              "          google.colab.kernel.accessAllowed ? 'block' : 'none';\n",
              "\n",
              "        async function convertToInteractive(key) {\n",
              "          const element = document.querySelector('#df-8fc2380e-2f6e-4a39-b85b-0e8725ee9e13');\n",
              "          const dataTable =\n",
              "            await google.colab.kernel.invokeFunction('convertToInteractive',\n",
              "                                                     [key], {});\n",
              "          if (!dataTable) return;\n",
              "\n",
              "          const docLinkHtml = 'Like what you see? Visit the ' +\n",
              "            '<a target=\"_blank\" href=https://colab.research.google.com/notebooks/data_table.ipynb>data table notebook</a>'\n",
              "            + ' to learn more about interactive tables.';\n",
              "          element.innerHTML = '';\n",
              "          dataTable['output_type'] = 'display_data';\n",
              "          await google.colab.output.renderOutput(dataTable, element);\n",
              "          const docLink = document.createElement('div');\n",
              "          docLink.innerHTML = docLinkHtml;\n",
              "          element.appendChild(docLink);\n",
              "        }\n",
              "      </script>\n",
              "    </div>\n",
              "  </div>\n",
              "  "
            ]
          },
          "metadata": {},
          "execution_count": 125
        }
      ]
    },
    {
      "cell_type": "code",
      "source": [
        "# Seperating dataset into training and testing set\n",
        "X_train, X_test, y_train, y_test = train_test_split(X, y,\n",
        "                                                    test_size=0.3,\n",
        "                                                    random_state=3)\n",
        "\n",
        "print('Train size : ', X_train.shape)\n",
        "print('Test size. : ', X_test.shape)"
      ],
      "metadata": {
        "colab": {
          "base_uri": "https://localhost:8080/"
        },
        "id": "YAg6zS30KcBd",
        "outputId": "336e4255-fead-4a08-eb9e-7cfad96298aa"
      },
      "execution_count": 126,
      "outputs": [
        {
          "output_type": "stream",
          "name": "stdout",
          "text": [
            "Train size :  (202, 8)\n",
            "Test size. :  (87, 8)\n"
          ]
        }
      ]
    },
    {
      "cell_type": "markdown",
      "source": [
        "### **5.3. Data Skewness**\n",
        "\n",
        "Based on the skewness of the data, we can find that both Train set and Test set are `Normal Distribution`. This will be useful for outliers later. The data that will be taken to describe the data skewness is from `time`.\n",
        "\n",
        "As the result:\n",
        "```\n",
        "'time' skewness: 0.1708108697516051\n",
        "Normal Distribution\n",
        "```"
      ],
      "metadata": {
        "id": "3_H6rgt9LBiw"
      }
    },
    {
      "cell_type": "code",
      "source": [
        "# Creating a function to print the skewness\n",
        "def print_skewness(data):\n",
        "    print(f'\\'{data.name}\\' skewness: {data.skew()}')\n",
        "    # print(f'\\'{data.name}\\'kurtosis: {data.kurt()}')\n",
        "    if data.skew() > 0.5:\n",
        "        print ('Right skewed')\n",
        "    elif data.skew() < -0.5:\n",
        "        print( 'Left Skewed')\n",
        "    else:\n",
        "        print(\"Normal Distribution\")\n",
        "\n",
        "# Creating a function to visualize the data\n",
        "def visualize_data(data):\n",
        "    print_skewness(data)\n",
        "    plt.hist(data, bins=65, rwidth=1, density=True)\n",
        "    plt.xlabel(f'{data.name}')\n",
        "    plt.ylabel('Probability Density')\n",
        "    rng = np.arange(data.min(), data.max(), 0.1)\n",
        "    plt.plot(rng, norm.pdf(rng,data.mean(),data.std()))\n",
        "\n",
        "    # label the plot\n",
        "    plt.legend(['Normal PDF(Probability Density Function) ', 'Histogram: Load Weight'])\n",
        "    plt.axvline(data.mean(), color='magenta', linestyle='dashed', linewidth=2)\n",
        "    plt.axvline(data.median(), color='green', linestyle='dashed', linewidth=2)\n",
        "    plt.axvline(data.mode()[0], color='red', linestyle='dashed', linewidth=2)\n",
        "    plt.show()"
      ],
      "metadata": {
        "id": "OfJScJg9LF3w"
      },
      "execution_count": 127,
      "outputs": []
    },
    {
      "cell_type": "code",
      "source": [
        "# Visualizing skewed data for X_train\n",
        "visualize_data(X_train.time)"
      ],
      "metadata": {
        "colab": {
          "base_uri": "https://localhost:8080/",
          "height": 508
        },
        "id": "QCmoDG4ILINA",
        "outputId": "b7c06499-6ec4-44aa-ed41-2a7249ee4879"
      },
      "execution_count": 128,
      "outputs": [
        {
          "output_type": "stream",
          "name": "stdout",
          "text": [
            "'time' skewness: 0.1708108697516051\n",
            "Normal Distribution\n"
          ]
        },
        {
          "output_type": "display_data",
          "data": {
            "text/plain": [
              "<Figure size 1008x540 with 1 Axes>"
            ],
            "image/png": "[encoded data removed]"
          },
          "metadata": {
            "needs_background": "light"
          }
        }
      ]
    },
    {
      "cell_type": "markdown",
      "source": [
        "### **5.4. Outliers**\n",
        "\n",
        "Based on the comparison of boxplots between top three highest correlation and significance, `time` and `age` are Normal Distribution, meanwhile `serum_creatinine` is skewed. However, since the number of data is too little, then it is decided that the distribution of the overall data is Normal Distribution.\n",
        "\n",
        "There is no outlier since the skewness of the data is normal. We can observe that the histogram above is the same with the the boxlplot below. Moreover, we can see from the outliers analysis that the upper and inner limit is 360.4 and -97. Since it is the variable `time`, then the value should be more than 0 (or positive)."
      ],
      "metadata": {
        "id": "igr6Jnt4N0AZ"
      }
    },
    {
      "cell_type": "code",
      "source": [
        "# Draw boxplots to visualize outliers\n",
        "\n",
        "plt.figure(figsize=(20,10))\n",
        "\n",
        "plt.subplot(2, 3, 1)\n",
        "fig1 = X_train.boxplot(column='time')\n",
        "fig1.set_title('')\n",
        "fig1.set_ylabel('time')\n",
        "\n",
        "plt.subplot(2, 3, 2)\n",
        "fig2 = X_train.boxplot(column='age')\n",
        "fig2.set_title('')\n",
        "fig2.set_ylabel('age')\n",
        "\n",
        "plt.subplot(2, 3, 3)\n",
        "fig3 = X_train.boxplot(column='serum_creatinine')\n",
        "fig3.set_title('')\n",
        "fig3.set_ylabel('serum_creatinine')"
      ],
      "metadata": {
        "colab": {
          "base_uri": "https://localhost:8080/",
          "height": 313
        },
        "id": "SptDLpIQl4X5",
        "outputId": "390317f3-b32f-4e13-c257-2147d252f3f6"
      },
      "execution_count": 190,
      "outputs": [
        {
          "output_type": "execute_result",
          "data": {
            "text/plain": [
              "Text(0, 0.5, 'serum_creatinine')"
            ]
          },
          "metadata": {},
          "execution_count": 190
        },
        {
          "output_type": "display_data",
          "data": {
            "text/plain": [
              "<Figure size 1440x720 with 3 Axes>"
            ],
            "image/png": "[encoded data removed]"
          },
          "metadata": {
            "needs_background": "light"
          }
        }
      ]
    },
    {
      "cell_type": "code",
      "source": [
        "# Checking boxplot after removing outliers\n",
        "sns.boxplot(x = X_train['time'])\n",
        "plt.show()"
      ],
      "metadata": {
        "colab": {
          "base_uri": "https://localhost:8080/",
          "height": 470
        },
        "id": "XkjhvcmnNtvL",
        "outputId": "191173dc-d951-4bd6-f7f0-c46c93c33cf2"
      },
      "execution_count": 129,
      "outputs": [
        {
          "output_type": "display_data",
          "data": {
            "text/plain": [
              "<Figure size 1008x540 with 1 Axes>"
            ],
            "image/png": "[encoded data removed]"
          },
          "metadata": {
            "needs_background": "light"
          }
        }
      ]
    },
    {
      "cell_type": "code",
      "source": [
        "# Determining upper and lower limit\n",
        "upper = X_train['time'].mean() + 3*X_train['time'].std()\n",
        "lower = X_train['time'].mean() - 3*X_train['time'].std()\n",
        "\n",
        "print(\"Upper limit: \", upper)\n",
        "print(\"Lower limit: \", lower)"
      ],
      "metadata": {
        "colab": {
          "base_uri": "https://localhost:8080/"
        },
        "id": "KuThQPA5Mkqg",
        "outputId": "6eef7444-b0bb-4c55-81b0-cc2e9f17594d"
      },
      "execution_count": 130,
      "outputs": [
        {
          "output_type": "stream",
          "name": "stdout",
          "text": [
            "Upper limit:  360.3952233587827\n",
            "Lower limit:  -97.58334217066388\n"
          ]
        }
      ]
    },
    {
      "cell_type": "code",
      "source": [
        "# Checking the outliers\n",
        "X_train[(X_train['time'] > upper) | (X_train['time'] < lower)]"
      ],
      "metadata": {
        "colab": {
          "base_uri": "https://localhost:8080/",
          "height": 49
        },
        "id": "Fv6KqAXiMuKa",
        "outputId": "1135505e-924f-4c13-e006-75471c8ebf24"
      },
      "execution_count": 131,
      "outputs": [
        {
          "output_type": "execute_result",
          "data": {
            "text/plain": [
              "Empty DataFrame\n",
              "Columns: [age, anaemia, creatinine_phosphokinase, ejection_fraction, high_blood_pressure, serum_creatinine, serum_sodium, time]\n",
              "Index: []"
            ],
            "text/html": [
              "\n",
              "  <div id=\"df-b8fe61da-25e0-401f-9e3a-1427f26ab879\">\n",
              "    <div class=\"colab-df-container\">\n",
              "      <div>\n",
              "<style scoped>\n",
              "    .dataframe tbody tr th:only-of-type {\n",
              "        vertical-align: middle;\n",
              "    }\n",
              "\n",
              "    .dataframe tbody tr th {\n",
              "        vertical-align: top;\n",
              "    }\n",
              "\n",
              "    .dataframe thead th {\n",
              "        text-align: right;\n",
              "    }\n",
              "</style>\n",
              "<table border=\"1\" class=\"dataframe\">\n",
              "  <thead>\n",
              "    <tr style=\"text-align: right;\">\n",
              "      <th></th>\n",
              "      <th>age</th>\n",
              "      <th>anaemia</th>\n",
              "      <th>creatinine_phosphokinase</th>\n",
              "      <th>ejection_fraction</th>\n",
              "      <th>high_blood_pressure</th>\n",
              "      <th>serum_creatinine</th>\n",
              "      <th>serum_sodium</th>\n",
              "      <th>time</th>\n",
              "    </tr>\n",
              "  </thead>\n",
              "  <tbody>\n",
              "  </tbody>\n",
              "</table>\n",
              "</div>\n",
              "      <button class=\"colab-df-convert\" onclick=\"convertToInteractive('df-b8fe61da-25e0-401f-9e3a-1427f26ab879')\"\n",
              "              title=\"Convert this dataframe to an interactive table.\"\n",
              "              style=\"display:none;\">\n",
              "        \n",
              "  <svg xmlns=\"http://www.w3.org/2000/svg\" height=\"24px\"viewBox=\"0 0 24 24\"\n",
              "       width=\"24px\">\n",
              "    <path d=\"M0 0h24v24H0V0z\" fill=\"none\"/>\n",
              "    <path d=\"M18.56 5.44l.94 2.06.94-2.06 2.06-.94-2.06-.94-.94-2.06-.94 2.06-2.06.94zm-11 1L8.5 8.5l.94-2.06 2.06-.94-2.06-.94L8.5 2.5l-.94 2.06-2.06.94zm10 10l.94 2.06.94-2.06 2.06-.94-2.06-.94-.94-2.06-.94 2.06-2.06.94z\"/><path d=\"M17.41 7.96l-1.37-1.37c-.4-.4-.92-.59-1.43-.59-.52 0-1.04.2-1.43.59L10.3 9.45l-7.72 7.72c-.78.78-.78 2.05 0 2.83L4 21.41c.39.39.9.59 1.41.59.51 0 1.02-.2 1.41-.59l7.78-7.78 2.81-2.81c.8-.78.8-2.07 0-2.86zM5.41 20L4 18.59l7.72-7.72 1.47 1.35L5.41 20z\"/>\n",
              "  </svg>\n",
              "      </button>\n",
              "      \n",
              "  <style>\n",
              "    .colab-df-container {\n",
              "      display:flex;\n",
              "      flex-wrap:wrap;\n",
              "      gap: 12px;\n",
              "    }\n",
              "\n",
              "    .colab-df-convert {\n",
              "      background-color: #E8F0FE;\n",
              "      border: none;\n",
              "      border-radius: 50%;\n",
              "      cursor: pointer;\n",
              "      display: none;\n",
              "      fill: #1967D2;\n",
              "      height: 32px;\n",
              "      padding: 0 0 0 0;\n",
              "      width: 32px;\n",
              "    }\n",
              "\n",
              "    .colab-df-convert:hover {\n",
              "      background-color: #E2EBFA;\n",
              "      box-shadow: 0px 1px 2px rgba(60, 64, 67, 0.3), 0px 1px 3px 1px rgba(60, 64, 67, 0.15);\n",
              "      fill: #174EA6;\n",
              "    }\n",
              "\n",
              "    [theme=dark] .colab-df-convert {\n",
              "      background-color: #3B4455;\n",
              "      fill: #D2E3FC;\n",
              "    }\n",
              "\n",
              "    [theme=dark] .colab-df-convert:hover {\n",
              "      background-color: #434B5C;\n",
              "      box-shadow: 0px 1px 3px 1px rgba(0, 0, 0, 0.15);\n",
              "      filter: drop-shadow(0px 1px 2px rgba(0, 0, 0, 0.3));\n",
              "      fill: #FFFFFF;\n",
              "    }\n",
              "  </style>\n",
              "\n",
              "      <script>\n",
              "        const buttonEl =\n",
              "          document.querySelector('#df-b8fe61da-25e0-401f-9e3a-1427f26ab879 button.colab-df-convert');\n",
              "        buttonEl.style.display =\n",
              "          google.colab.kernel.accessAllowed ? 'block' : 'none';\n",
              "\n",
              "        async function convertToInteractive(key) {\n",
              "          const element = document.querySelector('#df-b8fe61da-25e0-401f-9e3a-1427f26ab879');\n",
              "          const dataTable =\n",
              "            await google.colab.kernel.invokeFunction('convertToInteractive',\n",
              "                                                     [key], {});\n",
              "          if (!dataTable) return;\n",
              "\n",
              "          const docLinkHtml = 'Like what you see? Visit the ' +\n",
              "            '<a target=\"_blank\" href=https://colab.research.google.com/notebooks/data_table.ipynb>data table notebook</a>'\n",
              "            + ' to learn more about interactive tables.';\n",
              "          element.innerHTML = '';\n",
              "          dataTable['output_type'] = 'display_data';\n",
              "          await google.colab.output.renderOutput(dataTable, element);\n",
              "          const docLink = document.createElement('div');\n",
              "          docLink.innerHTML = docLinkHtml;\n",
              "          element.appendChild(docLink);\n",
              "        }\n",
              "      </script>\n",
              "    </div>\n",
              "  </div>\n",
              "  "
            ]
          },
          "metadata": {},
          "execution_count": 131
        }
      ]
    },
    {
      "cell_type": "markdown",
      "source": [
        "This should be taken notes that Ensamble Learning is strongly influence by outliers. However, since the number of data is little, then the outliers here will be acted as natural outliers."
      ],
      "metadata": {
        "id": "Xn-EJCaElNMm"
      }
    },
    {
      "cell_type": "markdown",
      "source": [
        "### **5.5. Features Selection**\n",
        "\n",
        "Since the value from all features are numerical already, and the distribution of `time` data is **Normal Distribution**, then we should scale the data with **StandardScaler** because of its normal distribution."
      ],
      "metadata": {
        "id": "EdfHC6hHOoih"
      }
    },
    {
      "cell_type": "code",
      "source": [
        "# Define scaler: StandardScaler\n",
        "scaler = StandardScaler()\n",
        "scaler = scaler.fit(X_train)\n",
        "print(scaler)\n",
        "\n",
        "# Train based on scaler\n",
        "X_train_final = scaler.transform(X_train)\n",
        "X_test_final = scaler.transform(X_test)\n",
        "\n",
        "# Creating scaled features to dataframe\n",
        "X_train_final = pd.DataFrame(X_train_final, columns = X_train.columns, index = X_train.index).sort_index()\n",
        "X_test_final = pd.DataFrame(X_test_final, columns = X_test.columns, index = X_test.index).sort_index()\n",
        "\n",
        "X_test_final"
      ],
      "metadata": {
        "colab": {
          "base_uri": "https://localhost:8080/",
          "height": 441
        },
        "id": "CtsfZadvO-SW",
        "outputId": "bd1dbe81-e03e-469a-8c79-a85bcb235c12"
      },
      "execution_count": 191,
      "outputs": [
        {
          "output_type": "stream",
          "name": "stdout",
          "text": [
            "StandardScaler()\n"
          ]
        },
        {
          "output_type": "execute_result",
          "data": {
            "text/plain": [
              "          age   anaemia  creatinine_phosphokinase  ejection_fraction  \\\n",
              "3   -0.622845  1.149713                 -0.538731          -1.600001   \n",
              "5    0.764217  1.149713                 -0.503104          -1.164539   \n",
              "6    0.356258  1.149713                 -0.579597          -1.164539   \n",
              "14  -0.949213  1.149713                 -0.550257          -0.729076   \n",
              "15   0.356258  1.149713                 -0.499960          -0.729076   \n",
              "..        ...       ...                       ...                ...   \n",
              "280 -0.622845 -0.869783                 -0.575405           1.012774   \n",
              "290  0.111482 -0.869783                 -0.602650           1.883698   \n",
              "292  0.764217  1.149713                 -0.454903           1.883698   \n",
              "293 -0.051702  1.149713                 -0.534539           1.883698   \n",
              "295 -1.275581 -0.869783                 -0.311347           1.883698   \n",
              "\n",
              "     high_blood_pressure  serum_creatinine  serum_sodium      time  \n",
              "3               1.403776          0.004799      0.537026 -1.161088  \n",
              "5               1.403776         -0.375362      0.771322 -1.528829  \n",
              "6               1.403776         -0.090241      0.068433 -1.515695  \n",
              "14              1.403776         -0.375362      0.302729 -1.568230  \n",
              "15              1.403776          0.194880     -0.165863 -1.463161  \n",
              "..                   ...               ...           ...       ...  \n",
              "280            -0.712364         -0.660483     -0.400160  1.308028  \n",
              "290             1.403776         -0.470402      0.537026 -0.189202  \n",
              "292             1.403776         -0.280322      1.942804  0.191673  \n",
              "293            -0.712364         -0.375362      0.302729  0.191673  \n",
              "295             1.403776         -0.375362     -0.165863  0.717016  \n",
              "\n",
              "[87 rows x 8 columns]"
            ],
            "text/html": [
              "\n",
              "  <div id=\"df-6298a432-b266-4db0-9474-2ec3c04f21eb\">\n",
              "    <div class=\"colab-df-container\">\n",
              "      <div>\n",
              "<style scoped>\n",
              "    .dataframe tbody tr th:only-of-type {\n",
              "        vertical-align: middle;\n",
              "    }\n",
              "\n",
              "    .dataframe tbody tr th {\n",
              "        vertical-align: top;\n",
              "    }\n",
              "\n",
              "    .dataframe thead th {\n",
              "        text-align: right;\n",
              "    }\n",
              "</style>\n",
              "<table border=\"1\" class=\"dataframe\">\n",
              "  <thead>\n",
              "    <tr style=\"text-align: right;\">\n",
              "      <th></th>\n",
              "      <th>age</th>\n",
              "      <th>anaemia</th>\n",
              "      <th>creatinine_phosphokinase</th>\n",
              "      <th>ejection_fraction</th>\n",
              "      <th>high_blood_pressure</th>\n",
              "      <th>serum_creatinine</th>\n",
              "      <th>serum_sodium</th>\n",
              "      <th>time</th>\n",
              "    </tr>\n",
              "  </thead>\n",
              "  <tbody>\n",
              "    <tr>\n",
              "      <th>3</th>\n",
              "      <td>-0.622845</td>\n",
              "      <td>1.149713</td>\n",
              "      <td>-0.538731</td>\n",
              "      <td>-1.600001</td>\n",
              "      <td>1.403776</td>\n",
              "      <td>0.004799</td>\n",
              "      <td>0.537026</td>\n",
              "      <td>-1.161088</td>\n",
              "    </tr>\n",
              "    <tr>\n",
              "      <th>5</th>\n",
              "      <td>0.764217</td>\n",
              "      <td>1.149713</td>\n",
              "      <td>-0.503104</td>\n",
              "      <td>-1.164539</td>\n",
              "      <td>1.403776</td>\n",
              "      <td>-0.375362</td>\n",
              "      <td>0.771322</td>\n",
              "      <td>-1.528829</td>\n",
              "    </tr>\n",
              "    <tr>\n",
              "      <th>6</th>\n",
              "      <td>0.356258</td>\n",
              "      <td>1.149713</td>\n",
              "      <td>-0.579597</td>\n",
              "      <td>-1.164539</td>\n",
              "      <td>1.403776</td>\n",
              "      <td>-0.090241</td>\n",
              "      <td>0.068433</td>\n",
              "      <td>-1.515695</td>\n",
              "    </tr>\n",
              "    <tr>\n",
              "      <th>14</th>\n",
              "      <td>-0.949213</td>\n",
              "      <td>1.149713</td>\n",
              "      <td>-0.550257</td>\n",
              "      <td>-0.729076</td>\n",
              "      <td>1.403776</td>\n",
              "      <td>-0.375362</td>\n",
              "      <td>0.302729</td>\n",
              "      <td>-1.568230</td>\n",
              "    </tr>\n",
              "    <tr>\n",
              "      <th>15</th>\n",
              "      <td>0.356258</td>\n",
              "      <td>1.149713</td>\n",
              "      <td>-0.499960</td>\n",
              "      <td>-0.729076</td>\n",
              "      <td>1.403776</td>\n",
              "      <td>0.194880</td>\n",
              "      <td>-0.165863</td>\n",
              "      <td>-1.463161</td>\n",
              "    </tr>\n",
              "    <tr>\n",
              "      <th>...</th>\n",
              "      <td>...</td>\n",
              "      <td>...</td>\n",
              "      <td>...</td>\n",
              "      <td>...</td>\n",
              "      <td>...</td>\n",
              "      <td>...</td>\n",
              "      <td>...</td>\n",
              "      <td>...</td>\n",
              "    </tr>\n",
              "    <tr>\n",
              "      <th>280</th>\n",
              "      <td>-0.622845</td>\n",
              "      <td>-0.869783</td>\n",
              "      <td>-0.575405</td>\n",
              "      <td>1.012774</td>\n",
              "      <td>-0.712364</td>\n",
              "      <td>-0.660483</td>\n",
              "      <td>-0.400160</td>\n",
              "      <td>1.308028</td>\n",
              "    </tr>\n",
              "    <tr>\n",
              "      <th>290</th>\n",
              "      <td>0.111482</td>\n",
              "      <td>-0.869783</td>\n",
              "      <td>-0.602650</td>\n",
              "      <td>1.883698</td>\n",
              "      <td>1.403776</td>\n",
              "      <td>-0.470402</td>\n",
              "      <td>0.537026</td>\n",
              "      <td>-0.189202</td>\n",
              "    </tr>\n",
              "    <tr>\n",
              "      <th>292</th>\n",
              "      <td>0.764217</td>\n",
              "      <td>1.149713</td>\n",
              "      <td>-0.454903</td>\n",
              "      <td>1.883698</td>\n",
              "      <td>1.403776</td>\n",
              "      <td>-0.280322</td>\n",
              "      <td>1.942804</td>\n",
              "      <td>0.191673</td>\n",
              "    </tr>\n",
              "    <tr>\n",
              "      <th>293</th>\n",
              "      <td>-0.051702</td>\n",
              "      <td>1.149713</td>\n",
              "      <td>-0.534539</td>\n",
              "      <td>1.883698</td>\n",
              "      <td>-0.712364</td>\n",
              "      <td>-0.375362</td>\n",
              "      <td>0.302729</td>\n",
              "      <td>0.191673</td>\n",
              "    </tr>\n",
              "    <tr>\n",
              "      <th>295</th>\n",
              "      <td>-1.275581</td>\n",
              "      <td>-0.869783</td>\n",
              "      <td>-0.311347</td>\n",
              "      <td>1.883698</td>\n",
              "      <td>1.403776</td>\n",
              "      <td>-0.375362</td>\n",
              "      <td>-0.165863</td>\n",
              "      <td>0.717016</td>\n",
              "    </tr>\n",
              "  </tbody>\n",
              "</table>\n",
              "<p>87 rows × 8 columns</p>\n",
              "</div>\n",
              "      <button class=\"colab-df-convert\" onclick=\"convertToInteractive('df-6298a432-b266-4db0-9474-2ec3c04f21eb')\"\n",
              "              title=\"Convert this dataframe to an interactive table.\"\n",
              "              style=\"display:none;\">\n",
              "        \n",
              "  <svg xmlns=\"http://www.w3.org/2000/svg\" height=\"24px\"viewBox=\"0 0 24 24\"\n",
              "       width=\"24px\">\n",
              "    <path d=\"M0 0h24v24H0V0z\" fill=\"none\"/>\n",
              "    <path d=\"M18.56 5.44l.94 2.06.94-2.06 2.06-.94-2.06-.94-.94-2.06-.94 2.06-2.06.94zm-11 1L8.5 8.5l.94-2.06 2.06-.94-2.06-.94L8.5 2.5l-.94 2.06-2.06.94zm10 10l.94 2.06.94-2.06 2.06-.94-2.06-.94-.94-2.06-.94 2.06-2.06.94z\"/><path d=\"M17.41 7.96l-1.37-1.37c-.4-.4-.92-.59-1.43-.59-.52 0-1.04.2-1.43.59L10.3 9.45l-7.72 7.72c-.78.78-.78 2.05 0 2.83L4 21.41c.39.39.9.59 1.41.59.51 0 1.02-.2 1.41-.59l7.78-7.78 2.81-2.81c.8-.78.8-2.07 0-2.86zM5.41 20L4 18.59l7.72-7.72 1.47 1.35L5.41 20z\"/>\n",
              "  </svg>\n",
              "      </button>\n",
              "      \n",
              "  <style>\n",
              "    .colab-df-container {\n",
              "      display:flex;\n",
              "      flex-wrap:wrap;\n",
              "      gap: 12px;\n",
              "    }\n",
              "\n",
              "    .colab-df-convert {\n",
              "      background-color: #E8F0FE;\n",
              "      border: none;\n",
              "      border-radius: 50%;\n",
              "      cursor: pointer;\n",
              "      display: none;\n",
              "      fill: #1967D2;\n",
              "      height: 32px;\n",
              "      padding: 0 0 0 0;\n",
              "      width: 32px;\n",
              "    }\n",
              "\n",
              "    .colab-df-convert:hover {\n",
              "      background-color: #E2EBFA;\n",
              "      box-shadow: 0px 1px 2px rgba(60, 64, 67, 0.3), 0px 1px 3px 1px rgba(60, 64, 67, 0.15);\n",
              "      fill: #174EA6;\n",
              "    }\n",
              "\n",
              "    [theme=dark] .colab-df-convert {\n",
              "      background-color: #3B4455;\n",
              "      fill: #D2E3FC;\n",
              "    }\n",
              "\n",
              "    [theme=dark] .colab-df-convert:hover {\n",
              "      background-color: #434B5C;\n",
              "      box-shadow: 0px 1px 3px 1px rgba(0, 0, 0, 0.15);\n",
              "      filter: drop-shadow(0px 1px 2px rgba(0, 0, 0, 0.3));\n",
              "      fill: #FFFFFF;\n",
              "    }\n",
              "  </style>\n",
              "\n",
              "      <script>\n",
              "        const buttonEl =\n",
              "          document.querySelector('#df-6298a432-b266-4db0-9474-2ec3c04f21eb button.colab-df-convert');\n",
              "        buttonEl.style.display =\n",
              "          google.colab.kernel.accessAllowed ? 'block' : 'none';\n",
              "\n",
              "        async function convertToInteractive(key) {\n",
              "          const element = document.querySelector('#df-6298a432-b266-4db0-9474-2ec3c04f21eb');\n",
              "          const dataTable =\n",
              "            await google.colab.kernel.invokeFunction('convertToInteractive',\n",
              "                                                     [key], {});\n",
              "          if (!dataTable) return;\n",
              "\n",
              "          const docLinkHtml = 'Like what you see? Visit the ' +\n",
              "            '<a target=\"_blank\" href=https://colab.research.google.com/notebooks/data_table.ipynb>data table notebook</a>'\n",
              "            + ' to learn more about interactive tables.';\n",
              "          element.innerHTML = '';\n",
              "          dataTable['output_type'] = 'display_data';\n",
              "          await google.colab.output.renderOutput(dataTable, element);\n",
              "          const docLink = document.createElement('div');\n",
              "          docLink.innerHTML = docLinkHtml;\n",
              "          element.appendChild(docLink);\n",
              "        }\n",
              "      </script>\n",
              "    </div>\n",
              "  </div>\n",
              "  "
            ]
          },
          "metadata": {},
          "execution_count": 191
        }
      ]
    },
    {
      "cell_type": "markdown",
      "source": [
        "## **6. Model Definition**\n",
        "\n",
        "The model used are Random Forest Classifier and Adaptive Boost Classifier.\n",
        "\n",
        "**Random forest is a bagging technique and not a boosting technique**. In boosting as the name suggests, one is learning from other which in turn boosts the learning. The trees in random forests are run in parallel. There is no interaction between these trees while building the trees. This boosting technique can be taken as an example: **Adaptive Boost Classifier**."
      ],
      "metadata": {
        "id": "zpRgrJHIPyrK"
      }
    },
    {
      "cell_type": "markdown",
      "source": [
        "### **6.1. RandomForestClassifier**"
      ],
      "metadata": {
        "id": "wbESMvTgn3pZ"
      }
    },
    {
      "cell_type": "code",
      "source": [
        "# Define RandomForestClassifier \n",
        "rf = RandomForestClassifier(random_state=3)"
      ],
      "metadata": {
        "id": "KFcUk6_HP08E"
      },
      "execution_count": 133,
      "outputs": []
    },
    {
      "cell_type": "markdown",
      "source": [
        "### **6.2. Other Boosting Classifier: AdaBoostClassifier**"
      ],
      "metadata": {
        "id": "416VA57Tn8Zt"
      }
    },
    {
      "cell_type": "code",
      "source": [
        "# Define RandomForestClassifier \n",
        "abc = AdaBoostClassifier(random_state=3)"
      ],
      "metadata": {
        "id": "Dv7d2KQOc2d8"
      },
      "execution_count": 134,
      "outputs": []
    },
    {
      "cell_type": "markdown",
      "source": [
        "## **7. Random Forest Classifier**"
      ],
      "metadata": {
        "id": "5MjIEA8yQPwX"
      }
    },
    {
      "cell_type": "markdown",
      "source": [
        "### **7.1. Model Training**"
      ],
      "metadata": {
        "id": "4gYZnFR2dCWb"
      }
    },
    {
      "cell_type": "code",
      "source": [
        "# Fitting Random Forest Model with default parameter\n",
        "rf.fit(X_train_final, y_train)"
      ],
      "metadata": {
        "colab": {
          "base_uri": "https://localhost:8080/"
        },
        "id": "Z0x3-Z-yQPaT",
        "outputId": "c472f7bb-6020-4a07-cee8-489b361ae29c"
      },
      "execution_count": 135,
      "outputs": [
        {
          "output_type": "execute_result",
          "data": {
            "text/plain": [
              "RandomForestClassifier(random_state=3)"
            ]
          },
          "metadata": {},
          "execution_count": 135
        }
      ]
    },
    {
      "cell_type": "markdown",
      "source": [
        "#### **7.1.1. Cross-Validation**"
      ],
      "metadata": {
        "id": "kiifnQoNQjTZ"
      }
    },
    {
      "cell_type": "code",
      "source": [
        "# Cross Validation using `cross_val_score` for train set default parameter\n",
        "train_cross_val = cross_val_score(rf, \n",
        "                                  X_train_final, \n",
        "                                  y_train, \n",
        "                                  cv=5, \n",
        "                                  scoring='accuracy')\n",
        "\n",
        "print(\"Accuracy Score All - Cross Validation :\", train_cross_val)\n",
        "print(\"Mean - Cross-Validation               :\", train_cross_val.mean())\n",
        "print(\"Standard Deviation Cross-Validation   :\", train_cross_val.std())"
      ],
      "metadata": {
        "colab": {
          "base_uri": "https://localhost:8080/"
        },
        "id": "WGWHcazBQfmL",
        "outputId": "d793144c-0961-4c78-d0e5-c29f050940ec"
      },
      "execution_count": 136,
      "outputs": [
        {
          "output_type": "stream",
          "name": "stdout",
          "text": [
            "Accuracy Score All - Cross Validation : [0.6097561  0.63414634 0.675      0.6        0.675     ]\n",
            "Mean - Cross-Validation               : 0.6387804878048782\n",
            "Standard Deviation Cross-Validation   : 0.031595958295433664\n"
          ]
        }
      ]
    },
    {
      "cell_type": "markdown",
      "source": [
        "Based on cross-validation analysis, `mean` is not as good, which is still below 75%. This means RandomForestClassifier default parameter should be tuned or the dataset provided is basically not as good."
      ],
      "metadata": {
        "id": "clZL8GvcbTQe"
      }
    },
    {
      "cell_type": "markdown",
      "source": [
        "#### **7.1.2. Default Prediction**"
      ],
      "metadata": {
        "id": "7_7XJwyYQsWI"
      }
    },
    {
      "cell_type": "code",
      "source": [
        "# Predicting target (y_train) with linear regression\n",
        "y_pred_train_rf_default = rf.predict(X_train_final)\n",
        "y_pred_test_rf_default = rf.predict(X_test_final)"
      ],
      "metadata": {
        "id": "nmMx95NnQrqR"
      },
      "execution_count": 137,
      "outputs": []
    },
    {
      "cell_type": "markdown",
      "source": [
        "We can see from the default parameter, the classification model is highly biased which is indicated by `f1-score`, `precision`, and `recall` results equal to **1**, which means `death_event` prediction is 100% classified.\n",
        "\n",
        "The confusion matrix also shows that there is **no False Positive** or **no True Negative**, which means all classification is classed accurately by the random forest model."
      ],
      "metadata": {
        "id": "uPR87uRKTbi7"
      }
    },
    {
      "cell_type": "code",
      "source": [
        "# Determining classification report for train set\n",
        "print('Classification Score')\n",
        "print(classification_report(y_train, y_pred_train_rf_default))\n",
        "\n",
        "# Get F1 Score, Precision Score and Recall Score - Train Set\n",
        "print('F1 Score (Train Set)  : ', f1_score(y_train, y_pred_train_rf_default))\n",
        "print('Precision (Train Set) : ', precision_score(y_train, y_pred_train_rf_default))\n",
        "print('Recall (Train Set)    : ', recall_score(y_train, y_pred_train_rf_default), '\\n')\n",
        "print('Accuracy (Train Set)  : ', accuracy_score(y_train, y_pred_train_rf_default), '\\n')\n",
        "\n",
        "# Creating confusion matrix for train set\n",
        "print('Confusion Matrix Train Set')\n",
        "cm = confusion_matrix(y_train, y_pred_train_rf_default, labels=rf.classes_)\n",
        "disp = ConfusionMatrixDisplay(confusion_matrix=cm,display_labels=rf.classes_)\n",
        "\n",
        "disp.plot()\n",
        "plt.show()"
      ],
      "metadata": {
        "colab": {
          "base_uri": "https://localhost:8080/",
          "height": 766
        },
        "id": "owBoKPUUTBXv",
        "outputId": "83f279b9-d83a-438a-e2a0-a06b896743b2"
      },
      "execution_count": 138,
      "outputs": [
        {
          "output_type": "stream",
          "name": "stdout",
          "text": [
            "Classification Score\n",
            "              precision    recall  f1-score   support\n",
            "\n",
            "         0.0       1.00      1.00      1.00       141\n",
            "         1.0       1.00      1.00      1.00        61\n",
            "\n",
            "    accuracy                           1.00       202\n",
            "   macro avg       1.00      1.00      1.00       202\n",
            "weighted avg       1.00      1.00      1.00       202\n",
            "\n",
            "F1 Score (Train Set)  :  1.0\n",
            "Precision (Train Set) :  1.0\n",
            "Recall (Train Set)    :  1.0 \n",
            "\n",
            "Accuracy (Train Set)  :  1.0 \n",
            "\n",
            "Confusion Matrix Train Set\n"
          ]
        },
        {
          "output_type": "display_data",
          "data": {
            "text/plain": [
              "<Figure size 1008x540 with 2 Axes>"
            ],
            "image/png": "[encoded data removed]"
          },
          "metadata": {
            "needs_background": "light"
          }
        }
      ]
    },
    {
      "cell_type": "code",
      "source": [
        "# Determining classification report for test set\n",
        "print('Classification Score')\n",
        "print(classification_report(y_test, y_pred_test_rf_default))\n",
        "\n",
        "# Get F1 Score, Precision Score and Recall Score - test Set\n",
        "print('F1 Score (Test Set)  : ', f1_score(y_test, y_pred_test_rf_default))\n",
        "print('Precision (Test Set) : ', precision_score(y_test, y_pred_test_rf_default))\n",
        "print('Recall (Test Set)    : ', recall_score(y_test, y_pred_test_rf_default), '\\n')\n",
        "print('Accuracy (Test Set)  : ', accuracy_score(y_test, y_pred_test_rf_default), '\\n')\n",
        "\n",
        "# Creating confusion matrix for test set\n",
        "print('Confusion Matrix Test Set')\n",
        "cm = confusion_matrix(y_test, y_pred_test_rf_default, labels=rf.classes_)\n",
        "disp = ConfusionMatrixDisplay(confusion_matrix=cm,display_labels=rf.classes_)\n",
        "\n",
        "disp.plot()\n",
        "plt.show()"
      ],
      "metadata": {
        "colab": {
          "base_uri": "https://localhost:8080/",
          "height": 765
        },
        "id": "Xfv_nbg5dC1o",
        "outputId": "acf9c9df-34f2-4346-90a6-82e29f0bbb3c"
      },
      "execution_count": 139,
      "outputs": [
        {
          "output_type": "stream",
          "name": "stdout",
          "text": [
            "Classification Score\n",
            "              precision    recall  f1-score   support\n",
            "\n",
            "         0.0       0.67      0.93      0.78        58\n",
            "         1.0       0.33      0.07      0.11        29\n",
            "\n",
            "    accuracy                           0.64        87\n",
            "   macro avg       0.50      0.50      0.45        87\n",
            "weighted avg       0.56      0.64      0.56        87\n",
            "\n",
            "F1 Score (Test Set)  :  0.1142857142857143\n",
            "Precision (Test Set) :  0.3333333333333333\n",
            "Recall (Test Set)    :  0.06896551724137931 \n",
            "\n",
            "Accuracy (Test Set)  :  0.6436781609195402 \n",
            "\n",
            "Confusion Matrix Test Set\n"
          ]
        },
        {
          "output_type": "display_data",
          "data": {
            "text/plain": [
              "<Figure size 1008x540 with 2 Axes>"
            ],
            "image/png": "[encoded data removed]"
          },
          "metadata": {
            "needs_background": "light"
          }
        }
      ]
    },
    {
      "cell_type": "markdown",
      "source": [
        "There is a difference between Train and Test set based on the confusion matrix above, where test set does not have any perfect `accuracy` and `f1 score`. This can be indicated that the number of dataset is too little. However, we can conclude that the **Bagging (Random Forest Classifier) with default parameter is not a good model** to class `death_event` because of **its low accuracy and bias**."
      ],
      "metadata": {
        "id": "8_QeL7rnqQaO"
      }
    },
    {
      "cell_type": "markdown",
      "source": [
        "#### **7.1.3. Hyperparameter Tuning**\n",
        "\n",
        "Hyperparameter tuning will be using **GridSearchCV** because of its **exhaustive process** in searching the best hyperparameter and it is expected to have a better result than Manual or RandomSearch."
      ],
      "metadata": {
        "id": "DJat307dUK9q"
      }
    },
    {
      "cell_type": "markdown",
      "source": [
        "**Train Set Hyperparameter Tuning**"
      ],
      "metadata": {
        "id": "DURPfI_arKg0"
      }
    },
    {
      "cell_type": "code",
      "source": [
        "# Define Hyperparameters\n",
        "n_estimators = [int(x) for x in np.linspace(start = 50, stop = 100, num = 5)]\n",
        "max_features = ['auto', 'sqrt']\n",
        "max_depth = [int(x) for x in np.linspace(10, 100, num = 10)]\n",
        "min_samples_leaf = [int(x) for x in np.linspace(3, 6, num = 4)]\n",
        "min_samples_split = [2, 6, 10]\n",
        "bootstrap = [True, False]\n",
        "\n",
        "param_grid = {'n_estimators': n_estimators,\n",
        "               'max_features': max_features,\n",
        "               'max_depth': max_depth,\n",
        "               'min_samples_leaf': min_samples_leaf,\n",
        "               'criterion':['entropy','gini'],\n",
        "               'bootstrap': bootstrap}\n",
        "param_grid"
      ],
      "metadata": {
        "colab": {
          "base_uri": "https://localhost:8080/"
        },
        "id": "EuxCvzRwUNga",
        "outputId": "1def638a-ad68-4896-b913-de280319797b"
      },
      "execution_count": 35,
      "outputs": [
        {
          "output_type": "execute_result",
          "data": {
            "text/plain": [
              "{'n_estimators': [50, 62, 75, 87, 100],\n",
              " 'max_features': ['auto', 'sqrt'],\n",
              " 'max_depth': [10, 20, 30, 40, 50, 60, 70, 80, 90, 100],\n",
              " 'min_samples_leaf': [3, 4, 5, 6],\n",
              " 'criterion': ['entropy', 'gini'],\n",
              " 'bootstrap': [True, False]}"
            ]
          },
          "metadata": {},
          "execution_count": 35
        }
      ]
    },
    {
      "cell_type": "code",
      "source": [
        "# Train with Grid Search\n",
        "%%time\n",
        "rf_gridcv = GridSearchCV(rf,\n",
        "                         param_grid,\n",
        "                         n_jobs=4,\n",
        "                         verbose=2,\n",
        "                         scoring='f1')\n",
        "\n",
        "rf_gridcv.fit(X_train_final, y_train)"
      ],
      "metadata": {
        "colab": {
          "base_uri": "https://localhost:8080/"
        },
        "id": "00F5Wbg-aven",
        "outputId": "8fa4fe1c-69ee-4894-f277-344fddf6731d"
      },
      "execution_count": 36,
      "outputs": [
        {
          "output_type": "stream",
          "name": "stdout",
          "text": [
            "Fitting 5 folds for each of 1600 candidates, totalling 8000 fits\n",
            "CPU times: user 44 s, sys: 1.43 s, total: 45.4 s\n",
            "Wall time: 12min 52s\n"
          ]
        },
        {
          "output_type": "execute_result",
          "data": {
            "text/plain": [
              "GridSearchCV(estimator=RandomForestClassifier(random_state=3), n_jobs=4,\n",
              "             param_grid={'bootstrap': [True, False],\n",
              "                         'criterion': ['entropy', 'gini'],\n",
              "                         'max_depth': [10, 20, 30, 40, 50, 60, 70, 80, 90, 100],\n",
              "                         'max_features': ['auto', 'sqrt'],\n",
              "                         'min_samples_leaf': [3, 4, 5, 6],\n",
              "                         'n_estimators': [50, 62, 75, 87, 100]},\n",
              "             scoring='f1', verbose=2)"
            ]
          },
          "metadata": {},
          "execution_count": 36
        }
      ]
    },
    {
      "cell_type": "code",
      "source": [
        "# Showing best hyperparameters train set\n",
        "rf_gridcv.best_params_"
      ],
      "metadata": {
        "colab": {
          "base_uri": "https://localhost:8080/"
        },
        "id": "1KX3X_fmKBPN",
        "outputId": "22b80e1a-bca8-4483-8fe2-9322491b2f96"
      },
      "execution_count": 140,
      "outputs": [
        {
          "output_type": "execute_result",
          "data": {
            "text/plain": [
              "{'bootstrap': False,\n",
              " 'criterion': 'gini',\n",
              " 'max_depth': 10,\n",
              " 'max_features': 'auto',\n",
              " 'min_samples_leaf': 3,\n",
              " 'n_estimators': 87}"
            ]
          },
          "metadata": {},
          "execution_count": 140
        }
      ]
    },
    {
      "cell_type": "code",
      "source": [
        "# Get Best Estimator\n",
        "rf_gridcv_best = rf_gridcv.best_estimator_"
      ],
      "metadata": {
        "id": "hQ24YA5mmRo4"
      },
      "execution_count": 141,
      "outputs": []
    },
    {
      "cell_type": "markdown",
      "source": [
        "We can see that the train set has the chosen hyperparameter as below:\n",
        "\n",
        "```\n",
        " 'bootstrap': False,\n",
        " 'criterion': 'gini',\n",
        " 'max_depth': 10,\n",
        " 'max_features': 'auto',\n",
        " 'min_samples_leaf': 3,\n",
        " 'n_estimators': 87\n",
        " ```\n",
        "\n",
        " Apparently we do not need boostrap for this model. However, we should check it out its result without bootstrap later."
      ],
      "metadata": {
        "id": "2RXb3fEerRD8"
      }
    },
    {
      "cell_type": "markdown",
      "source": [
        "**Test set Hyperparameter Tuning**"
      ],
      "metadata": {
        "id": "E7ETFoFGuoKu"
      }
    },
    {
      "cell_type": "code",
      "source": [
        "# Train with Grid Search\n",
        "%%time\n",
        "rf_gridcv_test = GridSearchCV(rf,\n",
        "                              param_grid,\n",
        "                              n_jobs=4,\n",
        "                              verbose=2,\n",
        "                              scoring='f1')\n",
        "\n",
        "rf_gridcv_test.fit(X_test_final, y_test)"
      ],
      "metadata": {
        "colab": {
          "base_uri": "https://localhost:8080/"
        },
        "id": "jzf8DtKnuqyq",
        "outputId": "239aac97-c2db-4d2e-c062-a9ec962f895a"
      },
      "execution_count": 39,
      "outputs": [
        {
          "output_type": "stream",
          "name": "stdout",
          "text": [
            "Fitting 5 folds for each of 1600 candidates, totalling 8000 fits\n",
            "CPU times: user 43.7 s, sys: 1.54 s, total: 45.3 s\n",
            "Wall time: 11min 45s\n"
          ]
        },
        {
          "output_type": "execute_result",
          "data": {
            "text/plain": [
              "GridSearchCV(estimator=RandomForestClassifier(random_state=3), n_jobs=4,\n",
              "             param_grid={'bootstrap': [True, False],\n",
              "                         'criterion': ['entropy', 'gini'],\n",
              "                         'max_depth': [10, 20, 30, 40, 50, 60, 70, 80, 90, 100],\n",
              "                         'max_features': ['auto', 'sqrt'],\n",
              "                         'min_samples_leaf': [3, 4, 5, 6],\n",
              "                         'n_estimators': [50, 62, 75, 87, 100]},\n",
              "             scoring='f1', verbose=2)"
            ]
          },
          "metadata": {},
          "execution_count": 39
        }
      ]
    },
    {
      "cell_type": "code",
      "source": [
        "# Showing best hyperparameters test set\n",
        "rf_gridcv_test.best_params_"
      ],
      "metadata": {
        "colab": {
          "base_uri": "https://localhost:8080/"
        },
        "id": "vuW1jEmpvI8j",
        "outputId": "d9667d0a-294a-42b5-bcb9-0e08e679aa17"
      },
      "execution_count": 142,
      "outputs": [
        {
          "output_type": "execute_result",
          "data": {
            "text/plain": [
              "{'bootstrap': False,\n",
              " 'criterion': 'gini',\n",
              " 'max_depth': 10,\n",
              " 'max_features': 'auto',\n",
              " 'min_samples_leaf': 6,\n",
              " 'n_estimators': 87}"
            ]
          },
          "metadata": {},
          "execution_count": 142
        }
      ]
    },
    {
      "cell_type": "code",
      "source": [
        "# Get Best Estimator\n",
        "rf_gridcv_test_best = rf_gridcv_test.best_estimator_"
      ],
      "metadata": {
        "id": "Yctmr-jLvOdE"
      },
      "execution_count": 143,
      "outputs": []
    },
    {
      "cell_type": "markdown",
      "source": [
        "The chosen hyperparameter for test set is as below:\n",
        "\n",
        "```\n",
        " 'bootstrap': False,\n",
        " 'criterion': 'gini',\n",
        " 'max_depth': 10,\n",
        " 'max_features': 'auto',\n",
        " 'min_samples_leaf': 6,\n",
        " 'n_estimators': 87\n",
        "```\n",
        "\n",
        "The difference between train and test hyperparameter tuning is just `min_samples_leaf`, which are 3 and 6 accordingly."
      ],
      "metadata": {
        "id": "1_xp5fofrkvn"
      }
    },
    {
      "cell_type": "markdown",
      "source": [
        "#### **7.1.4. Model Training with Hyperparameter Tuning**"
      ],
      "metadata": {
        "id": "slPTjuJIoYN3"
      }
    },
    {
      "cell_type": "code",
      "source": [
        "# Predict the Train set results with tuned hyperparameter\n",
        "y_pred_train_rf = rf_gridcv_best.predict(X_train_final)\n",
        "\n",
        "# Predict the Test set results with tuned hyperparameter\n",
        "y_pred_test_rf = rf_gridcv_test_best.predict(X_test_final)\n",
        "\n",
        "print('Predicition Train:', '\\n', y_pred_train_rf)\n",
        "print('Predicition Test :', '\\n', y_pred_test_rf)"
      ],
      "metadata": {
        "colab": {
          "base_uri": "https://localhost:8080/"
        },
        "id": "UwrJEgr0mVqc",
        "outputId": "6b8c55ff-a9b4-44c4-e89e-a30a589bb3cb"
      },
      "execution_count": 144,
      "outputs": [
        {
          "output_type": "stream",
          "name": "stdout",
          "text": [
            "Predicition Train: \n",
            " [0. 0. 0. 0. 1. 0. 0. 0. 0. 0. 0. 0. 0. 0. 0. 0. 0. 1. 0. 0. 0. 1. 0. 0.\n",
            " 0. 0. 1. 1. 0. 1. 0. 0. 1. 0. 0. 1. 1. 1. 0. 0. 0. 0. 0. 0. 0. 1. 0. 0.\n",
            " 0. 0. 0. 0. 0. 0. 0. 0. 1. 1. 1. 1. 0. 0. 1. 0. 1. 0. 0. 0. 0. 1. 1. 0.\n",
            " 0. 0. 0. 0. 0. 1. 0. 0. 0. 1. 0. 1. 0. 0. 0. 0. 0. 0. 1. 0. 1. 0. 0. 0.\n",
            " 0. 0. 0. 0. 0. 0. 0. 1. 0. 0. 1. 0. 1. 0. 1. 1. 0. 1. 0. 0. 1. 1. 0. 0.\n",
            " 0. 0. 0. 1. 0. 0. 0. 0. 1. 0. 0. 1. 1. 0. 0. 1. 0. 0. 0. 0. 0. 0. 1. 0.\n",
            " 0. 0. 0. 1. 0. 0. 0. 1. 0. 0. 0. 0. 0. 0. 0. 0. 0. 1. 1. 0. 0. 0. 1. 0.\n",
            " 0. 1. 0. 1. 0. 0. 0. 0. 0. 0. 0. 0. 0. 0. 1. 0. 1. 0. 0. 0. 0. 0. 0. 1.\n",
            " 1. 0. 0. 1. 0. 0. 0. 0. 0. 0.]\n",
            "Predicition Test : \n",
            " [0. 0. 0. 0. 0. 0. 0. 0. 0. 1. 0. 0. 0. 0. 0. 0. 0. 0. 0. 0. 0. 0. 0. 1.\n",
            " 0. 0. 0. 0. 0. 0. 0. 0. 1. 0. 1. 1. 0. 0. 0. 0. 0. 0. 0. 0. 0. 0. 0. 0.\n",
            " 0. 0. 0. 0. 1. 1. 0. 1. 0. 0. 1. 0. 0. 0. 0. 0. 1. 0. 0. 0. 0. 1. 1. 0.\n",
            " 1. 0. 1. 0. 0. 0. 0. 0. 0. 0. 1. 0. 0. 0. 0.]\n"
          ]
        }
      ]
    },
    {
      "cell_type": "markdown",
      "source": [
        "### **7.2. Model Evaluation**"
      ],
      "metadata": {
        "id": "6mTgygfAMNRx"
      }
    },
    {
      "cell_type": "markdown",
      "source": [
        "#### **7.2.1. Model Evaluation Train Set**\n",
        "\n",
        "The confusion matrix and classification score for train set shows that **train set with hyperparameter tuning creates a better result** than the model with default parameters.\n",
        "\n",
        "Although some classes are still resulting 100% such as **recall** `class-0` and **precision** `class-1`, this can be evaluated that **the hyperparamter tuning needs to be refined** to create less biased results."
      ],
      "metadata": {
        "id": "Rvo70Y2spTi2"
      }
    },
    {
      "cell_type": "markdown",
      "source": [
        "*Confusion Matrix & Classification Score*"
      ],
      "metadata": {
        "id": "O3-RyYS2pddH"
      }
    },
    {
      "cell_type": "code",
      "source": [
        "# Evaluating Train set with tuned hyperparameter\n",
        "print('Accuracy - Train Set  : ', accuracy_score(y_train, y_pred_train_rf), '\\n')\n",
        "print('F1 Score - Train Set  : ', f1_score(y_train, y_pred_train_rf), '\\n')\n",
        "print('Classification Report : \\n', classification_report(y_train, y_pred_train_rf), '\\n')\n",
        "\n",
        "# Creating confusion matrix for train set\n",
        "print('Confusion Matrix Train Set')\n",
        "cm = confusion_matrix(y_train, y_pred_train_rf, labels=rf_gridcv.classes_)\n",
        "disp = ConfusionMatrixDisplay(confusion_matrix=cm,display_labels=rf_gridcv.classes_)\n",
        "\n",
        "disp.plot()\n",
        "plt.show()"
      ],
      "metadata": {
        "colab": {
          "base_uri": "https://localhost:8080/",
          "height": 749
        },
        "id": "UXt5-VxwmgT4",
        "outputId": "a131d43d-44ea-4438-bd2f-d31b563df601"
      },
      "execution_count": 145,
      "outputs": [
        {
          "output_type": "stream",
          "name": "stdout",
          "text": [
            "Accuracy - Train Set  :  0.9455445544554455 \n",
            "\n",
            "F1 Score - Train Set  :  0.9009009009009009 \n",
            "\n",
            "Classification Report : \n",
            "               precision    recall  f1-score   support\n",
            "\n",
            "         0.0       0.93      1.00      0.96       141\n",
            "         1.0       1.00      0.82      0.90        61\n",
            "\n",
            "    accuracy                           0.95       202\n",
            "   macro avg       0.96      0.91      0.93       202\n",
            "weighted avg       0.95      0.95      0.94       202\n",
            " \n",
            "\n",
            "Confusion Matrix Train Set\n"
          ]
        },
        {
          "output_type": "display_data",
          "data": {
            "text/plain": [
              "<Figure size 1008x540 with 2 Axes>"
            ],
            "image/png": "[encoded data removed]"
          },
          "metadata": {
            "needs_background": "light"
          }
        }
      ]
    },
    {
      "cell_type": "markdown",
      "source": [
        "#### **7.2.2. Model Evaluation Test Set**\n",
        "\n",
        "Based on the confusion matrix and classification score for test set, we can see that **test set with hyperparameter tuning creates a better result** than the model with default parameters. However, for test set case, the model corrected the class, where finally **False Negative decreased** from `27` to `14`. This means, there are some incorrect results where people should have been included as `death` in actual situation, but the classification model tells us `non-death`.\n",
        "\n",
        "The same treatment like train set hyperparameter tuned, the model needs to be refined as well."
      ],
      "metadata": {
        "id": "F2Ko9fMwpfQ0"
      }
    },
    {
      "cell_type": "markdown",
      "source": [
        "*Confusion Matrix & Classification Score*"
      ],
      "metadata": {
        "id": "G_rbGIz9qqYp"
      }
    },
    {
      "cell_type": "code",
      "source": [
        "# Evaluating Train set with tuned hyperparameter\n",
        "print('Accuracy - Test Set  : ', accuracy_score(y_test, y_pred_test_rf), '\\n')\n",
        "print('F1 Score - Test Set  : ', f1_score(y_test, y_pred_test_rf), '\\n')\n",
        "print('Classification Report : \\n', classification_report(y_test, y_pred_test_rf), '\\n')\n",
        "\n",
        "# Creating confusion matrix for train set\n",
        "print('Confusion Matrix Test Set')\n",
        "cm = confusion_matrix(y_test, y_pred_test_rf, labels=rf_gridcv_test_best.classes_)\n",
        "disp = ConfusionMatrixDisplay(confusion_matrix=cm,display_labels=rf_gridcv_test_best.classes_)\n",
        "\n",
        "disp.plot()\n",
        "plt.show()"
      ],
      "metadata": {
        "colab": {
          "base_uri": "https://localhost:8080/",
          "height": 748
        },
        "id": "5nt15CM3pvcy",
        "outputId": "a2cdd89d-14ea-4ea3-8feb-505109d6e1c0"
      },
      "execution_count": 146,
      "outputs": [
        {
          "output_type": "stream",
          "name": "stdout",
          "text": [
            "Accuracy - Test Set  :  0.8390804597701149 \n",
            "\n",
            "F1 Score - Test Set  :  0.6818181818181819 \n",
            "\n",
            "Classification Report : \n",
            "               precision    recall  f1-score   support\n",
            "\n",
            "         0.0       0.81      1.00      0.89        58\n",
            "         1.0       1.00      0.52      0.68        29\n",
            "\n",
            "    accuracy                           0.84        87\n",
            "   macro avg       0.90      0.76      0.79        87\n",
            "weighted avg       0.87      0.84      0.82        87\n",
            " \n",
            "\n",
            "Confusion Matrix Test Set\n"
          ]
        },
        {
          "output_type": "display_data",
          "data": {
            "text/plain": [
              "<Figure size 1008x540 with 2 Axes>"
            ],
            "image/png": "[encoded data removed]"
          },
          "metadata": {
            "needs_background": "light"
          }
        }
      ]
    },
    {
      "cell_type": "markdown",
      "source": [
        "## **8. AdaBoost Classifier**"
      ],
      "metadata": {
        "id": "Y-K-a1KpoDyG"
      }
    },
    {
      "cell_type": "code",
      "source": [
        "# Fitting Random Forest Model with default parameter\n",
        "abc.fit(X_train_final, y_train)"
      ],
      "metadata": {
        "colab": {
          "base_uri": "https://localhost:8080/"
        },
        "id": "UOfjVAQfoIsl",
        "outputId": "5c7c7cc8-122c-4d3e-a84e-d2aea5f963bf"
      },
      "execution_count": 147,
      "outputs": [
        {
          "output_type": "execute_result",
          "data": {
            "text/plain": [
              "AdaBoostClassifier(random_state=3)"
            ]
          },
          "metadata": {},
          "execution_count": 147
        }
      ]
    },
    {
      "cell_type": "markdown",
      "source": [
        "### **8.1. Model Training**"
      ],
      "metadata": {
        "id": "jL5D7dfNMatP"
      }
    },
    {
      "cell_type": "markdown",
      "source": [
        "#### **8.1.1. Cross-Validation**"
      ],
      "metadata": {
        "id": "SQ7ktOz_q0AS"
      }
    },
    {
      "cell_type": "code",
      "source": [
        "# Cross Validation using `cross_val_score` for train set default parameter\n",
        "train_cross_val = cross_val_score(abc, \n",
        "                                  X_train_final, \n",
        "                                  y_train, \n",
        "                                  cv=5, \n",
        "                                  scoring='accuracy')\n",
        "\n",
        "print(\"Accuracy Score All - Cross Validation :\", train_cross_val)\n",
        "print(\"Mean - Cross-Validation               :\", train_cross_val.mean())\n",
        "print(\"Standard Deviation Cross-Validation   :\", train_cross_val.std())"
      ],
      "metadata": {
        "colab": {
          "base_uri": "https://localhost:8080/"
        },
        "id": "Rbxn2Qb8q3ql",
        "outputId": "120aa669-efbb-4912-84ca-1ad040387f80"
      },
      "execution_count": 148,
      "outputs": [
        {
          "output_type": "stream",
          "name": "stdout",
          "text": [
            "Accuracy Score All - Cross Validation : [0.58536585 0.53658537 0.55       0.575      0.675     ]\n",
            "Mean - Cross-Validation               : 0.584390243902439\n",
            "Standard Deviation Cross-Validation   : 0.048512372928833314\n"
          ]
        }
      ]
    },
    {
      "cell_type": "markdown",
      "source": [
        "#### **8.1.2. Default Prediction**"
      ],
      "metadata": {
        "id": "XwThxHfCrGzM"
      }
    },
    {
      "cell_type": "code",
      "source": [
        "# Predicting target with AdaBoostClassifier\n",
        "y_pred_train_abc_default = abc.predict(X_train_final)\n",
        "y_pred_test_abc_default = abc.predict(X_test_final)"
      ],
      "metadata": {
        "id": "C_N-uuR5q82z"
      },
      "execution_count": 149,
      "outputs": []
    },
    {
      "cell_type": "markdown",
      "source": [
        "The model with default parameters actually has a good score based on its `accuracy` and `f1-score`, which is not 100% perfectly classified for train set and test set."
      ],
      "metadata": {
        "id": "JuuAi-Uouuux"
      }
    },
    {
      "cell_type": "code",
      "source": [
        "# Determining classification report for train set\n",
        "print('Classification Score')\n",
        "print(classification_report(y_train, y_pred_train_abc_default))\n",
        "\n",
        "# Get F1 Score, Precision Score and Recall Score - Train Set\n",
        "print('F1 Score (Train Set)  : ', f1_score(y_train, y_pred_train_abc_default))\n",
        "print('Precision (Train Set) : ', precision_score(y_train, y_pred_train_abc_default))\n",
        "print('Recall (Train Set)    : ', recall_score(y_train, y_pred_train_abc_default), '\\n')\n",
        "print('Accuracy (Train Set)  : ', accuracy_score(y_train, y_pred_train_abc_default), '\\n')\n",
        "\n",
        "# Creating confusion matrix for train set\n",
        "print('Confusion Matrix Train Set')\n",
        "cm = confusion_matrix(y_train, y_pred_train_abc_default, labels=abc.classes_)\n",
        "disp = ConfusionMatrixDisplay(confusion_matrix=cm,display_labels=abc.classes_)\n",
        "\n",
        "disp.plot()\n",
        "plt.show()"
      ],
      "metadata": {
        "colab": {
          "base_uri": "https://localhost:8080/",
          "height": 765
        },
        "id": "1C_3rY9hur1X",
        "outputId": "6080af15-9935-43d9-8e57-f4ab0187e078"
      },
      "execution_count": 150,
      "outputs": [
        {
          "output_type": "stream",
          "name": "stdout",
          "text": [
            "Classification Score\n",
            "              precision    recall  f1-score   support\n",
            "\n",
            "         0.0       0.85      0.98      0.91       141\n",
            "         1.0       0.92      0.59      0.72        61\n",
            "\n",
            "    accuracy                           0.86       202\n",
            "   macro avg       0.88      0.78      0.81       202\n",
            "weighted avg       0.87      0.86      0.85       202\n",
            "\n",
            "F1 Score (Train Set)  :  0.7200000000000001\n",
            "Precision (Train Set) :  0.9230769230769231\n",
            "Recall (Train Set)    :  0.5901639344262295 \n",
            "\n",
            "Accuracy (Train Set)  :  0.8613861386138614 \n",
            "\n",
            "Confusion Matrix Train Set\n"
          ]
        },
        {
          "output_type": "display_data",
          "data": {
            "text/plain": [
              "<Figure size 1008x540 with 2 Axes>"
            ],
            "image/png": "[encoded data removed]"
          },
          "metadata": {
            "needs_background": "light"
          }
        }
      ]
    },
    {
      "cell_type": "code",
      "source": [
        "# Determining classification report for test set\n",
        "print('Classification Score')\n",
        "print(classification_report(y_test, y_pred_test_abc_default))\n",
        "\n",
        "# Get F1 Score, Precision Score and Recall Score - Test Set\n",
        "print('F1 Score (Train Set)  : ', f1_score(y_test, y_pred_test_abc_default))\n",
        "print('Precision (Train Set) : ', precision_score(y_test, y_pred_test_abc_default))\n",
        "print('Recall (Train Set)    : ', recall_score(y_test, y_pred_test_abc_default), '\\n')\n",
        "print('Accuracy (Train Set)  : ', accuracy_score(y_test, y_pred_test_abc_default), '\\n')\n",
        "\n",
        "# Creating confusion matrix for train set\n",
        "print('Confusion Matrix Train Set')\n",
        "cm = confusion_matrix(y_test, y_pred_test_abc_default, labels=abc.classes_)\n",
        "disp = ConfusionMatrixDisplay(confusion_matrix=cm,display_labels=abc.classes_)\n",
        "\n",
        "disp.plot()\n",
        "plt.show()"
      ],
      "metadata": {
        "colab": {
          "base_uri": "https://localhost:8080/",
          "height": 769
        },
        "id": "4qUKoEfhPftd",
        "outputId": "8b584894-56c1-49ee-c148-446db70af7c9"
      },
      "execution_count": 151,
      "outputs": [
        {
          "output_type": "stream",
          "name": "stdout",
          "text": [
            "Classification Score\n",
            "              precision    recall  f1-score   support\n",
            "\n",
            "         0.0       0.71      0.86      0.78        58\n",
            "         1.0       0.53      0.31      0.39        29\n",
            "\n",
            "    accuracy                           0.68        87\n",
            "   macro avg       0.62      0.59      0.59        87\n",
            "weighted avg       0.65      0.68      0.65        87\n",
            "\n",
            "F1 Score (Train Set)  :  0.391304347826087\n",
            "Precision (Train Set) :  0.5294117647058824\n",
            "Recall (Train Set)    :  0.3103448275862069 \n",
            "\n",
            "Accuracy (Train Set)  :  0.6781609195402298 \n",
            "\n",
            "Confusion Matrix Train Set\n"
          ]
        },
        {
          "output_type": "display_data",
          "data": {
            "text/plain": [
              "<Figure size 1008x540 with 2 Axes>"
            ],
            "image/png": "[encoded data removed]"
          },
          "metadata": {
            "needs_background": "light"
          }
        }
      ]
    },
    {
      "cell_type": "markdown",
      "source": [
        "Meanwhile, test set with default parameter needs to be corrected as the model looks like not accurate, and that is also the reason why `f1 score` based on confusion matrix above is depleted. The hyperparemter tuning is obviously needed for this case."
      ],
      "metadata": {
        "id": "YnnHNPnEvlzd"
      }
    },
    {
      "cell_type": "markdown",
      "source": [
        "#### **8.1.3. Hyperparameter Tuning**\n",
        "\n",
        "Hyperparameter tuning for AdaBoostClassifier needs a base estimator, that the default is DecisionTreeClassifier. This `base estimator` is usually known as **Decision Stumps**. Decision Stumps are like trees in a Random Forest, but not \"fully grown\". They have one node and two leaves. AdaBoost uses a forest of such stumps rather than trees."
      ],
      "metadata": {
        "id": "gE_9NL8qsADD"
      }
    },
    {
      "cell_type": "code",
      "source": [
        "# Define Hyperparameters\n",
        "abc = AdaBoostClassifier(base_estimator=DecisionTreeClassifier(random_state=3))\n",
        "\n",
        "n_estimators = [int(x) for x in np.linspace(start = 10, stop = 50, num = 5)]\n",
        "learning_rate = [(0.97 + x / 100) for x in range(0, 5)]\n",
        "\n",
        "param_grid_abc = {'base_estimator__max_depth': [int(x) for x in np.linspace(10, 50, num = 5)],\n",
        "                  'base_estimator__min_samples_leaf': [3,4,5],\n",
        "                  'base_estimator__criterion': ['gini', 'entropy'],\n",
        "                  'n_estimators':n_estimators,\n",
        "                  'learning_rate':learning_rate,\n",
        "                  'algorithm': ['SAMME', 'SAMME.R']}\n",
        "param_grid_abc"
      ],
      "metadata": {
        "colab": {
          "base_uri": "https://localhost:8080/"
        },
        "id": "0v2-Em1xsLCT",
        "outputId": "b671ddca-523e-4b90-a5a8-8b834a151e39"
      },
      "execution_count": 152,
      "outputs": [
        {
          "output_type": "execute_result",
          "data": {
            "text/plain": [
              "{'base_estimator__max_depth': [10, 20, 30, 40, 50],\n",
              " 'base_estimator__min_samples_leaf': [3, 4, 5],\n",
              " 'base_estimator__criterion': ['gini', 'entropy'],\n",
              " 'n_estimators': [10, 20, 30, 40, 50],\n",
              " 'learning_rate': [0.97, 0.98, 0.99, 1.0, 1.01],\n",
              " 'algorithm': ['SAMME', 'SAMME.R']}"
            ]
          },
          "metadata": {},
          "execution_count": 152
        }
      ]
    },
    {
      "cell_type": "markdown",
      "source": [
        "**Train set Hyperparameter Tuning**\n",
        "\n",
        "The chosen hyperparemter is as below:\n",
        "\n",
        "```\n",
        " 'algorithm': 'SAMME',\n",
        " 'base_estimator__criterion': 'entropy',\n",
        " 'base_estimator__max_depth': 30,\n",
        " 'base_estimator__min_samples_leaf': 4,\n",
        " 'learning_rate': 0.99,\n",
        " 'n_estimators': 10\n",
        " ```\n",
        "\n",
        " The weak classifier used is **DecisionTreeClassifier**, with criterion chosen is entropy and maximum depth of the tree is 30."
      ],
      "metadata": {
        "id": "pcK2wFnNMyD7"
      }
    },
    {
      "cell_type": "code",
      "source": [
        "# Train with Grid Search\n",
        "%%time\n",
        "abc_gridcv = GridSearchCV(abc,\n",
        "                          param_grid_abc,\n",
        "                          n_jobs=-1,\n",
        "                          verbose=2,\n",
        "                          scoring='f1')\n",
        "abc_gridcv.fit(X_train_final, y_train)"
      ],
      "metadata": {
        "colab": {
          "base_uri": "https://localhost:8080/"
        },
        "id": "oTDpF2lFtO1I",
        "outputId": "31fab750-b2eb-4b71-a06a-0e7d61893fc8"
      },
      "execution_count": 51,
      "outputs": [
        {
          "output_type": "stream",
          "name": "stdout",
          "text": [
            "Fitting 5 folds for each of 1500 candidates, totalling 7500 fits\n",
            "CPU times: user 25 s, sys: 811 ms, total: 25.8 s\n",
            "Wall time: 7min 8s\n"
          ]
        },
        {
          "output_type": "execute_result",
          "data": {
            "text/plain": [
              "GridSearchCV(estimator=AdaBoostClassifier(base_estimator=DecisionTreeClassifier(random_state=3)),\n",
              "             n_jobs=-1,\n",
              "             param_grid={'algorithm': ['SAMME', 'SAMME.R'],\n",
              "                         'base_estimator__criterion': ['gini', 'entropy'],\n",
              "                         'base_estimator__max_depth': [10, 20, 30, 40, 50],\n",
              "                         'base_estimator__min_samples_leaf': [3, 4, 5],\n",
              "                         'learning_rate': [0.97, 0.98, 0.99, 1.0, 1.01],\n",
              "                         'n_estimators': [10, 20, 30, 40, 50]},\n",
              "             scoring='f1', verbose=2)"
            ]
          },
          "metadata": {},
          "execution_count": 51
        }
      ]
    },
    {
      "cell_type": "code",
      "source": [
        "# Showing best hyperparameters train set\n",
        "abc_gridcv.best_params_"
      ],
      "metadata": {
        "colab": {
          "base_uri": "https://localhost:8080/"
        },
        "id": "yVMZU-3y6Y6t",
        "outputId": "c851d11c-70bc-464a-ab59-2116b8891c7e"
      },
      "execution_count": 153,
      "outputs": [
        {
          "output_type": "execute_result",
          "data": {
            "text/plain": [
              "{'algorithm': 'SAMME',\n",
              " 'base_estimator__criterion': 'entropy',\n",
              " 'base_estimator__max_depth': 30,\n",
              " 'base_estimator__min_samples_leaf': 4,\n",
              " 'learning_rate': 0.99,\n",
              " 'n_estimators': 10}"
            ]
          },
          "metadata": {},
          "execution_count": 153
        }
      ]
    },
    {
      "cell_type": "code",
      "source": [
        "# Get Best Estimator\n",
        "abc_gridcv_best = abc_gridcv.best_estimator_"
      ],
      "metadata": {
        "id": "QMYk4THi6b5u"
      },
      "execution_count": 154,
      "outputs": []
    },
    {
      "cell_type": "markdown",
      "source": [
        "**Test set Hyperparameter Tuning**\n",
        "\n",
        "The chosen hyperparemter is as below:\n",
        "\n",
        "```\n",
        " 'algorithm': 'SAMME',\n",
        " 'base_estimator__criterion': 'entropy',\n",
        " 'base_estimator__max_depth': 20,\n",
        " 'base_estimator__min_samples_leaf': 5,\n",
        " 'learning_rate': 0.99,\n",
        " 'n_estimators': 10\n",
        " ```\n",
        "\n",
        " The weak classifier used is **DecisionTreeClassifier**, with criterion chosen is entropy and maximum depth of the tree is 20."
      ],
      "metadata": {
        "id": "gL1ykEd5GbL6"
      }
    },
    {
      "cell_type": "code",
      "source": [
        "# Train with Grid Search\n",
        "%%time\n",
        "abc_gridcv_test = GridSearchCV(abc,\n",
        "                          param_grid_abc,\n",
        "                          n_jobs=-1,\n",
        "                          verbose=2,\n",
        "                          scoring='f1')\n",
        "abc_gridcv_test.fit(X_test_final, y_test)"
      ],
      "metadata": {
        "colab": {
          "base_uri": "https://localhost:8080/"
        },
        "id": "1qn3EoM6GbpQ",
        "outputId": "2434e653-7e58-4e39-d3cf-304ff6f86a51"
      },
      "execution_count": 54,
      "outputs": [
        {
          "output_type": "stream",
          "name": "stdout",
          "text": [
            "Fitting 5 folds for each of 1500 candidates, totalling 7500 fits\n",
            "CPU times: user 24.4 s, sys: 776 ms, total: 25.2 s\n",
            "Wall time: 6min 22s\n"
          ]
        },
        {
          "output_type": "execute_result",
          "data": {
            "text/plain": [
              "GridSearchCV(estimator=AdaBoostClassifier(base_estimator=DecisionTreeClassifier(random_state=3)),\n",
              "             n_jobs=-1,\n",
              "             param_grid={'algorithm': ['SAMME', 'SAMME.R'],\n",
              "                         'base_estimator__criterion': ['gini', 'entropy'],\n",
              "                         'base_estimator__max_depth': [10, 20, 30, 40, 50],\n",
              "                         'base_estimator__min_samples_leaf': [3, 4, 5],\n",
              "                         'learning_rate': [0.97, 0.98, 0.99, 1.0, 1.01],\n",
              "                         'n_estimators': [10, 20, 30, 40, 50]},\n",
              "             scoring='f1', verbose=2)"
            ]
          },
          "metadata": {},
          "execution_count": 54
        }
      ]
    },
    {
      "cell_type": "code",
      "source": [
        "# Showing best hyperparameters train set\n",
        "abc_gridcv_test.best_params_"
      ],
      "metadata": {
        "colab": {
          "base_uri": "https://localhost:8080/"
        },
        "id": "VsebV7OpHbnM",
        "outputId": "102ccf63-ea3a-4b3e-97ae-eec96bbfe6a9"
      },
      "execution_count": 155,
      "outputs": [
        {
          "output_type": "execute_result",
          "data": {
            "text/plain": [
              "{'algorithm': 'SAMME',\n",
              " 'base_estimator__criterion': 'entropy',\n",
              " 'base_estimator__max_depth': 20,\n",
              " 'base_estimator__min_samples_leaf': 5,\n",
              " 'learning_rate': 0.99,\n",
              " 'n_estimators': 10}"
            ]
          },
          "metadata": {},
          "execution_count": 155
        }
      ]
    },
    {
      "cell_type": "code",
      "source": [
        "# Get Best Estimator\n",
        "abc_gridcv_test_best = abc_gridcv_test.best_estimator_"
      ],
      "metadata": {
        "id": "7zKttPbjHglB"
      },
      "execution_count": 156,
      "outputs": []
    },
    {
      "cell_type": "markdown",
      "source": [
        "#### **8.1.4. Model Training with Hyperparameter Tuning**"
      ],
      "metadata": {
        "id": "7ycQ7jLXsEI5"
      }
    },
    {
      "cell_type": "code",
      "source": [
        "# Predict the Train set results with tuned hyperparameter\n",
        "y_pred_train_abc = abc_gridcv_best.predict(X_train_final)\n",
        "\n",
        "# Predict the Test set results with tuned hyperparameter\n",
        "y_pred_test_abc = rf_gridcv_test_best.predict(X_test_final)\n",
        "\n",
        "print('Predicition Train:', '\\n', y_pred_train_abc)\n",
        "print('Predicition Test :', '\\n', y_pred_test_abc)"
      ],
      "metadata": {
        "colab": {
          "base_uri": "https://localhost:8080/"
        },
        "id": "8S_A7RsrGPZc",
        "outputId": "47940907-625e-4dc3-97e8-b4d888baeeb1"
      },
      "execution_count": 157,
      "outputs": [
        {
          "output_type": "stream",
          "name": "stdout",
          "text": [
            "Predicition Train: \n",
            " [0. 0. 0. 0. 1. 0. 0. 0. 0. 0. 0. 0. 0. 0. 0. 0. 0. 1. 0. 0. 0. 1. 0. 1.\n",
            " 0. 0. 1. 1. 0. 1. 0. 1. 1. 0. 0. 1. 1. 1. 0. 0. 0. 0. 0. 0. 0. 1. 0. 0.\n",
            " 0. 0. 0. 0. 0. 0. 0. 0. 1. 1. 1. 1. 0. 0. 1. 0. 1. 0. 0. 0. 0. 1. 1. 0.\n",
            " 0. 0. 0. 0. 0. 1. 0. 0. 0. 1. 0. 1. 1. 0. 1. 0. 0. 0. 1. 0. 1. 0. 0. 0.\n",
            " 0. 0. 0. 1. 0. 0. 0. 1. 1. 0. 1. 0. 1. 0. 1. 1. 0. 1. 0. 0. 1. 1. 0. 0.\n",
            " 0. 0. 1. 1. 0. 0. 0. 0. 1. 0. 0. 1. 1. 0. 0. 1. 0. 0. 0. 0. 0. 0. 1. 0.\n",
            " 0. 0. 0. 1. 0. 0. 0. 1. 0. 0. 0. 0. 0. 0. 0. 1. 0. 1. 1. 0. 0. 0. 1. 0.\n",
            " 0. 1. 0. 1. 0. 0. 1. 0. 0. 0. 0. 0. 1. 0. 1. 0. 1. 0. 0. 0. 0. 0. 0. 1.\n",
            " 1. 0. 0. 1. 0. 0. 0. 1. 0. 0.]\n",
            "Predicition Test : \n",
            " [0. 0. 0. 0. 0. 0. 0. 0. 0. 1. 0. 0. 0. 0. 0. 0. 0. 0. 0. 0. 0. 0. 0. 1.\n",
            " 0. 0. 0. 0. 0. 0. 0. 0. 1. 0. 1. 1. 0. 0. 0. 0. 0. 0. 0. 0. 0. 0. 0. 0.\n",
            " 0. 0. 0. 0. 1. 1. 0. 1. 0. 0. 1. 0. 0. 0. 0. 0. 1. 0. 0. 0. 0. 1. 1. 0.\n",
            " 1. 0. 1. 0. 0. 0. 0. 0. 0. 0. 1. 0. 0. 0. 0.]\n"
          ]
        }
      ]
    },
    {
      "cell_type": "markdown",
      "source": [
        "### **8.2. Model Evaluation**"
      ],
      "metadata": {
        "id": "f0hL_BB9Hna2"
      }
    },
    {
      "cell_type": "markdown",
      "source": [
        "#### **8.2.1. Model Evaluation Train Set**\n",
        "\n",
        "The confusion matrix and classification report show that apparently Adaptive Boost Classifier is too strong for Train Dataset to classify the prediction, which creates the classification is more biased. **The default parameter results look better than the model with hyperparameter tuning**.\n",
        "\n",
        "This can be understood that basically Adaptive Boost Classifier has a better algorithm **to classify the model without biased results, however its variance needs to be corrected**."
      ],
      "metadata": {
        "id": "et4M6hD3QUat"
      }
    },
    {
      "cell_type": "code",
      "source": [
        "# Evaluating Train set with tuned hyperparameter\n",
        "print('Accuracy - Test Set  : ', accuracy_score(y_train, y_pred_train_abc), '\\n')\n",
        "print('F1 Score - Test Set  : ', f1_score(y_train, y_pred_train_abc), '\\n')\n",
        "print('Classification Report : \\n', classification_report(y_train, y_pred_train_abc), '\\n')\n",
        "\n",
        "# Creating confusion matrix for train set\n",
        "print('Confusion Matrix Test Set')\n",
        "cm = confusion_matrix(y_train, y_pred_train_abc, labels=abc_gridcv_best.classes_)\n",
        "disp = ConfusionMatrixDisplay(confusion_matrix=cm,display_labels=abc_gridcv_best.classes_)\n",
        "\n",
        "disp.plot()\n",
        "plt.show()"
      ],
      "metadata": {
        "colab": {
          "base_uri": "https://localhost:8080/",
          "height": 749
        },
        "id": "RmFisJPrHoLY",
        "outputId": "743006ba-6b65-4bef-b119-ed38f703130f"
      },
      "execution_count": 158,
      "outputs": [
        {
          "output_type": "stream",
          "name": "stdout",
          "text": [
            "Accuracy - Test Set  :  1.0 \n",
            "\n",
            "F1 Score - Test Set  :  1.0 \n",
            "\n",
            "Classification Report : \n",
            "               precision    recall  f1-score   support\n",
            "\n",
            "         0.0       1.00      1.00      1.00       141\n",
            "         1.0       1.00      1.00      1.00        61\n",
            "\n",
            "    accuracy                           1.00       202\n",
            "   macro avg       1.00      1.00      1.00       202\n",
            "weighted avg       1.00      1.00      1.00       202\n",
            " \n",
            "\n",
            "Confusion Matrix Test Set\n"
          ]
        },
        {
          "output_type": "display_data",
          "data": {
            "text/plain": [
              "<Figure size 1008x540 with 2 Axes>"
            ],
            "image/png": "[encoded data removed]"
          },
          "metadata": {
            "needs_background": "light"
          }
        }
      ]
    },
    {
      "cell_type": "markdown",
      "source": [
        "#### **8.2.2. Model Evaluation Test Set**\n",
        "\n",
        "Meanwhile for test set with hyperparemeter tuning, the cofusion matrix and classification report show that the classification is actually much better than the model with default parameters. The same characteristic as Random Forest Classifier, **False Negative** based on the confusion matrix below is lower than the model with defaul parameter, from `25` to `14`."
      ],
      "metadata": {
        "id": "R-JIg7HSPTEp"
      }
    },
    {
      "cell_type": "code",
      "source": [
        "# Evaluating Train set with tuned hyperparameter\n",
        "print('Accuracy - Test Set  : ', accuracy_score(y_test, y_pred_test_abc), '\\n')\n",
        "print('F1 Score - Test Set  : ', f1_score(y_test, y_pred_test_abc), '\\n')\n",
        "print('Classification Report : \\n', classification_report(y_test, y_pred_test_abc), '\\n')\n",
        "\n",
        "# Creating confusion matrix for train set\n",
        "print('Confusion Matrix Test Set')\n",
        "cm = confusion_matrix(y_test, y_pred_test_abc, labels=abc_gridcv_test_best.classes_)\n",
        "disp = ConfusionMatrixDisplay(confusion_matrix=cm,display_labels=abc_gridcv_test_best.classes_)\n",
        "\n",
        "disp.plot()\n",
        "plt.show()"
      ],
      "metadata": {
        "colab": {
          "base_uri": "https://localhost:8080/",
          "height": 748
        },
        "id": "mjGss_yEPUae",
        "outputId": "a9249872-c7a7-4de9-d9fa-1f6de601b611"
      },
      "execution_count": 159,
      "outputs": [
        {
          "output_type": "stream",
          "name": "stdout",
          "text": [
            "Accuracy - Test Set  :  0.8390804597701149 \n",
            "\n",
            "F1 Score - Test Set  :  0.6818181818181819 \n",
            "\n",
            "Classification Report : \n",
            "               precision    recall  f1-score   support\n",
            "\n",
            "         0.0       0.81      1.00      0.89        58\n",
            "         1.0       1.00      0.52      0.68        29\n",
            "\n",
            "    accuracy                           0.84        87\n",
            "   macro avg       0.90      0.76      0.79        87\n",
            "weighted avg       0.87      0.84      0.82        87\n",
            " \n",
            "\n",
            "Confusion Matrix Test Set\n"
          ]
        },
        {
          "output_type": "display_data",
          "data": {
            "text/plain": [
              "<Figure size 1008x540 with 2 Axes>"
            ],
            "image/png": "[encoded data removed]"
          },
          "metadata": {
            "needs_background": "light"
          }
        }
      ]
    },
    {
      "cell_type": "markdown",
      "source": [
        "## **Overall Evaluation**"
      ],
      "metadata": {
        "id": "OU6QJyyuZzCg"
      }
    },
    {
      "cell_type": "markdown",
      "source": [
        "**Random Forest Classifier**"
      ],
      "metadata": {
        "id": "9eCjNUwlbK1Y"
      }
    },
    {
      "cell_type": "code",
      "source": [
        "# Save Classification Report into a Dictionary\n",
        "\n",
        "all_reports = {}\n",
        "score_reports = {\n",
        "    'train - precision' : precision_score(y_train, y_pred_train_rf_default),\n",
        "    'train - recall' : recall_score(y_train, y_pred_train_rf_default),\n",
        "    'train - accuracy' : accuracy_score(y_train, y_pred_train_rf_default),\n",
        "    'train - f1_score' : f1_score(y_train, y_pred_train_rf_default),\n",
        "    'test - precision' : precision_score(y_test, y_pred_test_rf_default),\n",
        "    'test - recall' : recall_score(y_test, y_pred_test_rf_default),\n",
        "    'test - accuracy' : accuracy_score(y_test, y_pred_test_rf_default),\n",
        "    'test - f1_score' : f1_score(y_test, y_pred_test_rf_default),\n",
        "}\n",
        "all_reports['Baseline RF (Default)'] = score_reports\n",
        "pd.DataFrame(all_reports)"
      ],
      "metadata": {
        "colab": {
          "base_uri": "https://localhost:8080/",
          "height": 300
        },
        "id": "P2VYfSNNZ3FR",
        "outputId": "217686f1-7d0d-495f-a3cd-4703059455aa"
      },
      "execution_count": 165,
      "outputs": [
        {
          "output_type": "execute_result",
          "data": {
            "text/plain": [
              "                   Baseline RF (Default)\n",
              "test - accuracy                 0.643678\n",
              "test - f1_score                 0.114286\n",
              "test - precision                0.333333\n",
              "test - recall                   0.068966\n",
              "train - accuracy                1.000000\n",
              "train - f1_score                1.000000\n",
              "train - precision               1.000000\n",
              "train - recall                  1.000000"
            ],
            "text/html": [
              "\n",
              "  <div id=\"df-3db7dde0-2694-4e94-9283-910c1200c1b8\">\n",
              "    <div class=\"colab-df-container\">\n",
              "      <div>\n",
              "<style scoped>\n",
              "    .dataframe tbody tr th:only-of-type {\n",
              "        vertical-align: middle;\n",
              "    }\n",
              "\n",
              "    .dataframe tbody tr th {\n",
              "        vertical-align: top;\n",
              "    }\n",
              "\n",
              "    .dataframe thead th {\n",
              "        text-align: right;\n",
              "    }\n",
              "</style>\n",
              "<table border=\"1\" class=\"dataframe\">\n",
              "  <thead>\n",
              "    <tr style=\"text-align: right;\">\n",
              "      <th></th>\n",
              "      <th>Baseline RF (Default)</th>\n",
              "    </tr>\n",
              "  </thead>\n",
              "  <tbody>\n",
              "    <tr>\n",
              "      <th>test - accuracy</th>\n",
              "      <td>0.643678</td>\n",
              "    </tr>\n",
              "    <tr>\n",
              "      <th>test - f1_score</th>\n",
              "      <td>0.114286</td>\n",
              "    </tr>\n",
              "    <tr>\n",
              "      <th>test - precision</th>\n",
              "      <td>0.333333</td>\n",
              "    </tr>\n",
              "    <tr>\n",
              "      <th>test - recall</th>\n",
              "      <td>0.068966</td>\n",
              "    </tr>\n",
              "    <tr>\n",
              "      <th>train - accuracy</th>\n",
              "      <td>1.000000</td>\n",
              "    </tr>\n",
              "    <tr>\n",
              "      <th>train - f1_score</th>\n",
              "      <td>1.000000</td>\n",
              "    </tr>\n",
              "    <tr>\n",
              "      <th>train - precision</th>\n",
              "      <td>1.000000</td>\n",
              "    </tr>\n",
              "    <tr>\n",
              "      <th>train - recall</th>\n",
              "      <td>1.000000</td>\n",
              "    </tr>\n",
              "  </tbody>\n",
              "</table>\n",
              "</div>\n",
              "      <button class=\"colab-df-convert\" onclick=\"convertToInteractive('df-3db7dde0-2694-4e94-9283-910c1200c1b8')\"\n",
              "              title=\"Convert this dataframe to an interactive table.\"\n",
              "              style=\"display:none;\">\n",
              "        \n",
              "  <svg xmlns=\"http://www.w3.org/2000/svg\" height=\"24px\"viewBox=\"0 0 24 24\"\n",
              "       width=\"24px\">\n",
              "    <path d=\"M0 0h24v24H0V0z\" fill=\"none\"/>\n",
              "    <path d=\"M18.56 5.44l.94 2.06.94-2.06 2.06-.94-2.06-.94-.94-2.06-.94 2.06-2.06.94zm-11 1L8.5 8.5l.94-2.06 2.06-.94-2.06-.94L8.5 2.5l-.94 2.06-2.06.94zm10 10l.94 2.06.94-2.06 2.06-.94-2.06-.94-.94-2.06-.94 2.06-2.06.94z\"/><path d=\"M17.41 7.96l-1.37-1.37c-.4-.4-.92-.59-1.43-.59-.52 0-1.04.2-1.43.59L10.3 9.45l-7.72 7.72c-.78.78-.78 2.05 0 2.83L4 21.41c.39.39.9.59 1.41.59.51 0 1.02-.2 1.41-.59l7.78-7.78 2.81-2.81c.8-.78.8-2.07 0-2.86zM5.41 20L4 18.59l7.72-7.72 1.47 1.35L5.41 20z\"/>\n",
              "  </svg>\n",
              "      </button>\n",
              "      \n",
              "  <style>\n",
              "    .colab-df-container {\n",
              "      display:flex;\n",
              "      flex-wrap:wrap;\n",
              "      gap: 12px;\n",
              "    }\n",
              "\n",
              "    .colab-df-convert {\n",
              "      background-color: #E8F0FE;\n",
              "      border: none;\n",
              "      border-radius: 50%;\n",
              "      cursor: pointer;\n",
              "      display: none;\n",
              "      fill: #1967D2;\n",
              "      height: 32px;\n",
              "      padding: 0 0 0 0;\n",
              "      width: 32px;\n",
              "    }\n",
              "\n",
              "    .colab-df-convert:hover {\n",
              "      background-color: #E2EBFA;\n",
              "      box-shadow: 0px 1px 2px rgba(60, 64, 67, 0.3), 0px 1px 3px 1px rgba(60, 64, 67, 0.15);\n",
              "      fill: #174EA6;\n",
              "    }\n",
              "\n",
              "    [theme=dark] .colab-df-convert {\n",
              "      background-color: #3B4455;\n",
              "      fill: #D2E3FC;\n",
              "    }\n",
              "\n",
              "    [theme=dark] .colab-df-convert:hover {\n",
              "      background-color: #434B5C;\n",
              "      box-shadow: 0px 1px 3px 1px rgba(0, 0, 0, 0.15);\n",
              "      filter: drop-shadow(0px 1px 2px rgba(0, 0, 0, 0.3));\n",
              "      fill: #FFFFFF;\n",
              "    }\n",
              "  </style>\n",
              "\n",
              "      <script>\n",
              "        const buttonEl =\n",
              "          document.querySelector('#df-3db7dde0-2694-4e94-9283-910c1200c1b8 button.colab-df-convert');\n",
              "        buttonEl.style.display =\n",
              "          google.colab.kernel.accessAllowed ? 'block' : 'none';\n",
              "\n",
              "        async function convertToInteractive(key) {\n",
              "          const element = document.querySelector('#df-3db7dde0-2694-4e94-9283-910c1200c1b8');\n",
              "          const dataTable =\n",
              "            await google.colab.kernel.invokeFunction('convertToInteractive',\n",
              "                                                     [key], {});\n",
              "          if (!dataTable) return;\n",
              "\n",
              "          const docLinkHtml = 'Like what you see? Visit the ' +\n",
              "            '<a target=\"_blank\" href=https://colab.research.google.com/notebooks/data_table.ipynb>data table notebook</a>'\n",
              "            + ' to learn more about interactive tables.';\n",
              "          element.innerHTML = '';\n",
              "          dataTable['output_type'] = 'display_data';\n",
              "          await google.colab.output.renderOutput(dataTable, element);\n",
              "          const docLink = document.createElement('div');\n",
              "          docLink.innerHTML = docLinkHtml;\n",
              "          element.appendChild(docLink);\n",
              "        }\n",
              "      </script>\n",
              "    </div>\n",
              "  </div>\n",
              "  "
            ]
          },
          "metadata": {},
          "execution_count": 165
        }
      ]
    },
    {
      "cell_type": "code",
      "source": [
        "score_reports = {\n",
        "    'train - precision' : precision_score(y_train, y_pred_train_rf),\n",
        "    'train - recall' : recall_score(y_train, y_pred_train_rf),\n",
        "    'train - accuracy' : accuracy_score(y_train, y_pred_train_rf),\n",
        "    'train - f1_score' : f1_score(y_train, y_pred_train_rf),\n",
        "    'test - precision' : precision_score(y_test, y_pred_test_rf),\n",
        "    'test - recall' : recall_score(y_test, y_pred_test_rf),\n",
        "    'test - accuracy' : accuracy_score(y_test, y_pred_test_rf),\n",
        "    'test - f1_score' : f1_score(y_test, y_pred_test_rf),\n",
        "}\n",
        "all_reports['RF Grid Search'] = score_reports\n",
        "\n",
        "pd.DataFrame(all_reports).sort_index()"
      ],
      "metadata": {
        "colab": {
          "base_uri": "https://localhost:8080/",
          "height": 300
        },
        "id": "0m_wk9V4cmCB",
        "outputId": "79203d52-22fb-44e6-a891-cda71c509482"
      },
      "execution_count": 166,
      "outputs": [
        {
          "output_type": "execute_result",
          "data": {
            "text/plain": [
              "                   Baseline RF (Default)  RF Grid Search\n",
              "test - accuracy                 0.643678        0.839080\n",
              "test - f1_score                 0.114286        0.681818\n",
              "test - precision                0.333333        1.000000\n",
              "test - recall                   0.068966        0.517241\n",
              "train - accuracy                1.000000        0.945545\n",
              "train - f1_score                1.000000        0.900901\n",
              "train - precision               1.000000        1.000000\n",
              "train - recall                  1.000000        0.819672"
            ],
            "text/html": [
              "\n",
              "  <div id=\"df-6def876b-71de-4de4-84a3-e3583037cfb3\">\n",
              "    <div class=\"colab-df-container\">\n",
              "      <div>\n",
              "<style scoped>\n",
              "    .dataframe tbody tr th:only-of-type {\n",
              "        vertical-align: middle;\n",
              "    }\n",
              "\n",
              "    .dataframe tbody tr th {\n",
              "        vertical-align: top;\n",
              "    }\n",
              "\n",
              "    .dataframe thead th {\n",
              "        text-align: right;\n",
              "    }\n",
              "</style>\n",
              "<table border=\"1\" class=\"dataframe\">\n",
              "  <thead>\n",
              "    <tr style=\"text-align: right;\">\n",
              "      <th></th>\n",
              "      <th>Baseline RF (Default)</th>\n",
              "      <th>RF Grid Search</th>\n",
              "    </tr>\n",
              "  </thead>\n",
              "  <tbody>\n",
              "    <tr>\n",
              "      <th>test - accuracy</th>\n",
              "      <td>0.643678</td>\n",
              "      <td>0.839080</td>\n",
              "    </tr>\n",
              "    <tr>\n",
              "      <th>test - f1_score</th>\n",
              "      <td>0.114286</td>\n",
              "      <td>0.681818</td>\n",
              "    </tr>\n",
              "    <tr>\n",
              "      <th>test - precision</th>\n",
              "      <td>0.333333</td>\n",
              "      <td>1.000000</td>\n",
              "    </tr>\n",
              "    <tr>\n",
              "      <th>test - recall</th>\n",
              "      <td>0.068966</td>\n",
              "      <td>0.517241</td>\n",
              "    </tr>\n",
              "    <tr>\n",
              "      <th>train - accuracy</th>\n",
              "      <td>1.000000</td>\n",
              "      <td>0.945545</td>\n",
              "    </tr>\n",
              "    <tr>\n",
              "      <th>train - f1_score</th>\n",
              "      <td>1.000000</td>\n",
              "      <td>0.900901</td>\n",
              "    </tr>\n",
              "    <tr>\n",
              "      <th>train - precision</th>\n",
              "      <td>1.000000</td>\n",
              "      <td>1.000000</td>\n",
              "    </tr>\n",
              "    <tr>\n",
              "      <th>train - recall</th>\n",
              "      <td>1.000000</td>\n",
              "      <td>0.819672</td>\n",
              "    </tr>\n",
              "  </tbody>\n",
              "</table>\n",
              "</div>\n",
              "      <button class=\"colab-df-convert\" onclick=\"convertToInteractive('df-6def876b-71de-4de4-84a3-e3583037cfb3')\"\n",
              "              title=\"Convert this dataframe to an interactive table.\"\n",
              "              style=\"display:none;\">\n",
              "        \n",
              "  <svg xmlns=\"http://www.w3.org/2000/svg\" height=\"24px\"viewBox=\"0 0 24 24\"\n",
              "       width=\"24px\">\n",
              "    <path d=\"M0 0h24v24H0V0z\" fill=\"none\"/>\n",
              "    <path d=\"M18.56 5.44l.94 2.06.94-2.06 2.06-.94-2.06-.94-.94-2.06-.94 2.06-2.06.94zm-11 1L8.5 8.5l.94-2.06 2.06-.94-2.06-.94L8.5 2.5l-.94 2.06-2.06.94zm10 10l.94 2.06.94-2.06 2.06-.94-2.06-.94-.94-2.06-.94 2.06-2.06.94z\"/><path d=\"M17.41 7.96l-1.37-1.37c-.4-.4-.92-.59-1.43-.59-.52 0-1.04.2-1.43.59L10.3 9.45l-7.72 7.72c-.78.78-.78 2.05 0 2.83L4 21.41c.39.39.9.59 1.41.59.51 0 1.02-.2 1.41-.59l7.78-7.78 2.81-2.81c.8-.78.8-2.07 0-2.86zM5.41 20L4 18.59l7.72-7.72 1.47 1.35L5.41 20z\"/>\n",
              "  </svg>\n",
              "      </button>\n",
              "      \n",
              "  <style>\n",
              "    .colab-df-container {\n",
              "      display:flex;\n",
              "      flex-wrap:wrap;\n",
              "      gap: 12px;\n",
              "    }\n",
              "\n",
              "    .colab-df-convert {\n",
              "      background-color: #E8F0FE;\n",
              "      border: none;\n",
              "      border-radius: 50%;\n",
              "      cursor: pointer;\n",
              "      display: none;\n",
              "      fill: #1967D2;\n",
              "      height: 32px;\n",
              "      padding: 0 0 0 0;\n",
              "      width: 32px;\n",
              "    }\n",
              "\n",
              "    .colab-df-convert:hover {\n",
              "      background-color: #E2EBFA;\n",
              "      box-shadow: 0px 1px 2px rgba(60, 64, 67, 0.3), 0px 1px 3px 1px rgba(60, 64, 67, 0.15);\n",
              "      fill: #174EA6;\n",
              "    }\n",
              "\n",
              "    [theme=dark] .colab-df-convert {\n",
              "      background-color: #3B4455;\n",
              "      fill: #D2E3FC;\n",
              "    }\n",
              "\n",
              "    [theme=dark] .colab-df-convert:hover {\n",
              "      background-color: #434B5C;\n",
              "      box-shadow: 0px 1px 3px 1px rgba(0, 0, 0, 0.15);\n",
              "      filter: drop-shadow(0px 1px 2px rgba(0, 0, 0, 0.3));\n",
              "      fill: #FFFFFF;\n",
              "    }\n",
              "  </style>\n",
              "\n",
              "      <script>\n",
              "        const buttonEl =\n",
              "          document.querySelector('#df-6def876b-71de-4de4-84a3-e3583037cfb3 button.colab-df-convert');\n",
              "        buttonEl.style.display =\n",
              "          google.colab.kernel.accessAllowed ? 'block' : 'none';\n",
              "\n",
              "        async function convertToInteractive(key) {\n",
              "          const element = document.querySelector('#df-6def876b-71de-4de4-84a3-e3583037cfb3');\n",
              "          const dataTable =\n",
              "            await google.colab.kernel.invokeFunction('convertToInteractive',\n",
              "                                                     [key], {});\n",
              "          if (!dataTable) return;\n",
              "\n",
              "          const docLinkHtml = 'Like what you see? Visit the ' +\n",
              "            '<a target=\"_blank\" href=https://colab.research.google.com/notebooks/data_table.ipynb>data table notebook</a>'\n",
              "            + ' to learn more about interactive tables.';\n",
              "          element.innerHTML = '';\n",
              "          dataTable['output_type'] = 'display_data';\n",
              "          await google.colab.output.renderOutput(dataTable, element);\n",
              "          const docLink = document.createElement('div');\n",
              "          docLink.innerHTML = docLinkHtml;\n",
              "          element.appendChild(docLink);\n",
              "        }\n",
              "      </script>\n",
              "    </div>\n",
              "  </div>\n",
              "  "
            ]
          },
          "metadata": {},
          "execution_count": 166
        }
      ]
    },
    {
      "cell_type": "markdown",
      "source": [
        "The same analysis like in part `7.2. Model Evaluation`, we can see that the train set is perfect 100% accurate and test set is not accurate and even depleted. RF Grid Search column shows that the results of the model is getting better with hyperparemeter tuning. **This means that the hyperparameter tuning is useful to avoid overfitting.**\n",
        "\n",
        "Moreover, the key takeaways from Random Forest Classifier is **a bagging technique that aims to decrease variance, but not bias**."
      ],
      "metadata": {
        "id": "cuAWLKm50bW8"
      }
    },
    {
      "cell_type": "markdown",
      "source": [
        "**AdaBoost Classifier**"
      ],
      "metadata": {
        "id": "1z97NWaDdalf"
      }
    },
    {
      "cell_type": "code",
      "source": [
        "# Save Classification Report into a Dictionary\n",
        "\n",
        "all_reports = {}\n",
        "score_reports = {\n",
        "    'train - precision' : precision_score(y_train, y_pred_train_abc_default),\n",
        "    'train - recall' : recall_score(y_train, y_pred_train_abc_default),\n",
        "    'train - accuracy' : accuracy_score(y_train, y_pred_train_abc_default),\n",
        "    'train - f1_score' : f1_score(y_train, y_pred_train_abc_default),\n",
        "    'test - precision' : precision_score(y_test, y_pred_test_abc_default),\n",
        "    'test - recall' : recall_score(y_test, y_pred_test_abc_default),\n",
        "    'test - accuracy' : accuracy_score(y_test, y_pred_test_abc_default),\n",
        "    'test - f1_score' : f1_score(y_test, y_pred_test_abc_default),\n",
        "}\n",
        "all_reports['Baseline ABC (Default)'] = score_reports\n",
        "pd.DataFrame(all_reports)"
      ],
      "metadata": {
        "colab": {
          "base_uri": "https://localhost:8080/",
          "height": 300
        },
        "id": "1h0dF8Cfdd4j",
        "outputId": "203a2c43-d148-4c86-89cc-d91f5c39f21d"
      },
      "execution_count": 167,
      "outputs": [
        {
          "output_type": "execute_result",
          "data": {
            "text/plain": [
              "                   Baseline ABC (Default)\n",
              "test - accuracy                  0.678161\n",
              "test - f1_score                  0.391304\n",
              "test - precision                 0.529412\n",
              "test - recall                    0.310345\n",
              "train - accuracy                 0.861386\n",
              "train - f1_score                 0.720000\n",
              "train - precision                0.923077\n",
              "train - recall                   0.590164"
            ],
            "text/html": [
              "\n",
              "  <div id=\"df-cfab953a-ba02-402f-b072-d59bbb4b46b9\">\n",
              "    <div class=\"colab-df-container\">\n",
              "      <div>\n",
              "<style scoped>\n",
              "    .dataframe tbody tr th:only-of-type {\n",
              "        vertical-align: middle;\n",
              "    }\n",
              "\n",
              "    .dataframe tbody tr th {\n",
              "        vertical-align: top;\n",
              "    }\n",
              "\n",
              "    .dataframe thead th {\n",
              "        text-align: right;\n",
              "    }\n",
              "</style>\n",
              "<table border=\"1\" class=\"dataframe\">\n",
              "  <thead>\n",
              "    <tr style=\"text-align: right;\">\n",
              "      <th></th>\n",
              "      <th>Baseline ABC (Default)</th>\n",
              "    </tr>\n",
              "  </thead>\n",
              "  <tbody>\n",
              "    <tr>\n",
              "      <th>test - accuracy</th>\n",
              "      <td>0.678161</td>\n",
              "    </tr>\n",
              "    <tr>\n",
              "      <th>test - f1_score</th>\n",
              "      <td>0.391304</td>\n",
              "    </tr>\n",
              "    <tr>\n",
              "      <th>test - precision</th>\n",
              "      <td>0.529412</td>\n",
              "    </tr>\n",
              "    <tr>\n",
              "      <th>test - recall</th>\n",
              "      <td>0.310345</td>\n",
              "    </tr>\n",
              "    <tr>\n",
              "      <th>train - accuracy</th>\n",
              "      <td>0.861386</td>\n",
              "    </tr>\n",
              "    <tr>\n",
              "      <th>train - f1_score</th>\n",
              "      <td>0.720000</td>\n",
              "    </tr>\n",
              "    <tr>\n",
              "      <th>train - precision</th>\n",
              "      <td>0.923077</td>\n",
              "    </tr>\n",
              "    <tr>\n",
              "      <th>train - recall</th>\n",
              "      <td>0.590164</td>\n",
              "    </tr>\n",
              "  </tbody>\n",
              "</table>\n",
              "</div>\n",
              "      <button class=\"colab-df-convert\" onclick=\"convertToInteractive('df-cfab953a-ba02-402f-b072-d59bbb4b46b9')\"\n",
              "              title=\"Convert this dataframe to an interactive table.\"\n",
              "              style=\"display:none;\">\n",
              "        \n",
              "  <svg xmlns=\"http://www.w3.org/2000/svg\" height=\"24px\"viewBox=\"0 0 24 24\"\n",
              "       width=\"24px\">\n",
              "    <path d=\"M0 0h24v24H0V0z\" fill=\"none\"/>\n",
              "    <path d=\"M18.56 5.44l.94 2.06.94-2.06 2.06-.94-2.06-.94-.94-2.06-.94 2.06-2.06.94zm-11 1L8.5 8.5l.94-2.06 2.06-.94-2.06-.94L8.5 2.5l-.94 2.06-2.06.94zm10 10l.94 2.06.94-2.06 2.06-.94-2.06-.94-.94-2.06-.94 2.06-2.06.94z\"/><path d=\"M17.41 7.96l-1.37-1.37c-.4-.4-.92-.59-1.43-.59-.52 0-1.04.2-1.43.59L10.3 9.45l-7.72 7.72c-.78.78-.78 2.05 0 2.83L4 21.41c.39.39.9.59 1.41.59.51 0 1.02-.2 1.41-.59l7.78-7.78 2.81-2.81c.8-.78.8-2.07 0-2.86zM5.41 20L4 18.59l7.72-7.72 1.47 1.35L5.41 20z\"/>\n",
              "  </svg>\n",
              "      </button>\n",
              "      \n",
              "  <style>\n",
              "    .colab-df-container {\n",
              "      display:flex;\n",
              "      flex-wrap:wrap;\n",
              "      gap: 12px;\n",
              "    }\n",
              "\n",
              "    .colab-df-convert {\n",
              "      background-color: #E8F0FE;\n",
              "      border: none;\n",
              "      border-radius: 50%;\n",
              "      cursor: pointer;\n",
              "      display: none;\n",
              "      fill: #1967D2;\n",
              "      height: 32px;\n",
              "      padding: 0 0 0 0;\n",
              "      width: 32px;\n",
              "    }\n",
              "\n",
              "    .colab-df-convert:hover {\n",
              "      background-color: #E2EBFA;\n",
              "      box-shadow: 0px 1px 2px rgba(60, 64, 67, 0.3), 0px 1px 3px 1px rgba(60, 64, 67, 0.15);\n",
              "      fill: #174EA6;\n",
              "    }\n",
              "\n",
              "    [theme=dark] .colab-df-convert {\n",
              "      background-color: #3B4455;\n",
              "      fill: #D2E3FC;\n",
              "    }\n",
              "\n",
              "    [theme=dark] .colab-df-convert:hover {\n",
              "      background-color: #434B5C;\n",
              "      box-shadow: 0px 1px 3px 1px rgba(0, 0, 0, 0.15);\n",
              "      filter: drop-shadow(0px 1px 2px rgba(0, 0, 0, 0.3));\n",
              "      fill: #FFFFFF;\n",
              "    }\n",
              "  </style>\n",
              "\n",
              "      <script>\n",
              "        const buttonEl =\n",
              "          document.querySelector('#df-cfab953a-ba02-402f-b072-d59bbb4b46b9 button.colab-df-convert');\n",
              "        buttonEl.style.display =\n",
              "          google.colab.kernel.accessAllowed ? 'block' : 'none';\n",
              "\n",
              "        async function convertToInteractive(key) {\n",
              "          const element = document.querySelector('#df-cfab953a-ba02-402f-b072-d59bbb4b46b9');\n",
              "          const dataTable =\n",
              "            await google.colab.kernel.invokeFunction('convertToInteractive',\n",
              "                                                     [key], {});\n",
              "          if (!dataTable) return;\n",
              "\n",
              "          const docLinkHtml = 'Like what you see? Visit the ' +\n",
              "            '<a target=\"_blank\" href=https://colab.research.google.com/notebooks/data_table.ipynb>data table notebook</a>'\n",
              "            + ' to learn more about interactive tables.';\n",
              "          element.innerHTML = '';\n",
              "          dataTable['output_type'] = 'display_data';\n",
              "          await google.colab.output.renderOutput(dataTable, element);\n",
              "          const docLink = document.createElement('div');\n",
              "          docLink.innerHTML = docLinkHtml;\n",
              "          element.appendChild(docLink);\n",
              "        }\n",
              "      </script>\n",
              "    </div>\n",
              "  </div>\n",
              "  "
            ]
          },
          "metadata": {},
          "execution_count": 167
        }
      ]
    },
    {
      "cell_type": "code",
      "source": [
        "score_reports = {\n",
        "    'train - precision' : precision_score(y_train, y_pred_train_abc),\n",
        "    'train - recall' : recall_score(y_train, y_pred_train_abc),\n",
        "    'train - accuracy' : accuracy_score(y_train, y_pred_train_abc),\n",
        "    'train - f1_score' : f1_score(y_train, y_pred_train_abc),\n",
        "    'test - precision' : precision_score(y_test, y_pred_test_abc),\n",
        "    'test - recall' : recall_score(y_test, y_pred_test_abc),\n",
        "    'test - accuracy' : accuracy_score(y_test, y_pred_test_abc),\n",
        "    'test - f1_score' : f1_score(y_test, y_pred_test_abc),\n",
        "}\n",
        "all_reports['ABC Grid Search'] = score_reports\n",
        "\n",
        "pd.DataFrame(all_reports).sort_index()"
      ],
      "metadata": {
        "colab": {
          "base_uri": "https://localhost:8080/",
          "height": 300
        },
        "id": "lqWqb_xuee9-",
        "outputId": "aaefc37c-f8a0-494b-93a6-fe27310f5aef"
      },
      "execution_count": 168,
      "outputs": [
        {
          "output_type": "execute_result",
          "data": {
            "text/plain": [
              "                   Baseline ABC (Default)  ABC Grid Search\n",
              "test - accuracy                  0.678161         0.839080\n",
              "test - f1_score                  0.391304         0.681818\n",
              "test - precision                 0.529412         1.000000\n",
              "test - recall                    0.310345         0.517241\n",
              "train - accuracy                 0.861386         1.000000\n",
              "train - f1_score                 0.720000         1.000000\n",
              "train - precision                0.923077         1.000000\n",
              "train - recall                   0.590164         1.000000"
            ],
            "text/html": [
              "\n",
              "  <div id=\"df-1e5cd5a7-c4d9-4648-a761-80a3a3b9dd12\">\n",
              "    <div class=\"colab-df-container\">\n",
              "      <div>\n",
              "<style scoped>\n",
              "    .dataframe tbody tr th:only-of-type {\n",
              "        vertical-align: middle;\n",
              "    }\n",
              "\n",
              "    .dataframe tbody tr th {\n",
              "        vertical-align: top;\n",
              "    }\n",
              "\n",
              "    .dataframe thead th {\n",
              "        text-align: right;\n",
              "    }\n",
              "</style>\n",
              "<table border=\"1\" class=\"dataframe\">\n",
              "  <thead>\n",
              "    <tr style=\"text-align: right;\">\n",
              "      <th></th>\n",
              "      <th>Baseline ABC (Default)</th>\n",
              "      <th>ABC Grid Search</th>\n",
              "    </tr>\n",
              "  </thead>\n",
              "  <tbody>\n",
              "    <tr>\n",
              "      <th>test - accuracy</th>\n",
              "      <td>0.678161</td>\n",
              "      <td>0.839080</td>\n",
              "    </tr>\n",
              "    <tr>\n",
              "      <th>test - f1_score</th>\n",
              "      <td>0.391304</td>\n",
              "      <td>0.681818</td>\n",
              "    </tr>\n",
              "    <tr>\n",
              "      <th>test - precision</th>\n",
              "      <td>0.529412</td>\n",
              "      <td>1.000000</td>\n",
              "    </tr>\n",
              "    <tr>\n",
              "      <th>test - recall</th>\n",
              "      <td>0.310345</td>\n",
              "      <td>0.517241</td>\n",
              "    </tr>\n",
              "    <tr>\n",
              "      <th>train - accuracy</th>\n",
              "      <td>0.861386</td>\n",
              "      <td>1.000000</td>\n",
              "    </tr>\n",
              "    <tr>\n",
              "      <th>train - f1_score</th>\n",
              "      <td>0.720000</td>\n",
              "      <td>1.000000</td>\n",
              "    </tr>\n",
              "    <tr>\n",
              "      <th>train - precision</th>\n",
              "      <td>0.923077</td>\n",
              "      <td>1.000000</td>\n",
              "    </tr>\n",
              "    <tr>\n",
              "      <th>train - recall</th>\n",
              "      <td>0.590164</td>\n",
              "      <td>1.000000</td>\n",
              "    </tr>\n",
              "  </tbody>\n",
              "</table>\n",
              "</div>\n",
              "      <button class=\"colab-df-convert\" onclick=\"convertToInteractive('df-1e5cd5a7-c4d9-4648-a761-80a3a3b9dd12')\"\n",
              "              title=\"Convert this dataframe to an interactive table.\"\n",
              "              style=\"display:none;\">\n",
              "        \n",
              "  <svg xmlns=\"http://www.w3.org/2000/svg\" height=\"24px\"viewBox=\"0 0 24 24\"\n",
              "       width=\"24px\">\n",
              "    <path d=\"M0 0h24v24H0V0z\" fill=\"none\"/>\n",
              "    <path d=\"M18.56 5.44l.94 2.06.94-2.06 2.06-.94-2.06-.94-.94-2.06-.94 2.06-2.06.94zm-11 1L8.5 8.5l.94-2.06 2.06-.94-2.06-.94L8.5 2.5l-.94 2.06-2.06.94zm10 10l.94 2.06.94-2.06 2.06-.94-2.06-.94-.94-2.06-.94 2.06-2.06.94z\"/><path d=\"M17.41 7.96l-1.37-1.37c-.4-.4-.92-.59-1.43-.59-.52 0-1.04.2-1.43.59L10.3 9.45l-7.72 7.72c-.78.78-.78 2.05 0 2.83L4 21.41c.39.39.9.59 1.41.59.51 0 1.02-.2 1.41-.59l7.78-7.78 2.81-2.81c.8-.78.8-2.07 0-2.86zM5.41 20L4 18.59l7.72-7.72 1.47 1.35L5.41 20z\"/>\n",
              "  </svg>\n",
              "      </button>\n",
              "      \n",
              "  <style>\n",
              "    .colab-df-container {\n",
              "      display:flex;\n",
              "      flex-wrap:wrap;\n",
              "      gap: 12px;\n",
              "    }\n",
              "\n",
              "    .colab-df-convert {\n",
              "      background-color: #E8F0FE;\n",
              "      border: none;\n",
              "      border-radius: 50%;\n",
              "      cursor: pointer;\n",
              "      display: none;\n",
              "      fill: #1967D2;\n",
              "      height: 32px;\n",
              "      padding: 0 0 0 0;\n",
              "      width: 32px;\n",
              "    }\n",
              "\n",
              "    .colab-df-convert:hover {\n",
              "      background-color: #E2EBFA;\n",
              "      box-shadow: 0px 1px 2px rgba(60, 64, 67, 0.3), 0px 1px 3px 1px rgba(60, 64, 67, 0.15);\n",
              "      fill: #174EA6;\n",
              "    }\n",
              "\n",
              "    [theme=dark] .colab-df-convert {\n",
              "      background-color: #3B4455;\n",
              "      fill: #D2E3FC;\n",
              "    }\n",
              "\n",
              "    [theme=dark] .colab-df-convert:hover {\n",
              "      background-color: #434B5C;\n",
              "      box-shadow: 0px 1px 3px 1px rgba(0, 0, 0, 0.15);\n",
              "      filter: drop-shadow(0px 1px 2px rgba(0, 0, 0, 0.3));\n",
              "      fill: #FFFFFF;\n",
              "    }\n",
              "  </style>\n",
              "\n",
              "      <script>\n",
              "        const buttonEl =\n",
              "          document.querySelector('#df-1e5cd5a7-c4d9-4648-a761-80a3a3b9dd12 button.colab-df-convert');\n",
              "        buttonEl.style.display =\n",
              "          google.colab.kernel.accessAllowed ? 'block' : 'none';\n",
              "\n",
              "        async function convertToInteractive(key) {\n",
              "          const element = document.querySelector('#df-1e5cd5a7-c4d9-4648-a761-80a3a3b9dd12');\n",
              "          const dataTable =\n",
              "            await google.colab.kernel.invokeFunction('convertToInteractive',\n",
              "                                                     [key], {});\n",
              "          if (!dataTable) return;\n",
              "\n",
              "          const docLinkHtml = 'Like what you see? Visit the ' +\n",
              "            '<a target=\"_blank\" href=https://colab.research.google.com/notebooks/data_table.ipynb>data table notebook</a>'\n",
              "            + ' to learn more about interactive tables.';\n",
              "          element.innerHTML = '';\n",
              "          dataTable['output_type'] = 'display_data';\n",
              "          await google.colab.output.renderOutput(dataTable, element);\n",
              "          const docLink = document.createElement('div');\n",
              "          docLink.innerHTML = docLinkHtml;\n",
              "          element.appendChild(docLink);\n",
              "        }\n",
              "      </script>\n",
              "    </div>\n",
              "  </div>\n",
              "  "
            ]
          },
          "metadata": {},
          "execution_count": 168
        }
      ]
    },
    {
      "cell_type": "markdown",
      "source": [
        "Adaptive Boost Classifier is completely different from Random Forest Classifier. Adaptive Boost Classifier is a boosting technique. Boosting is a class of ensemble machine learning algorithms that involve combining the predictions from many weak learners, in this case for example, is Decision Tree Classifier with default paramters. The AdaBoost algorithm involves using very short (one-level) Decision Trees as weak learners that are added sequentially to the ensemble.\n",
        "\n",
        "The key takeaways from Adaptive Boost Classifier (AdaBoost) is **a boosting technique that aims to decrease bias, but not variance**."
      ],
      "metadata": {
        "id": "WjEjn-pa1miO"
      }
    },
    {
      "cell_type": "markdown",
      "source": [
        "## **9. Model Inference**"
      ],
      "metadata": {
        "id": "vz6A8zFwQHMU"
      }
    },
    {
      "cell_type": "markdown",
      "source": [
        "### **9.1. Save and Load Model**"
      ],
      "metadata": {
        "id": "jTfbpynPX93F"
      }
    },
    {
      "cell_type": "code",
      "source": [
        "# Save the model files\n",
        "with open('abc_gridcv.pkl', 'wb') as file_1:\n",
        "  joblib.dump(abc_gridcv_best, file_1)\n",
        "\n",
        "with open('rf_gridcv.pkl', 'wb') as file_2:\n",
        "  joblib.dump(rf_gridcv_best, file_2)\n",
        "\n",
        "with open('model_scaler.pkl', 'wb') as file_3:\n",
        "  joblib.dump(scaler, file_3)\n",
        "\n",
        "with open('num_columns.txt', 'w') as file_4:\n",
        "  json.dump(num_columns, file_4)\n",
        "\n",
        "with open('cat_columns.txt', 'w') as file_5:\n",
        "  json.dump(cat_columns, file_5)"
      ],
      "metadata": {
        "id": "4jCas7E8X_No"
      },
      "execution_count": 173,
      "outputs": []
    },
    {
      "cell_type": "code",
      "source": [
        "# Load all model files\n",
        "with open('abc_gridcv.pkl', 'rb') as file_1:\n",
        "  abc_model = joblib.load(file_1)\n",
        "\n",
        "with open('abc_gridcv.pkl', 'rb') as file_2:\n",
        "  rf_model = joblib.load(file_2)\n",
        "\n",
        "with open('model_scaler.pkl', 'rb') as file_3:\n",
        "  model_scaler = joblib.load(file_3)\n",
        "\n",
        "with open('num_columns.txt', 'r') as file_4:\n",
        "  num_columns = json.load(file_4)\n",
        "\n",
        "with open('cat_columns.txt', 'r') as file_5:\n",
        "  cat_columns = json.load(file_5)"
      ],
      "metadata": {
        "id": "wFZUJNHtYTBC"
      },
      "execution_count": 174,
      "outputs": []
    },
    {
      "cell_type": "markdown",
      "source": [
        "### **9.2. Features Selection**"
      ],
      "metadata": {
        "id": "Wxvg_EFNetJC"
      }
    },
    {
      "cell_type": "code",
      "source": [
        "# Feature Scaling for data inference\n",
        "df_inf_num = df_inf.drop(['death_event'],axis=1)\n",
        "\n",
        "df_inf_scaled = model_scaler.transform(df_inf_num)\n",
        "df_inf_scaled = pd.DataFrame(df_inf_scaled, columns = df_inf_num.columns, index = df_inf_num.index)\n",
        "df_inf_scaled"
      ],
      "metadata": {
        "colab": {
          "base_uri": "https://localhost:8080/",
          "height": 363
        },
        "id": "0wMWhqbueufN",
        "outputId": "fc333f45-29f5-4ea1-cd9f-ae8c77997047"
      },
      "execution_count": 176,
      "outputs": [
        {
          "output_type": "execute_result",
          "data": {
            "text/plain": [
              "          age   anaemia  creatinine_phosphokinase  ejection_fraction  \\\n",
              "19  -0.296478  1.149713                 -0.498912          -0.729076   \n",
              "103 -0.541253  1.149713                 -0.186652           2.754623   \n",
              "109  0.356258 -0.869783                 -0.481099          -1.600001   \n",
              "115 -0.051702 -0.869783                 -0.562831          -1.600001   \n",
              "123  0.111482 -0.869783                 -0.392031          -1.164539   \n",
              "204  0.193074  1.149713                 -0.526156          -0.293614   \n",
              "242 -0.459661 -0.869783                  0.240871           0.141849   \n",
              "264 -0.459661  1.149713                 -0.445472           0.577311   \n",
              "285  1.988096 -0.869783                 -0.498912           1.883698   \n",
              "296  0.764217 -0.869783                 -0.532444           1.883698   \n",
              "\n",
              "     high_blood_pressure  serum_creatinine  serum_sodium      time  \n",
              "19             -0.712364         -0.375362      0.771322 -1.174222  \n",
              "103             1.403776          7.227857      0.068433  0.848352  \n",
              "109            -0.712364         -0.090241     -1.805938 -1.633898  \n",
              "115            -0.712364          1.430403     -2.274530 -0.885283  \n",
              "123             1.403776         -0.470402      0.771322 -1.594497  \n",
              "204            -0.712364         -0.470402     -0.165863  1.820239  \n",
              "242            -0.712364         -0.660483      0.771322  0.204806  \n",
              "264            -0.712364         -0.204289      0.068433  1.045356  \n",
              "285            -0.712364         -0.185281     -1.103049 -0.543809  \n",
              "296             1.403776         -0.470402      0.302729  0.717016  "
            ],
            "text/html": [
              "\n",
              "  <div id=\"df-fc3e826f-d83e-4181-85ef-1c7d13b5441b\">\n",
              "    <div class=\"colab-df-container\">\n",
              "      <div>\n",
              "<style scoped>\n",
              "    .dataframe tbody tr th:only-of-type {\n",
              "        vertical-align: middle;\n",
              "    }\n",
              "\n",
              "    .dataframe tbody tr th {\n",
              "        vertical-align: top;\n",
              "    }\n",
              "\n",
              "    .dataframe thead th {\n",
              "        text-align: right;\n",
              "    }\n",
              "</style>\n",
              "<table border=\"1\" class=\"dataframe\">\n",
              "  <thead>\n",
              "    <tr style=\"text-align: right;\">\n",
              "      <th></th>\n",
              "      <th>age</th>\n",
              "      <th>anaemia</th>\n",
              "      <th>creatinine_phosphokinase</th>\n",
              "      <th>ejection_fraction</th>\n",
              "      <th>high_blood_pressure</th>\n",
              "      <th>serum_creatinine</th>\n",
              "      <th>serum_sodium</th>\n",
              "      <th>time</th>\n",
              "    </tr>\n",
              "  </thead>\n",
              "  <tbody>\n",
              "    <tr>\n",
              "      <th>19</th>\n",
              "      <td>-0.296478</td>\n",
              "      <td>1.149713</td>\n",
              "      <td>-0.498912</td>\n",
              "      <td>-0.729076</td>\n",
              "      <td>-0.712364</td>\n",
              "      <td>-0.375362</td>\n",
              "      <td>0.771322</td>\n",
              "      <td>-1.174222</td>\n",
              "    </tr>\n",
              "    <tr>\n",
              "      <th>103</th>\n",
              "      <td>-0.541253</td>\n",
              "      <td>1.149713</td>\n",
              "      <td>-0.186652</td>\n",
              "      <td>2.754623</td>\n",
              "      <td>1.403776</td>\n",
              "      <td>7.227857</td>\n",
              "      <td>0.068433</td>\n",
              "      <td>0.848352</td>\n",
              "    </tr>\n",
              "    <tr>\n",
              "      <th>109</th>\n",
              "      <td>0.356258</td>\n",
              "      <td>-0.869783</td>\n",
              "      <td>-0.481099</td>\n",
              "      <td>-1.600001</td>\n",
              "      <td>-0.712364</td>\n",
              "      <td>-0.090241</td>\n",
              "      <td>-1.805938</td>\n",
              "      <td>-1.633898</td>\n",
              "    </tr>\n",
              "    <tr>\n",
              "      <th>115</th>\n",
              "      <td>-0.051702</td>\n",
              "      <td>-0.869783</td>\n",
              "      <td>-0.562831</td>\n",
              "      <td>-1.600001</td>\n",
              "      <td>-0.712364</td>\n",
              "      <td>1.430403</td>\n",
              "      <td>-2.274530</td>\n",
              "      <td>-0.885283</td>\n",
              "    </tr>\n",
              "    <tr>\n",
              "      <th>123</th>\n",
              "      <td>0.111482</td>\n",
              "      <td>-0.869783</td>\n",
              "      <td>-0.392031</td>\n",
              "      <td>-1.164539</td>\n",
              "      <td>1.403776</td>\n",
              "      <td>-0.470402</td>\n",
              "      <td>0.771322</td>\n",
              "      <td>-1.594497</td>\n",
              "    </tr>\n",
              "    <tr>\n",
              "      <th>204</th>\n",
              "      <td>0.193074</td>\n",
              "      <td>1.149713</td>\n",
              "      <td>-0.526156</td>\n",
              "      <td>-0.293614</td>\n",
              "      <td>-0.712364</td>\n",
              "      <td>-0.470402</td>\n",
              "      <td>-0.165863</td>\n",
              "      <td>1.820239</td>\n",
              "    </tr>\n",
              "    <tr>\n",
              "      <th>242</th>\n",
              "      <td>-0.459661</td>\n",
              "      <td>-0.869783</td>\n",
              "      <td>0.240871</td>\n",
              "      <td>0.141849</td>\n",
              "      <td>-0.712364</td>\n",
              "      <td>-0.660483</td>\n",
              "      <td>0.771322</td>\n",
              "      <td>0.204806</td>\n",
              "    </tr>\n",
              "    <tr>\n",
              "      <th>264</th>\n",
              "      <td>-0.459661</td>\n",
              "      <td>1.149713</td>\n",
              "      <td>-0.445472</td>\n",
              "      <td>0.577311</td>\n",
              "      <td>-0.712364</td>\n",
              "      <td>-0.204289</td>\n",
              "      <td>0.068433</td>\n",
              "      <td>1.045356</td>\n",
              "    </tr>\n",
              "    <tr>\n",
              "      <th>285</th>\n",
              "      <td>1.988096</td>\n",
              "      <td>-0.869783</td>\n",
              "      <td>-0.498912</td>\n",
              "      <td>1.883698</td>\n",
              "      <td>-0.712364</td>\n",
              "      <td>-0.185281</td>\n",
              "      <td>-1.103049</td>\n",
              "      <td>-0.543809</td>\n",
              "    </tr>\n",
              "    <tr>\n",
              "      <th>296</th>\n",
              "      <td>0.764217</td>\n",
              "      <td>-0.869783</td>\n",
              "      <td>-0.532444</td>\n",
              "      <td>1.883698</td>\n",
              "      <td>1.403776</td>\n",
              "      <td>-0.470402</td>\n",
              "      <td>0.302729</td>\n",
              "      <td>0.717016</td>\n",
              "    </tr>\n",
              "  </tbody>\n",
              "</table>\n",
              "</div>\n",
              "      <button class=\"colab-df-convert\" onclick=\"convertToInteractive('df-fc3e826f-d83e-4181-85ef-1c7d13b5441b')\"\n",
              "              title=\"Convert this dataframe to an interactive table.\"\n",
              "              style=\"display:none;\">\n",
              "        \n",
              "  <svg xmlns=\"http://www.w3.org/2000/svg\" height=\"24px\"viewBox=\"0 0 24 24\"\n",
              "       width=\"24px\">\n",
              "    <path d=\"M0 0h24v24H0V0z\" fill=\"none\"/>\n",
              "    <path d=\"M18.56 5.44l.94 2.06.94-2.06 2.06-.94-2.06-.94-.94-2.06-.94 2.06-2.06.94zm-11 1L8.5 8.5l.94-2.06 2.06-.94-2.06-.94L8.5 2.5l-.94 2.06-2.06.94zm10 10l.94 2.06.94-2.06 2.06-.94-2.06-.94-.94-2.06-.94 2.06-2.06.94z\"/><path d=\"M17.41 7.96l-1.37-1.37c-.4-.4-.92-.59-1.43-.59-.52 0-1.04.2-1.43.59L10.3 9.45l-7.72 7.72c-.78.78-.78 2.05 0 2.83L4 21.41c.39.39.9.59 1.41.59.51 0 1.02-.2 1.41-.59l7.78-7.78 2.81-2.81c.8-.78.8-2.07 0-2.86zM5.41 20L4 18.59l7.72-7.72 1.47 1.35L5.41 20z\"/>\n",
              "  </svg>\n",
              "      </button>\n",
              "      \n",
              "  <style>\n",
              "    .colab-df-container {\n",
              "      display:flex;\n",
              "      flex-wrap:wrap;\n",
              "      gap: 12px;\n",
              "    }\n",
              "\n",
              "    .colab-df-convert {\n",
              "      background-color: #E8F0FE;\n",
              "      border: none;\n",
              "      border-radius: 50%;\n",
              "      cursor: pointer;\n",
              "      display: none;\n",
              "      fill: #1967D2;\n",
              "      height: 32px;\n",
              "      padding: 0 0 0 0;\n",
              "      width: 32px;\n",
              "    }\n",
              "\n",
              "    .colab-df-convert:hover {\n",
              "      background-color: #E2EBFA;\n",
              "      box-shadow: 0px 1px 2px rgba(60, 64, 67, 0.3), 0px 1px 3px 1px rgba(60, 64, 67, 0.15);\n",
              "      fill: #174EA6;\n",
              "    }\n",
              "\n",
              "    [theme=dark] .colab-df-convert {\n",
              "      background-color: #3B4455;\n",
              "      fill: #D2E3FC;\n",
              "    }\n",
              "\n",
              "    [theme=dark] .colab-df-convert:hover {\n",
              "      background-color: #434B5C;\n",
              "      box-shadow: 0px 1px 3px 1px rgba(0, 0, 0, 0.15);\n",
              "      filter: drop-shadow(0px 1px 2px rgba(0, 0, 0, 0.3));\n",
              "      fill: #FFFFFF;\n",
              "    }\n",
              "  </style>\n",
              "\n",
              "      <script>\n",
              "        const buttonEl =\n",
              "          document.querySelector('#df-fc3e826f-d83e-4181-85ef-1c7d13b5441b button.colab-df-convert');\n",
              "        buttonEl.style.display =\n",
              "          google.colab.kernel.accessAllowed ? 'block' : 'none';\n",
              "\n",
              "        async function convertToInteractive(key) {\n",
              "          const element = document.querySelector('#df-fc3e826f-d83e-4181-85ef-1c7d13b5441b');\n",
              "          const dataTable =\n",
              "            await google.colab.kernel.invokeFunction('convertToInteractive',\n",
              "                                                     [key], {});\n",
              "          if (!dataTable) return;\n",
              "\n",
              "          const docLinkHtml = 'Like what you see? Visit the ' +\n",
              "            '<a target=\"_blank\" href=https://colab.research.google.com/notebooks/data_table.ipynb>data table notebook</a>'\n",
              "            + ' to learn more about interactive tables.';\n",
              "          element.innerHTML = '';\n",
              "          dataTable['output_type'] = 'display_data';\n",
              "          await google.colab.output.renderOutput(dataTable, element);\n",
              "          const docLink = document.createElement('div');\n",
              "          docLink.innerHTML = docLinkHtml;\n",
              "          element.appendChild(docLink);\n",
              "        }\n",
              "      </script>\n",
              "    </div>\n",
              "  </div>\n",
              "  "
            ]
          },
          "metadata": {},
          "execution_count": 176
        }
      ]
    },
    {
      "cell_type": "markdown",
      "source": [
        "### **9.3. Model Training Inference**"
      ],
      "metadata": {
        "id": "d6ynlYy0fU9-"
      }
    },
    {
      "cell_type": "markdown",
      "source": [
        "#### **9.3.1. Random Forest Classifier**"
      ],
      "metadata": {
        "id": "g22Y30QQhzk1"
      }
    },
    {
      "cell_type": "code",
      "source": [
        "# Predict using RandomForestClassifier\n",
        "y_pred_inf = rf_model.predict(df_inf_num)\n",
        "\n",
        "# Create DataFrame\n",
        "y_pred_inf_rf = pd.DataFrame(y_pred_inf, columns=['RF Predicted (Inference)'],index=df_inf_scaled.index)\n",
        "y_pred_inf_rf"
      ],
      "metadata": {
        "colab": {
          "base_uri": "https://localhost:8080/",
          "height": 363
        },
        "id": "g2U-UoTPfMYD",
        "outputId": "3e71bdb1-b134-4f0a-d29b-1d4c366dde2c"
      },
      "execution_count": 181,
      "outputs": [
        {
          "output_type": "execute_result",
          "data": {
            "text/plain": [
              "     RF Predicted (Inference)\n",
              "19                        0.0\n",
              "103                       0.0\n",
              "109                       0.0\n",
              "115                       0.0\n",
              "123                       0.0\n",
              "204                       0.0\n",
              "242                       0.0\n",
              "264                       0.0\n",
              "285                       0.0\n",
              "296                       0.0"
            ],
            "text/html": [
              "\n",
              "  <div id=\"df-c9d88d17-a038-4b63-ab77-2b1aeb5ca176\">\n",
              "    <div class=\"colab-df-container\">\n",
              "      <div>\n",
              "<style scoped>\n",
              "    .dataframe tbody tr th:only-of-type {\n",
              "        vertical-align: middle;\n",
              "    }\n",
              "\n",
              "    .dataframe tbody tr th {\n",
              "        vertical-align: top;\n",
              "    }\n",
              "\n",
              "    .dataframe thead th {\n",
              "        text-align: right;\n",
              "    }\n",
              "</style>\n",
              "<table border=\"1\" class=\"dataframe\">\n",
              "  <thead>\n",
              "    <tr style=\"text-align: right;\">\n",
              "      <th></th>\n",
              "      <th>RF Predicted (Inference)</th>\n",
              "    </tr>\n",
              "  </thead>\n",
              "  <tbody>\n",
              "    <tr>\n",
              "      <th>19</th>\n",
              "      <td>0.0</td>\n",
              "    </tr>\n",
              "    <tr>\n",
              "      <th>103</th>\n",
              "      <td>0.0</td>\n",
              "    </tr>\n",
              "    <tr>\n",
              "      <th>109</th>\n",
              "      <td>0.0</td>\n",
              "    </tr>\n",
              "    <tr>\n",
              "      <th>115</th>\n",
              "      <td>0.0</td>\n",
              "    </tr>\n",
              "    <tr>\n",
              "      <th>123</th>\n",
              "      <td>0.0</td>\n",
              "    </tr>\n",
              "    <tr>\n",
              "      <th>204</th>\n",
              "      <td>0.0</td>\n",
              "    </tr>\n",
              "    <tr>\n",
              "      <th>242</th>\n",
              "      <td>0.0</td>\n",
              "    </tr>\n",
              "    <tr>\n",
              "      <th>264</th>\n",
              "      <td>0.0</td>\n",
              "    </tr>\n",
              "    <tr>\n",
              "      <th>285</th>\n",
              "      <td>0.0</td>\n",
              "    </tr>\n",
              "    <tr>\n",
              "      <th>296</th>\n",
              "      <td>0.0</td>\n",
              "    </tr>\n",
              "  </tbody>\n",
              "</table>\n",
              "</div>\n",
              "      <button class=\"colab-df-convert\" onclick=\"convertToInteractive('df-c9d88d17-a038-4b63-ab77-2b1aeb5ca176')\"\n",
              "              title=\"Convert this dataframe to an interactive table.\"\n",
              "              style=\"display:none;\">\n",
              "        \n",
              "  <svg xmlns=\"http://www.w3.org/2000/svg\" height=\"24px\"viewBox=\"0 0 24 24\"\n",
              "       width=\"24px\">\n",
              "    <path d=\"M0 0h24v24H0V0z\" fill=\"none\"/>\n",
              "    <path d=\"M18.56 5.44l.94 2.06.94-2.06 2.06-.94-2.06-.94-.94-2.06-.94 2.06-2.06.94zm-11 1L8.5 8.5l.94-2.06 2.06-.94-2.06-.94L8.5 2.5l-.94 2.06-2.06.94zm10 10l.94 2.06.94-2.06 2.06-.94-2.06-.94-.94-2.06-.94 2.06-2.06.94z\"/><path d=\"M17.41 7.96l-1.37-1.37c-.4-.4-.92-.59-1.43-.59-.52 0-1.04.2-1.43.59L10.3 9.45l-7.72 7.72c-.78.78-.78 2.05 0 2.83L4 21.41c.39.39.9.59 1.41.59.51 0 1.02-.2 1.41-.59l7.78-7.78 2.81-2.81c.8-.78.8-2.07 0-2.86zM5.41 20L4 18.59l7.72-7.72 1.47 1.35L5.41 20z\"/>\n",
              "  </svg>\n",
              "      </button>\n",
              "      \n",
              "  <style>\n",
              "    .colab-df-container {\n",
              "      display:flex;\n",
              "      flex-wrap:wrap;\n",
              "      gap: 12px;\n",
              "    }\n",
              "\n",
              "    .colab-df-convert {\n",
              "      background-color: #E8F0FE;\n",
              "      border: none;\n",
              "      border-radius: 50%;\n",
              "      cursor: pointer;\n",
              "      display: none;\n",
              "      fill: #1967D2;\n",
              "      height: 32px;\n",
              "      padding: 0 0 0 0;\n",
              "      width: 32px;\n",
              "    }\n",
              "\n",
              "    .colab-df-convert:hover {\n",
              "      background-color: #E2EBFA;\n",
              "      box-shadow: 0px 1px 2px rgba(60, 64, 67, 0.3), 0px 1px 3px 1px rgba(60, 64, 67, 0.15);\n",
              "      fill: #174EA6;\n",
              "    }\n",
              "\n",
              "    [theme=dark] .colab-df-convert {\n",
              "      background-color: #3B4455;\n",
              "      fill: #D2E3FC;\n",
              "    }\n",
              "\n",
              "    [theme=dark] .colab-df-convert:hover {\n",
              "      background-color: #434B5C;\n",
              "      box-shadow: 0px 1px 3px 1px rgba(0, 0, 0, 0.15);\n",
              "      filter: drop-shadow(0px 1px 2px rgba(0, 0, 0, 0.3));\n",
              "      fill: #FFFFFF;\n",
              "    }\n",
              "  </style>\n",
              "\n",
              "      <script>\n",
              "        const buttonEl =\n",
              "          document.querySelector('#df-c9d88d17-a038-4b63-ab77-2b1aeb5ca176 button.colab-df-convert');\n",
              "        buttonEl.style.display =\n",
              "          google.colab.kernel.accessAllowed ? 'block' : 'none';\n",
              "\n",
              "        async function convertToInteractive(key) {\n",
              "          const element = document.querySelector('#df-c9d88d17-a038-4b63-ab77-2b1aeb5ca176');\n",
              "          const dataTable =\n",
              "            await google.colab.kernel.invokeFunction('convertToInteractive',\n",
              "                                                     [key], {});\n",
              "          if (!dataTable) return;\n",
              "\n",
              "          const docLinkHtml = 'Like what you see? Visit the ' +\n",
              "            '<a target=\"_blank\" href=https://colab.research.google.com/notebooks/data_table.ipynb>data table notebook</a>'\n",
              "            + ' to learn more about interactive tables.';\n",
              "          element.innerHTML = '';\n",
              "          dataTable['output_type'] = 'display_data';\n",
              "          await google.colab.output.renderOutput(dataTable, element);\n",
              "          const docLink = document.createElement('div');\n",
              "          docLink.innerHTML = docLinkHtml;\n",
              "          element.appendChild(docLink);\n",
              "        }\n",
              "      </script>\n",
              "    </div>\n",
              "  </div>\n",
              "  "
            ]
          },
          "metadata": {},
          "execution_count": 181
        }
      ]
    },
    {
      "cell_type": "code",
      "source": [
        "# Comparing the real income bracket and predicted classification\n",
        "model_inf = pd.concat([df_inf['death_event'], y_pred_inf_rf['RF Predicted (Inference)']], axis=1).sort_index()\n",
        "model_inf"
      ],
      "metadata": {
        "colab": {
          "base_uri": "https://localhost:8080/",
          "height": 363
        },
        "id": "884wjLdFh4Ci",
        "outputId": "a54f4065-9eeb-4245-e210-38819b081b6d"
      },
      "execution_count": 182,
      "outputs": [
        {
          "output_type": "execute_result",
          "data": {
            "text/plain": [
              "     death_event  RF Predicted (Inference)\n",
              "19           1.0                       0.0\n",
              "103          1.0                       0.0\n",
              "109          1.0                       0.0\n",
              "115          1.0                       0.0\n",
              "123          1.0                       0.0\n",
              "204          0.0                       0.0\n",
              "242          0.0                       0.0\n",
              "264          0.0                       0.0\n",
              "285          1.0                       0.0\n",
              "296          0.0                       0.0"
            ],
            "text/html": [
              "\n",
              "  <div id=\"df-caa4a173-aeab-451c-b151-df841c82d5f1\">\n",
              "    <div class=\"colab-df-container\">\n",
              "      <div>\n",
              "<style scoped>\n",
              "    .dataframe tbody tr th:only-of-type {\n",
              "        vertical-align: middle;\n",
              "    }\n",
              "\n",
              "    .dataframe tbody tr th {\n",
              "        vertical-align: top;\n",
              "    }\n",
              "\n",
              "    .dataframe thead th {\n",
              "        text-align: right;\n",
              "    }\n",
              "</style>\n",
              "<table border=\"1\" class=\"dataframe\">\n",
              "  <thead>\n",
              "    <tr style=\"text-align: right;\">\n",
              "      <th></th>\n",
              "      <th>death_event</th>\n",
              "      <th>RF Predicted (Inference)</th>\n",
              "    </tr>\n",
              "  </thead>\n",
              "  <tbody>\n",
              "    <tr>\n",
              "      <th>19</th>\n",
              "      <td>1.0</td>\n",
              "      <td>0.0</td>\n",
              "    </tr>\n",
              "    <tr>\n",
              "      <th>103</th>\n",
              "      <td>1.0</td>\n",
              "      <td>0.0</td>\n",
              "    </tr>\n",
              "    <tr>\n",
              "      <th>109</th>\n",
              "      <td>1.0</td>\n",
              "      <td>0.0</td>\n",
              "    </tr>\n",
              "    <tr>\n",
              "      <th>115</th>\n",
              "      <td>1.0</td>\n",
              "      <td>0.0</td>\n",
              "    </tr>\n",
              "    <tr>\n",
              "      <th>123</th>\n",
              "      <td>1.0</td>\n",
              "      <td>0.0</td>\n",
              "    </tr>\n",
              "    <tr>\n",
              "      <th>204</th>\n",
              "      <td>0.0</td>\n",
              "      <td>0.0</td>\n",
              "    </tr>\n",
              "    <tr>\n",
              "      <th>242</th>\n",
              "      <td>0.0</td>\n",
              "      <td>0.0</td>\n",
              "    </tr>\n",
              "    <tr>\n",
              "      <th>264</th>\n",
              "      <td>0.0</td>\n",
              "      <td>0.0</td>\n",
              "    </tr>\n",
              "    <tr>\n",
              "      <th>285</th>\n",
              "      <td>1.0</td>\n",
              "      <td>0.0</td>\n",
              "    </tr>\n",
              "    <tr>\n",
              "      <th>296</th>\n",
              "      <td>0.0</td>\n",
              "      <td>0.0</td>\n",
              "    </tr>\n",
              "  </tbody>\n",
              "</table>\n",
              "</div>\n",
              "      <button class=\"colab-df-convert\" onclick=\"convertToInteractive('df-caa4a173-aeab-451c-b151-df841c82d5f1')\"\n",
              "              title=\"Convert this dataframe to an interactive table.\"\n",
              "              style=\"display:none;\">\n",
              "        \n",
              "  <svg xmlns=\"http://www.w3.org/2000/svg\" height=\"24px\"viewBox=\"0 0 24 24\"\n",
              "       width=\"24px\">\n",
              "    <path d=\"M0 0h24v24H0V0z\" fill=\"none\"/>\n",
              "    <path d=\"M18.56 5.44l.94 2.06.94-2.06 2.06-.94-2.06-.94-.94-2.06-.94 2.06-2.06.94zm-11 1L8.5 8.5l.94-2.06 2.06-.94-2.06-.94L8.5 2.5l-.94 2.06-2.06.94zm10 10l.94 2.06.94-2.06 2.06-.94-2.06-.94-.94-2.06-.94 2.06-2.06.94z\"/><path d=\"M17.41 7.96l-1.37-1.37c-.4-.4-.92-.59-1.43-.59-.52 0-1.04.2-1.43.59L10.3 9.45l-7.72 7.72c-.78.78-.78 2.05 0 2.83L4 21.41c.39.39.9.59 1.41.59.51 0 1.02-.2 1.41-.59l7.78-7.78 2.81-2.81c.8-.78.8-2.07 0-2.86zM5.41 20L4 18.59l7.72-7.72 1.47 1.35L5.41 20z\"/>\n",
              "  </svg>\n",
              "      </button>\n",
              "      \n",
              "  <style>\n",
              "    .colab-df-container {\n",
              "      display:flex;\n",
              "      flex-wrap:wrap;\n",
              "      gap: 12px;\n",
              "    }\n",
              "\n",
              "    .colab-df-convert {\n",
              "      background-color: #E8F0FE;\n",
              "      border: none;\n",
              "      border-radius: 50%;\n",
              "      cursor: pointer;\n",
              "      display: none;\n",
              "      fill: #1967D2;\n",
              "      height: 32px;\n",
              "      padding: 0 0 0 0;\n",
              "      width: 32px;\n",
              "    }\n",
              "\n",
              "    .colab-df-convert:hover {\n",
              "      background-color: #E2EBFA;\n",
              "      box-shadow: 0px 1px 2px rgba(60, 64, 67, 0.3), 0px 1px 3px 1px rgba(60, 64, 67, 0.15);\n",
              "      fill: #174EA6;\n",
              "    }\n",
              "\n",
              "    [theme=dark] .colab-df-convert {\n",
              "      background-color: #3B4455;\n",
              "      fill: #D2E3FC;\n",
              "    }\n",
              "\n",
              "    [theme=dark] .colab-df-convert:hover {\n",
              "      background-color: #434B5C;\n",
              "      box-shadow: 0px 1px 3px 1px rgba(0, 0, 0, 0.15);\n",
              "      filter: drop-shadow(0px 1px 2px rgba(0, 0, 0, 0.3));\n",
              "      fill: #FFFFFF;\n",
              "    }\n",
              "  </style>\n",
              "\n",
              "      <script>\n",
              "        const buttonEl =\n",
              "          document.querySelector('#df-caa4a173-aeab-451c-b151-df841c82d5f1 button.colab-df-convert');\n",
              "        buttonEl.style.display =\n",
              "          google.colab.kernel.accessAllowed ? 'block' : 'none';\n",
              "\n",
              "        async function convertToInteractive(key) {\n",
              "          const element = document.querySelector('#df-caa4a173-aeab-451c-b151-df841c82d5f1');\n",
              "          const dataTable =\n",
              "            await google.colab.kernel.invokeFunction('convertToInteractive',\n",
              "                                                     [key], {});\n",
              "          if (!dataTable) return;\n",
              "\n",
              "          const docLinkHtml = 'Like what you see? Visit the ' +\n",
              "            '<a target=\"_blank\" href=https://colab.research.google.com/notebooks/data_table.ipynb>data table notebook</a>'\n",
              "            + ' to learn more about interactive tables.';\n",
              "          element.innerHTML = '';\n",
              "          dataTable['output_type'] = 'display_data';\n",
              "          await google.colab.output.renderOutput(dataTable, element);\n",
              "          const docLink = document.createElement('div');\n",
              "          docLink.innerHTML = docLinkHtml;\n",
              "          element.appendChild(docLink);\n",
              "        }\n",
              "      </script>\n",
              "    </div>\n",
              "  </div>\n",
              "  "
            ]
          },
          "metadata": {},
          "execution_count": 182
        }
      ]
    },
    {
      "cell_type": "markdown",
      "source": [
        "#### **9.3.2. AdaBoostClassifier**"
      ],
      "metadata": {
        "id": "2j9bjVIniEMa"
      }
    },
    {
      "cell_type": "code",
      "source": [
        "# Predict using RandomForestClassifier\n",
        "y_pred_inf_abc = abc_model.predict(df_inf_num)\n",
        "\n",
        "# Create DataFrame\n",
        "y_pred_inf_abc = pd.DataFrame(y_pred_inf, columns=['ABC Predicted (Inference)'],index=df_inf_scaled.index)\n",
        "y_pred_inf_abc"
      ],
      "metadata": {
        "colab": {
          "base_uri": "https://localhost:8080/",
          "height": 363
        },
        "id": "ow-VVgvQiI7Y",
        "outputId": "5c03dc26-5516-4461-cea7-4f79c85accb5"
      },
      "execution_count": 184,
      "outputs": [
        {
          "output_type": "execute_result",
          "data": {
            "text/plain": [
              "     ABC Predicted (Inference)\n",
              "19                         0.0\n",
              "103                        0.0\n",
              "109                        0.0\n",
              "115                        0.0\n",
              "123                        0.0\n",
              "204                        0.0\n",
              "242                        0.0\n",
              "264                        0.0\n",
              "285                        0.0\n",
              "296                        0.0"
            ],
            "text/html": [
              "\n",
              "  <div id=\"df-d22ef7a9-9270-446a-83eb-b04f16951696\">\n",
              "    <div class=\"colab-df-container\">\n",
              "      <div>\n",
              "<style scoped>\n",
              "    .dataframe tbody tr th:only-of-type {\n",
              "        vertical-align: middle;\n",
              "    }\n",
              "\n",
              "    .dataframe tbody tr th {\n",
              "        vertical-align: top;\n",
              "    }\n",
              "\n",
              "    .dataframe thead th {\n",
              "        text-align: right;\n",
              "    }\n",
              "</style>\n",
              "<table border=\"1\" class=\"dataframe\">\n",
              "  <thead>\n",
              "    <tr style=\"text-align: right;\">\n",
              "      <th></th>\n",
              "      <th>ABC Predicted (Inference)</th>\n",
              "    </tr>\n",
              "  </thead>\n",
              "  <tbody>\n",
              "    <tr>\n",
              "      <th>19</th>\n",
              "      <td>0.0</td>\n",
              "    </tr>\n",
              "    <tr>\n",
              "      <th>103</th>\n",
              "      <td>0.0</td>\n",
              "    </tr>\n",
              "    <tr>\n",
              "      <th>109</th>\n",
              "      <td>0.0</td>\n",
              "    </tr>\n",
              "    <tr>\n",
              "      <th>115</th>\n",
              "      <td>0.0</td>\n",
              "    </tr>\n",
              "    <tr>\n",
              "      <th>123</th>\n",
              "      <td>0.0</td>\n",
              "    </tr>\n",
              "    <tr>\n",
              "      <th>204</th>\n",
              "      <td>0.0</td>\n",
              "    </tr>\n",
              "    <tr>\n",
              "      <th>242</th>\n",
              "      <td>0.0</td>\n",
              "    </tr>\n",
              "    <tr>\n",
              "      <th>264</th>\n",
              "      <td>0.0</td>\n",
              "    </tr>\n",
              "    <tr>\n",
              "      <th>285</th>\n",
              "      <td>0.0</td>\n",
              "    </tr>\n",
              "    <tr>\n",
              "      <th>296</th>\n",
              "      <td>0.0</td>\n",
              "    </tr>\n",
              "  </tbody>\n",
              "</table>\n",
              "</div>\n",
              "      <button class=\"colab-df-convert\" onclick=\"convertToInteractive('df-d22ef7a9-9270-446a-83eb-b04f16951696')\"\n",
              "              title=\"Convert this dataframe to an interactive table.\"\n",
              "              style=\"display:none;\">\n",
              "        \n",
              "  <svg xmlns=\"http://www.w3.org/2000/svg\" height=\"24px\"viewBox=\"0 0 24 24\"\n",
              "       width=\"24px\">\n",
              "    <path d=\"M0 0h24v24H0V0z\" fill=\"none\"/>\n",
              "    <path d=\"M18.56 5.44l.94 2.06.94-2.06 2.06-.94-2.06-.94-.94-2.06-.94 2.06-2.06.94zm-11 1L8.5 8.5l.94-2.06 2.06-.94-2.06-.94L8.5 2.5l-.94 2.06-2.06.94zm10 10l.94 2.06.94-2.06 2.06-.94-2.06-.94-.94-2.06-.94 2.06-2.06.94z\"/><path d=\"M17.41 7.96l-1.37-1.37c-.4-.4-.92-.59-1.43-.59-.52 0-1.04.2-1.43.59L10.3 9.45l-7.72 7.72c-.78.78-.78 2.05 0 2.83L4 21.41c.39.39.9.59 1.41.59.51 0 1.02-.2 1.41-.59l7.78-7.78 2.81-2.81c.8-.78.8-2.07 0-2.86zM5.41 20L4 18.59l7.72-7.72 1.47 1.35L5.41 20z\"/>\n",
              "  </svg>\n",
              "      </button>\n",
              "      \n",
              "  <style>\n",
              "    .colab-df-container {\n",
              "      display:flex;\n",
              "      flex-wrap:wrap;\n",
              "      gap: 12px;\n",
              "    }\n",
              "\n",
              "    .colab-df-convert {\n",
              "      background-color: #E8F0FE;\n",
              "      border: none;\n",
              "      border-radius: 50%;\n",
              "      cursor: pointer;\n",
              "      display: none;\n",
              "      fill: #1967D2;\n",
              "      height: 32px;\n",
              "      padding: 0 0 0 0;\n",
              "      width: 32px;\n",
              "    }\n",
              "\n",
              "    .colab-df-convert:hover {\n",
              "      background-color: #E2EBFA;\n",
              "      box-shadow: 0px 1px 2px rgba(60, 64, 67, 0.3), 0px 1px 3px 1px rgba(60, 64, 67, 0.15);\n",
              "      fill: #174EA6;\n",
              "    }\n",
              "\n",
              "    [theme=dark] .colab-df-convert {\n",
              "      background-color: #3B4455;\n",
              "      fill: #D2E3FC;\n",
              "    }\n",
              "\n",
              "    [theme=dark] .colab-df-convert:hover {\n",
              "      background-color: #434B5C;\n",
              "      box-shadow: 0px 1px 3px 1px rgba(0, 0, 0, 0.15);\n",
              "      filter: drop-shadow(0px 1px 2px rgba(0, 0, 0, 0.3));\n",
              "      fill: #FFFFFF;\n",
              "    }\n",
              "  </style>\n",
              "\n",
              "      <script>\n",
              "        const buttonEl =\n",
              "          document.querySelector('#df-d22ef7a9-9270-446a-83eb-b04f16951696 button.colab-df-convert');\n",
              "        buttonEl.style.display =\n",
              "          google.colab.kernel.accessAllowed ? 'block' : 'none';\n",
              "\n",
              "        async function convertToInteractive(key) {\n",
              "          const element = document.querySelector('#df-d22ef7a9-9270-446a-83eb-b04f16951696');\n",
              "          const dataTable =\n",
              "            await google.colab.kernel.invokeFunction('convertToInteractive',\n",
              "                                                     [key], {});\n",
              "          if (!dataTable) return;\n",
              "\n",
              "          const docLinkHtml = 'Like what you see? Visit the ' +\n",
              "            '<a target=\"_blank\" href=https://colab.research.google.com/notebooks/data_table.ipynb>data table notebook</a>'\n",
              "            + ' to learn more about interactive tables.';\n",
              "          element.innerHTML = '';\n",
              "          dataTable['output_type'] = 'display_data';\n",
              "          await google.colab.output.renderOutput(dataTable, element);\n",
              "          const docLink = document.createElement('div');\n",
              "          docLink.innerHTML = docLinkHtml;\n",
              "          element.appendChild(docLink);\n",
              "        }\n",
              "      </script>\n",
              "    </div>\n",
              "  </div>\n",
              "  "
            ]
          },
          "metadata": {},
          "execution_count": 184
        }
      ]
    },
    {
      "cell_type": "code",
      "source": [
        "# Comparing the real income bracket and predicted classification\n",
        "model_inf = pd.concat([df_inf['death_event'], y_pred_inf_abc['ABC Predicted (Inference)']], axis=1).sort_index()\n",
        "model_inf"
      ],
      "metadata": {
        "colab": {
          "base_uri": "https://localhost:8080/",
          "height": 363
        },
        "id": "YDlYWo-ziUSZ",
        "outputId": "bc5b4851-d3da-41b5-abc9-3b8e86d4581f"
      },
      "execution_count": 185,
      "outputs": [
        {
          "output_type": "execute_result",
          "data": {
            "text/plain": [
              "     death_event  ABC Predicted (Inference)\n",
              "19           1.0                        0.0\n",
              "103          1.0                        0.0\n",
              "109          1.0                        0.0\n",
              "115          1.0                        0.0\n",
              "123          1.0                        0.0\n",
              "204          0.0                        0.0\n",
              "242          0.0                        0.0\n",
              "264          0.0                        0.0\n",
              "285          1.0                        0.0\n",
              "296          0.0                        0.0"
            ],
            "text/html": [
              "\n",
              "  <div id=\"df-250317d4-53ec-47d5-ad18-61f43c8ce90f\">\n",
              "    <div class=\"colab-df-container\">\n",
              "      <div>\n",
              "<style scoped>\n",
              "    .dataframe tbody tr th:only-of-type {\n",
              "        vertical-align: middle;\n",
              "    }\n",
              "\n",
              "    .dataframe tbody tr th {\n",
              "        vertical-align: top;\n",
              "    }\n",
              "\n",
              "    .dataframe thead th {\n",
              "        text-align: right;\n",
              "    }\n",
              "</style>\n",
              "<table border=\"1\" class=\"dataframe\">\n",
              "  <thead>\n",
              "    <tr style=\"text-align: right;\">\n",
              "      <th></th>\n",
              "      <th>death_event</th>\n",
              "      <th>ABC Predicted (Inference)</th>\n",
              "    </tr>\n",
              "  </thead>\n",
              "  <tbody>\n",
              "    <tr>\n",
              "      <th>19</th>\n",
              "      <td>1.0</td>\n",
              "      <td>0.0</td>\n",
              "    </tr>\n",
              "    <tr>\n",
              "      <th>103</th>\n",
              "      <td>1.0</td>\n",
              "      <td>0.0</td>\n",
              "    </tr>\n",
              "    <tr>\n",
              "      <th>109</th>\n",
              "      <td>1.0</td>\n",
              "      <td>0.0</td>\n",
              "    </tr>\n",
              "    <tr>\n",
              "      <th>115</th>\n",
              "      <td>1.0</td>\n",
              "      <td>0.0</td>\n",
              "    </tr>\n",
              "    <tr>\n",
              "      <th>123</th>\n",
              "      <td>1.0</td>\n",
              "      <td>0.0</td>\n",
              "    </tr>\n",
              "    <tr>\n",
              "      <th>204</th>\n",
              "      <td>0.0</td>\n",
              "      <td>0.0</td>\n",
              "    </tr>\n",
              "    <tr>\n",
              "      <th>242</th>\n",
              "      <td>0.0</td>\n",
              "      <td>0.0</td>\n",
              "    </tr>\n",
              "    <tr>\n",
              "      <th>264</th>\n",
              "      <td>0.0</td>\n",
              "      <td>0.0</td>\n",
              "    </tr>\n",
              "    <tr>\n",
              "      <th>285</th>\n",
              "      <td>1.0</td>\n",
              "      <td>0.0</td>\n",
              "    </tr>\n",
              "    <tr>\n",
              "      <th>296</th>\n",
              "      <td>0.0</td>\n",
              "      <td>0.0</td>\n",
              "    </tr>\n",
              "  </tbody>\n",
              "</table>\n",
              "</div>\n",
              "      <button class=\"colab-df-convert\" onclick=\"convertToInteractive('df-250317d4-53ec-47d5-ad18-61f43c8ce90f')\"\n",
              "              title=\"Convert this dataframe to an interactive table.\"\n",
              "              style=\"display:none;\">\n",
              "        \n",
              "  <svg xmlns=\"http://www.w3.org/2000/svg\" height=\"24px\"viewBox=\"0 0 24 24\"\n",
              "       width=\"24px\">\n",
              "    <path d=\"M0 0h24v24H0V0z\" fill=\"none\"/>\n",
              "    <path d=\"M18.56 5.44l.94 2.06.94-2.06 2.06-.94-2.06-.94-.94-2.06-.94 2.06-2.06.94zm-11 1L8.5 8.5l.94-2.06 2.06-.94-2.06-.94L8.5 2.5l-.94 2.06-2.06.94zm10 10l.94 2.06.94-2.06 2.06-.94-2.06-.94-.94-2.06-.94 2.06-2.06.94z\"/><path d=\"M17.41 7.96l-1.37-1.37c-.4-.4-.92-.59-1.43-.59-.52 0-1.04.2-1.43.59L10.3 9.45l-7.72 7.72c-.78.78-.78 2.05 0 2.83L4 21.41c.39.39.9.59 1.41.59.51 0 1.02-.2 1.41-.59l7.78-7.78 2.81-2.81c.8-.78.8-2.07 0-2.86zM5.41 20L4 18.59l7.72-7.72 1.47 1.35L5.41 20z\"/>\n",
              "  </svg>\n",
              "      </button>\n",
              "      \n",
              "  <style>\n",
              "    .colab-df-container {\n",
              "      display:flex;\n",
              "      flex-wrap:wrap;\n",
              "      gap: 12px;\n",
              "    }\n",
              "\n",
              "    .colab-df-convert {\n",
              "      background-color: #E8F0FE;\n",
              "      border: none;\n",
              "      border-radius: 50%;\n",
              "      cursor: pointer;\n",
              "      display: none;\n",
              "      fill: #1967D2;\n",
              "      height: 32px;\n",
              "      padding: 0 0 0 0;\n",
              "      width: 32px;\n",
              "    }\n",
              "\n",
              "    .colab-df-convert:hover {\n",
              "      background-color: #E2EBFA;\n",
              "      box-shadow: 0px 1px 2px rgba(60, 64, 67, 0.3), 0px 1px 3px 1px rgba(60, 64, 67, 0.15);\n",
              "      fill: #174EA6;\n",
              "    }\n",
              "\n",
              "    [theme=dark] .colab-df-convert {\n",
              "      background-color: #3B4455;\n",
              "      fill: #D2E3FC;\n",
              "    }\n",
              "\n",
              "    [theme=dark] .colab-df-convert:hover {\n",
              "      background-color: #434B5C;\n",
              "      box-shadow: 0px 1px 3px 1px rgba(0, 0, 0, 0.15);\n",
              "      filter: drop-shadow(0px 1px 2px rgba(0, 0, 0, 0.3));\n",
              "      fill: #FFFFFF;\n",
              "    }\n",
              "  </style>\n",
              "\n",
              "      <script>\n",
              "        const buttonEl =\n",
              "          document.querySelector('#df-250317d4-53ec-47d5-ad18-61f43c8ce90f button.colab-df-convert');\n",
              "        buttonEl.style.display =\n",
              "          google.colab.kernel.accessAllowed ? 'block' : 'none';\n",
              "\n",
              "        async function convertToInteractive(key) {\n",
              "          const element = document.querySelector('#df-250317d4-53ec-47d5-ad18-61f43c8ce90f');\n",
              "          const dataTable =\n",
              "            await google.colab.kernel.invokeFunction('convertToInteractive',\n",
              "                                                     [key], {});\n",
              "          if (!dataTable) return;\n",
              "\n",
              "          const docLinkHtml = 'Like what you see? Visit the ' +\n",
              "            '<a target=\"_blank\" href=https://colab.research.google.com/notebooks/data_table.ipynb>data table notebook</a>'\n",
              "            + ' to learn more about interactive tables.';\n",
              "          element.innerHTML = '';\n",
              "          dataTable['output_type'] = 'display_data';\n",
              "          await google.colab.output.renderOutput(dataTable, element);\n",
              "          const docLink = document.createElement('div');\n",
              "          docLink.innerHTML = docLinkHtml;\n",
              "          element.appendChild(docLink);\n",
              "        }\n",
              "      </script>\n",
              "    </div>\n",
              "  </div>\n",
              "  "
            ]
          },
          "metadata": {},
          "execution_count": 185
        }
      ]
    },
    {
      "cell_type": "markdown",
      "source": [
        "## **10. Conclusions**\n",
        "\n",
        "We can conclude that the predicion of `death` because of heart failure is basically because of three things: `time`, `serum_creatine`, and `age` hold top three highest significance.\n",
        "\n",
        "Meanwhile the lowest are `sex`, `diabetes`, `smoking`, and `platelets` are under p-value 0.05 threshold, which are not significant to influence the `death_event`\n",
        "\n",
        "It should be remembered although `smoking` is famous of its potency to kill, but apparently heart failure is more about taking a short-time to kill the patient. Smoking could be the factors, but it is more like for a long-term death.\n",
        "\n",
        "**The predicition** depends on the algorithm used, in this case, apparently using Boosting technique, such as **AdaBoostClassfier shows a better result without hyperparameter tuning**. However, **Random Forest Classifier is also good with hyperparameter tuning**."
      ],
      "metadata": {
        "id": "HuO7s21MilSX"
      }
    },
    {
      "cell_type": "markdown",
      "source": [
        "### **Answering Conceptual Problems**\n",
        "**Random forest is a bagging technique, not a boosting technique; and Adaptive Boost Classifier is a boosting technique, not a bagging technique**.\n",
        "\n",
        "In boosting as the name suggests, one is learning from other which in turn boosts the learning. The trees in random forests are run in parallel. There is no interaction between these trees while building the trees. This boosting technique can be taken as an example: **Adaptive Boost Classifier**\n",
        "\n",
        "As we can see that RandomForestClassifier is too strong for the dataset, thus, it creates a high biased classification.\n",
        "\n",
        "Bagging is the simplest way of combining predictions that belong to the same type while Boosting is a way of combining predictions that belong to the different types.\n",
        "\n",
        "**Key Takeaways for Ensable Learning Bagging vs Boosting:**\n",
        "\n",
        "- Random Forest Classifier is a bagging technique that aims to decrease variance, but not for bias.\n",
        "- Adaptive Boost Classifier (AdaBoost) is a boosting technique that aims to decrease bias, but not variance.\n"
      ],
      "metadata": {
        "id": "6HJMQRHojt9H"
      }
    }
  ]
}