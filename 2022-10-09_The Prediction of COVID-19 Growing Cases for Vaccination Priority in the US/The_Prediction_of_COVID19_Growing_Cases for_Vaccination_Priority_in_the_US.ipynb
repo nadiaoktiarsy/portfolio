{
  "cells": [
    {
      "cell_type": "markdown",
      "metadata": {
        "id": "QMiHFQxwkxYh"
      },
      "source": [
        "#**Graded Challenge 1**\n",
        "## **The Prediction of COVID-19 Growing Cases for Vaccination Priority in the US**\n",
        "\n",
        "Nadia Oktiarsy, FSDS Batch-016 RMT (Buddy: Hana)\n",
        "\n",
        "---\n",
        "```\n",
        "Table of Contents:\n",
        "1. Objective\n",
        "2. Problem Statement\n",
        "3. Data Loading\n",
        "   - Importing Libraries\n",
        "   - Extracting Data from BigQuery\n",
        "   - Loading Data from GitHub\n",
        "   - Data Types\n",
        "4. Data Cleaning\n",
        "   - Subtituting null-value columns with the column needed\n",
        "   - Data description:\n",
        "   - Removing irrelevant data based on rows (index)\n",
        "   - Removing negative or error values\n",
        "   - Validating after cleaning the data\n",
        "5. Data Exploration\n",
        "   - Seperating Data into 3 Queries\n",
        "   - Grouping and Aggregating Data\n",
        "      (a) Numbers of reports from each state\n",
        "      (b.1) Maximum numbers of confirmed cases\n",
        "      (b.2) Maximum numbers of deaths\n",
        "      (b.3) Maximum numbers of non-deaths\n",
        "      (c) Minimum numbers of confirmed cases\n",
        "      (d) Average variables in each state\n",
        "    - Data Visualization\n",
        "6. Conclusion\n",
        "   References\n",
        "```"
      ]
    },
    {
      "cell_type": "markdown",
      "metadata": {
        "id": "MCe1OU5pk35G"
      },
      "source": [
        "---\n",
        "### **1. Objective**\n",
        "\n",
        "A vaccination company in the US is currently planning to produce the newest vaccines type for COVID-19. However, it is revealed that the number of cases in the US is still the highest in the world. The company decided to focus on the US cases, to support citizens to prevent more cases as it infolds as they also plan to use this new type of vaccine in the US first before distributed to other countries.\n",
        "\n",
        "The provided data of COVID-19 cases are based on the data repository operated by JHU CSSE. As the data track reported is in real-time, with the total of existing data is almost more than 3.6 million on October 9, 2022. The data include: `the location`, and the number `confirmed COVID-19 cases`, `active cases`, `deaths`, and `recoveries` for all affected countries.\n",
        "\n",
        "Thus, it is significant to `predict the potential of growing cases` based on the population affected by COVID-19 aggregated by location. Moreover, this will be useful to answer `which countries that need the vaccination from the most to the least`."
      ]
    },
    {
      "cell_type": "markdown",
      "metadata": {
        "id": "d6HPM5vgIINa"
      },
      "source": [
        "### **2. Problem Statement**\n",
        "\n",
        "As the objection mentioned above, there are at least `three factors` before making a decision which countries/regions that must get a focus for vaccincation. Those three factors are:\n",
        "```\n",
        "1. Confirmed cases\n",
        "2. Deaths\n",
        "3. Non-deaths (including recovered and active cases)\n",
        "```\n",
        "\n",
        "The data scientist is assinged to evaluate the growing number of cases in the United States with these conditions:\n",
        "1. If the number of `the confirmed cases` and `deaths` are high, but `non-deaths` is low, then this state should get `the highest priority` for vaccination.\n",
        "2. If the number of `the confirmed` and `deaths` are high, and `non-deaths` is high, then this state should get `the high priority` for vaccincation.\n",
        "3. If the number of `the confirmed` and `deaths` are low, but `non-deaths` is high, then this state will be `the low priority` for vaccination.\n",
        "4. If the number of `the confirmed` and `deaths` are low, and `non-deaths` is low, then this state will be `the lowest priority` for vaccination."
      ]
    },
    {
      "cell_type": "markdown",
      "metadata": {
        "id": "Br5YlHaHRLsG"
      },
      "source": [
        "---\n",
        "### **3. Data Loading**\n",
        "\n",
        "The data are taken from `bigquery-public-data` in `Google Cloud Big Query`. Databases table is from`summary` of `covid19_jhu_csse_eu`, with format:\n",
        "```\n",
        "*   Country focus: the US.\n",
        "*   Date: between `2022-01-01` and `2022-06-30`\n",
        "*   Ordered by `province_state` ascending.\n",
        "```"
      ]
    },
    {
      "cell_type": "markdown",
      "metadata": {
        "id": "aDKoTg0tk-3l"
      },
      "source": [
        "**Importing Libraries**"
      ]
    },
    {
      "cell_type": "code",
      "execution_count": 2,
      "metadata": {
        "id": "BjqJBTcZgcgA"
      },
      "outputs": [],
      "source": [
        "# Importing libraries\n",
        "import numpy as np\n",
        "import pandas as pd\n",
        "import matplotlib.pyplot as plt"
      ]
    },
    {
      "cell_type": "markdown",
      "metadata": {
        "id": "KIbxzoRXjTW7"
      },
      "source": [
        "**Extracting Data from BigQuery**"
      ]
    },
    {
      "cell_type": "markdown",
      "metadata": {
        "id": "fSOC_CErLqHo"
      },
      "source": [
        "BigQuery SQL simple data cleaning, by selecting particular columns and date that will be used for the analysis:\n",
        "\n",
        "```\n",
        "# Query for Analysis #\n",
        "-- Simple Data Cleaning\n",
        "SELECT\n",
        "  DISTINCT\n",
        "  province_state,\n",
        "  country_region,\n",
        "  date as date_input,\n",
        "  confirmed,\n",
        "  deaths,\n",
        "  recovered,\n",
        "  active,\n",
        "FROM `bigquery-public-data.covid19_jhu_csse_eu.summary`\n",
        "WHERE\n",
        "  date BETWEEN '2022-01-01' AND '2022-06-30'\n",
        "  AND country_region='US'\n",
        "ORDER BY province_state ASC;\n",
        "```"
      ]
    },
    {
      "cell_type": "markdown",
      "metadata": {
        "id": "2CtIVIH_jbuC"
      },
      "source": [
        "**Data Loading from GitHub**"
      ]
    },
    {
      "cell_type": "code",
      "execution_count": 3,
      "metadata": {
        "id": "97062T5_RYTT"
      },
      "outputs": [],
      "source": [
        "# Uploading Datasets from Github\n",
        "url = 'https://raw.githubusercontent.com/nadiaoktiarsy/hacktiv8_p0/main/p0_week1/h8dsft_P0GC1_nadiaoktiarsy/h8dsft_P0GC1_nadiaoktiarsy.csv'\n",
        "df = pd.read_csv(url)"
      ]
    },
    {
      "cell_type": "code",
      "execution_count": 4,
      "metadata": {
        "colab": {
          "base_uri": "https://localhost:8080/"
        },
        "id": "xjld4QOwT3WX",
        "outputId": "6575ed62-9c8e-4e6d-df0e-5507a334aac1"
      },
      "outputs": [
        {
          "data": {
            "text/plain": [
              "592596"
            ]
          },
          "execution_count": 4,
          "metadata": {},
          "output_type": "execute_result"
        }
      ],
      "source": [
        "# Checking how much data that has been loaded:\n",
        "len(df)"
      ]
    },
    {
      "cell_type": "code",
      "execution_count": 5,
      "metadata": {
        "colab": {
          "base_uri": "https://localhost:8080/"
        },
        "id": "Crbk9ZN1UC0b",
        "outputId": "8b908d5d-8c40-4c8a-a138-b0e5e22b471c"
      },
      "outputs": [
        {
          "data": {
            "text/plain": [
              "(592596, 7)"
            ]
          },
          "execution_count": 5,
          "metadata": {},
          "output_type": "execute_result"
        }
      ],
      "source": [
        "# Checking how many rows and columns that has been loaded:\n",
        "df.shape"
      ]
    },
    {
      "cell_type": "markdown",
      "metadata": {
        "id": "qcDUFm9dUecR"
      },
      "source": [
        "The data taken will be shown using `df.head()` and `df.tail()` as below. From here, we can see `recovered` and `active` data is not available or Null (`NaN`). In this case, the data cleaning will be appliead before proceeding to the exploration/analysis part."
      ]
    },
    {
      "cell_type": "code",
      "execution_count": 6,
      "metadata": {
        "colab": {
          "base_uri": "https://localhost:8080/",
          "height": 206
        },
        "id": "xNFP1-Rf78Cy",
        "outputId": "8ae65ecb-b0e2-4c13-ba96-ffdc6a42884e"
      },
      "outputs": [
        {
          "data": {
            "text/html": [
              "<div>\n",
              "<style scoped>\n",
              "    .dataframe tbody tr th:only-of-type {\n",
              "        vertical-align: middle;\n",
              "    }\n",
              "\n",
              "    .dataframe tbody tr th {\n",
              "        vertical-align: top;\n",
              "    }\n",
              "\n",
              "    .dataframe thead th {\n",
              "        text-align: right;\n",
              "    }\n",
              "</style>\n",
              "<table border=\"1\" class=\"dataframe\">\n",
              "  <thead>\n",
              "    <tr style=\"text-align: right;\">\n",
              "      <th></th>\n",
              "      <th>province_state</th>\n",
              "      <th>country_region</th>\n",
              "      <th>date_input</th>\n",
              "      <th>confirmed</th>\n",
              "      <th>deaths</th>\n",
              "      <th>recovered</th>\n",
              "      <th>active</th>\n",
              "    </tr>\n",
              "  </thead>\n",
              "  <tbody>\n",
              "    <tr>\n",
              "      <th>0</th>\n",
              "      <td>Alabama</td>\n",
              "      <td>US</td>\n",
              "      <td>2022-04-25</td>\n",
              "      <td>15814</td>\n",
              "      <td>215</td>\n",
              "      <td>NaN</td>\n",
              "      <td>NaN</td>\n",
              "    </tr>\n",
              "    <tr>\n",
              "      <th>1</th>\n",
              "      <td>Alabama</td>\n",
              "      <td>US</td>\n",
              "      <td>2022-04-25</td>\n",
              "      <td>55607</td>\n",
              "      <td>680</td>\n",
              "      <td>NaN</td>\n",
              "      <td>NaN</td>\n",
              "    </tr>\n",
              "    <tr>\n",
              "      <th>2</th>\n",
              "      <td>Alabama</td>\n",
              "      <td>US</td>\n",
              "      <td>2022-04-25</td>\n",
              "      <td>5661</td>\n",
              "      <td>98</td>\n",
              "      <td>NaN</td>\n",
              "      <td>NaN</td>\n",
              "    </tr>\n",
              "    <tr>\n",
              "      <th>3</th>\n",
              "      <td>Alabama</td>\n",
              "      <td>US</td>\n",
              "      <td>2022-04-25</td>\n",
              "      <td>6435</td>\n",
              "      <td>104</td>\n",
              "      <td>NaN</td>\n",
              "      <td>NaN</td>\n",
              "    </tr>\n",
              "    <tr>\n",
              "      <th>4</th>\n",
              "      <td>Alabama</td>\n",
              "      <td>US</td>\n",
              "      <td>2022-04-25</td>\n",
              "      <td>14967</td>\n",
              "      <td>243</td>\n",
              "      <td>NaN</td>\n",
              "      <td>NaN</td>\n",
              "    </tr>\n",
              "  </tbody>\n",
              "</table>\n",
              "</div>"
            ],
            "text/plain": [
              "  province_state country_region  date_input  confirmed  deaths  recovered  \\\n",
              "0        Alabama             US  2022-04-25      15814     215        NaN   \n",
              "1        Alabama             US  2022-04-25      55607     680        NaN   \n",
              "2        Alabama             US  2022-04-25       5661      98        NaN   \n",
              "3        Alabama             US  2022-04-25       6435     104        NaN   \n",
              "4        Alabama             US  2022-04-25      14967     243        NaN   \n",
              "\n",
              "   active  \n",
              "0     NaN  \n",
              "1     NaN  \n",
              "2     NaN  \n",
              "3     NaN  \n",
              "4     NaN  "
            ]
          },
          "execution_count": 6,
          "metadata": {},
          "output_type": "execute_result"
        }
      ],
      "source": [
        "df.head()"
      ]
    },
    {
      "cell_type": "code",
      "execution_count": 7,
      "metadata": {
        "colab": {
          "base_uri": "https://localhost:8080/",
          "height": 206
        },
        "id": "hC8QN1kS9VCH",
        "outputId": "768542d3-fb9b-4892-91cb-71f8e2ff1d71"
      },
      "outputs": [
        {
          "data": {
            "text/html": [
              "<div>\n",
              "<style scoped>\n",
              "    .dataframe tbody tr th:only-of-type {\n",
              "        vertical-align: middle;\n",
              "    }\n",
              "\n",
              "    .dataframe tbody tr th {\n",
              "        vertical-align: top;\n",
              "    }\n",
              "\n",
              "    .dataframe thead th {\n",
              "        text-align: right;\n",
              "    }\n",
              "</style>\n",
              "<table border=\"1\" class=\"dataframe\">\n",
              "  <thead>\n",
              "    <tr style=\"text-align: right;\">\n",
              "      <th></th>\n",
              "      <th>province_state</th>\n",
              "      <th>country_region</th>\n",
              "      <th>date_input</th>\n",
              "      <th>confirmed</th>\n",
              "      <th>deaths</th>\n",
              "      <th>recovered</th>\n",
              "      <th>active</th>\n",
              "    </tr>\n",
              "  </thead>\n",
              "  <tbody>\n",
              "    <tr>\n",
              "      <th>592591</th>\n",
              "      <td>Wyoming</td>\n",
              "      <td>US</td>\n",
              "      <td>2022-04-27</td>\n",
              "      <td>10009</td>\n",
              "      <td>16</td>\n",
              "      <td>NaN</td>\n",
              "      <td>NaN</td>\n",
              "    </tr>\n",
              "    <tr>\n",
              "      <th>592592</th>\n",
              "      <td>Wyoming</td>\n",
              "      <td>US</td>\n",
              "      <td>2022-04-27</td>\n",
              "      <td>5627</td>\n",
              "      <td>39</td>\n",
              "      <td>NaN</td>\n",
              "      <td>NaN</td>\n",
              "    </tr>\n",
              "    <tr>\n",
              "      <th>592593</th>\n",
              "      <td>Wyoming</td>\n",
              "      <td>US</td>\n",
              "      <td>2022-04-27</td>\n",
              "      <td>0</td>\n",
              "      <td>0</td>\n",
              "      <td>NaN</td>\n",
              "      <td>NaN</td>\n",
              "    </tr>\n",
              "    <tr>\n",
              "      <th>592594</th>\n",
              "      <td>Wyoming</td>\n",
              "      <td>US</td>\n",
              "      <td>2022-04-27</td>\n",
              "      <td>2358</td>\n",
              "      <td>44</td>\n",
              "      <td>NaN</td>\n",
              "      <td>NaN</td>\n",
              "    </tr>\n",
              "    <tr>\n",
              "      <th>592595</th>\n",
              "      <td>Wyoming</td>\n",
              "      <td>US</td>\n",
              "      <td>2022-04-27</td>\n",
              "      <td>1588</td>\n",
              "      <td>18</td>\n",
              "      <td>NaN</td>\n",
              "      <td>NaN</td>\n",
              "    </tr>\n",
              "  </tbody>\n",
              "</table>\n",
              "</div>"
            ],
            "text/plain": [
              "       province_state country_region  date_input  confirmed  deaths  \\\n",
              "592591        Wyoming             US  2022-04-27      10009      16   \n",
              "592592        Wyoming             US  2022-04-27       5627      39   \n",
              "592593        Wyoming             US  2022-04-27          0       0   \n",
              "592594        Wyoming             US  2022-04-27       2358      44   \n",
              "592595        Wyoming             US  2022-04-27       1588      18   \n",
              "\n",
              "        recovered  active  \n",
              "592591        NaN     NaN  \n",
              "592592        NaN     NaN  \n",
              "592593        NaN     NaN  \n",
              "592594        NaN     NaN  \n",
              "592595        NaN     NaN  "
            ]
          },
          "execution_count": 7,
          "metadata": {},
          "output_type": "execute_result"
        }
      ],
      "source": [
        "df.tail()"
      ]
    },
    {
      "cell_type": "markdown",
      "metadata": {
        "id": "4NCDdS5JRZXT"
      },
      "source": [
        "**Data Types**"
      ]
    },
    {
      "cell_type": "code",
      "execution_count": 8,
      "metadata": {
        "colab": {
          "base_uri": "https://localhost:8080/"
        },
        "id": "h22dGCfjRc2l",
        "outputId": "45ca03f5-4183-40c7-cc28-736a43665c1a"
      },
      "outputs": [
        {
          "name": "stdout",
          "output_type": "stream",
          "text": [
            "<class 'pandas.core.frame.DataFrame'>\n",
            "RangeIndex: 592596 entries, 0 to 592595\n",
            "Data columns (total 7 columns):\n",
            " #   Column          Non-Null Count   Dtype  \n",
            "---  ------          --------------   -----  \n",
            " 0   province_state  592596 non-null  object \n",
            " 1   country_region  592596 non-null  object \n",
            " 2   date_input      592596 non-null  object \n",
            " 3   confirmed       592596 non-null  int64  \n",
            " 4   deaths          592596 non-null  int64  \n",
            " 5   recovered       0 non-null       float64\n",
            " 6   active          0 non-null       float64\n",
            "dtypes: float64(2), int64(2), object(3)\n",
            "memory usage: 31.6+ MB\n"
          ]
        }
      ],
      "source": [
        "df.info()"
      ]
    },
    {
      "cell_type": "code",
      "execution_count": 9,
      "metadata": {
        "colab": {
          "base_uri": "https://localhost:8080/",
          "height": 300
        },
        "id": "Ho7SB6hTRx7P",
        "outputId": "a1cd9d98-7adb-48e4-d96a-31b04dd4a20d"
      },
      "outputs": [
        {
          "data": {
            "text/html": [
              "<div>\n",
              "<style scoped>\n",
              "    .dataframe tbody tr th:only-of-type {\n",
              "        vertical-align: middle;\n",
              "    }\n",
              "\n",
              "    .dataframe tbody tr th {\n",
              "        vertical-align: top;\n",
              "    }\n",
              "\n",
              "    .dataframe thead th {\n",
              "        text-align: right;\n",
              "    }\n",
              "</style>\n",
              "<table border=\"1\" class=\"dataframe\">\n",
              "  <thead>\n",
              "    <tr style=\"text-align: right;\">\n",
              "      <th></th>\n",
              "      <th>confirmed</th>\n",
              "      <th>deaths</th>\n",
              "      <th>recovered</th>\n",
              "      <th>active</th>\n",
              "    </tr>\n",
              "  </thead>\n",
              "  <tbody>\n",
              "    <tr>\n",
              "      <th>count</th>\n",
              "      <td>592596.00</td>\n",
              "      <td>592596.00</td>\n",
              "      <td>0.00</td>\n",
              "      <td>0.00</td>\n",
              "    </tr>\n",
              "    <tr>\n",
              "      <th>mean</th>\n",
              "      <td>24037.98</td>\n",
              "      <td>292.56</td>\n",
              "      <td>NaN</td>\n",
              "      <td>NaN</td>\n",
              "    </tr>\n",
              "    <tr>\n",
              "      <th>std</th>\n",
              "      <td>82732.07</td>\n",
              "      <td>976.03</td>\n",
              "      <td>NaN</td>\n",
              "      <td>NaN</td>\n",
              "    </tr>\n",
              "    <tr>\n",
              "      <th>min</th>\n",
              "      <td>-3073.00</td>\n",
              "      <td>-82.00</td>\n",
              "      <td>NaN</td>\n",
              "      <td>NaN</td>\n",
              "    </tr>\n",
              "    <tr>\n",
              "      <th>25%</th>\n",
              "      <td>2445.00</td>\n",
              "      <td>34.00</td>\n",
              "      <td>NaN</td>\n",
              "      <td>NaN</td>\n",
              "    </tr>\n",
              "    <tr>\n",
              "      <th>50%</th>\n",
              "      <td>6055.00</td>\n",
              "      <td>88.00</td>\n",
              "      <td>NaN</td>\n",
              "      <td>NaN</td>\n",
              "    </tr>\n",
              "    <tr>\n",
              "      <th>75%</th>\n",
              "      <td>15961.00</td>\n",
              "      <td>215.00</td>\n",
              "      <td>NaN</td>\n",
              "      <td>NaN</td>\n",
              "    </tr>\n",
              "    <tr>\n",
              "      <th>max</th>\n",
              "      <td>3118053.00</td>\n",
              "      <td>32334.00</td>\n",
              "      <td>NaN</td>\n",
              "      <td>NaN</td>\n",
              "    </tr>\n",
              "  </tbody>\n",
              "</table>\n",
              "</div>"
            ],
            "text/plain": [
              "       confirmed    deaths  recovered  active\n",
              "count  592596.00 592596.00       0.00    0.00\n",
              "mean    24037.98    292.56        NaN     NaN\n",
              "std     82732.07    976.03        NaN     NaN\n",
              "min     -3073.00    -82.00        NaN     NaN\n",
              "25%      2445.00     34.00        NaN     NaN\n",
              "50%      6055.00     88.00        NaN     NaN\n",
              "75%     15961.00    215.00        NaN     NaN\n",
              "max   3118053.00  32334.00        NaN     NaN"
            ]
          },
          "execution_count": 9,
          "metadata": {},
          "output_type": "execute_result"
        }
      ],
      "source": [
        "pd.options.display.float_format = '{:.2f}'.format\n",
        "df.describe()"
      ]
    },
    {
      "cell_type": "markdown",
      "metadata": {
        "id": "LD49mQHaBl6y"
      },
      "source": [
        "---\n",
        "### **4. Data Cleaning**\n",
        "\n",
        "As we can see that the data loaded are currently still raw, which means the data is not ready yet to be analyzed. The step before we analyze the data is to clean the data."
      ]
    },
    {
      "cell_type": "markdown",
      "metadata": {
        "id": "HQL-LLNXZhWd"
      },
      "source": [
        "**Subtituting null-value columns with the column needed**"
      ]
    },
    {
      "cell_type": "code",
      "execution_count": 10,
      "metadata": {
        "id": "s-MW_HwfVkzT"
      },
      "outputs": [],
      "source": [
        "# Removing columns with all NaN value (recovered and active)\n",
        "df.drop_duplicates()\n",
        "del df['recovered']   # run only once\n",
        "del df['active']      # run only once"
      ]
    },
    {
      "cell_type": "code",
      "execution_count": 11,
      "metadata": {
        "colab": {
          "base_uri": "https://localhost:8080/",
          "height": 424
        },
        "id": "ZttTkARmPjje",
        "outputId": "614adf66-7cf5-4491-a7d4-f79f3a31d674"
      },
      "outputs": [
        {
          "data": {
            "text/html": [
              "<div>\n",
              "<style scoped>\n",
              "    .dataframe tbody tr th:only-of-type {\n",
              "        vertical-align: middle;\n",
              "    }\n",
              "\n",
              "    .dataframe tbody tr th {\n",
              "        vertical-align: top;\n",
              "    }\n",
              "\n",
              "    .dataframe thead th {\n",
              "        text-align: right;\n",
              "    }\n",
              "</style>\n",
              "<table border=\"1\" class=\"dataframe\">\n",
              "  <thead>\n",
              "    <tr style=\"text-align: right;\">\n",
              "      <th></th>\n",
              "      <th>province_state</th>\n",
              "      <th>country_region</th>\n",
              "      <th>date_input</th>\n",
              "      <th>confirmed</th>\n",
              "      <th>deaths</th>\n",
              "      <th>non_deaths</th>\n",
              "    </tr>\n",
              "  </thead>\n",
              "  <tbody>\n",
              "    <tr>\n",
              "      <th>0</th>\n",
              "      <td>Alabama</td>\n",
              "      <td>US</td>\n",
              "      <td>2022-04-25</td>\n",
              "      <td>15814</td>\n",
              "      <td>215</td>\n",
              "      <td>15599</td>\n",
              "    </tr>\n",
              "    <tr>\n",
              "      <th>1</th>\n",
              "      <td>Alabama</td>\n",
              "      <td>US</td>\n",
              "      <td>2022-04-25</td>\n",
              "      <td>55607</td>\n",
              "      <td>680</td>\n",
              "      <td>54927</td>\n",
              "    </tr>\n",
              "    <tr>\n",
              "      <th>2</th>\n",
              "      <td>Alabama</td>\n",
              "      <td>US</td>\n",
              "      <td>2022-04-25</td>\n",
              "      <td>5661</td>\n",
              "      <td>98</td>\n",
              "      <td>5563</td>\n",
              "    </tr>\n",
              "    <tr>\n",
              "      <th>3</th>\n",
              "      <td>Alabama</td>\n",
              "      <td>US</td>\n",
              "      <td>2022-04-25</td>\n",
              "      <td>6435</td>\n",
              "      <td>104</td>\n",
              "      <td>6331</td>\n",
              "    </tr>\n",
              "    <tr>\n",
              "      <th>4</th>\n",
              "      <td>Alabama</td>\n",
              "      <td>US</td>\n",
              "      <td>2022-04-25</td>\n",
              "      <td>14967</td>\n",
              "      <td>243</td>\n",
              "      <td>14724</td>\n",
              "    </tr>\n",
              "    <tr>\n",
              "      <th>...</th>\n",
              "      <td>...</td>\n",
              "      <td>...</td>\n",
              "      <td>...</td>\n",
              "      <td>...</td>\n",
              "      <td>...</td>\n",
              "      <td>...</td>\n",
              "    </tr>\n",
              "    <tr>\n",
              "      <th>592591</th>\n",
              "      <td>Wyoming</td>\n",
              "      <td>US</td>\n",
              "      <td>2022-04-27</td>\n",
              "      <td>10009</td>\n",
              "      <td>16</td>\n",
              "      <td>9993</td>\n",
              "    </tr>\n",
              "    <tr>\n",
              "      <th>592592</th>\n",
              "      <td>Wyoming</td>\n",
              "      <td>US</td>\n",
              "      <td>2022-04-27</td>\n",
              "      <td>5627</td>\n",
              "      <td>39</td>\n",
              "      <td>5588</td>\n",
              "    </tr>\n",
              "    <tr>\n",
              "      <th>592593</th>\n",
              "      <td>Wyoming</td>\n",
              "      <td>US</td>\n",
              "      <td>2022-04-27</td>\n",
              "      <td>0</td>\n",
              "      <td>0</td>\n",
              "      <td>0</td>\n",
              "    </tr>\n",
              "    <tr>\n",
              "      <th>592594</th>\n",
              "      <td>Wyoming</td>\n",
              "      <td>US</td>\n",
              "      <td>2022-04-27</td>\n",
              "      <td>2358</td>\n",
              "      <td>44</td>\n",
              "      <td>2314</td>\n",
              "    </tr>\n",
              "    <tr>\n",
              "      <th>592595</th>\n",
              "      <td>Wyoming</td>\n",
              "      <td>US</td>\n",
              "      <td>2022-04-27</td>\n",
              "      <td>1588</td>\n",
              "      <td>18</td>\n",
              "      <td>1570</td>\n",
              "    </tr>\n",
              "  </tbody>\n",
              "</table>\n",
              "<p>592596 rows × 6 columns</p>\n",
              "</div>"
            ],
            "text/plain": [
              "       province_state country_region  date_input  confirmed  deaths  \\\n",
              "0             Alabama             US  2022-04-25      15814     215   \n",
              "1             Alabama             US  2022-04-25      55607     680   \n",
              "2             Alabama             US  2022-04-25       5661      98   \n",
              "3             Alabama             US  2022-04-25       6435     104   \n",
              "4             Alabama             US  2022-04-25      14967     243   \n",
              "...               ...            ...         ...        ...     ...   \n",
              "592591        Wyoming             US  2022-04-27      10009      16   \n",
              "592592        Wyoming             US  2022-04-27       5627      39   \n",
              "592593        Wyoming             US  2022-04-27          0       0   \n",
              "592594        Wyoming             US  2022-04-27       2358      44   \n",
              "592595        Wyoming             US  2022-04-27       1588      18   \n",
              "\n",
              "        non_deaths  \n",
              "0            15599  \n",
              "1            54927  \n",
              "2             5563  \n",
              "3             6331  \n",
              "4            14724  \n",
              "...            ...  \n",
              "592591        9993  \n",
              "592592        5588  \n",
              "592593           0  \n",
              "592594        2314  \n",
              "592595        1570  \n",
              "\n",
              "[592596 rows x 6 columns]"
            ]
          },
          "execution_count": 11,
          "metadata": {},
          "output_type": "execute_result"
        }
      ],
      "source": [
        "# Adding new columns, between two columns substraction:\n",
        "df[\"non_deaths\"]= df[\"confirmed\"] - df[\"deaths\"]\n",
        "\n",
        "# Show raw dataframe\n",
        "df"
      ]
    },
    {
      "cell_type": "markdown",
      "metadata": {
        "id": "ob48bjILNqcA"
      },
      "source": [
        "**Data description:**\n",
        "\n",
        "Header | Definition\n",
        "---|---\n",
        "`province_state` | States in the US\n",
        "`country_region` | Country\n",
        "`date_input` | Date when the data was being input\n",
        "`confirmed` | The sum of confirmed COVID-19 cases, which includes deaths, recovered, and active\n",
        "`deaths` | Number of people died from COVID-19\n",
        "`non_deaths` | The sum of `recovered` and `active` since there is no data available from the source"
      ]
    },
    {
      "cell_type": "code",
      "execution_count": 12,
      "metadata": {
        "colab": {
          "base_uri": "https://localhost:8080/"
        },
        "id": "55WezbCII9Hf",
        "outputId": "7bd5f406-487b-47cd-8eea-accd3bba2d65"
      },
      "outputs": [
        {
          "data": {
            "text/plain": [
              "array(['Alabama', 'Alaska', 'American Samoa', 'Arizona', 'Arkansas',\n",
              "       'California', 'Colorado', 'Connecticut', 'Delaware',\n",
              "       'Diamond Princess', 'District of Columbia', 'Florida', 'Georgia',\n",
              "       'Grand Princess', 'Guam', 'Hawaii', 'Idaho', 'Illinois', 'Indiana',\n",
              "       'Iowa', 'Kansas', 'Kentucky', 'Louisiana', 'Maine', 'Maryland',\n",
              "       'Massachusetts', 'Michigan', 'Minnesota', 'Mississippi',\n",
              "       'Missouri', 'Montana', 'Nebraska', 'Nevada', 'New Hampshire',\n",
              "       'New Jersey', 'New Mexico', 'New York', 'North Carolina',\n",
              "       'North Dakota', 'Northern Mariana Islands', 'Ohio', 'Oklahoma',\n",
              "       'Oregon', 'Pennsylvania', 'Puerto Rico', 'Recovered',\n",
              "       'Rhode Island', 'South Carolina', 'South Dakota', 'Tennessee',\n",
              "       'Texas', 'Utah', 'Vermont', 'Virgin Islands', 'Virginia',\n",
              "       'Washington', 'West Virginia', 'Wisconsin', 'Wyoming'],\n",
              "      dtype=object)"
            ]
          },
          "execution_count": 12,
          "metadata": {},
          "output_type": "execute_result"
        }
      ],
      "source": [
        "# Checking index loaded:\n",
        "df['province_state'].unique()"
      ]
    },
    {
      "cell_type": "markdown",
      "metadata": {
        "id": "BxAHkD_9TyAP"
      },
      "source": [
        "**Removing irrelevant data based on rows (index)**\n",
        "\n",
        "From here, we can see the number of data is `592596 rows × 6 columns`. However, we need to delete some rows that should not be included in the dataframe. The irrelevant rows/index that are not included as 50 states in the USA (in this case, `df` has rows (index) such as `Recovered`, `Guam`, `Diamond Princess`, etc.) are removed, using `isin` method.\n",
        "\n",
        "From there, we can get the reduced number of rows: `576744 rows × 6 columns`\n",
        "\n",
        "`isin`: https://pandas.pydata.org/pandas-docs/stable/reference/api/pandas.Series.isin.html"
      ]
    },
    {
      "cell_type": "code",
      "execution_count": 13,
      "metadata": {
        "id": "7Tjj5lZHC_Vl"
      },
      "outputs": [],
      "source": [
        "# Making 50 states:\n",
        "state_list = ['Alabama','Alaska','Arizona','Arkansas','California','Colorado','Connecticut','Delaware','Florida','Georgia','Hawaii','Idaho','Illinois','Indiana','Iowa','Kansas','Kentucky','Louisiana','Maine','Maryland','Massachusetts','Michigan','Minnesota','Mississippi','Missouri','Montana','Nebraska','Nevada','New Hampshire','New Jersey','New Mexico','New York','North Carolina','North Dakota','Ohio','Oklahoma','Oregon','Pennsylvania','Rhode Island','South Carolina','South Dakota','Tennessee','Texas','Utah','Vermont','Virginia','Washington','West Virginia','Wisconsin','Wyoming']"
      ]
    },
    {
      "cell_type": "code",
      "execution_count": 14,
      "metadata": {
        "colab": {
          "base_uri": "https://localhost:8080/",
          "height": 424
        },
        "id": "1T719NeOEMZ0",
        "outputId": "77f220c7-faaf-421a-b235-cc567d092f33"
      },
      "outputs": [
        {
          "data": {
            "text/html": [
              "<div>\n",
              "<style scoped>\n",
              "    .dataframe tbody tr th:only-of-type {\n",
              "        vertical-align: middle;\n",
              "    }\n",
              "\n",
              "    .dataframe tbody tr th {\n",
              "        vertical-align: top;\n",
              "    }\n",
              "\n",
              "    .dataframe thead th {\n",
              "        text-align: right;\n",
              "    }\n",
              "</style>\n",
              "<table border=\"1\" class=\"dataframe\">\n",
              "  <thead>\n",
              "    <tr style=\"text-align: right;\">\n",
              "      <th></th>\n",
              "      <th>province_state</th>\n",
              "      <th>country_region</th>\n",
              "      <th>date_input</th>\n",
              "      <th>confirmed</th>\n",
              "      <th>deaths</th>\n",
              "      <th>non_deaths</th>\n",
              "    </tr>\n",
              "  </thead>\n",
              "  <tbody>\n",
              "    <tr>\n",
              "      <th>0</th>\n",
              "      <td>Alabama</td>\n",
              "      <td>US</td>\n",
              "      <td>2022-04-25</td>\n",
              "      <td>15814</td>\n",
              "      <td>215</td>\n",
              "      <td>15599</td>\n",
              "    </tr>\n",
              "    <tr>\n",
              "      <th>1</th>\n",
              "      <td>Alabama</td>\n",
              "      <td>US</td>\n",
              "      <td>2022-04-25</td>\n",
              "      <td>55607</td>\n",
              "      <td>680</td>\n",
              "      <td>54927</td>\n",
              "    </tr>\n",
              "    <tr>\n",
              "      <th>2</th>\n",
              "      <td>Alabama</td>\n",
              "      <td>US</td>\n",
              "      <td>2022-04-25</td>\n",
              "      <td>5661</td>\n",
              "      <td>98</td>\n",
              "      <td>5563</td>\n",
              "    </tr>\n",
              "    <tr>\n",
              "      <th>3</th>\n",
              "      <td>Alabama</td>\n",
              "      <td>US</td>\n",
              "      <td>2022-04-25</td>\n",
              "      <td>6435</td>\n",
              "      <td>104</td>\n",
              "      <td>6331</td>\n",
              "    </tr>\n",
              "    <tr>\n",
              "      <th>4</th>\n",
              "      <td>Alabama</td>\n",
              "      <td>US</td>\n",
              "      <td>2022-04-25</td>\n",
              "      <td>14967</td>\n",
              "      <td>243</td>\n",
              "      <td>14724</td>\n",
              "    </tr>\n",
              "    <tr>\n",
              "      <th>...</th>\n",
              "      <td>...</td>\n",
              "      <td>...</td>\n",
              "      <td>...</td>\n",
              "      <td>...</td>\n",
              "      <td>...</td>\n",
              "      <td>...</td>\n",
              "    </tr>\n",
              "    <tr>\n",
              "      <th>592591</th>\n",
              "      <td>Wyoming</td>\n",
              "      <td>US</td>\n",
              "      <td>2022-04-27</td>\n",
              "      <td>10009</td>\n",
              "      <td>16</td>\n",
              "      <td>9993</td>\n",
              "    </tr>\n",
              "    <tr>\n",
              "      <th>592592</th>\n",
              "      <td>Wyoming</td>\n",
              "      <td>US</td>\n",
              "      <td>2022-04-27</td>\n",
              "      <td>5627</td>\n",
              "      <td>39</td>\n",
              "      <td>5588</td>\n",
              "    </tr>\n",
              "    <tr>\n",
              "      <th>592593</th>\n",
              "      <td>Wyoming</td>\n",
              "      <td>US</td>\n",
              "      <td>2022-04-27</td>\n",
              "      <td>0</td>\n",
              "      <td>0</td>\n",
              "      <td>0</td>\n",
              "    </tr>\n",
              "    <tr>\n",
              "      <th>592594</th>\n",
              "      <td>Wyoming</td>\n",
              "      <td>US</td>\n",
              "      <td>2022-04-27</td>\n",
              "      <td>2358</td>\n",
              "      <td>44</td>\n",
              "      <td>2314</td>\n",
              "    </tr>\n",
              "    <tr>\n",
              "      <th>592595</th>\n",
              "      <td>Wyoming</td>\n",
              "      <td>US</td>\n",
              "      <td>2022-04-27</td>\n",
              "      <td>1588</td>\n",
              "      <td>18</td>\n",
              "      <td>1570</td>\n",
              "    </tr>\n",
              "  </tbody>\n",
              "</table>\n",
              "<p>576744 rows × 6 columns</p>\n",
              "</div>"
            ],
            "text/plain": [
              "       province_state country_region  date_input  confirmed  deaths  \\\n",
              "0             Alabama             US  2022-04-25      15814     215   \n",
              "1             Alabama             US  2022-04-25      55607     680   \n",
              "2             Alabama             US  2022-04-25       5661      98   \n",
              "3             Alabama             US  2022-04-25       6435     104   \n",
              "4             Alabama             US  2022-04-25      14967     243   \n",
              "...               ...            ...         ...        ...     ...   \n",
              "592591        Wyoming             US  2022-04-27      10009      16   \n",
              "592592        Wyoming             US  2022-04-27       5627      39   \n",
              "592593        Wyoming             US  2022-04-27          0       0   \n",
              "592594        Wyoming             US  2022-04-27       2358      44   \n",
              "592595        Wyoming             US  2022-04-27       1588      18   \n",
              "\n",
              "        non_deaths  \n",
              "0            15599  \n",
              "1            54927  \n",
              "2             5563  \n",
              "3             6331  \n",
              "4            14724  \n",
              "...            ...  \n",
              "592591        9993  \n",
              "592592        5588  \n",
              "592593           0  \n",
              "592594        2314  \n",
              "592595        1570  \n",
              "\n",
              "[576744 rows x 6 columns]"
            ]
          },
          "execution_count": 14,
          "metadata": {},
          "output_type": "execute_result"
        }
      ],
      "source": [
        "# Defining new and clean DataFrame\n",
        "selection = df['province_state'].isin(state_list)\n",
        "df_states = df[selection]\n",
        "df_states"
      ]
    },
    {
      "cell_type": "code",
      "execution_count": 15,
      "metadata": {
        "colab": {
          "base_uri": "https://localhost:8080/"
        },
        "id": "0uwTjrDZVJ94",
        "outputId": "3b2c94ec-90db-4bed-c938-7dc698af89d6"
      },
      "outputs": [
        {
          "data": {
            "text/plain": [
              "array(['Alabama', 'Alaska', 'Arizona', 'Arkansas', 'California',\n",
              "       'Colorado', 'Connecticut', 'Delaware', 'Florida', 'Georgia',\n",
              "       'Hawaii', 'Idaho', 'Illinois', 'Indiana', 'Iowa', 'Kansas',\n",
              "       'Kentucky', 'Louisiana', 'Maine', 'Maryland', 'Massachusetts',\n",
              "       'Michigan', 'Minnesota', 'Mississippi', 'Missouri', 'Montana',\n",
              "       'Nebraska', 'Nevada', 'New Hampshire', 'New Jersey', 'New Mexico',\n",
              "       'New York', 'North Carolina', 'North Dakota', 'Ohio', 'Oklahoma',\n",
              "       'Oregon', 'Pennsylvania', 'Rhode Island', 'South Carolina',\n",
              "       'South Dakota', 'Tennessee', 'Texas', 'Utah', 'Vermont',\n",
              "       'Virginia', 'Washington', 'West Virginia', 'Wisconsin', 'Wyoming'],\n",
              "      dtype=object)"
            ]
          },
          "execution_count": 15,
          "metadata": {},
          "output_type": "execute_result"
        }
      ],
      "source": [
        "# Checking if there is no irrelevant items outside the states:\n",
        "df_states['province_state'].unique()"
      ]
    },
    {
      "cell_type": "markdown",
      "metadata": {
        "id": "7jEjEHlijVZ_"
      },
      "source": [
        "**Removing negative or error values**"
      ]
    },
    {
      "cell_type": "code",
      "execution_count": 16,
      "metadata": {
        "colab": {
          "base_uri": "https://localhost:8080/",
          "height": 424
        },
        "id": "7wUbrLq8hjH3",
        "outputId": "aceb4364-0e3a-496b-f83e-9bb79ab69c7f"
      },
      "outputs": [
        {
          "data": {
            "text/html": [
              "<div>\n",
              "<style scoped>\n",
              "    .dataframe tbody tr th:only-of-type {\n",
              "        vertical-align: middle;\n",
              "    }\n",
              "\n",
              "    .dataframe tbody tr th {\n",
              "        vertical-align: top;\n",
              "    }\n",
              "\n",
              "    .dataframe thead th {\n",
              "        text-align: right;\n",
              "    }\n",
              "</style>\n",
              "<table border=\"1\" class=\"dataframe\">\n",
              "  <thead>\n",
              "    <tr style=\"text-align: right;\">\n",
              "      <th></th>\n",
              "      <th>province_state</th>\n",
              "      <th>country_region</th>\n",
              "      <th>date_input</th>\n",
              "      <th>confirmed</th>\n",
              "      <th>deaths</th>\n",
              "      <th>non_deaths</th>\n",
              "    </tr>\n",
              "  </thead>\n",
              "  <tbody>\n",
              "    <tr>\n",
              "      <th>0</th>\n",
              "      <td>Alabama</td>\n",
              "      <td>US</td>\n",
              "      <td>2022-04-25</td>\n",
              "      <td>15814</td>\n",
              "      <td>215</td>\n",
              "      <td>15599</td>\n",
              "    </tr>\n",
              "    <tr>\n",
              "      <th>1</th>\n",
              "      <td>Alabama</td>\n",
              "      <td>US</td>\n",
              "      <td>2022-04-25</td>\n",
              "      <td>55607</td>\n",
              "      <td>680</td>\n",
              "      <td>54927</td>\n",
              "    </tr>\n",
              "    <tr>\n",
              "      <th>2</th>\n",
              "      <td>Alabama</td>\n",
              "      <td>US</td>\n",
              "      <td>2022-04-25</td>\n",
              "      <td>5661</td>\n",
              "      <td>98</td>\n",
              "      <td>5563</td>\n",
              "    </tr>\n",
              "    <tr>\n",
              "      <th>3</th>\n",
              "      <td>Alabama</td>\n",
              "      <td>US</td>\n",
              "      <td>2022-04-25</td>\n",
              "      <td>6435</td>\n",
              "      <td>104</td>\n",
              "      <td>6331</td>\n",
              "    </tr>\n",
              "    <tr>\n",
              "      <th>4</th>\n",
              "      <td>Alabama</td>\n",
              "      <td>US</td>\n",
              "      <td>2022-04-25</td>\n",
              "      <td>14967</td>\n",
              "      <td>243</td>\n",
              "      <td>14724</td>\n",
              "    </tr>\n",
              "    <tr>\n",
              "      <th>...</th>\n",
              "      <td>...</td>\n",
              "      <td>...</td>\n",
              "      <td>...</td>\n",
              "      <td>...</td>\n",
              "      <td>...</td>\n",
              "      <td>...</td>\n",
              "    </tr>\n",
              "    <tr>\n",
              "      <th>592591</th>\n",
              "      <td>Wyoming</td>\n",
              "      <td>US</td>\n",
              "      <td>2022-04-27</td>\n",
              "      <td>10009</td>\n",
              "      <td>16</td>\n",
              "      <td>9993</td>\n",
              "    </tr>\n",
              "    <tr>\n",
              "      <th>592592</th>\n",
              "      <td>Wyoming</td>\n",
              "      <td>US</td>\n",
              "      <td>2022-04-27</td>\n",
              "      <td>5627</td>\n",
              "      <td>39</td>\n",
              "      <td>5588</td>\n",
              "    </tr>\n",
              "    <tr>\n",
              "      <th>592593</th>\n",
              "      <td>Wyoming</td>\n",
              "      <td>US</td>\n",
              "      <td>2022-04-27</td>\n",
              "      <td>0</td>\n",
              "      <td>0</td>\n",
              "      <td>0</td>\n",
              "    </tr>\n",
              "    <tr>\n",
              "      <th>592594</th>\n",
              "      <td>Wyoming</td>\n",
              "      <td>US</td>\n",
              "      <td>2022-04-27</td>\n",
              "      <td>2358</td>\n",
              "      <td>44</td>\n",
              "      <td>2314</td>\n",
              "    </tr>\n",
              "    <tr>\n",
              "      <th>592595</th>\n",
              "      <td>Wyoming</td>\n",
              "      <td>US</td>\n",
              "      <td>2022-04-27</td>\n",
              "      <td>1588</td>\n",
              "      <td>18</td>\n",
              "      <td>1570</td>\n",
              "    </tr>\n",
              "  </tbody>\n",
              "</table>\n",
              "<p>575658 rows × 6 columns</p>\n",
              "</div>"
            ],
            "text/plain": [
              "       province_state country_region  date_input  confirmed  deaths  \\\n",
              "0             Alabama             US  2022-04-25      15814     215   \n",
              "1             Alabama             US  2022-04-25      55607     680   \n",
              "2             Alabama             US  2022-04-25       5661      98   \n",
              "3             Alabama             US  2022-04-25       6435     104   \n",
              "4             Alabama             US  2022-04-25      14967     243   \n",
              "...               ...            ...         ...        ...     ...   \n",
              "592591        Wyoming             US  2022-04-27      10009      16   \n",
              "592592        Wyoming             US  2022-04-27       5627      39   \n",
              "592593        Wyoming             US  2022-04-27          0       0   \n",
              "592594        Wyoming             US  2022-04-27       2358      44   \n",
              "592595        Wyoming             US  2022-04-27       1588      18   \n",
              "\n",
              "        non_deaths  \n",
              "0            15599  \n",
              "1            54927  \n",
              "2             5563  \n",
              "3             6331  \n",
              "4            14724  \n",
              "...            ...  \n",
              "592591        9993  \n",
              "592592        5588  \n",
              "592593           0  \n",
              "592594        2314  \n",
              "592595        1570  \n",
              "\n",
              "[575658 rows x 6 columns]"
            ]
          },
          "execution_count": 16,
          "metadata": {},
          "output_type": "execute_result"
        }
      ],
      "source": [
        "# Removing negatives values\n",
        "df_states = df_states[df_states['confirmed'] & df_states['deaths'] & df_states['non_deaths'] >= 0]\n",
        "df_states = df_states[df_states['non_deaths'] >= 0]\n",
        "df_states"
      ]
    },
    {
      "cell_type": "code",
      "execution_count": 17,
      "metadata": {
        "colab": {
          "base_uri": "https://localhost:8080/"
        },
        "id": "rJLvpt_Vgl_d",
        "outputId": "133083cc-0e6c-4bb1-9437-5252f12a0172"
      },
      "outputs": [
        {
          "data": {
            "text/plain": [
              "province_state       Alabama\n",
              "country_region            US\n",
              "date_input        2022-01-01\n",
              "confirmed                  0\n",
              "deaths                     0\n",
              "non_deaths                 0\n",
              "dtype: object"
            ]
          },
          "execution_count": 17,
          "metadata": {},
          "output_type": "execute_result"
        }
      ],
      "source": [
        "# Checking if there is a negative value\n",
        "df_states.min()"
      ]
    },
    {
      "cell_type": "markdown",
      "metadata": {
        "id": "RWFQ_2qRYTIc"
      },
      "source": [
        "**Validating after cleaning the data**\n",
        "\n",
        "Validation after cleaning the data is important to check if there is no irrelevant and duplicate data, unwanted outliers, missing data, and structural errors. Moreover, we can also find the basic statistics from the data by using `.describe()` to check if the calculation results make sense."
      ]
    },
    {
      "cell_type": "code",
      "execution_count": 18,
      "metadata": {
        "colab": {
          "base_uri": "https://localhost:8080/"
        },
        "id": "dfch-kt6LyUf",
        "outputId": "62f1977d-46a4-471b-cc44-8bcfbd7d3878"
      },
      "outputs": [
        {
          "data": {
            "text/plain": [
              "(575658, 6)"
            ]
          },
          "execution_count": 18,
          "metadata": {},
          "output_type": "execute_result"
        }
      ],
      "source": [
        "# Checking how many rows and columns that has been loaded:\n",
        "df_states.shape"
      ]
    },
    {
      "cell_type": "code",
      "execution_count": 19,
      "metadata": {
        "colab": {
          "base_uri": "https://localhost:8080/"
        },
        "id": "fszO0skiVzqJ",
        "outputId": "384c1802-64d9-4eff-dd4d-553e2c20a680"
      },
      "outputs": [
        {
          "name": "stdout",
          "output_type": "stream",
          "text": [
            "<class 'pandas.core.frame.DataFrame'>\n",
            "Int64Index: 575658 entries, 0 to 592595\n",
            "Data columns (total 6 columns):\n",
            " #   Column          Non-Null Count   Dtype \n",
            "---  ------          --------------   ----- \n",
            " 0   province_state  575658 non-null  object\n",
            " 1   country_region  575658 non-null  object\n",
            " 2   date_input      575658 non-null  object\n",
            " 3   confirmed       575658 non-null  int64 \n",
            " 4   deaths          575658 non-null  int64 \n",
            " 5   non_deaths      575658 non-null  int64 \n",
            "dtypes: int64(3), object(3)\n",
            "memory usage: 30.7+ MB\n"
          ]
        }
      ],
      "source": [
        "df_states.info()"
      ]
    },
    {
      "cell_type": "code",
      "execution_count": 20,
      "metadata": {
        "colab": {
          "base_uri": "https://localhost:8080/",
          "height": 300
        },
        "id": "7dIF4XzxVy1z",
        "outputId": "1de3546e-ba49-439f-9aa5-05ec3bb0989c"
      },
      "outputs": [
        {
          "data": {
            "text/html": [
              "<div>\n",
              "<style scoped>\n",
              "    .dataframe tbody tr th:only-of-type {\n",
              "        vertical-align: middle;\n",
              "    }\n",
              "\n",
              "    .dataframe tbody tr th {\n",
              "        vertical-align: top;\n",
              "    }\n",
              "\n",
              "    .dataframe thead th {\n",
              "        text-align: right;\n",
              "    }\n",
              "</style>\n",
              "<table border=\"1\" class=\"dataframe\">\n",
              "  <thead>\n",
              "    <tr style=\"text-align: right;\">\n",
              "      <th></th>\n",
              "      <th>confirmed</th>\n",
              "      <th>deaths</th>\n",
              "      <th>non_deaths</th>\n",
              "    </tr>\n",
              "  </thead>\n",
              "  <tbody>\n",
              "    <tr>\n",
              "      <th>count</th>\n",
              "      <td>575658.00</td>\n",
              "      <td>575658.00</td>\n",
              "      <td>575658.00</td>\n",
              "    </tr>\n",
              "    <tr>\n",
              "      <th>mean</th>\n",
              "      <td>24513.47</td>\n",
              "      <td>297.73</td>\n",
              "      <td>24215.73</td>\n",
              "    </tr>\n",
              "    <tr>\n",
              "      <th>std</th>\n",
              "      <td>83847.10</td>\n",
              "      <td>983.12</td>\n",
              "      <td>82901.66</td>\n",
              "    </tr>\n",
              "    <tr>\n",
              "      <th>min</th>\n",
              "      <td>0.00</td>\n",
              "      <td>0.00</td>\n",
              "      <td>0.00</td>\n",
              "    </tr>\n",
              "    <tr>\n",
              "      <th>25%</th>\n",
              "      <td>2462.00</td>\n",
              "      <td>38.00</td>\n",
              "      <td>2416.00</td>\n",
              "    </tr>\n",
              "    <tr>\n",
              "      <th>50%</th>\n",
              "      <td>6161.00</td>\n",
              "      <td>92.00</td>\n",
              "      <td>6074.00</td>\n",
              "    </tr>\n",
              "    <tr>\n",
              "      <th>75%</th>\n",
              "      <td>16457.75</td>\n",
              "      <td>221.00</td>\n",
              "      <td>16236.00</td>\n",
              "    </tr>\n",
              "    <tr>\n",
              "      <th>max</th>\n",
              "      <td>3118053.00</td>\n",
              "      <td>32334.00</td>\n",
              "      <td>3085719.00</td>\n",
              "    </tr>\n",
              "  </tbody>\n",
              "</table>\n",
              "</div>"
            ],
            "text/plain": [
              "       confirmed    deaths  non_deaths\n",
              "count  575658.00 575658.00   575658.00\n",
              "mean    24513.47    297.73    24215.73\n",
              "std     83847.10    983.12    82901.66\n",
              "min         0.00      0.00        0.00\n",
              "25%      2462.00     38.00     2416.00\n",
              "50%      6161.00     92.00     6074.00\n",
              "75%     16457.75    221.00    16236.00\n",
              "max   3118053.00  32334.00  3085719.00"
            ]
          },
          "execution_count": 20,
          "metadata": {},
          "output_type": "execute_result"
        }
      ],
      "source": [
        "pd.options.display.float_format = '{:.2f}'.format\n",
        "df_states.describe()"
      ]
    },
    {
      "cell_type": "markdown",
      "metadata": {
        "id": "k7GLcWScCSln"
      },
      "source": [
        "---\n",
        "### **5. Data Exploration**\n",
        "\n",
        "Data exploration part is to analyze after the data is cleaned. For this part, there are 3 steps to do. First, seperating data into three queries based on the date. Next, aggregating data using pandas. And finally, the data will show visualization or plots."
      ]
    },
    {
      "cell_type": "markdown",
      "metadata": {
        "id": "f8PMHF95mYv9"
      },
      "source": [
        "**Seperating Data into 3 Queries**\n",
        "\n",
        "The seperation is based on the date.\n",
        "```\n",
        "- First query: January-February 2022\n",
        "- Second query: March-April 2022\n",
        "- Third query: May-June 2022\n",
        "```"
      ]
    },
    {
      "cell_type": "code",
      "execution_count": 21,
      "metadata": {
        "colab": {
          "base_uri": "https://localhost:8080/",
          "height": 424
        },
        "id": "p7ZC0M4r04Uw",
        "outputId": "421e06e4-f98b-40f1-ca32-e0a1a33b3375"
      },
      "outputs": [
        {
          "data": {
            "text/html": [
              "<div>\n",
              "<style scoped>\n",
              "    .dataframe tbody tr th:only-of-type {\n",
              "        vertical-align: middle;\n",
              "    }\n",
              "\n",
              "    .dataframe tbody tr th {\n",
              "        vertical-align: top;\n",
              "    }\n",
              "\n",
              "    .dataframe thead th {\n",
              "        text-align: right;\n",
              "    }\n",
              "</style>\n",
              "<table border=\"1\" class=\"dataframe\">\n",
              "  <thead>\n",
              "    <tr style=\"text-align: right;\">\n",
              "      <th></th>\n",
              "      <th>province_state</th>\n",
              "      <th>country_region</th>\n",
              "      <th>date_input</th>\n",
              "      <th>confirmed</th>\n",
              "      <th>deaths</th>\n",
              "      <th>non_deaths</th>\n",
              "    </tr>\n",
              "  </thead>\n",
              "  <tbody>\n",
              "    <tr>\n",
              "      <th>136</th>\n",
              "      <td>Alabama</td>\n",
              "      <td>US</td>\n",
              "      <td>2022-02-09</td>\n",
              "      <td>15121</td>\n",
              "      <td>173</td>\n",
              "      <td>14948</td>\n",
              "    </tr>\n",
              "    <tr>\n",
              "      <th>137</th>\n",
              "      <td>Alabama</td>\n",
              "      <td>US</td>\n",
              "      <td>2022-02-09</td>\n",
              "      <td>54095</td>\n",
              "      <td>626</td>\n",
              "      <td>53469</td>\n",
              "    </tr>\n",
              "    <tr>\n",
              "      <th>138</th>\n",
              "      <td>Alabama</td>\n",
              "      <td>US</td>\n",
              "      <td>2022-02-09</td>\n",
              "      <td>5380</td>\n",
              "      <td>85</td>\n",
              "      <td>5295</td>\n",
              "    </tr>\n",
              "    <tr>\n",
              "      <th>139</th>\n",
              "      <td>Alabama</td>\n",
              "      <td>US</td>\n",
              "      <td>2022-02-09</td>\n",
              "      <td>6267</td>\n",
              "      <td>96</td>\n",
              "      <td>6171</td>\n",
              "    </tr>\n",
              "    <tr>\n",
              "      <th>140</th>\n",
              "      <td>Alabama</td>\n",
              "      <td>US</td>\n",
              "      <td>2022-02-09</td>\n",
              "      <td>14447</td>\n",
              "      <td>212</td>\n",
              "      <td>14235</td>\n",
              "    </tr>\n",
              "    <tr>\n",
              "      <th>...</th>\n",
              "      <td>...</td>\n",
              "      <td>...</td>\n",
              "      <td>...</td>\n",
              "      <td>...</td>\n",
              "      <td>...</td>\n",
              "      <td>...</td>\n",
              "    </tr>\n",
              "    <tr>\n",
              "      <th>592567</th>\n",
              "      <td>Wyoming</td>\n",
              "      <td>US</td>\n",
              "      <td>2022-01-27</td>\n",
              "      <td>9195</td>\n",
              "      <td>15</td>\n",
              "      <td>9180</td>\n",
              "    </tr>\n",
              "    <tr>\n",
              "      <th>592568</th>\n",
              "      <td>Wyoming</td>\n",
              "      <td>US</td>\n",
              "      <td>2022-01-27</td>\n",
              "      <td>5222</td>\n",
              "      <td>34</td>\n",
              "      <td>5188</td>\n",
              "    </tr>\n",
              "    <tr>\n",
              "      <th>592569</th>\n",
              "      <td>Wyoming</td>\n",
              "      <td>US</td>\n",
              "      <td>2022-01-27</td>\n",
              "      <td>0</td>\n",
              "      <td>0</td>\n",
              "      <td>0</td>\n",
              "    </tr>\n",
              "    <tr>\n",
              "      <th>592570</th>\n",
              "      <td>Wyoming</td>\n",
              "      <td>US</td>\n",
              "      <td>2022-01-27</td>\n",
              "      <td>2130</td>\n",
              "      <td>41</td>\n",
              "      <td>2089</td>\n",
              "    </tr>\n",
              "    <tr>\n",
              "      <th>592571</th>\n",
              "      <td>Wyoming</td>\n",
              "      <td>US</td>\n",
              "      <td>2022-01-27</td>\n",
              "      <td>1426</td>\n",
              "      <td>16</td>\n",
              "      <td>1410</td>\n",
              "    </tr>\n",
              "  </tbody>\n",
              "</table>\n",
              "<p>187705 rows × 6 columns</p>\n",
              "</div>"
            ],
            "text/plain": [
              "       province_state country_region  date_input  confirmed  deaths  \\\n",
              "136           Alabama             US  2022-02-09      15121     173   \n",
              "137           Alabama             US  2022-02-09      54095     626   \n",
              "138           Alabama             US  2022-02-09       5380      85   \n",
              "139           Alabama             US  2022-02-09       6267      96   \n",
              "140           Alabama             US  2022-02-09      14447     212   \n",
              "...               ...            ...         ...        ...     ...   \n",
              "592567        Wyoming             US  2022-01-27       9195      15   \n",
              "592568        Wyoming             US  2022-01-27       5222      34   \n",
              "592569        Wyoming             US  2022-01-27          0       0   \n",
              "592570        Wyoming             US  2022-01-27       2130      41   \n",
              "592571        Wyoming             US  2022-01-27       1426      16   \n",
              "\n",
              "        non_deaths  \n",
              "136          14948  \n",
              "137          53469  \n",
              "138           5295  \n",
              "139           6171  \n",
              "140          14235  \n",
              "...            ...  \n",
              "592567        9180  \n",
              "592568        5188  \n",
              "592569           0  \n",
              "592570        2089  \n",
              "592571        1410  \n",
              "\n",
              "[187705 rows x 6 columns]"
            ]
          },
          "execution_count": 21,
          "metadata": {},
          "output_type": "execute_result"
        }
      ],
      "source": [
        "# Create new dataframe based on states in January-February 2022\n",
        "df_janfeb = df_states[(df_states['date_input'] >= '2022-01-01') & (df_states['date_input'] <= '2022-02-28')]\n",
        "df_janfeb"
      ]
    },
    {
      "cell_type": "code",
      "execution_count": 22,
      "metadata": {
        "colab": {
          "base_uri": "https://localhost:8080/",
          "height": 424
        },
        "id": "sMyFYbCSrEqb",
        "outputId": "ef56e45d-bfb3-401a-87f8-ab9da9188807"
      },
      "outputs": [
        {
          "data": {
            "text/html": [
              "<div>\n",
              "<style scoped>\n",
              "    .dataframe tbody tr th:only-of-type {\n",
              "        vertical-align: middle;\n",
              "    }\n",
              "\n",
              "    .dataframe tbody tr th {\n",
              "        vertical-align: top;\n",
              "    }\n",
              "\n",
              "    .dataframe thead th {\n",
              "        text-align: right;\n",
              "    }\n",
              "</style>\n",
              "<table border=\"1\" class=\"dataframe\">\n",
              "  <thead>\n",
              "    <tr style=\"text-align: right;\">\n",
              "      <th></th>\n",
              "      <th>province_state</th>\n",
              "      <th>country_region</th>\n",
              "      <th>date_input</th>\n",
              "      <th>confirmed</th>\n",
              "      <th>deaths</th>\n",
              "      <th>non_deaths</th>\n",
              "    </tr>\n",
              "  </thead>\n",
              "  <tbody>\n",
              "    <tr>\n",
              "      <th>0</th>\n",
              "      <td>Alabama</td>\n",
              "      <td>US</td>\n",
              "      <td>2022-04-25</td>\n",
              "      <td>15814</td>\n",
              "      <td>215</td>\n",
              "      <td>15599</td>\n",
              "    </tr>\n",
              "    <tr>\n",
              "      <th>1</th>\n",
              "      <td>Alabama</td>\n",
              "      <td>US</td>\n",
              "      <td>2022-04-25</td>\n",
              "      <td>55607</td>\n",
              "      <td>680</td>\n",
              "      <td>54927</td>\n",
              "    </tr>\n",
              "    <tr>\n",
              "      <th>2</th>\n",
              "      <td>Alabama</td>\n",
              "      <td>US</td>\n",
              "      <td>2022-04-25</td>\n",
              "      <td>5661</td>\n",
              "      <td>98</td>\n",
              "      <td>5563</td>\n",
              "    </tr>\n",
              "    <tr>\n",
              "      <th>3</th>\n",
              "      <td>Alabama</td>\n",
              "      <td>US</td>\n",
              "      <td>2022-04-25</td>\n",
              "      <td>6435</td>\n",
              "      <td>104</td>\n",
              "      <td>6331</td>\n",
              "    </tr>\n",
              "    <tr>\n",
              "      <th>4</th>\n",
              "      <td>Alabama</td>\n",
              "      <td>US</td>\n",
              "      <td>2022-04-25</td>\n",
              "      <td>14967</td>\n",
              "      <td>243</td>\n",
              "      <td>14724</td>\n",
              "    </tr>\n",
              "    <tr>\n",
              "      <th>...</th>\n",
              "      <td>...</td>\n",
              "      <td>...</td>\n",
              "      <td>...</td>\n",
              "      <td>...</td>\n",
              "      <td>...</td>\n",
              "      <td>...</td>\n",
              "    </tr>\n",
              "    <tr>\n",
              "      <th>592591</th>\n",
              "      <td>Wyoming</td>\n",
              "      <td>US</td>\n",
              "      <td>2022-04-27</td>\n",
              "      <td>10009</td>\n",
              "      <td>16</td>\n",
              "      <td>9993</td>\n",
              "    </tr>\n",
              "    <tr>\n",
              "      <th>592592</th>\n",
              "      <td>Wyoming</td>\n",
              "      <td>US</td>\n",
              "      <td>2022-04-27</td>\n",
              "      <td>5627</td>\n",
              "      <td>39</td>\n",
              "      <td>5588</td>\n",
              "    </tr>\n",
              "    <tr>\n",
              "      <th>592593</th>\n",
              "      <td>Wyoming</td>\n",
              "      <td>US</td>\n",
              "      <td>2022-04-27</td>\n",
              "      <td>0</td>\n",
              "      <td>0</td>\n",
              "      <td>0</td>\n",
              "    </tr>\n",
              "    <tr>\n",
              "      <th>592594</th>\n",
              "      <td>Wyoming</td>\n",
              "      <td>US</td>\n",
              "      <td>2022-04-27</td>\n",
              "      <td>2358</td>\n",
              "      <td>44</td>\n",
              "      <td>2314</td>\n",
              "    </tr>\n",
              "    <tr>\n",
              "      <th>592595</th>\n",
              "      <td>Wyoming</td>\n",
              "      <td>US</td>\n",
              "      <td>2022-04-27</td>\n",
              "      <td>1588</td>\n",
              "      <td>18</td>\n",
              "      <td>1570</td>\n",
              "    </tr>\n",
              "  </tbody>\n",
              "</table>\n",
              "<p>193978 rows × 6 columns</p>\n",
              "</div>"
            ],
            "text/plain": [
              "       province_state country_region  date_input  confirmed  deaths  \\\n",
              "0             Alabama             US  2022-04-25      15814     215   \n",
              "1             Alabama             US  2022-04-25      55607     680   \n",
              "2             Alabama             US  2022-04-25       5661      98   \n",
              "3             Alabama             US  2022-04-25       6435     104   \n",
              "4             Alabama             US  2022-04-25      14967     243   \n",
              "...               ...            ...         ...        ...     ...   \n",
              "592591        Wyoming             US  2022-04-27      10009      16   \n",
              "592592        Wyoming             US  2022-04-27       5627      39   \n",
              "592593        Wyoming             US  2022-04-27          0       0   \n",
              "592594        Wyoming             US  2022-04-27       2358      44   \n",
              "592595        Wyoming             US  2022-04-27       1588      18   \n",
              "\n",
              "        non_deaths  \n",
              "0            15599  \n",
              "1            54927  \n",
              "2             5563  \n",
              "3             6331  \n",
              "4            14724  \n",
              "...            ...  \n",
              "592591        9993  \n",
              "592592        5588  \n",
              "592593           0  \n",
              "592594        2314  \n",
              "592595        1570  \n",
              "\n",
              "[193978 rows x 6 columns]"
            ]
          },
          "execution_count": 22,
          "metadata": {},
          "output_type": "execute_result"
        }
      ],
      "source": [
        "# Create new dataframe based on states in March-April 2022\n",
        "df_marapr = df_states[(df_states['date_input'] >= '2022-03-01') & (df_states['date_input'] <= '2022-04-30')]\n",
        "df_marapr"
      ]
    },
    {
      "cell_type": "code",
      "execution_count": 23,
      "metadata": {
        "colab": {
          "base_uri": "https://localhost:8080/",
          "height": 424
        },
        "id": "c-znAH26rHIe",
        "outputId": "10ee80a6-5e41-4cf0-bb2a-d912fad53525"
      },
      "outputs": [
        {
          "data": {
            "text/html": [
              "<div>\n",
              "<style scoped>\n",
              "    .dataframe tbody tr th:only-of-type {\n",
              "        vertical-align: middle;\n",
              "    }\n",
              "\n",
              "    .dataframe tbody tr th {\n",
              "        vertical-align: top;\n",
              "    }\n",
              "\n",
              "    .dataframe thead th {\n",
              "        text-align: right;\n",
              "    }\n",
              "</style>\n",
              "<table border=\"1\" class=\"dataframe\">\n",
              "  <thead>\n",
              "    <tr style=\"text-align: right;\">\n",
              "      <th></th>\n",
              "      <th>province_state</th>\n",
              "      <th>country_region</th>\n",
              "      <th>date_input</th>\n",
              "      <th>confirmed</th>\n",
              "      <th>deaths</th>\n",
              "      <th>non_deaths</th>\n",
              "    </tr>\n",
              "  </thead>\n",
              "  <tbody>\n",
              "    <tr>\n",
              "      <th>204</th>\n",
              "      <td>Alabama</td>\n",
              "      <td>US</td>\n",
              "      <td>2022-06-29</td>\n",
              "      <td>16520</td>\n",
              "      <td>217</td>\n",
              "      <td>16303</td>\n",
              "    </tr>\n",
              "    <tr>\n",
              "      <th>205</th>\n",
              "      <td>Alabama</td>\n",
              "      <td>US</td>\n",
              "      <td>2022-06-29</td>\n",
              "      <td>58796</td>\n",
              "      <td>683</td>\n",
              "      <td>58113</td>\n",
              "    </tr>\n",
              "    <tr>\n",
              "      <th>206</th>\n",
              "      <td>Alabama</td>\n",
              "      <td>US</td>\n",
              "      <td>2022-06-29</td>\n",
              "      <td>5880</td>\n",
              "      <td>99</td>\n",
              "      <td>5781</td>\n",
              "    </tr>\n",
              "    <tr>\n",
              "      <th>207</th>\n",
              "      <td>Alabama</td>\n",
              "      <td>US</td>\n",
              "      <td>2022-06-29</td>\n",
              "      <td>6700</td>\n",
              "      <td>105</td>\n",
              "      <td>6595</td>\n",
              "    </tr>\n",
              "    <tr>\n",
              "      <th>208</th>\n",
              "      <td>Alabama</td>\n",
              "      <td>US</td>\n",
              "      <td>2022-06-29</td>\n",
              "      <td>15351</td>\n",
              "      <td>245</td>\n",
              "      <td>15106</td>\n",
              "    </tr>\n",
              "    <tr>\n",
              "      <th>...</th>\n",
              "      <td>...</td>\n",
              "      <td>...</td>\n",
              "      <td>...</td>\n",
              "      <td>...</td>\n",
              "      <td>...</td>\n",
              "      <td>...</td>\n",
              "    </tr>\n",
              "    <tr>\n",
              "      <th>592399</th>\n",
              "      <td>Wyoming</td>\n",
              "      <td>US</td>\n",
              "      <td>2022-05-04</td>\n",
              "      <td>10047</td>\n",
              "      <td>16</td>\n",
              "      <td>10031</td>\n",
              "    </tr>\n",
              "    <tr>\n",
              "      <th>592400</th>\n",
              "      <td>Wyoming</td>\n",
              "      <td>US</td>\n",
              "      <td>2022-05-04</td>\n",
              "      <td>5635</td>\n",
              "      <td>39</td>\n",
              "      <td>5596</td>\n",
              "    </tr>\n",
              "    <tr>\n",
              "      <th>592401</th>\n",
              "      <td>Wyoming</td>\n",
              "      <td>US</td>\n",
              "      <td>2022-05-04</td>\n",
              "      <td>0</td>\n",
              "      <td>0</td>\n",
              "      <td>0</td>\n",
              "    </tr>\n",
              "    <tr>\n",
              "      <th>592402</th>\n",
              "      <td>Wyoming</td>\n",
              "      <td>US</td>\n",
              "      <td>2022-05-04</td>\n",
              "      <td>2357</td>\n",
              "      <td>44</td>\n",
              "      <td>2313</td>\n",
              "    </tr>\n",
              "    <tr>\n",
              "      <th>592403</th>\n",
              "      <td>Wyoming</td>\n",
              "      <td>US</td>\n",
              "      <td>2022-05-04</td>\n",
              "      <td>1589</td>\n",
              "      <td>18</td>\n",
              "      <td>1571</td>\n",
              "    </tr>\n",
              "  </tbody>\n",
              "</table>\n",
              "<p>193975 rows × 6 columns</p>\n",
              "</div>"
            ],
            "text/plain": [
              "       province_state country_region  date_input  confirmed  deaths  \\\n",
              "204           Alabama             US  2022-06-29      16520     217   \n",
              "205           Alabama             US  2022-06-29      58796     683   \n",
              "206           Alabama             US  2022-06-29       5880      99   \n",
              "207           Alabama             US  2022-06-29       6700     105   \n",
              "208           Alabama             US  2022-06-29      15351     245   \n",
              "...               ...            ...         ...        ...     ...   \n",
              "592399        Wyoming             US  2022-05-04      10047      16   \n",
              "592400        Wyoming             US  2022-05-04       5635      39   \n",
              "592401        Wyoming             US  2022-05-04          0       0   \n",
              "592402        Wyoming             US  2022-05-04       2357      44   \n",
              "592403        Wyoming             US  2022-05-04       1589      18   \n",
              "\n",
              "        non_deaths  \n",
              "204          16303  \n",
              "205          58113  \n",
              "206           5781  \n",
              "207           6595  \n",
              "208          15106  \n",
              "...            ...  \n",
              "592399       10031  \n",
              "592400        5596  \n",
              "592401           0  \n",
              "592402        2313  \n",
              "592403        1571  \n",
              "\n",
              "[193975 rows x 6 columns]"
            ]
          },
          "execution_count": 23,
          "metadata": {},
          "output_type": "execute_result"
        }
      ],
      "source": [
        "# Create new dataframe based on states in May-June 2022\n",
        "df_mayjun = df_states[(df_states['date_input'] >= '2022-05-01') & (df_states['date_input'] <= '2022-06-30')]\n",
        "df_mayjun"
      ]
    },
    {
      "cell_type": "markdown",
      "metadata": {
        "id": "bKXiKdjuNe0V"
      },
      "source": [
        "**Grouping and Aggregating Data**\n",
        "\n",
        "In this part, the data will show aggregrates such as average, standard deviation, mininum, and maximum data. However, we also can see how many reports of cases from earch state being input in the query based on `three seperated queries` that are mentioned before."
      ]
    },
    {
      "cell_type": "markdown",
      "metadata": {
        "id": "iV1vPjd4MGLN"
      },
      "source": [
        "*(a) Numbers of reports from each state*:\n",
        "\n",
        "Using `value_count` returns a Series containing counts of unique values, which means every single rows from each state has something different, including `confirmed cases`, `active cases`, `deaths`, and `recovery`.\n",
        "\n",
        "`Texas` is the state with the highest number that cases being reported or input to the database, with the total 46,118 reports being input, followed by Georgia and Virginia. Meanwhile, Delaware got 724 reports of cases being input to the database. Moreover, based on the database, the sort from the highest to the lowest is consistent. However, we still cannot make a conclusion yet as we need to find the other factors statistically."
      ]
    },
    {
      "cell_type": "code",
      "execution_count": 24,
      "metadata": {
        "colab": {
          "base_uri": "https://localhost:8080/"
        },
        "id": "ezrFeQjDOAkx",
        "outputId": "f86de50b-76fb-4c5a-d4aa-859fd9c1aa52"
      },
      "outputs": [
        {
          "data": {
            "text/plain": [
              "Texas             46118\n",
              "Georgia           29141\n",
              "Virginia          24252\n",
              "Kentucky          21901\n",
              "Missouri          21176\n",
              "Kansas            19180\n",
              "Illinois          18643\n",
              "North Carolina    18274\n",
              "Iowa              18079\n",
              "Tennessee         17557\n",
              "Nebraska          16966\n",
              "Indiana           16652\n",
              "Ohio              15928\n",
              "Minnesota         15928\n",
              "Michigan          15747\n",
              "Mississippi       15023\n",
              "Oklahoma          14220\n",
              "Arkansas          13756\n",
              "Wisconsin         13213\n",
              "Pennsylvania      12308\n",
              "Alabama           12308\n",
              "Florida           12300\n",
              "South Dakota      12121\n",
              "Louisiana         11946\n",
              "Colorado          11933\n",
              "New York          11403\n",
              "California        10860\n",
              "Montana           10312\n",
              "West Virginia     10136\n",
              "North Dakota       9655\n",
              "South Carolina     8501\n",
              "Idaho              8145\n",
              "Washington         7240\n",
              "Oregon             6697\n",
              "New Mexico         6154\n",
              "Alaska             5430\n",
              "Maryland           4385\n",
              "Wyoming            4343\n",
              "New Jersey         3982\n",
              "Maine              3258\n",
              "Nevada             3258\n",
              "Arizona            2930\n",
              "Vermont            2715\n",
              "Utah               2534\n",
              "Massachusetts      2534\n",
              "New Hampshire      1991\n",
              "Connecticut        1629\n",
              "Rhode Island       1086\n",
              "Hawaii             1086\n",
              "Delaware            724\n",
              "Name: province_state, dtype: int64"
            ]
          },
          "execution_count": 24,
          "metadata": {},
          "output_type": "execute_result"
        }
      ],
      "source": [
        "# States value counts to show how many reports of cases from each state being input in the query from January-June 2022\n",
        "df_states[\"province_state\"].value_counts()"
      ]
    },
    {
      "cell_type": "code",
      "execution_count": 25,
      "metadata": {
        "colab": {
          "base_uri": "https://localhost:8080/"
        },
        "id": "9oG1LIE1ObwR",
        "outputId": "9cd77c8e-b92d-4362-f364-325ec0159754"
      },
      "outputs": [
        {
          "data": {
            "text/plain": [
              "Texas             15042\n",
              "Georgia            9499\n",
              "Virginia           7906\n",
              "Kentucky           7139\n",
              "Missouri           6902\n",
              "Kansas             6248\n",
              "Illinois           6077\n",
              "North Carolina     5959\n",
              "Iowa               5893\n",
              "Tennessee          5723\n",
              "Nebraska           5539\n",
              "Indiana            5428\n",
              "Ohio               5192\n",
              "Minnesota          5192\n",
              "Michigan           5133\n",
              "Mississippi        4897\n",
              "Oklahoma           4654\n",
              "Arkansas           4484\n",
              "Wisconsin          4307\n",
              "Pennsylvania       4012\n",
              "Alabama            4012\n",
              "Florida            4008\n",
              "South Dakota       3948\n",
              "Colorado           3894\n",
              "Louisiana          3894\n",
              "New York           3717\n",
              "California         3540\n",
              "Montana            3362\n",
              "West Virginia      3304\n",
              "North Dakota       3127\n",
              "South Carolina     2773\n",
              "Idaho              2655\n",
              "Washington         2360\n",
              "Oregon             2183\n",
              "New Mexico         2006\n",
              "Alaska             1770\n",
              "Maryland           1457\n",
              "Wyoming            1415\n",
              "New Jersey         1298\n",
              "Maine              1062\n",
              "Nevada             1062\n",
              "Arizona             971\n",
              "Vermont             885\n",
              "Utah                826\n",
              "Massachusetts       826\n",
              "New Hampshire       649\n",
              "Connecticut         531\n",
              "Rhode Island        354\n",
              "Hawaii              354\n",
              "Delaware            236\n",
              "Name: province_state, dtype: int64"
            ]
          },
          "execution_count": 25,
          "metadata": {},
          "output_type": "execute_result"
        }
      ],
      "source": [
        "# States value counts to show how many reports of cases in each state being input in the query from January-February 2022\n",
        "df_janfeb[\"province_state\"].value_counts()"
      ]
    },
    {
      "cell_type": "code",
      "execution_count": 26,
      "metadata": {
        "colab": {
          "base_uri": "https://localhost:8080/"
        },
        "id": "2qnqnV8DOimQ",
        "outputId": "dafb7c3f-8ff3-40d8-b98b-0bbe809ab1b5"
      },
      "outputs": [
        {
          "data": {
            "text/plain": [
              "Texas             15532\n",
              "Georgia            9821\n",
              "Virginia           8173\n",
              "Kentucky           7381\n",
              "Missouri           7137\n",
              "Kansas             6466\n",
              "Illinois           6283\n",
              "North Carolina     6161\n",
              "Iowa               6086\n",
              "Tennessee          5917\n",
              "Nebraska           5727\n",
              "Indiana            5612\n",
              "Ohio               5368\n",
              "Minnesota          5368\n",
              "Michigan           5307\n",
              "Mississippi        5063\n",
              "Oklahoma           4772\n",
              "Arkansas           4636\n",
              "Wisconsin          4453\n",
              "Pennsylvania       4148\n",
              "Alabama            4148\n",
              "Florida            4144\n",
              "South Dakota       4086\n",
              "Louisiana          4026\n",
              "Colorado           4013\n",
              "New York           3843\n",
              "California         3660\n",
              "Montana            3473\n",
              "West Virginia      3416\n",
              "North Dakota       3280\n",
              "South Carolina     2864\n",
              "Idaho              2745\n",
              "Washington         2440\n",
              "Oregon             2257\n",
              "New Mexico         2074\n",
              "Alaska             1830\n",
              "Wyoming            1464\n",
              "Maryland           1464\n",
              "New Jersey         1342\n",
              "Maine              1098\n",
              "Nevada             1098\n",
              "Arizona             983\n",
              "Vermont             915\n",
              "Utah                854\n",
              "Massachusetts       854\n",
              "New Hampshire       671\n",
              "Connecticut         549\n",
              "Rhode Island        366\n",
              "Hawaii              366\n",
              "Delaware            244\n",
              "Name: province_state, dtype: int64"
            ]
          },
          "execution_count": 26,
          "metadata": {},
          "output_type": "execute_result"
        }
      ],
      "source": [
        "# States value counts to show how many reports of cases from each state being input in the query from March-April 2022\n",
        "df_marapr[\"province_state\"].value_counts()"
      ]
    },
    {
      "cell_type": "code",
      "execution_count": 27,
      "metadata": {
        "colab": {
          "base_uri": "https://localhost:8080/"
        },
        "id": "_pWOESksOnxb",
        "outputId": "5b8e7963-795b-4b48-afa7-a94e0fe0c21d"
      },
      "outputs": [
        {
          "data": {
            "text/plain": [
              "Texas             15544\n",
              "Georgia            9821\n",
              "Virginia           8173\n",
              "Kentucky           7381\n",
              "Missouri           7137\n",
              "Kansas             6466\n",
              "Illinois           6283\n",
              "North Carolina     6154\n",
              "Iowa               6100\n",
              "Tennessee          5917\n",
              "Nebraska           5700\n",
              "Indiana            5612\n",
              "Ohio               5368\n",
              "Minnesota          5368\n",
              "Michigan           5307\n",
              "Mississippi        5063\n",
              "Oklahoma           4794\n",
              "Arkansas           4636\n",
              "Wisconsin          4453\n",
              "Florida            4148\n",
              "Pennsylvania       4148\n",
              "Alabama            4148\n",
              "South Dakota       4087\n",
              "Colorado           4026\n",
              "Louisiana          4026\n",
              "New York           3843\n",
              "California         3660\n",
              "Montana            3477\n",
              "West Virginia      3416\n",
              "North Dakota       3248\n",
              "South Carolina     2864\n",
              "Idaho              2745\n",
              "Washington         2440\n",
              "Oregon             2257\n",
              "New Mexico         2074\n",
              "Alaska             1830\n",
              "Wyoming            1464\n",
              "Maryland           1464\n",
              "New Jersey         1342\n",
              "Maine              1098\n",
              "Nevada             1098\n",
              "Arizona             976\n",
              "Vermont             915\n",
              "Utah                854\n",
              "Massachusetts       854\n",
              "New Hampshire       671\n",
              "Connecticut         549\n",
              "Rhode Island        366\n",
              "Hawaii              366\n",
              "Delaware            244\n",
              "Name: province_state, dtype: int64"
            ]
          },
          "execution_count": 27,
          "metadata": {},
          "output_type": "execute_result"
        }
      ],
      "source": [
        "# States value counts to show how many reports of cases from each state being input in the query from May-June 2022\n",
        "df_mayjun[\"province_state\"].value_counts()"
      ]
    },
    {
      "cell_type": "markdown",
      "metadata": {
        "id": "xLTcPZUQSfpx"
      },
      "source": [
        "*(b.1) Maximum numbers of confirmed cases*:\n",
        "\n",
        "The maximum confirmed cases shows that `California` has the highest confirmed cases, consistently from January to June 2022. With the highest confirmed: `3,118,053 cases` on `2022-06-30`."
      ]
    },
    {
      "cell_type": "code",
      "execution_count": 28,
      "metadata": {
        "colab": {
          "base_uri": "https://localhost:8080/"
        },
        "id": "3GevMVtQPlxJ",
        "outputId": "8b431cb8-38e7-417c-ab4d-86963905de97"
      },
      "outputs": [
        {
          "data": {
            "text/plain": [
              "3118053"
            ]
          },
          "execution_count": 28,
          "metadata": {},
          "output_type": "execute_result"
        }
      ],
      "source": [
        "max_confirmed_cases = df_states[\"confirmed\"]\n",
        "max_confirmed_cases.max()"
      ]
    },
    {
      "cell_type": "code",
      "execution_count": 29,
      "metadata": {
        "colab": {
          "base_uri": "https://localhost:8080/",
          "height": 81
        },
        "id": "hiWI5kEsUEhs",
        "outputId": "c3e3320b-d171-4104-d785-a8521e8f11db"
      },
      "outputs": [
        {
          "data": {
            "text/html": [
              "<div>\n",
              "<style scoped>\n",
              "    .dataframe tbody tr th:only-of-type {\n",
              "        vertical-align: middle;\n",
              "    }\n",
              "\n",
              "    .dataframe tbody tr th {\n",
              "        vertical-align: top;\n",
              "    }\n",
              "\n",
              "    .dataframe thead th {\n",
              "        text-align: right;\n",
              "    }\n",
              "</style>\n",
              "<table border=\"1\" class=\"dataframe\">\n",
              "  <thead>\n",
              "    <tr style=\"text-align: right;\">\n",
              "      <th></th>\n",
              "      <th>province_state</th>\n",
              "      <th>country_region</th>\n",
              "      <th>date_input</th>\n",
              "      <th>confirmed</th>\n",
              "      <th>deaths</th>\n",
              "      <th>non_deaths</th>\n",
              "    </tr>\n",
              "  </thead>\n",
              "  <tbody>\n",
              "    <tr>\n",
              "      <th>36843</th>\n",
              "      <td>California</td>\n",
              "      <td>US</td>\n",
              "      <td>2022-06-30</td>\n",
              "      <td>3118053</td>\n",
              "      <td>32334</td>\n",
              "      <td>3085719</td>\n",
              "    </tr>\n",
              "  </tbody>\n",
              "</table>\n",
              "</div>"
            ],
            "text/plain": [
              "      province_state country_region  date_input  confirmed  deaths  non_deaths\n",
              "36843     California             US  2022-06-30    3118053   32334     3085719"
            ]
          },
          "execution_count": 29,
          "metadata": {},
          "output_type": "execute_result"
        }
      ],
      "source": [
        "# Finding the state with the maximum confirmed case January-June 2022:\n",
        "df_states[df_states[\"confirmed\"] == max_confirmed_cases.max()]"
      ]
    },
    {
      "cell_type": "code",
      "execution_count": 30,
      "metadata": {
        "colab": {
          "base_uri": "https://localhost:8080/"
        },
        "id": "RRZEw_AzP1jW",
        "outputId": "c3c49eaa-4819-4e96-d03a-4e1d9a7f7fc5"
      },
      "outputs": [
        {
          "data": {
            "text/plain": [
              "2796560"
            ]
          },
          "execution_count": 30,
          "metadata": {},
          "output_type": "execute_result"
        }
      ],
      "source": [
        "# The maximum confirmed cases in January-February 2022\n",
        "max_confirmed_janfeb = df_janfeb[\"confirmed\"]\n",
        "max_confirmed_janfeb.max()"
      ]
    },
    {
      "cell_type": "code",
      "execution_count": 31,
      "metadata": {
        "colab": {
          "base_uri": "https://localhost:8080/",
          "height": 81
        },
        "id": "w4vmaKKtUJnq",
        "outputId": "2d9ef6b3-fc72-4196-e183-3c0afc11c3b4"
      },
      "outputs": [
        {
          "data": {
            "text/html": [
              "<div>\n",
              "<style scoped>\n",
              "    .dataframe tbody tr th:only-of-type {\n",
              "        vertical-align: middle;\n",
              "    }\n",
              "\n",
              "    .dataframe tbody tr th {\n",
              "        vertical-align: top;\n",
              "    }\n",
              "\n",
              "    .dataframe thead th {\n",
              "        text-align: right;\n",
              "    }\n",
              "</style>\n",
              "<table border=\"1\" class=\"dataframe\">\n",
              "  <thead>\n",
              "    <tr style=\"text-align: right;\">\n",
              "      <th></th>\n",
              "      <th>province_state</th>\n",
              "      <th>country_region</th>\n",
              "      <th>date_input</th>\n",
              "      <th>confirmed</th>\n",
              "      <th>deaths</th>\n",
              "      <th>non_deaths</th>\n",
              "    </tr>\n",
              "  </thead>\n",
              "  <tbody>\n",
              "    <tr>\n",
              "      <th>37503</th>\n",
              "      <td>California</td>\n",
              "      <td>US</td>\n",
              "      <td>2022-02-28</td>\n",
              "      <td>2796560</td>\n",
              "      <td>30716</td>\n",
              "      <td>2765844</td>\n",
              "    </tr>\n",
              "  </tbody>\n",
              "</table>\n",
              "</div>"
            ],
            "text/plain": [
              "      province_state country_region  date_input  confirmed  deaths  non_deaths\n",
              "37503     California             US  2022-02-28    2796560   30716     2765844"
            ]
          },
          "execution_count": 31,
          "metadata": {},
          "output_type": "execute_result"
        }
      ],
      "source": [
        "# Finding the state with the maximum confirmed case January-February 2022:\n",
        "df_states[df_states[\"confirmed\"] == max_confirmed_janfeb.max()]"
      ]
    },
    {
      "cell_type": "code",
      "execution_count": 32,
      "metadata": {
        "colab": {
          "base_uri": "https://localhost:8080/"
        },
        "id": "OtmkN3weSzUp",
        "outputId": "3eca93ae-f1e3-4697-af88-fc1690dbe423"
      },
      "outputs": [
        {
          "data": {
            "text/plain": [
              "2872203"
            ]
          },
          "execution_count": 32,
          "metadata": {},
          "output_type": "execute_result"
        }
      ],
      "source": [
        "# The maximum confirmed cases in March-April 2022\n",
        "max_confirmed_marapr = df_marapr[\"confirmed\"]\n",
        "max_confirmed_marapr.max()"
      ]
    },
    {
      "cell_type": "code",
      "execution_count": 33,
      "metadata": {
        "colab": {
          "base_uri": "https://localhost:8080/",
          "height": 143
        },
        "id": "I_Ry8d0EUXMA",
        "outputId": "bbc73794-05c8-499a-fd01-df6ddf8b2fd2"
      },
      "outputs": [
        {
          "data": {
            "text/html": [
              "<div>\n",
              "<style scoped>\n",
              "    .dataframe tbody tr th:only-of-type {\n",
              "        vertical-align: middle;\n",
              "    }\n",
              "\n",
              "    .dataframe tbody tr th {\n",
              "        vertical-align: top;\n",
              "    }\n",
              "\n",
              "    .dataframe thead th {\n",
              "        text-align: right;\n",
              "    }\n",
              "</style>\n",
              "<table border=\"1\" class=\"dataframe\">\n",
              "  <thead>\n",
              "    <tr style=\"text-align: right;\">\n",
              "      <th></th>\n",
              "      <th>province_state</th>\n",
              "      <th>country_region</th>\n",
              "      <th>date_input</th>\n",
              "      <th>confirmed</th>\n",
              "      <th>deaths</th>\n",
              "      <th>non_deaths</th>\n",
              "    </tr>\n",
              "  </thead>\n",
              "  <tbody>\n",
              "    <tr>\n",
              "      <th>36663</th>\n",
              "      <td>California</td>\n",
              "      <td>US</td>\n",
              "      <td>2022-04-29</td>\n",
              "      <td>2872203</td>\n",
              "      <td>31959</td>\n",
              "      <td>2840244</td>\n",
              "    </tr>\n",
              "    <tr>\n",
              "      <th>42063</th>\n",
              "      <td>California</td>\n",
              "      <td>US</td>\n",
              "      <td>2022-05-01</td>\n",
              "      <td>2872203</td>\n",
              "      <td>31959</td>\n",
              "      <td>2840244</td>\n",
              "    </tr>\n",
              "    <tr>\n",
              "      <th>43383</th>\n",
              "      <td>California</td>\n",
              "      <td>US</td>\n",
              "      <td>2022-04-30</td>\n",
              "      <td>2872203</td>\n",
              "      <td>31959</td>\n",
              "      <td>2840244</td>\n",
              "    </tr>\n",
              "  </tbody>\n",
              "</table>\n",
              "</div>"
            ],
            "text/plain": [
              "      province_state country_region  date_input  confirmed  deaths  non_deaths\n",
              "36663     California             US  2022-04-29    2872203   31959     2840244\n",
              "42063     California             US  2022-05-01    2872203   31959     2840244\n",
              "43383     California             US  2022-04-30    2872203   31959     2840244"
            ]
          },
          "execution_count": 33,
          "metadata": {},
          "output_type": "execute_result"
        }
      ],
      "source": [
        "# Finding the state with the maximum confirmed case March-April 2022:\n",
        "df_states[df_states[\"confirmed\"] == max_confirmed_marapr.max()]"
      ]
    },
    {
      "cell_type": "code",
      "execution_count": 34,
      "metadata": {
        "colab": {
          "base_uri": "https://localhost:8080/"
        },
        "id": "IEwvEHl_S7NV",
        "outputId": "3a94bf85-257a-41f0-b91d-9082a598bd3c"
      },
      "outputs": [
        {
          "data": {
            "text/plain": [
              "3118053"
            ]
          },
          "execution_count": 34,
          "metadata": {},
          "output_type": "execute_result"
        }
      ],
      "source": [
        "# The maximum confirmed cases in May-June 2022\n",
        "max_confirmed_mayjun = df_mayjun[\"confirmed\"]\n",
        "max_confirmed_mayjun.max()"
      ]
    },
    {
      "cell_type": "code",
      "execution_count": 35,
      "metadata": {
        "colab": {
          "base_uri": "https://localhost:8080/",
          "height": 81
        },
        "id": "zxSqvVR2TMAj",
        "outputId": "2fd44673-4c74-42c0-b6f3-7b566c31a276"
      },
      "outputs": [
        {
          "data": {
            "text/html": [
              "<div>\n",
              "<style scoped>\n",
              "    .dataframe tbody tr th:only-of-type {\n",
              "        vertical-align: middle;\n",
              "    }\n",
              "\n",
              "    .dataframe tbody tr th {\n",
              "        vertical-align: top;\n",
              "    }\n",
              "\n",
              "    .dataframe thead th {\n",
              "        text-align: right;\n",
              "    }\n",
              "</style>\n",
              "<table border=\"1\" class=\"dataframe\">\n",
              "  <thead>\n",
              "    <tr style=\"text-align: right;\">\n",
              "      <th></th>\n",
              "      <th>province_state</th>\n",
              "      <th>country_region</th>\n",
              "      <th>date_input</th>\n",
              "      <th>confirmed</th>\n",
              "      <th>deaths</th>\n",
              "      <th>non_deaths</th>\n",
              "    </tr>\n",
              "  </thead>\n",
              "  <tbody>\n",
              "    <tr>\n",
              "      <th>36843</th>\n",
              "      <td>California</td>\n",
              "      <td>US</td>\n",
              "      <td>2022-06-30</td>\n",
              "      <td>3118053</td>\n",
              "      <td>32334</td>\n",
              "      <td>3085719</td>\n",
              "    </tr>\n",
              "  </tbody>\n",
              "</table>\n",
              "</div>"
            ],
            "text/plain": [
              "      province_state country_region  date_input  confirmed  deaths  non_deaths\n",
              "36843     California             US  2022-06-30    3118053   32334     3085719"
            ]
          },
          "execution_count": 35,
          "metadata": {},
          "output_type": "execute_result"
        }
      ],
      "source": [
        "# Finding the state with the maximum confirmed case May-June 2022:\n",
        "df_states[df_states[\"confirmed\"] == max_confirmed_mayjun.max()]"
      ]
    },
    {
      "cell_type": "markdown",
      "metadata": {
        "id": "00qICQtIzYNp"
      },
      "source": [
        "*(b.2) Maximum number of deaths*\n",
        "\n",
        "`California` also has the highest number of deaths consistently from January to June 2022. With the highest deaths: `32,334 deaths` on `2022-06-30`."
      ]
    },
    {
      "cell_type": "code",
      "execution_count": 36,
      "metadata": {
        "colab": {
          "base_uri": "https://localhost:8080/"
        },
        "id": "FGh1JjNxzg1J",
        "outputId": "a5e3fccb-d11a-4e75-f4a4-c86d43547a59"
      },
      "outputs": [
        {
          "data": {
            "text/plain": [
              "32334"
            ]
          },
          "execution_count": 36,
          "metadata": {},
          "output_type": "execute_result"
        }
      ],
      "source": [
        "max_death = df_states[\"deaths\"]\n",
        "max_death.max()"
      ]
    },
    {
      "cell_type": "code",
      "execution_count": 37,
      "metadata": {
        "colab": {
          "base_uri": "https://localhost:8080/",
          "height": 81
        },
        "id": "cvJkWin-5-EP",
        "outputId": "50dae6b0-1e0c-48fb-9844-53d6012e5d2f"
      },
      "outputs": [
        {
          "data": {
            "text/html": [
              "<div>\n",
              "<style scoped>\n",
              "    .dataframe tbody tr th:only-of-type {\n",
              "        vertical-align: middle;\n",
              "    }\n",
              "\n",
              "    .dataframe tbody tr th {\n",
              "        vertical-align: top;\n",
              "    }\n",
              "\n",
              "    .dataframe thead th {\n",
              "        text-align: right;\n",
              "    }\n",
              "</style>\n",
              "<table border=\"1\" class=\"dataframe\">\n",
              "  <thead>\n",
              "    <tr style=\"text-align: right;\">\n",
              "      <th></th>\n",
              "      <th>province_state</th>\n",
              "      <th>country_region</th>\n",
              "      <th>date_input</th>\n",
              "      <th>confirmed</th>\n",
              "      <th>deaths</th>\n",
              "      <th>non_deaths</th>\n",
              "    </tr>\n",
              "  </thead>\n",
              "  <tbody>\n",
              "    <tr>\n",
              "      <th>36843</th>\n",
              "      <td>California</td>\n",
              "      <td>US</td>\n",
              "      <td>2022-06-30</td>\n",
              "      <td>3118053</td>\n",
              "      <td>32334</td>\n",
              "      <td>3085719</td>\n",
              "    </tr>\n",
              "  </tbody>\n",
              "</table>\n",
              "</div>"
            ],
            "text/plain": [
              "      province_state country_region  date_input  confirmed  deaths  non_deaths\n",
              "36843     California             US  2022-06-30    3118053   32334     3085719"
            ]
          },
          "execution_count": 37,
          "metadata": {},
          "output_type": "execute_result"
        }
      ],
      "source": [
        "# Finding the state with the maximum deaths in January-June 2022:\n",
        "df_states[df_states[\"deaths\"] == max_death.max()]"
      ]
    },
    {
      "cell_type": "code",
      "execution_count": 38,
      "metadata": {
        "colab": {
          "base_uri": "https://localhost:8080/"
        },
        "id": "BD0NnrtB6KRf",
        "outputId": "01f25408-b556-4ba8-d747-0610da2d1bac"
      },
      "outputs": [
        {
          "data": {
            "text/plain": [
              "30716"
            ]
          },
          "execution_count": 38,
          "metadata": {},
          "output_type": "execute_result"
        }
      ],
      "source": [
        "# The maximum deaths in January-February 2022:\n",
        "max_death_jf = df_janfeb[\"deaths\"]\n",
        "max_death_jf.max()"
      ]
    },
    {
      "cell_type": "code",
      "execution_count": 39,
      "metadata": {
        "colab": {
          "base_uri": "https://localhost:8080/",
          "height": 81
        },
        "id": "j4g9TpML6ayC",
        "outputId": "ebe16e0a-b1fd-4f34-e836-ee734ea1bc17"
      },
      "outputs": [
        {
          "data": {
            "text/html": [
              "<div>\n",
              "<style scoped>\n",
              "    .dataframe tbody tr th:only-of-type {\n",
              "        vertical-align: middle;\n",
              "    }\n",
              "\n",
              "    .dataframe tbody tr th {\n",
              "        vertical-align: top;\n",
              "    }\n",
              "\n",
              "    .dataframe thead th {\n",
              "        text-align: right;\n",
              "    }\n",
              "</style>\n",
              "<table border=\"1\" class=\"dataframe\">\n",
              "  <thead>\n",
              "    <tr style=\"text-align: right;\">\n",
              "      <th></th>\n",
              "      <th>province_state</th>\n",
              "      <th>country_region</th>\n",
              "      <th>date_input</th>\n",
              "      <th>confirmed</th>\n",
              "      <th>deaths</th>\n",
              "      <th>non_deaths</th>\n",
              "    </tr>\n",
              "  </thead>\n",
              "  <tbody>\n",
              "    <tr>\n",
              "      <th>37503</th>\n",
              "      <td>California</td>\n",
              "      <td>US</td>\n",
              "      <td>2022-02-28</td>\n",
              "      <td>2796560</td>\n",
              "      <td>30716</td>\n",
              "      <td>2765844</td>\n",
              "    </tr>\n",
              "  </tbody>\n",
              "</table>\n",
              "</div>"
            ],
            "text/plain": [
              "      province_state country_region  date_input  confirmed  deaths  non_deaths\n",
              "37503     California             US  2022-02-28    2796560   30716     2765844"
            ]
          },
          "execution_count": 39,
          "metadata": {},
          "output_type": "execute_result"
        }
      ],
      "source": [
        "# Finding the state with the maximum deaths in January-February 2022:\n",
        "df_states[df_states[\"deaths\"] == max_death_jf.max()]"
      ]
    },
    {
      "cell_type": "code",
      "execution_count": 40,
      "metadata": {
        "colab": {
          "base_uri": "https://localhost:8080/"
        },
        "id": "D_umQEn17kBe",
        "outputId": "64776897-1a13-4e9a-a499-d73a01f841f2"
      },
      "outputs": [
        {
          "data": {
            "text/plain": [
              "31959"
            ]
          },
          "execution_count": 40,
          "metadata": {},
          "output_type": "execute_result"
        }
      ],
      "source": [
        "# The maximum deaths in March-April 2022:\n",
        "max_death_ma = df_marapr[\"deaths\"]\n",
        "max_death_ma.max()"
      ]
    },
    {
      "cell_type": "code",
      "execution_count": 41,
      "metadata": {
        "colab": {
          "base_uri": "https://localhost:8080/",
          "height": 175
        },
        "id": "_7CMkKY17p7h",
        "outputId": "cb998096-e7b4-4794-93c9-8afea581d947"
      },
      "outputs": [
        {
          "data": {
            "text/html": [
              "<div>\n",
              "<style scoped>\n",
              "    .dataframe tbody tr th:only-of-type {\n",
              "        vertical-align: middle;\n",
              "    }\n",
              "\n",
              "    .dataframe tbody tr th {\n",
              "        vertical-align: top;\n",
              "    }\n",
              "\n",
              "    .dataframe thead th {\n",
              "        text-align: right;\n",
              "    }\n",
              "</style>\n",
              "<table border=\"1\" class=\"dataframe\">\n",
              "  <thead>\n",
              "    <tr style=\"text-align: right;\">\n",
              "      <th></th>\n",
              "      <th>province_state</th>\n",
              "      <th>country_region</th>\n",
              "      <th>date_input</th>\n",
              "      <th>confirmed</th>\n",
              "      <th>deaths</th>\n",
              "      <th>non_deaths</th>\n",
              "    </tr>\n",
              "  </thead>\n",
              "  <tbody>\n",
              "    <tr>\n",
              "      <th>36663</th>\n",
              "      <td>California</td>\n",
              "      <td>US</td>\n",
              "      <td>2022-04-29</td>\n",
              "      <td>2872203</td>\n",
              "      <td>31959</td>\n",
              "      <td>2840244</td>\n",
              "    </tr>\n",
              "    <tr>\n",
              "      <th>37443</th>\n",
              "      <td>California</td>\n",
              "      <td>US</td>\n",
              "      <td>2022-04-28</td>\n",
              "      <td>2869785</td>\n",
              "      <td>31959</td>\n",
              "      <td>2837826</td>\n",
              "    </tr>\n",
              "    <tr>\n",
              "      <th>42063</th>\n",
              "      <td>California</td>\n",
              "      <td>US</td>\n",
              "      <td>2022-05-01</td>\n",
              "      <td>2872203</td>\n",
              "      <td>31959</td>\n",
              "      <td>2840244</td>\n",
              "    </tr>\n",
              "    <tr>\n",
              "      <th>43383</th>\n",
              "      <td>California</td>\n",
              "      <td>US</td>\n",
              "      <td>2022-04-30</td>\n",
              "      <td>2872203</td>\n",
              "      <td>31959</td>\n",
              "      <td>2840244</td>\n",
              "    </tr>\n",
              "  </tbody>\n",
              "</table>\n",
              "</div>"
            ],
            "text/plain": [
              "      province_state country_region  date_input  confirmed  deaths  non_deaths\n",
              "36663     California             US  2022-04-29    2872203   31959     2840244\n",
              "37443     California             US  2022-04-28    2869785   31959     2837826\n",
              "42063     California             US  2022-05-01    2872203   31959     2840244\n",
              "43383     California             US  2022-04-30    2872203   31959     2840244"
            ]
          },
          "execution_count": 41,
          "metadata": {},
          "output_type": "execute_result"
        }
      ],
      "source": [
        "# Finding the state with the maximum deaths in March-April 2022:\n",
        "df_states[df_states[\"deaths\"] == max_death_ma.max()]"
      ]
    },
    {
      "cell_type": "code",
      "execution_count": 42,
      "metadata": {
        "colab": {
          "base_uri": "https://localhost:8080/"
        },
        "id": "q1leYvyk7yDe",
        "outputId": "9b58bf6e-5830-4ee9-ea64-c5a5c013cc39"
      },
      "outputs": [
        {
          "data": {
            "text/plain": [
              "32334"
            ]
          },
          "execution_count": 42,
          "metadata": {},
          "output_type": "execute_result"
        }
      ],
      "source": [
        "# The maximum deaths in May-June 2022:\n",
        "max_death_mj = df_mayjun[\"deaths\"]\n",
        "max_death_mj.max()"
      ]
    },
    {
      "cell_type": "code",
      "execution_count": 43,
      "metadata": {
        "colab": {
          "base_uri": "https://localhost:8080/",
          "height": 81
        },
        "id": "-iFfanlG74CP",
        "outputId": "ca9b4fef-a49f-4126-e6c9-337b5ce75a6d"
      },
      "outputs": [
        {
          "data": {
            "text/html": [
              "<div>\n",
              "<style scoped>\n",
              "    .dataframe tbody tr th:only-of-type {\n",
              "        vertical-align: middle;\n",
              "    }\n",
              "\n",
              "    .dataframe tbody tr th {\n",
              "        vertical-align: top;\n",
              "    }\n",
              "\n",
              "    .dataframe thead th {\n",
              "        text-align: right;\n",
              "    }\n",
              "</style>\n",
              "<table border=\"1\" class=\"dataframe\">\n",
              "  <thead>\n",
              "    <tr style=\"text-align: right;\">\n",
              "      <th></th>\n",
              "      <th>province_state</th>\n",
              "      <th>country_region</th>\n",
              "      <th>date_input</th>\n",
              "      <th>confirmed</th>\n",
              "      <th>deaths</th>\n",
              "      <th>non_deaths</th>\n",
              "    </tr>\n",
              "  </thead>\n",
              "  <tbody>\n",
              "    <tr>\n",
              "      <th>36843</th>\n",
              "      <td>California</td>\n",
              "      <td>US</td>\n",
              "      <td>2022-06-30</td>\n",
              "      <td>3118053</td>\n",
              "      <td>32334</td>\n",
              "      <td>3085719</td>\n",
              "    </tr>\n",
              "  </tbody>\n",
              "</table>\n",
              "</div>"
            ],
            "text/plain": [
              "      province_state country_region  date_input  confirmed  deaths  non_deaths\n",
              "36843     California             US  2022-06-30    3118053   32334     3085719"
            ]
          },
          "execution_count": 43,
          "metadata": {},
          "output_type": "execute_result"
        }
      ],
      "source": [
        "# Finding the state with the maximum deaths in May-June 2022:\n",
        "df_states[df_states[\"deaths\"] == max_death_mj.max()]"
      ]
    },
    {
      "cell_type": "markdown",
      "metadata": {
        "id": "0qRHiIdCzdeG"
      },
      "source": [
        "*(b.3) Maximum number of non-deaths*\n",
        "\n",
        "`California` is also consistently the highest non-deaths, with the highest `3,085,719 people` categorized in recovered and active on `2022-06-30`. As a reminder, `non-deaths` is the total of `confirmed cases` and `and deaths` substracted by `recovered` and `active` value."
      ]
    },
    {
      "cell_type": "code",
      "execution_count": 44,
      "metadata": {
        "colab": {
          "base_uri": "https://localhost:8080/"
        },
        "id": "Q6MSpPWSzhB2",
        "outputId": "f35ccb46-9365-448c-b53b-77e299717026"
      },
      "outputs": [
        {
          "data": {
            "text/plain": [
              "3085719"
            ]
          },
          "execution_count": 44,
          "metadata": {},
          "output_type": "execute_result"
        }
      ],
      "source": [
        "max_nodeath = df_states[\"non_deaths\"]\n",
        "max_nodeath.max()"
      ]
    },
    {
      "cell_type": "code",
      "execution_count": 45,
      "metadata": {
        "colab": {
          "base_uri": "https://localhost:8080/",
          "height": 81
        },
        "id": "9P8zxpP-9Id7",
        "outputId": "cf013c18-0396-4793-91e8-6fed2cd2b62b"
      },
      "outputs": [
        {
          "data": {
            "text/html": [
              "<div>\n",
              "<style scoped>\n",
              "    .dataframe tbody tr th:only-of-type {\n",
              "        vertical-align: middle;\n",
              "    }\n",
              "\n",
              "    .dataframe tbody tr th {\n",
              "        vertical-align: top;\n",
              "    }\n",
              "\n",
              "    .dataframe thead th {\n",
              "        text-align: right;\n",
              "    }\n",
              "</style>\n",
              "<table border=\"1\" class=\"dataframe\">\n",
              "  <thead>\n",
              "    <tr style=\"text-align: right;\">\n",
              "      <th></th>\n",
              "      <th>province_state</th>\n",
              "      <th>country_region</th>\n",
              "      <th>date_input</th>\n",
              "      <th>confirmed</th>\n",
              "      <th>deaths</th>\n",
              "      <th>non_deaths</th>\n",
              "    </tr>\n",
              "  </thead>\n",
              "  <tbody>\n",
              "    <tr>\n",
              "      <th>36843</th>\n",
              "      <td>California</td>\n",
              "      <td>US</td>\n",
              "      <td>2022-06-30</td>\n",
              "      <td>3118053</td>\n",
              "      <td>32334</td>\n",
              "      <td>3085719</td>\n",
              "    </tr>\n",
              "  </tbody>\n",
              "</table>\n",
              "</div>"
            ],
            "text/plain": [
              "      province_state country_region  date_input  confirmed  deaths  non_deaths\n",
              "36843     California             US  2022-06-30    3118053   32334     3085719"
            ]
          },
          "execution_count": 45,
          "metadata": {},
          "output_type": "execute_result"
        }
      ],
      "source": [
        "# Finding the state with the maximum deaths in January-June 2022:\n",
        "df_states[df_states[\"non_deaths\"] == max_nodeath.max()]"
      ]
    },
    {
      "cell_type": "code",
      "execution_count": 46,
      "metadata": {
        "colab": {
          "base_uri": "https://localhost:8080/"
        },
        "id": "VRJ-20Nr9T4Y",
        "outputId": "bbe2c3ee-9c6a-42b9-aa38-eba4bd46b072"
      },
      "outputs": [
        {
          "data": {
            "text/plain": [
              "2765844"
            ]
          },
          "execution_count": 46,
          "metadata": {},
          "output_type": "execute_result"
        }
      ],
      "source": [
        "# The maximum non-deaths in January-February 2022:\n",
        "max_nodeath_jf = df_janfeb[\"non_deaths\"]\n",
        "max_nodeath_jf.max()"
      ]
    },
    {
      "cell_type": "code",
      "execution_count": 47,
      "metadata": {
        "colab": {
          "base_uri": "https://localhost:8080/",
          "height": 81
        },
        "id": "iPTSdN-S9iDc",
        "outputId": "a1bee77f-44b9-4539-b919-d7285b34f6d5"
      },
      "outputs": [
        {
          "data": {
            "text/html": [
              "<div>\n",
              "<style scoped>\n",
              "    .dataframe tbody tr th:only-of-type {\n",
              "        vertical-align: middle;\n",
              "    }\n",
              "\n",
              "    .dataframe tbody tr th {\n",
              "        vertical-align: top;\n",
              "    }\n",
              "\n",
              "    .dataframe thead th {\n",
              "        text-align: right;\n",
              "    }\n",
              "</style>\n",
              "<table border=\"1\" class=\"dataframe\">\n",
              "  <thead>\n",
              "    <tr style=\"text-align: right;\">\n",
              "      <th></th>\n",
              "      <th>province_state</th>\n",
              "      <th>country_region</th>\n",
              "      <th>date_input</th>\n",
              "      <th>confirmed</th>\n",
              "      <th>deaths</th>\n",
              "      <th>non_deaths</th>\n",
              "    </tr>\n",
              "  </thead>\n",
              "  <tbody>\n",
              "    <tr>\n",
              "      <th>37503</th>\n",
              "      <td>California</td>\n",
              "      <td>US</td>\n",
              "      <td>2022-02-28</td>\n",
              "      <td>2796560</td>\n",
              "      <td>30716</td>\n",
              "      <td>2765844</td>\n",
              "    </tr>\n",
              "  </tbody>\n",
              "</table>\n",
              "</div>"
            ],
            "text/plain": [
              "      province_state country_region  date_input  confirmed  deaths  non_deaths\n",
              "37503     California             US  2022-02-28    2796560   30716     2765844"
            ]
          },
          "execution_count": 47,
          "metadata": {},
          "output_type": "execute_result"
        }
      ],
      "source": [
        "# Finding the state with the maximum deaths in January-February 2022:\n",
        "df_states[df_states[\"non_deaths\"] == max_nodeath_jf.max()]"
      ]
    },
    {
      "cell_type": "code",
      "execution_count": 48,
      "metadata": {
        "colab": {
          "base_uri": "https://localhost:8080/"
        },
        "id": "Q0i60TCJ9njQ",
        "outputId": "a6ddcd6f-0f59-4df7-e9ec-b254c13a4d8f"
      },
      "outputs": [
        {
          "data": {
            "text/plain": [
              "2840244"
            ]
          },
          "execution_count": 48,
          "metadata": {},
          "output_type": "execute_result"
        }
      ],
      "source": [
        "# The maximum non-deaths in March-April 2022:\n",
        "max_nodeath_ma = df_marapr[\"non_deaths\"]\n",
        "max_nodeath_ma.max()"
      ]
    },
    {
      "cell_type": "code",
      "execution_count": 49,
      "metadata": {
        "colab": {
          "base_uri": "https://localhost:8080/",
          "height": 143
        },
        "id": "fXuB0sMR9twV",
        "outputId": "a1422055-1cb2-4bab-ddf4-836a925359fb"
      },
      "outputs": [
        {
          "data": {
            "text/html": [
              "<div>\n",
              "<style scoped>\n",
              "    .dataframe tbody tr th:only-of-type {\n",
              "        vertical-align: middle;\n",
              "    }\n",
              "\n",
              "    .dataframe tbody tr th {\n",
              "        vertical-align: top;\n",
              "    }\n",
              "\n",
              "    .dataframe thead th {\n",
              "        text-align: right;\n",
              "    }\n",
              "</style>\n",
              "<table border=\"1\" class=\"dataframe\">\n",
              "  <thead>\n",
              "    <tr style=\"text-align: right;\">\n",
              "      <th></th>\n",
              "      <th>province_state</th>\n",
              "      <th>country_region</th>\n",
              "      <th>date_input</th>\n",
              "      <th>confirmed</th>\n",
              "      <th>deaths</th>\n",
              "      <th>non_deaths</th>\n",
              "    </tr>\n",
              "  </thead>\n",
              "  <tbody>\n",
              "    <tr>\n",
              "      <th>36663</th>\n",
              "      <td>California</td>\n",
              "      <td>US</td>\n",
              "      <td>2022-04-29</td>\n",
              "      <td>2872203</td>\n",
              "      <td>31959</td>\n",
              "      <td>2840244</td>\n",
              "    </tr>\n",
              "    <tr>\n",
              "      <th>42063</th>\n",
              "      <td>California</td>\n",
              "      <td>US</td>\n",
              "      <td>2022-05-01</td>\n",
              "      <td>2872203</td>\n",
              "      <td>31959</td>\n",
              "      <td>2840244</td>\n",
              "    </tr>\n",
              "    <tr>\n",
              "      <th>43383</th>\n",
              "      <td>California</td>\n",
              "      <td>US</td>\n",
              "      <td>2022-04-30</td>\n",
              "      <td>2872203</td>\n",
              "      <td>31959</td>\n",
              "      <td>2840244</td>\n",
              "    </tr>\n",
              "  </tbody>\n",
              "</table>\n",
              "</div>"
            ],
            "text/plain": [
              "      province_state country_region  date_input  confirmed  deaths  non_deaths\n",
              "36663     California             US  2022-04-29    2872203   31959     2840244\n",
              "42063     California             US  2022-05-01    2872203   31959     2840244\n",
              "43383     California             US  2022-04-30    2872203   31959     2840244"
            ]
          },
          "execution_count": 49,
          "metadata": {},
          "output_type": "execute_result"
        }
      ],
      "source": [
        "# Finding the state with the maximum deaths in March-April 2022:\n",
        "df_states[df_states[\"non_deaths\"] == max_nodeath_ma.max()]"
      ]
    },
    {
      "cell_type": "code",
      "execution_count": 50,
      "metadata": {
        "colab": {
          "base_uri": "https://localhost:8080/"
        },
        "id": "4hZlL6fn9yQr",
        "outputId": "07d08f36-bebf-4646-aee2-656e63869949"
      },
      "outputs": [
        {
          "data": {
            "text/plain": [
              "3085719"
            ]
          },
          "execution_count": 50,
          "metadata": {},
          "output_type": "execute_result"
        }
      ],
      "source": [
        "# The maximum non-deaths in May-June 2022:\n",
        "max_nodeath_mj = df_mayjun[\"non_deaths\"]\n",
        "max_nodeath_mj.max()"
      ]
    },
    {
      "cell_type": "code",
      "execution_count": 51,
      "metadata": {
        "colab": {
          "base_uri": "https://localhost:8080/",
          "height": 81
        },
        "id": "aDo8NkOl9543",
        "outputId": "7a8a3ecf-bac4-42e2-e563-4e2092804b3f"
      },
      "outputs": [
        {
          "data": {
            "text/html": [
              "<div>\n",
              "<style scoped>\n",
              "    .dataframe tbody tr th:only-of-type {\n",
              "        vertical-align: middle;\n",
              "    }\n",
              "\n",
              "    .dataframe tbody tr th {\n",
              "        vertical-align: top;\n",
              "    }\n",
              "\n",
              "    .dataframe thead th {\n",
              "        text-align: right;\n",
              "    }\n",
              "</style>\n",
              "<table border=\"1\" class=\"dataframe\">\n",
              "  <thead>\n",
              "    <tr style=\"text-align: right;\">\n",
              "      <th></th>\n",
              "      <th>province_state</th>\n",
              "      <th>country_region</th>\n",
              "      <th>date_input</th>\n",
              "      <th>confirmed</th>\n",
              "      <th>deaths</th>\n",
              "      <th>non_deaths</th>\n",
              "    </tr>\n",
              "  </thead>\n",
              "  <tbody>\n",
              "    <tr>\n",
              "      <th>36843</th>\n",
              "      <td>California</td>\n",
              "      <td>US</td>\n",
              "      <td>2022-06-30</td>\n",
              "      <td>3118053</td>\n",
              "      <td>32334</td>\n",
              "      <td>3085719</td>\n",
              "    </tr>\n",
              "  </tbody>\n",
              "</table>\n",
              "</div>"
            ],
            "text/plain": [
              "      province_state country_region  date_input  confirmed  deaths  non_deaths\n",
              "36843     California             US  2022-06-30    3118053   32334     3085719"
            ]
          },
          "execution_count": 51,
          "metadata": {},
          "output_type": "execute_result"
        }
      ],
      "source": [
        "# Finding the state with the maximum deaths in May-June 2022:\n",
        "df_states[df_states[\"non_deaths\"] == max_nodeath_mj.max()]"
      ]
    },
    {
      "cell_type": "markdown",
      "metadata": {
        "id": "KP42XwUucizw"
      },
      "source": [
        "*(c) Minimum numbers of confirmed cases*:\n",
        "\n",
        "Knowing that there are some zero values in some states, so the evaluation method for minimum confirmed cases will be different from maximum confirmed cases. From this, we can see there are at least 17 states with zero values with total reports 181. Meanwhile, `Texas` still holds the lowest confirmed cases as in the zero values, which is 18 reports."
      ]
    },
    {
      "cell_type": "code",
      "execution_count": 52,
      "metadata": {
        "colab": {
          "base_uri": "https://localhost:8080/"
        },
        "id": "7z42flM5co5k",
        "outputId": "974f73ca-a6d0-483d-c3b3-1e6ec0e46d85"
      },
      "outputs": [
        {
          "data": {
            "text/plain": [
              "0"
            ]
          },
          "execution_count": 52,
          "metadata": {},
          "output_type": "execute_result"
        }
      ],
      "source": [
        "min_confirmed_cases = df_states[\"confirmed\"]\n",
        "min_confirmed_cases.min()"
      ]
    },
    {
      "cell_type": "code",
      "execution_count": 53,
      "metadata": {
        "colab": {
          "base_uri": "https://localhost:8080/",
          "height": 424
        },
        "id": "2O_0D0NQcy4_",
        "outputId": "f18022b9-2430-4a9e-9374-3e050369bd6d"
      },
      "outputs": [
        {
          "data": {
            "text/html": [
              "<div>\n",
              "<style scoped>\n",
              "    .dataframe tbody tr th:only-of-type {\n",
              "        vertical-align: middle;\n",
              "    }\n",
              "\n",
              "    .dataframe tbody tr th {\n",
              "        vertical-align: top;\n",
              "    }\n",
              "\n",
              "    .dataframe thead th {\n",
              "        text-align: right;\n",
              "    }\n",
              "</style>\n",
              "<table border=\"1\" class=\"dataframe\">\n",
              "  <thead>\n",
              "    <tr style=\"text-align: right;\">\n",
              "      <th></th>\n",
              "      <th>province_state</th>\n",
              "      <th>country_region</th>\n",
              "      <th>date_input</th>\n",
              "      <th>confirmed</th>\n",
              "      <th>deaths</th>\n",
              "      <th>non_deaths</th>\n",
              "    </tr>\n",
              "  </thead>\n",
              "  <tbody>\n",
              "    <tr>\n",
              "      <th>52</th>\n",
              "      <td>Alabama</td>\n",
              "      <td>US</td>\n",
              "      <td>2022-04-25</td>\n",
              "      <td>0</td>\n",
              "      <td>0</td>\n",
              "      <td>0</td>\n",
              "    </tr>\n",
              "    <tr>\n",
              "      <th>120</th>\n",
              "      <td>Alabama</td>\n",
              "      <td>US</td>\n",
              "      <td>2022-03-17</td>\n",
              "      <td>0</td>\n",
              "      <td>0</td>\n",
              "      <td>0</td>\n",
              "    </tr>\n",
              "    <tr>\n",
              "      <th>188</th>\n",
              "      <td>Alabama</td>\n",
              "      <td>US</td>\n",
              "      <td>2022-02-09</td>\n",
              "      <td>0</td>\n",
              "      <td>0</td>\n",
              "      <td>0</td>\n",
              "    </tr>\n",
              "    <tr>\n",
              "      <th>256</th>\n",
              "      <td>Alabama</td>\n",
              "      <td>US</td>\n",
              "      <td>2022-06-29</td>\n",
              "      <td>0</td>\n",
              "      <td>0</td>\n",
              "      <td>0</td>\n",
              "    </tr>\n",
              "    <tr>\n",
              "      <th>324</th>\n",
              "      <td>Alabama</td>\n",
              "      <td>US</td>\n",
              "      <td>2022-03-30</td>\n",
              "      <td>0</td>\n",
              "      <td>0</td>\n",
              "      <td>0</td>\n",
              "    </tr>\n",
              "    <tr>\n",
              "      <th>...</th>\n",
              "      <td>...</td>\n",
              "      <td>...</td>\n",
              "      <td>...</td>\n",
              "      <td>...</td>\n",
              "      <td>...</td>\n",
              "      <td>...</td>\n",
              "    </tr>\n",
              "    <tr>\n",
              "      <th>592497</th>\n",
              "      <td>Wyoming</td>\n",
              "      <td>US</td>\n",
              "      <td>2022-02-23</td>\n",
              "      <td>0</td>\n",
              "      <td>0</td>\n",
              "      <td>0</td>\n",
              "    </tr>\n",
              "    <tr>\n",
              "      <th>592521</th>\n",
              "      <td>Wyoming</td>\n",
              "      <td>US</td>\n",
              "      <td>2022-02-06</td>\n",
              "      <td>0</td>\n",
              "      <td>0</td>\n",
              "      <td>0</td>\n",
              "    </tr>\n",
              "    <tr>\n",
              "      <th>592545</th>\n",
              "      <td>Wyoming</td>\n",
              "      <td>US</td>\n",
              "      <td>2022-04-11</td>\n",
              "      <td>0</td>\n",
              "      <td>0</td>\n",
              "      <td>0</td>\n",
              "    </tr>\n",
              "    <tr>\n",
              "      <th>592569</th>\n",
              "      <td>Wyoming</td>\n",
              "      <td>US</td>\n",
              "      <td>2022-01-27</td>\n",
              "      <td>0</td>\n",
              "      <td>0</td>\n",
              "      <td>0</td>\n",
              "    </tr>\n",
              "    <tr>\n",
              "      <th>592593</th>\n",
              "      <td>Wyoming</td>\n",
              "      <td>US</td>\n",
              "      <td>2022-04-27</td>\n",
              "      <td>0</td>\n",
              "      <td>0</td>\n",
              "      <td>0</td>\n",
              "    </tr>\n",
              "  </tbody>\n",
              "</table>\n",
              "<p>4161 rows × 6 columns</p>\n",
              "</div>"
            ],
            "text/plain": [
              "       province_state country_region  date_input  confirmed  deaths  \\\n",
              "52            Alabama             US  2022-04-25          0       0   \n",
              "120           Alabama             US  2022-03-17          0       0   \n",
              "188           Alabama             US  2022-02-09          0       0   \n",
              "256           Alabama             US  2022-06-29          0       0   \n",
              "324           Alabama             US  2022-03-30          0       0   \n",
              "...               ...            ...         ...        ...     ...   \n",
              "592497        Wyoming             US  2022-02-23          0       0   \n",
              "592521        Wyoming             US  2022-02-06          0       0   \n",
              "592545        Wyoming             US  2022-04-11          0       0   \n",
              "592569        Wyoming             US  2022-01-27          0       0   \n",
              "592593        Wyoming             US  2022-04-27          0       0   \n",
              "\n",
              "        non_deaths  \n",
              "52               0  \n",
              "120              0  \n",
              "188              0  \n",
              "256              0  \n",
              "324              0  \n",
              "...            ...  \n",
              "592497           0  \n",
              "592521           0  \n",
              "592545           0  \n",
              "592569           0  \n",
              "592593           0  \n",
              "\n",
              "[4161 rows x 6 columns]"
            ]
          },
          "execution_count": 53,
          "metadata": {},
          "output_type": "execute_result"
        }
      ],
      "source": [
        "# Finding the state with the maximum confirmed case January-June 2022:\n",
        "df_states_min = df_states[df_states[\"confirmed\"] == min_confirmed_cases.min()]\n",
        "df_states_min"
      ]
    },
    {
      "cell_type": "code",
      "execution_count": 54,
      "metadata": {
        "colab": {
          "base_uri": "https://localhost:8080/"
        },
        "id": "o3fabw75ooXX",
        "outputId": "57c19b0b-419a-4785-ef39-fe32d13a7070"
      },
      "outputs": [
        {
          "data": {
            "text/plain": [
              "Alabama           181\n",
              "Maine             181\n",
              "West Virginia     181\n",
              "Virginia          181\n",
              "South Dakota      181\n",
              "Pennsylvania      181\n",
              "Oklahoma          181\n",
              "Nevada            181\n",
              "Alaska            181\n",
              "Missouri          181\n",
              "Montana           181\n",
              "Louisiana         181\n",
              "Kansas            181\n",
              "Hawaii            181\n",
              "Colorado          181\n",
              "California        181\n",
              "Arizona           181\n",
              "Oregon            179\n",
              "South Carolina    175\n",
              "Wyoming           173\n",
              "Wisconsin         167\n",
              "Idaho             153\n",
              "North Carolina     82\n",
              "Mississippi        81\n",
              "North Dakota       35\n",
              "Iowa               21\n",
              "Texas              18\n",
              "Name: province_state, dtype: int64"
            ]
          },
          "execution_count": 54,
          "metadata": {},
          "output_type": "execute_result"
        }
      ],
      "source": [
        "# Most frequent value from `df_states_min` column\n",
        "df_states_min[\"province_state\"].value_counts()"
      ]
    },
    {
      "cell_type": "markdown",
      "metadata": {
        "id": "hsKFqxQ4tKmq"
      },
      "source": [
        "*(d) Average in each state based on confirmed cases, deaths, and non-deaths*\n",
        "\n",
        "This part will show the average of confirmed cases, deaths, and non-deaths and is sorted from the highest to the lowest.\n",
        "\n",
        "As the highest average in a state:\n",
        "- The average of confirmed cases reported as the highest `California`, with number of cases: `147830.97`\n",
        "- The average of deaths reported as the highest `Arizona`, with number of cases: `1762.10`\n",
        "- The average of non-deaths reported as the highest `California`, with number of cases: `146384.10`\n",
        "\n",
        "As the lowest average in a state:\n",
        "- The average of confirmed cases reported as the lowest `South Dakota`, with number of cases: `3462.48`\n",
        "- The average of deaths reported as the lowest `Alaska`, with number of cases: `39.68`\n",
        "- The average of non-deaths reported as the lowest `South Dakota`, with number of cases: `3420.40`"
      ]
    },
    {
      "cell_type": "code",
      "execution_count": 55,
      "metadata": {
        "colab": {
          "base_uri": "https://localhost:8080/",
          "height": 1000
        },
        "id": "O2pj6K9itWxH",
        "outputId": "d39d831b-b8cb-4b12-9ccc-ab9bf122ef0e"
      },
      "outputs": [
        {
          "data": {
            "text/html": [
              "<div>\n",
              "<style scoped>\n",
              "    .dataframe tbody tr th:only-of-type {\n",
              "        vertical-align: middle;\n",
              "    }\n",
              "\n",
              "    .dataframe tbody tr th {\n",
              "        vertical-align: top;\n",
              "    }\n",
              "\n",
              "    .dataframe thead th {\n",
              "        text-align: right;\n",
              "    }\n",
              "</style>\n",
              "<table border=\"1\" class=\"dataframe\">\n",
              "  <thead>\n",
              "    <tr style=\"text-align: right;\">\n",
              "      <th></th>\n",
              "      <th>province_state</th>\n",
              "      <th>confirmed</th>\n",
              "    </tr>\n",
              "  </thead>\n",
              "  <tbody>\n",
              "    <tr>\n",
              "      <th>4</th>\n",
              "      <td>California</td>\n",
              "      <td>147830.97</td>\n",
              "    </tr>\n",
              "    <tr>\n",
              "      <th>20</th>\n",
              "      <td>Massachusetts</td>\n",
              "      <td>121373.64</td>\n",
              "    </tr>\n",
              "    <tr>\n",
              "      <th>2</th>\n",
              "      <td>Arizona</td>\n",
              "      <td>120213.96</td>\n",
              "    </tr>\n",
              "    <tr>\n",
              "      <th>29</th>\n",
              "      <td>New Jersey</td>\n",
              "      <td>100491.27</td>\n",
              "    </tr>\n",
              "    <tr>\n",
              "      <th>8</th>\n",
              "      <td>Florida</td>\n",
              "      <td>85529.25</td>\n",
              "    </tr>\n",
              "    <tr>\n",
              "      <th>6</th>\n",
              "      <td>Connecticut</td>\n",
              "      <td>81944.94</td>\n",
              "    </tr>\n",
              "    <tr>\n",
              "      <th>31</th>\n",
              "      <td>New York</td>\n",
              "      <td>79674.64</td>\n",
              "    </tr>\n",
              "    <tr>\n",
              "      <th>43</th>\n",
              "      <td>Utah</td>\n",
              "      <td>64677.96</td>\n",
              "    </tr>\n",
              "    <tr>\n",
              "      <th>7</th>\n",
              "      <td>Delaware</td>\n",
              "      <td>64314.89</td>\n",
              "    </tr>\n",
              "    <tr>\n",
              "      <th>38</th>\n",
              "      <td>Rhode Island</td>\n",
              "      <td>59902.85</td>\n",
              "    </tr>\n",
              "    <tr>\n",
              "      <th>19</th>\n",
              "      <td>Maryland</td>\n",
              "      <td>41641.34</td>\n",
              "    </tr>\n",
              "    <tr>\n",
              "      <th>37</th>\n",
              "      <td>Pennsylvania</td>\n",
              "      <td>40500.27</td>\n",
              "    </tr>\n",
              "    <tr>\n",
              "      <th>10</th>\n",
              "      <td>Hawaii</td>\n",
              "      <td>39947.96</td>\n",
              "    </tr>\n",
              "    <tr>\n",
              "      <th>27</th>\n",
              "      <td>Nevada</td>\n",
              "      <td>38094.71</td>\n",
              "    </tr>\n",
              "    <tr>\n",
              "      <th>46</th>\n",
              "      <td>Washington</td>\n",
              "      <td>35575.77</td>\n",
              "    </tr>\n",
              "    <tr>\n",
              "      <th>39</th>\n",
              "      <td>South Carolina</td>\n",
              "      <td>30324.99</td>\n",
              "    </tr>\n",
              "    <tr>\n",
              "      <th>34</th>\n",
              "      <td>Ohio</td>\n",
              "      <td>30016.82</td>\n",
              "    </tr>\n",
              "    <tr>\n",
              "      <th>12</th>\n",
              "      <td>Illinois</td>\n",
              "      <td>29648.94</td>\n",
              "    </tr>\n",
              "    <tr>\n",
              "      <th>21</th>\n",
              "      <td>Michigan</td>\n",
              "      <td>27116.15</td>\n",
              "    </tr>\n",
              "    <tr>\n",
              "      <th>28</th>\n",
              "      <td>New Hampshire</td>\n",
              "      <td>26985.70</td>\n",
              "    </tr>\n",
              "    <tr>\n",
              "      <th>42</th>\n",
              "      <td>Texas</td>\n",
              "      <td>25758.93</td>\n",
              "    </tr>\n",
              "    <tr>\n",
              "      <th>32</th>\n",
              "      <td>North Carolina</td>\n",
              "      <td>25322.35</td>\n",
              "    </tr>\n",
              "    <tr>\n",
              "      <th>48</th>\n",
              "      <td>Wisconsin</td>\n",
              "      <td>21463.58</td>\n",
              "    </tr>\n",
              "    <tr>\n",
              "      <th>5</th>\n",
              "      <td>Colorado</td>\n",
              "      <td>20208.59</td>\n",
              "    </tr>\n",
              "    <tr>\n",
              "      <th>41</th>\n",
              "      <td>Tennessee</td>\n",
              "      <td>20105.60</td>\n",
              "    </tr>\n",
              "    <tr>\n",
              "      <th>36</th>\n",
              "      <td>Oregon</td>\n",
              "      <td>18645.35</td>\n",
              "    </tr>\n",
              "    <tr>\n",
              "      <th>0</th>\n",
              "      <td>Alabama</td>\n",
              "      <td>18479.21</td>\n",
              "    </tr>\n",
              "    <tr>\n",
              "      <th>13</th>\n",
              "      <td>Indiana</td>\n",
              "      <td>18034.42</td>\n",
              "    </tr>\n",
              "    <tr>\n",
              "      <th>17</th>\n",
              "      <td>Louisiana</td>\n",
              "      <td>17349.04</td>\n",
              "    </tr>\n",
              "    <tr>\n",
              "      <th>22</th>\n",
              "      <td>Minnesota</td>\n",
              "      <td>15947.39</td>\n",
              "    </tr>\n",
              "    <tr>\n",
              "      <th>9</th>\n",
              "      <td>Georgia</td>\n",
              "      <td>15186.48</td>\n",
              "    </tr>\n",
              "    <tr>\n",
              "      <th>30</th>\n",
              "      <td>New Mexico</td>\n",
              "      <td>14815.06</td>\n",
              "    </tr>\n",
              "    <tr>\n",
              "      <th>35</th>\n",
              "      <td>Oklahoma</td>\n",
              "      <td>12728.85</td>\n",
              "    </tr>\n",
              "    <tr>\n",
              "      <th>18</th>\n",
              "      <td>Maine</td>\n",
              "      <td>12551.11</td>\n",
              "    </tr>\n",
              "    <tr>\n",
              "      <th>45</th>\n",
              "      <td>Virginia</td>\n",
              "      <td>12277.50</td>\n",
              "    </tr>\n",
              "    <tr>\n",
              "      <th>24</th>\n",
              "      <td>Missouri</td>\n",
              "      <td>11844.70</td>\n",
              "    </tr>\n",
              "    <tr>\n",
              "      <th>3</th>\n",
              "      <td>Arkansas</td>\n",
              "      <td>10601.89</td>\n",
              "    </tr>\n",
              "    <tr>\n",
              "      <th>16</th>\n",
              "      <td>Kentucky</td>\n",
              "      <td>10427.81</td>\n",
              "    </tr>\n",
              "    <tr>\n",
              "      <th>11</th>\n",
              "      <td>Idaho</td>\n",
              "      <td>9409.54</td>\n",
              "    </tr>\n",
              "    <tr>\n",
              "      <th>23</th>\n",
              "      <td>Mississippi</td>\n",
              "      <td>9281.90</td>\n",
              "    </tr>\n",
              "    <tr>\n",
              "      <th>47</th>\n",
              "      <td>West Virginia</td>\n",
              "      <td>8591.86</td>\n",
              "    </tr>\n",
              "    <tr>\n",
              "      <th>1</th>\n",
              "      <td>Alaska</td>\n",
              "      <td>7948.72</td>\n",
              "    </tr>\n",
              "    <tr>\n",
              "      <th>44</th>\n",
              "      <td>Vermont</td>\n",
              "      <td>7702.17</td>\n",
              "    </tr>\n",
              "    <tr>\n",
              "      <th>14</th>\n",
              "      <td>Iowa</td>\n",
              "      <td>7435.14</td>\n",
              "    </tr>\n",
              "    <tr>\n",
              "      <th>15</th>\n",
              "      <td>Kansas</td>\n",
              "      <td>7076.50</td>\n",
              "    </tr>\n",
              "    <tr>\n",
              "      <th>49</th>\n",
              "      <td>Wyoming</td>\n",
              "      <td>6334.98</td>\n",
              "    </tr>\n",
              "    <tr>\n",
              "      <th>26</th>\n",
              "      <td>Nebraska</td>\n",
              "      <td>4928.18</td>\n",
              "    </tr>\n",
              "    <tr>\n",
              "      <th>25</th>\n",
              "      <td>Montana</td>\n",
              "      <td>4605.11</td>\n",
              "    </tr>\n",
              "    <tr>\n",
              "      <th>33</th>\n",
              "      <td>North Dakota</td>\n",
              "      <td>4374.50</td>\n",
              "    </tr>\n",
              "    <tr>\n",
              "      <th>40</th>\n",
              "      <td>South Dakota</td>\n",
              "      <td>3462.48</td>\n",
              "    </tr>\n",
              "  </tbody>\n",
              "</table>\n",
              "</div>"
            ],
            "text/plain": [
              "    province_state  confirmed\n",
              "4       California  147830.97\n",
              "20   Massachusetts  121373.64\n",
              "2          Arizona  120213.96\n",
              "29      New Jersey  100491.27\n",
              "8          Florida   85529.25\n",
              "6      Connecticut   81944.94\n",
              "31        New York   79674.64\n",
              "43            Utah   64677.96\n",
              "7         Delaware   64314.89\n",
              "38    Rhode Island   59902.85\n",
              "19        Maryland   41641.34\n",
              "37    Pennsylvania   40500.27\n",
              "10          Hawaii   39947.96\n",
              "27          Nevada   38094.71\n",
              "46      Washington   35575.77\n",
              "39  South Carolina   30324.99\n",
              "34            Ohio   30016.82\n",
              "12        Illinois   29648.94\n",
              "21        Michigan   27116.15\n",
              "28   New Hampshire   26985.70\n",
              "42           Texas   25758.93\n",
              "32  North Carolina   25322.35\n",
              "48       Wisconsin   21463.58\n",
              "5         Colorado   20208.59\n",
              "41       Tennessee   20105.60\n",
              "36          Oregon   18645.35\n",
              "0          Alabama   18479.21\n",
              "13         Indiana   18034.42\n",
              "17       Louisiana   17349.04\n",
              "22       Minnesota   15947.39\n",
              "9          Georgia   15186.48\n",
              "30      New Mexico   14815.06\n",
              "35        Oklahoma   12728.85\n",
              "18           Maine   12551.11\n",
              "45        Virginia   12277.50\n",
              "24        Missouri   11844.70\n",
              "3         Arkansas   10601.89\n",
              "16        Kentucky   10427.81\n",
              "11           Idaho    9409.54\n",
              "23     Mississippi    9281.90\n",
              "47   West Virginia    8591.86\n",
              "1           Alaska    7948.72\n",
              "44         Vermont    7702.17\n",
              "14            Iowa    7435.14\n",
              "15          Kansas    7076.50\n",
              "49         Wyoming    6334.98\n",
              "26        Nebraska    4928.18\n",
              "25         Montana    4605.11\n",
              "33    North Dakota    4374.50\n",
              "40    South Dakota    3462.48"
            ]
          },
          "execution_count": 55,
          "metadata": {},
          "output_type": "execute_result"
        }
      ],
      "source": [
        "# Finding the average in each state based on  `confirmed cases` in January-June 2022:\n",
        "avg_states = df_states.groupby('province_state', as_index=False).confirmed.mean()\n",
        "avg_states.sort_values(by='confirmed', ascending=False)"
      ]
    },
    {
      "cell_type": "code",
      "execution_count": 56,
      "metadata": {
        "colab": {
          "base_uri": "https://localhost:8080/",
          "height": 1000
        },
        "id": "YCvbj0fJxox8",
        "outputId": "7dcd99f3-b6c8-49de-a80b-3bdaedf5825b"
      },
      "outputs": [
        {
          "data": {
            "text/html": [
              "<div>\n",
              "<style scoped>\n",
              "    .dataframe tbody tr th:only-of-type {\n",
              "        vertical-align: middle;\n",
              "    }\n",
              "\n",
              "    .dataframe tbody tr th {\n",
              "        vertical-align: top;\n",
              "    }\n",
              "\n",
              "    .dataframe thead th {\n",
              "        text-align: right;\n",
              "    }\n",
              "</style>\n",
              "<table border=\"1\" class=\"dataframe\">\n",
              "  <thead>\n",
              "    <tr style=\"text-align: right;\">\n",
              "      <th></th>\n",
              "      <th>province_state</th>\n",
              "      <th>deaths</th>\n",
              "    </tr>\n",
              "  </thead>\n",
              "  <tbody>\n",
              "    <tr>\n",
              "      <th>2</th>\n",
              "      <td>Arizona</td>\n",
              "      <td>1762.10</td>\n",
              "    </tr>\n",
              "    <tr>\n",
              "      <th>20</th>\n",
              "      <td>Massachusetts</td>\n",
              "      <td>1509.10</td>\n",
              "    </tr>\n",
              "    <tr>\n",
              "      <th>29</th>\n",
              "      <td>New Jersey</td>\n",
              "      <td>1488.18</td>\n",
              "    </tr>\n",
              "    <tr>\n",
              "      <th>4</th>\n",
              "      <td>California</td>\n",
              "      <td>1446.87</td>\n",
              "    </tr>\n",
              "    <tr>\n",
              "      <th>6</th>\n",
              "      <td>Connecticut</td>\n",
              "      <td>1171.47</td>\n",
              "    </tr>\n",
              "    <tr>\n",
              "      <th>31</th>\n",
              "      <td>New York</td>\n",
              "      <td>1057.46</td>\n",
              "    </tr>\n",
              "    <tr>\n",
              "      <th>8</th>\n",
              "      <td>Florida</td>\n",
              "      <td>1035.98</td>\n",
              "    </tr>\n",
              "    <tr>\n",
              "      <th>7</th>\n",
              "      <td>Delaware</td>\n",
              "      <td>693.44</td>\n",
              "    </tr>\n",
              "    <tr>\n",
              "      <th>37</th>\n",
              "      <td>Pennsylvania</td>\n",
              "      <td>636.35</td>\n",
              "    </tr>\n",
              "    <tr>\n",
              "      <th>19</th>\n",
              "      <td>Maryland</td>\n",
              "      <td>579.52</td>\n",
              "    </tr>\n",
              "    <tr>\n",
              "      <th>38</th>\n",
              "      <td>Rhode Island</td>\n",
              "      <td>574.61</td>\n",
              "    </tr>\n",
              "    <tr>\n",
              "      <th>27</th>\n",
              "      <td>Nevada</td>\n",
              "      <td>557.18</td>\n",
              "    </tr>\n",
              "    <tr>\n",
              "      <th>34</th>\n",
              "      <td>Ohio</td>\n",
              "      <td>415.33</td>\n",
              "    </tr>\n",
              "    <tr>\n",
              "      <th>21</th>\n",
              "      <td>Michigan</td>\n",
              "      <td>398.92</td>\n",
              "    </tr>\n",
              "    <tr>\n",
              "      <th>39</th>\n",
              "      <td>South Carolina</td>\n",
              "      <td>362.28</td>\n",
              "    </tr>\n",
              "    <tr>\n",
              "      <th>42</th>\n",
              "      <td>Texas</td>\n",
              "      <td>334.22</td>\n",
              "    </tr>\n",
              "    <tr>\n",
              "      <th>43</th>\n",
              "      <td>Utah</td>\n",
              "      <td>322.93</td>\n",
              "    </tr>\n",
              "    <tr>\n",
              "      <th>12</th>\n",
              "      <td>Illinois</td>\n",
              "      <td>316.42</td>\n",
              "    </tr>\n",
              "    <tr>\n",
              "      <th>46</th>\n",
              "      <td>Washington</td>\n",
              "      <td>301.51</td>\n",
              "    </tr>\n",
              "    <tr>\n",
              "      <th>0</th>\n",
              "      <td>Alabama</td>\n",
              "      <td>274.85</td>\n",
              "    </tr>\n",
              "    <tr>\n",
              "      <th>41</th>\n",
              "      <td>Tennessee</td>\n",
              "      <td>255.93</td>\n",
              "    </tr>\n",
              "    <tr>\n",
              "      <th>17</th>\n",
              "      <td>Louisiana</td>\n",
              "      <td>253.23</td>\n",
              "    </tr>\n",
              "    <tr>\n",
              "      <th>13</th>\n",
              "      <td>Indiana</td>\n",
              "      <td>242.93</td>\n",
              "    </tr>\n",
              "    <tr>\n",
              "      <th>32</th>\n",
              "      <td>North Carolina</td>\n",
              "      <td>227.16</td>\n",
              "    </tr>\n",
              "    <tr>\n",
              "      <th>9</th>\n",
              "      <td>Georgia</td>\n",
              "      <td>224.24</td>\n",
              "    </tr>\n",
              "    <tr>\n",
              "      <th>10</th>\n",
              "      <td>Hawaii</td>\n",
              "      <td>223.88</td>\n",
              "    </tr>\n",
              "    <tr>\n",
              "      <th>28</th>\n",
              "      <td>New Hampshire</td>\n",
              "      <td>217.45</td>\n",
              "    </tr>\n",
              "    <tr>\n",
              "      <th>30</th>\n",
              "      <td>New Mexico</td>\n",
              "      <td>210.14</td>\n",
              "    </tr>\n",
              "    <tr>\n",
              "      <th>36</th>\n",
              "      <td>Oregon</td>\n",
              "      <td>188.50</td>\n",
              "    </tr>\n",
              "    <tr>\n",
              "      <th>48</th>\n",
              "      <td>Wisconsin</td>\n",
              "      <td>187.47</td>\n",
              "    </tr>\n",
              "    <tr>\n",
              "      <th>35</th>\n",
              "      <td>Oklahoma</td>\n",
              "      <td>182.53</td>\n",
              "    </tr>\n",
              "    <tr>\n",
              "      <th>5</th>\n",
              "      <td>Colorado</td>\n",
              "      <td>180.21</td>\n",
              "    </tr>\n",
              "    <tr>\n",
              "      <th>24</th>\n",
              "      <td>Missouri</td>\n",
              "      <td>165.92</td>\n",
              "    </tr>\n",
              "    <tr>\n",
              "      <th>23</th>\n",
              "      <td>Mississippi</td>\n",
              "      <td>144.43</td>\n",
              "    </tr>\n",
              "    <tr>\n",
              "      <th>3</th>\n",
              "      <td>Arkansas</td>\n",
              "      <td>142.14</td>\n",
              "    </tr>\n",
              "    <tr>\n",
              "      <th>45</th>\n",
              "      <td>Virginia</td>\n",
              "      <td>141.29</td>\n",
              "    </tr>\n",
              "    <tr>\n",
              "      <th>22</th>\n",
              "      <td>Minnesota</td>\n",
              "      <td>140.59</td>\n",
              "    </tr>\n",
              "    <tr>\n",
              "      <th>16</th>\n",
              "      <td>Kentucky</td>\n",
              "      <td>120.46</td>\n",
              "    </tr>\n",
              "    <tr>\n",
              "      <th>18</th>\n",
              "      <td>Maine</td>\n",
              "      <td>117.47</td>\n",
              "    </tr>\n",
              "    <tr>\n",
              "      <th>47</th>\n",
              "      <td>West Virginia</td>\n",
              "      <td>115.85</td>\n",
              "    </tr>\n",
              "    <tr>\n",
              "      <th>11</th>\n",
              "      <td>Idaho</td>\n",
              "      <td>105.58</td>\n",
              "    </tr>\n",
              "    <tr>\n",
              "      <th>14</th>\n",
              "      <td>Iowa</td>\n",
              "      <td>91.77</td>\n",
              "    </tr>\n",
              "    <tr>\n",
              "      <th>15</th>\n",
              "      <td>Kansas</td>\n",
              "      <td>77.44</td>\n",
              "    </tr>\n",
              "    <tr>\n",
              "      <th>49</th>\n",
              "      <td>Wyoming</td>\n",
              "      <td>72.80</td>\n",
              "    </tr>\n",
              "    <tr>\n",
              "      <th>25</th>\n",
              "      <td>Montana</td>\n",
              "      <td>56.61</td>\n",
              "    </tr>\n",
              "    <tr>\n",
              "      <th>26</th>\n",
              "      <td>Nebraska</td>\n",
              "      <td>42.94</td>\n",
              "    </tr>\n",
              "    <tr>\n",
              "      <th>40</th>\n",
              "      <td>South Dakota</td>\n",
              "      <td>42.08</td>\n",
              "    </tr>\n",
              "    <tr>\n",
              "      <th>33</th>\n",
              "      <td>North Dakota</td>\n",
              "      <td>41.16</td>\n",
              "    </tr>\n",
              "    <tr>\n",
              "      <th>44</th>\n",
              "      <td>Vermont</td>\n",
              "      <td>40.39</td>\n",
              "    </tr>\n",
              "    <tr>\n",
              "      <th>1</th>\n",
              "      <td>Alaska</td>\n",
              "      <td>39.68</td>\n",
              "    </tr>\n",
              "  </tbody>\n",
              "</table>\n",
              "</div>"
            ],
            "text/plain": [
              "    province_state  deaths\n",
              "2          Arizona 1762.10\n",
              "20   Massachusetts 1509.10\n",
              "29      New Jersey 1488.18\n",
              "4       California 1446.87\n",
              "6      Connecticut 1171.47\n",
              "31        New York 1057.46\n",
              "8          Florida 1035.98\n",
              "7         Delaware  693.44\n",
              "37    Pennsylvania  636.35\n",
              "19        Maryland  579.52\n",
              "38    Rhode Island  574.61\n",
              "27          Nevada  557.18\n",
              "34            Ohio  415.33\n",
              "21        Michigan  398.92\n",
              "39  South Carolina  362.28\n",
              "42           Texas  334.22\n",
              "43            Utah  322.93\n",
              "12        Illinois  316.42\n",
              "46      Washington  301.51\n",
              "0          Alabama  274.85\n",
              "41       Tennessee  255.93\n",
              "17       Louisiana  253.23\n",
              "13         Indiana  242.93\n",
              "32  North Carolina  227.16\n",
              "9          Georgia  224.24\n",
              "10          Hawaii  223.88\n",
              "28   New Hampshire  217.45\n",
              "30      New Mexico  210.14\n",
              "36          Oregon  188.50\n",
              "48       Wisconsin  187.47\n",
              "35        Oklahoma  182.53\n",
              "5         Colorado  180.21\n",
              "24        Missouri  165.92\n",
              "23     Mississippi  144.43\n",
              "3         Arkansas  142.14\n",
              "45        Virginia  141.29\n",
              "22       Minnesota  140.59\n",
              "16        Kentucky  120.46\n",
              "18           Maine  117.47\n",
              "47   West Virginia  115.85\n",
              "11           Idaho  105.58\n",
              "14            Iowa   91.77\n",
              "15          Kansas   77.44\n",
              "49         Wyoming   72.80\n",
              "25         Montana   56.61\n",
              "26        Nebraska   42.94\n",
              "40    South Dakota   42.08\n",
              "33    North Dakota   41.16\n",
              "44         Vermont   40.39\n",
              "1           Alaska   39.68"
            ]
          },
          "execution_count": 56,
          "metadata": {},
          "output_type": "execute_result"
        }
      ],
      "source": [
        "# Finding the average in each state based on `deaths` in January-June 2022:\n",
        "avg_dstates = df_states.groupby('province_state', as_index=False).deaths.mean()\n",
        "avg_dstates.sort_values(by='deaths', ascending=False)"
      ]
    },
    {
      "cell_type": "code",
      "execution_count": 57,
      "metadata": {
        "colab": {
          "base_uri": "https://localhost:8080/",
          "height": 1000
        },
        "id": "NtX8FFdVx8De",
        "outputId": "5088265b-793e-47c6-9461-e746d823f520"
      },
      "outputs": [
        {
          "data": {
            "text/html": [
              "<div>\n",
              "<style scoped>\n",
              "    .dataframe tbody tr th:only-of-type {\n",
              "        vertical-align: middle;\n",
              "    }\n",
              "\n",
              "    .dataframe tbody tr th {\n",
              "        vertical-align: top;\n",
              "    }\n",
              "\n",
              "    .dataframe thead th {\n",
              "        text-align: right;\n",
              "    }\n",
              "</style>\n",
              "<table border=\"1\" class=\"dataframe\">\n",
              "  <thead>\n",
              "    <tr style=\"text-align: right;\">\n",
              "      <th></th>\n",
              "      <th>province_state</th>\n",
              "      <th>non_deaths</th>\n",
              "    </tr>\n",
              "  </thead>\n",
              "  <tbody>\n",
              "    <tr>\n",
              "      <th>4</th>\n",
              "      <td>California</td>\n",
              "      <td>146384.10</td>\n",
              "    </tr>\n",
              "    <tr>\n",
              "      <th>20</th>\n",
              "      <td>Massachusetts</td>\n",
              "      <td>119864.54</td>\n",
              "    </tr>\n",
              "    <tr>\n",
              "      <th>2</th>\n",
              "      <td>Arizona</td>\n",
              "      <td>118451.86</td>\n",
              "    </tr>\n",
              "    <tr>\n",
              "      <th>29</th>\n",
              "      <td>New Jersey</td>\n",
              "      <td>99003.09</td>\n",
              "    </tr>\n",
              "    <tr>\n",
              "      <th>8</th>\n",
              "      <td>Florida</td>\n",
              "      <td>84493.28</td>\n",
              "    </tr>\n",
              "    <tr>\n",
              "      <th>6</th>\n",
              "      <td>Connecticut</td>\n",
              "      <td>80773.47</td>\n",
              "    </tr>\n",
              "    <tr>\n",
              "      <th>31</th>\n",
              "      <td>New York</td>\n",
              "      <td>78617.18</td>\n",
              "    </tr>\n",
              "    <tr>\n",
              "      <th>43</th>\n",
              "      <td>Utah</td>\n",
              "      <td>64355.03</td>\n",
              "    </tr>\n",
              "    <tr>\n",
              "      <th>7</th>\n",
              "      <td>Delaware</td>\n",
              "      <td>63621.45</td>\n",
              "    </tr>\n",
              "    <tr>\n",
              "      <th>38</th>\n",
              "      <td>Rhode Island</td>\n",
              "      <td>59328.24</td>\n",
              "    </tr>\n",
              "    <tr>\n",
              "      <th>19</th>\n",
              "      <td>Maryland</td>\n",
              "      <td>41061.83</td>\n",
              "    </tr>\n",
              "    <tr>\n",
              "      <th>37</th>\n",
              "      <td>Pennsylvania</td>\n",
              "      <td>39863.92</td>\n",
              "    </tr>\n",
              "    <tr>\n",
              "      <th>10</th>\n",
              "      <td>Hawaii</td>\n",
              "      <td>39724.07</td>\n",
              "    </tr>\n",
              "    <tr>\n",
              "      <th>27</th>\n",
              "      <td>Nevada</td>\n",
              "      <td>37537.53</td>\n",
              "    </tr>\n",
              "    <tr>\n",
              "      <th>46</th>\n",
              "      <td>Washington</td>\n",
              "      <td>35274.25</td>\n",
              "    </tr>\n",
              "    <tr>\n",
              "      <th>39</th>\n",
              "      <td>South Carolina</td>\n",
              "      <td>29962.71</td>\n",
              "    </tr>\n",
              "    <tr>\n",
              "      <th>34</th>\n",
              "      <td>Ohio</td>\n",
              "      <td>29601.49</td>\n",
              "    </tr>\n",
              "    <tr>\n",
              "      <th>12</th>\n",
              "      <td>Illinois</td>\n",
              "      <td>29332.52</td>\n",
              "    </tr>\n",
              "    <tr>\n",
              "      <th>28</th>\n",
              "      <td>New Hampshire</td>\n",
              "      <td>26768.25</td>\n",
              "    </tr>\n",
              "    <tr>\n",
              "      <th>21</th>\n",
              "      <td>Michigan</td>\n",
              "      <td>26717.23</td>\n",
              "    </tr>\n",
              "    <tr>\n",
              "      <th>42</th>\n",
              "      <td>Texas</td>\n",
              "      <td>25424.71</td>\n",
              "    </tr>\n",
              "    <tr>\n",
              "      <th>32</th>\n",
              "      <td>North Carolina</td>\n",
              "      <td>25095.19</td>\n",
              "    </tr>\n",
              "    <tr>\n",
              "      <th>48</th>\n",
              "      <td>Wisconsin</td>\n",
              "      <td>21276.11</td>\n",
              "    </tr>\n",
              "    <tr>\n",
              "      <th>5</th>\n",
              "      <td>Colorado</td>\n",
              "      <td>20028.38</td>\n",
              "    </tr>\n",
              "    <tr>\n",
              "      <th>41</th>\n",
              "      <td>Tennessee</td>\n",
              "      <td>19849.66</td>\n",
              "    </tr>\n",
              "    <tr>\n",
              "      <th>36</th>\n",
              "      <td>Oregon</td>\n",
              "      <td>18456.85</td>\n",
              "    </tr>\n",
              "    <tr>\n",
              "      <th>0</th>\n",
              "      <td>Alabama</td>\n",
              "      <td>18204.36</td>\n",
              "    </tr>\n",
              "    <tr>\n",
              "      <th>13</th>\n",
              "      <td>Indiana</td>\n",
              "      <td>17791.49</td>\n",
              "    </tr>\n",
              "    <tr>\n",
              "      <th>17</th>\n",
              "      <td>Louisiana</td>\n",
              "      <td>17095.81</td>\n",
              "    </tr>\n",
              "    <tr>\n",
              "      <th>22</th>\n",
              "      <td>Minnesota</td>\n",
              "      <td>15806.80</td>\n",
              "    </tr>\n",
              "    <tr>\n",
              "      <th>9</th>\n",
              "      <td>Georgia</td>\n",
              "      <td>14962.23</td>\n",
              "    </tr>\n",
              "    <tr>\n",
              "      <th>30</th>\n",
              "      <td>New Mexico</td>\n",
              "      <td>14604.92</td>\n",
              "    </tr>\n",
              "    <tr>\n",
              "      <th>35</th>\n",
              "      <td>Oklahoma</td>\n",
              "      <td>12546.32</td>\n",
              "    </tr>\n",
              "    <tr>\n",
              "      <th>18</th>\n",
              "      <td>Maine</td>\n",
              "      <td>12433.64</td>\n",
              "    </tr>\n",
              "    <tr>\n",
              "      <th>45</th>\n",
              "      <td>Virginia</td>\n",
              "      <td>12136.21</td>\n",
              "    </tr>\n",
              "    <tr>\n",
              "      <th>24</th>\n",
              "      <td>Missouri</td>\n",
              "      <td>11678.78</td>\n",
              "    </tr>\n",
              "    <tr>\n",
              "      <th>3</th>\n",
              "      <td>Arkansas</td>\n",
              "      <td>10459.75</td>\n",
              "    </tr>\n",
              "    <tr>\n",
              "      <th>16</th>\n",
              "      <td>Kentucky</td>\n",
              "      <td>10307.35</td>\n",
              "    </tr>\n",
              "    <tr>\n",
              "      <th>11</th>\n",
              "      <td>Idaho</td>\n",
              "      <td>9303.96</td>\n",
              "    </tr>\n",
              "    <tr>\n",
              "      <th>23</th>\n",
              "      <td>Mississippi</td>\n",
              "      <td>9137.46</td>\n",
              "    </tr>\n",
              "    <tr>\n",
              "      <th>47</th>\n",
              "      <td>West Virginia</td>\n",
              "      <td>8476.01</td>\n",
              "    </tr>\n",
              "    <tr>\n",
              "      <th>1</th>\n",
              "      <td>Alaska</td>\n",
              "      <td>7909.04</td>\n",
              "    </tr>\n",
              "    <tr>\n",
              "      <th>44</th>\n",
              "      <td>Vermont</td>\n",
              "      <td>7661.78</td>\n",
              "    </tr>\n",
              "    <tr>\n",
              "      <th>14</th>\n",
              "      <td>Iowa</td>\n",
              "      <td>7343.37</td>\n",
              "    </tr>\n",
              "    <tr>\n",
              "      <th>15</th>\n",
              "      <td>Kansas</td>\n",
              "      <td>6999.05</td>\n",
              "    </tr>\n",
              "    <tr>\n",
              "      <th>49</th>\n",
              "      <td>Wyoming</td>\n",
              "      <td>6262.18</td>\n",
              "    </tr>\n",
              "    <tr>\n",
              "      <th>26</th>\n",
              "      <td>Nebraska</td>\n",
              "      <td>4885.24</td>\n",
              "    </tr>\n",
              "    <tr>\n",
              "      <th>25</th>\n",
              "      <td>Montana</td>\n",
              "      <td>4548.49</td>\n",
              "    </tr>\n",
              "    <tr>\n",
              "      <th>33</th>\n",
              "      <td>North Dakota</td>\n",
              "      <td>4333.35</td>\n",
              "    </tr>\n",
              "    <tr>\n",
              "      <th>40</th>\n",
              "      <td>South Dakota</td>\n",
              "      <td>3420.40</td>\n",
              "    </tr>\n",
              "  </tbody>\n",
              "</table>\n",
              "</div>"
            ],
            "text/plain": [
              "    province_state  non_deaths\n",
              "4       California   146384.10\n",
              "20   Massachusetts   119864.54\n",
              "2          Arizona   118451.86\n",
              "29      New Jersey    99003.09\n",
              "8          Florida    84493.28\n",
              "6      Connecticut    80773.47\n",
              "31        New York    78617.18\n",
              "43            Utah    64355.03\n",
              "7         Delaware    63621.45\n",
              "38    Rhode Island    59328.24\n",
              "19        Maryland    41061.83\n",
              "37    Pennsylvania    39863.92\n",
              "10          Hawaii    39724.07\n",
              "27          Nevada    37537.53\n",
              "46      Washington    35274.25\n",
              "39  South Carolina    29962.71\n",
              "34            Ohio    29601.49\n",
              "12        Illinois    29332.52\n",
              "28   New Hampshire    26768.25\n",
              "21        Michigan    26717.23\n",
              "42           Texas    25424.71\n",
              "32  North Carolina    25095.19\n",
              "48       Wisconsin    21276.11\n",
              "5         Colorado    20028.38\n",
              "41       Tennessee    19849.66\n",
              "36          Oregon    18456.85\n",
              "0          Alabama    18204.36\n",
              "13         Indiana    17791.49\n",
              "17       Louisiana    17095.81\n",
              "22       Minnesota    15806.80\n",
              "9          Georgia    14962.23\n",
              "30      New Mexico    14604.92\n",
              "35        Oklahoma    12546.32\n",
              "18           Maine    12433.64\n",
              "45        Virginia    12136.21\n",
              "24        Missouri    11678.78\n",
              "3         Arkansas    10459.75\n",
              "16        Kentucky    10307.35\n",
              "11           Idaho     9303.96\n",
              "23     Mississippi     9137.46\n",
              "47   West Virginia     8476.01\n",
              "1           Alaska     7909.04\n",
              "44         Vermont     7661.78\n",
              "14            Iowa     7343.37\n",
              "15          Kansas     6999.05\n",
              "49         Wyoming     6262.18\n",
              "26        Nebraska     4885.24\n",
              "25         Montana     4548.49\n",
              "33    North Dakota     4333.35\n",
              "40    South Dakota     3420.40"
            ]
          },
          "execution_count": 57,
          "metadata": {},
          "output_type": "execute_result"
        }
      ],
      "source": [
        "# Finding the average in each state based on `non-deaths` in January-June 2022:\n",
        "avg_ndstates = df_states.groupby('province_state', as_index=False).non_deaths.mean()\n",
        "avg_ndstates.sort_values(by='non_deaths', ascending=False)"
      ]
    },
    {
      "cell_type": "markdown",
      "metadata": {
        "id": "SXotZk5YA1zG"
      },
      "source": [
        "**Data Visualization**\n",
        "\n",
        "The data visualization will describe the average of confirmed cases, deaths, and non-deaths for the top 5 states."
      ]
    },
    {
      "cell_type": "code",
      "execution_count": 58,
      "metadata": {
        "id": "FkLq6GkAD9IH"
      },
      "outputs": [],
      "source": [
        "%matplotlib inline"
      ]
    },
    {
      "cell_type": "markdown",
      "metadata": {
        "id": "wWdntZI7E1S1"
      },
      "source": [
        "(a) The first graph will show the confirmed cases average based categorized by top 5 states. After the top 5 table, it will be shown the bar chart between  `the States (axis-x)` and `Average Confirmed Cases (axis-y)`"
      ]
    },
    {
      "cell_type": "code",
      "execution_count": 59,
      "metadata": {
        "colab": {
          "base_uri": "https://localhost:8080/",
          "height": 206
        },
        "id": "g_b_jNpKMiMC",
        "outputId": "54d017ac-429b-4205-83e2-336616903fd0"
      },
      "outputs": [
        {
          "data": {
            "text/html": [
              "<div>\n",
              "<style scoped>\n",
              "    .dataframe tbody tr th:only-of-type {\n",
              "        vertical-align: middle;\n",
              "    }\n",
              "\n",
              "    .dataframe tbody tr th {\n",
              "        vertical-align: top;\n",
              "    }\n",
              "\n",
              "    .dataframe thead th {\n",
              "        text-align: right;\n",
              "    }\n",
              "</style>\n",
              "<table border=\"1\" class=\"dataframe\">\n",
              "  <thead>\n",
              "    <tr style=\"text-align: right;\">\n",
              "      <th></th>\n",
              "      <th>province_state</th>\n",
              "      <th>confirmed</th>\n",
              "    </tr>\n",
              "  </thead>\n",
              "  <tbody>\n",
              "    <tr>\n",
              "      <th>4</th>\n",
              "      <td>California</td>\n",
              "      <td>147830.97</td>\n",
              "    </tr>\n",
              "    <tr>\n",
              "      <th>20</th>\n",
              "      <td>Massachusetts</td>\n",
              "      <td>121373.64</td>\n",
              "    </tr>\n",
              "    <tr>\n",
              "      <th>2</th>\n",
              "      <td>Arizona</td>\n",
              "      <td>120213.96</td>\n",
              "    </tr>\n",
              "    <tr>\n",
              "      <th>29</th>\n",
              "      <td>New Jersey</td>\n",
              "      <td>100491.27</td>\n",
              "    </tr>\n",
              "    <tr>\n",
              "      <th>8</th>\n",
              "      <td>Florida</td>\n",
              "      <td>85529.25</td>\n",
              "    </tr>\n",
              "  </tbody>\n",
              "</table>\n",
              "</div>"
            ],
            "text/plain": [
              "   province_state  confirmed\n",
              "4      California  147830.97\n",
              "20  Massachusetts  121373.64\n",
              "2         Arizona  120213.96\n",
              "29     New Jersey  100491.27\n",
              "8         Florida   85529.25"
            ]
          },
          "execution_count": 59,
          "metadata": {},
          "output_type": "execute_result"
        }
      ],
      "source": [
        "# Top 5 states with the highest confirmed cases\n",
        "avg_confirmed_sorted = avg_states.sort_values(by='confirmed', ascending=False).head(5)\n",
        "avg_confirmed_sorted"
      ]
    },
    {
      "cell_type": "code",
      "execution_count": 60,
      "metadata": {
        "colab": {
          "base_uri": "https://localhost:8080/",
          "height": 355
        },
        "id": "LFO2MnDQKeGH",
        "outputId": "513f7ffa-7ab9-4cff-bccf-dadb68932d63"
      },
      "outputs": [
        {
          "data": {
            "image/png": "[encoded data removed]",
            "text/plain": [
              "<Figure size 640x480 with 1 Axes>"
            ]
          },
          "metadata": {},
          "output_type": "display_data"
        }
      ],
      "source": [
        "states  = avg_confirmed_sorted['province_state']\n",
        "average = avg_confirmed_sorted['confirmed']\n",
        "fig     = plt.figure()\n",
        "ax      = fig.add_axes([0,0,1,1])\n",
        "ax.bar(states, average)\n",
        "plt.xlabel(\"States\", size=15)\n",
        "plt.ylabel(\"Average Confirmed Cases\", size=15)\n",
        "plt.show()"
      ]
    },
    {
      "cell_type": "markdown",
      "metadata": {
        "id": "2i2oPTYEHGSI"
      },
      "source": [
        "(b) The second graph will show deaths average based categorized by top 5 states. After the top 5 table, it will be shown the bar chart between  `the States (axis-x)` and `Average Deaths (axis-y)`."
      ]
    },
    {
      "cell_type": "code",
      "execution_count": 61,
      "metadata": {
        "colab": {
          "base_uri": "https://localhost:8080/",
          "height": 206
        },
        "id": "kmzruE_aW40h",
        "outputId": "939afd09-e099-4f80-c149-b055d4e1973f"
      },
      "outputs": [
        {
          "data": {
            "text/html": [
              "<div>\n",
              "<style scoped>\n",
              "    .dataframe tbody tr th:only-of-type {\n",
              "        vertical-align: middle;\n",
              "    }\n",
              "\n",
              "    .dataframe tbody tr th {\n",
              "        vertical-align: top;\n",
              "    }\n",
              "\n",
              "    .dataframe thead th {\n",
              "        text-align: right;\n",
              "    }\n",
              "</style>\n",
              "<table border=\"1\" class=\"dataframe\">\n",
              "  <thead>\n",
              "    <tr style=\"text-align: right;\">\n",
              "      <th></th>\n",
              "      <th>province_state</th>\n",
              "      <th>deaths</th>\n",
              "    </tr>\n",
              "  </thead>\n",
              "  <tbody>\n",
              "    <tr>\n",
              "      <th>2</th>\n",
              "      <td>Arizona</td>\n",
              "      <td>1762.10</td>\n",
              "    </tr>\n",
              "    <tr>\n",
              "      <th>20</th>\n",
              "      <td>Massachusetts</td>\n",
              "      <td>1509.10</td>\n",
              "    </tr>\n",
              "    <tr>\n",
              "      <th>29</th>\n",
              "      <td>New Jersey</td>\n",
              "      <td>1488.18</td>\n",
              "    </tr>\n",
              "    <tr>\n",
              "      <th>4</th>\n",
              "      <td>California</td>\n",
              "      <td>1446.87</td>\n",
              "    </tr>\n",
              "    <tr>\n",
              "      <th>6</th>\n",
              "      <td>Connecticut</td>\n",
              "      <td>1171.47</td>\n",
              "    </tr>\n",
              "  </tbody>\n",
              "</table>\n",
              "</div>"
            ],
            "text/plain": [
              "   province_state  deaths\n",
              "2         Arizona 1762.10\n",
              "20  Massachusetts 1509.10\n",
              "29     New Jersey 1488.18\n",
              "4      California 1446.87\n",
              "6     Connecticut 1171.47"
            ]
          },
          "execution_count": 61,
          "metadata": {},
          "output_type": "execute_result"
        }
      ],
      "source": [
        "avg_deaths_sorted = avg_dstates.sort_values(by='deaths', ascending=False).head(5)\n",
        "avg_deaths_sorted"
      ]
    },
    {
      "cell_type": "code",
      "execution_count": 62,
      "metadata": {
        "colab": {
          "base_uri": "https://localhost:8080/",
          "height": 355
        },
        "id": "DP0puREfXh9R",
        "outputId": "3b42bba8-0e1b-4837-9809-88429d92ef15"
      },
      "outputs": [
        {
          "data": {
            "image/png": "[encoded data removed]",
            "text/plain": [
              "<Figure size 640x480 with 1 Axes>"
            ]
          },
          "metadata": {},
          "output_type": "display_data"
        }
      ],
      "source": [
        "states  = avg_deaths_sorted['province_state']\n",
        "average = avg_deaths_sorted['deaths']\n",
        "fig     = plt.figure()\n",
        "ax      = fig.add_axes([0,0,1,1])\n",
        "ax.bar(states, average)\n",
        "plt.xlabel(\"States\", size=15)\n",
        "plt.ylabel(\"Average Deaths\", size=15)\n",
        "plt.show()"
      ]
    },
    {
      "cell_type": "markdown",
      "metadata": {
        "id": "qIts6fZVHNJL"
      },
      "source": [
        "(c) The third graph will show non-deaths average based categorized by top 5 states. After the top 5 table, it will be shown the bar chart between  `the States (axis-x)` and `Average Non-Deaths (axis-y)`."
      ]
    },
    {
      "cell_type": "code",
      "execution_count": 63,
      "metadata": {
        "colab": {
          "base_uri": "https://localhost:8080/",
          "height": 206
        },
        "id": "6Sc3zjAxXWks",
        "outputId": "98922dc1-5ccf-4da8-d2da-50e8d4369176"
      },
      "outputs": [
        {
          "data": {
            "text/html": [
              "<div>\n",
              "<style scoped>\n",
              "    .dataframe tbody tr th:only-of-type {\n",
              "        vertical-align: middle;\n",
              "    }\n",
              "\n",
              "    .dataframe tbody tr th {\n",
              "        vertical-align: top;\n",
              "    }\n",
              "\n",
              "    .dataframe thead th {\n",
              "        text-align: right;\n",
              "    }\n",
              "</style>\n",
              "<table border=\"1\" class=\"dataframe\">\n",
              "  <thead>\n",
              "    <tr style=\"text-align: right;\">\n",
              "      <th></th>\n",
              "      <th>province_state</th>\n",
              "      <th>non_deaths</th>\n",
              "    </tr>\n",
              "  </thead>\n",
              "  <tbody>\n",
              "    <tr>\n",
              "      <th>4</th>\n",
              "      <td>California</td>\n",
              "      <td>146384.10</td>\n",
              "    </tr>\n",
              "    <tr>\n",
              "      <th>20</th>\n",
              "      <td>Massachusetts</td>\n",
              "      <td>119864.54</td>\n",
              "    </tr>\n",
              "    <tr>\n",
              "      <th>2</th>\n",
              "      <td>Arizona</td>\n",
              "      <td>118451.86</td>\n",
              "    </tr>\n",
              "    <tr>\n",
              "      <th>29</th>\n",
              "      <td>New Jersey</td>\n",
              "      <td>99003.09</td>\n",
              "    </tr>\n",
              "    <tr>\n",
              "      <th>8</th>\n",
              "      <td>Florida</td>\n",
              "      <td>84493.28</td>\n",
              "    </tr>\n",
              "  </tbody>\n",
              "</table>\n",
              "</div>"
            ],
            "text/plain": [
              "   province_state  non_deaths\n",
              "4      California   146384.10\n",
              "20  Massachusetts   119864.54\n",
              "2         Arizona   118451.86\n",
              "29     New Jersey    99003.09\n",
              "8         Florida    84493.28"
            ]
          },
          "execution_count": 63,
          "metadata": {},
          "output_type": "execute_result"
        }
      ],
      "source": [
        "avg_ndeaths_sorted = avg_ndstates.sort_values(by='non_deaths', ascending=False).head(5)\n",
        "avg_ndeaths_sorted"
      ]
    },
    {
      "cell_type": "code",
      "execution_count": 64,
      "metadata": {
        "colab": {
          "base_uri": "https://localhost:8080/",
          "height": 355
        },
        "id": "INxk0iazXqAP",
        "outputId": "8c974488-4f98-4fa4-c8d6-a4e0bac1c12e"
      },
      "outputs": [
        {
          "data": {
            "image/png": "[encoded data removed]",
            "text/plain": [
              "<Figure size 640x480 with 1 Axes>"
            ]
          },
          "metadata": {},
          "output_type": "display_data"
        }
      ],
      "source": [
        "states  = avg_ndeaths_sorted['province_state']\n",
        "average = avg_ndeaths_sorted['non_deaths']\n",
        "fig     = plt.figure()\n",
        "ax      = fig.add_axes([0,0,1,1])\n",
        "ax.bar(states, average)\n",
        "plt.xlabel(\"States\", size=15)\n",
        "plt.ylabel(\"Average Non-Deaths\", size=15)\n",
        "plt.show()"
      ]
    },
    {
      "cell_type": "markdown",
      "metadata": {
        "id": "5fKvwfQsbDj8"
      },
      "source": [
        "---\n",
        "### **6. Conclusion**\n",
        "\n",
        "As we can see from the objection until data exploration (or analysis), we can understand that the statement where the vaccine company should distribute their sales in some states with the most needed vaccination: `California`.\n",
        "\n",
        "- `California` is categorized as the state with the highest confirmed cases, and still in the top 5 of highest deaths, although the number of recovered and active patients being hospitalized are the highest. This means the communnity affected by COVID-19 is still the highest, and **California should get the highest priority for vaccination distribution**.\n",
        "- `Massachusetts` is ranked number 2 in all categories as the highest of confirmed cases, deaths, and non-deaths. **Massachusetts should get the highest priority for vaccination distribution**.\n",
        "- `South Dakota` and `North Dakota` can be included as **the lowest priority** for the vaccine distribution.\n",
        "- `Texas` has the most reported cases during first semester of 2022, with the total reports: 46118, followed by Georgia which is 29141 reported cases, and `Virginia` with 24252 reported cases. However, this should be taken notes although those three states has the highest number of reported cases, their average of confirmed cases, deaths, and non-deaths are not even in the top 10 highest.\n",
        "\n",
        "There is a suggestion to keep updating the cases and evaluating this with the existing population. From these studies about priority of vaccination distribution, at least the vaccine company can decide and make a plan when to start distributing the vaccines for the last semester of 2022."
      ]
    },
    {
      "cell_type": "markdown",
      "metadata": {
        "id": "xIUmZHFKbbMX"
      },
      "source": [
        "```\n",
        "References:\n",
        "kode.id, Full Time Data Science - Phase 0, week 1, all presentations.\n",
        "google colab by hacktiv8, \"Week 1: Day 4 PM // Pandas Basic\", NBA Case.\n",
        "\"Isin\", https://pandas.pydata.org/pandas-docs/stable/reference/api/pandas.Series.isin.html\n",
        "\"Matplotlib\", https://www.tutorialspoint.com/matplotlib/matplotlib_bar_plot.htm#\n",
        "```"
      ]
    }
  ],
  "metadata": {
    "colab": {
      "collapsed_sections": [
        "MCe1OU5pk35G",
        "Br5YlHaHRLsG",
        "aDKoTg0tk-3l",
        "LD49mQHaBl6y",
        "k7GLcWScCSln",
        "5fKvwfQsbDj8"
      ],
      "provenance": []
    },
    "kernelspec": {
      "display_name": "Python 3.9.5 64-bit",
      "language": "python",
      "name": "python3"
    },
    "language_info": {
      "codemirror_mode": {
        "name": "ipython",
        "version": 3
      },
      "file_extension": ".py",
      "mimetype": "text/x-python",
      "name": "python",
      "nbconvert_exporter": "python",
      "pygments_lexer": "ipython3",
      "version": "3.9.5"
    },
    "vscode": {
      "interpreter": {
        "hash": "c347c8f9a7ef94e4c9e03b4513be7835ed18f45b99a2a817fb579f408b867b16"
      }
    }
  },
  "nbformat": 4,
  "nbformat_minor": 0
}
